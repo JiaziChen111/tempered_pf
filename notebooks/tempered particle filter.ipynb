{
 "cells": [
  {
   "cell_type": "code",
   "execution_count": 5,
   "metadata": {
    "autoscroll": "json-false",
    "collapsed": false,
    "ein.tags": [
     "worksheet-0"
    ]
   },
   "outputs": [],
   "source": [
    "%matplotlib inline"
   ]
  },
  {
   "cell_type": "code",
   "execution_count": 6,
   "metadata": {
    "autoscroll": "json-false",
    "collapsed": false,
    "ein.tags": [
     "worksheet-0"
    ]
   },
   "outputs": [],
   "source": [
    "import numpy as np\n",
    "from scipy.stats import norm, uniform\n",
    "import matplotlib.pyplot as plt\n",
    "from dsge.StateSpaceModel import StateSpaceModel\n",
    "import pandas as p\n",
    "\n",
    "TT = lambda x: np.array([[x[0]]])\n",
    "RR = lambda x: np.array([[1.0]])\n",
    "QQ = lambda x: np.array([[x[1]**2]])\n",
    "DD = lambda x: np.array([0])\n",
    "ZZ = lambda x: np.array([[1]])\n",
    "HH = lambda x: np.array([[0.1**2*x[1]**2]])\n",
    "\n",
    "simpleAR1 = StateSpaceModel(np.zeros((100,)),TT, RR, QQ, DD, ZZ, HH)\n",
    "\n"
   ]
  },
  {
   "cell_type": "code",
   "execution_count": 7,
   "metadata": {
    "autoscroll": "json-false",
    "collapsed": false,
    "ein.tags": [
     "worksheet-0"
    ]
   },
   "outputs": [],
   "source": [
    "yy = simpleAR1.simulate([0.8, 1], nsim=50)\n",
    "simpleAR1.yy = yy"
   ]
  },
  {
   "cell_type": "code",
   "execution_count": 8,
   "metadata": {
    "autoscroll": "json-false",
    "collapsed": false,
    "ein.tags": [
     "worksheet-0"
    ]
   },
   "outputs": [
    {
     "name": "stdout",
     "output_type": "stream",
     "text": [
      "Exact likelihood:  -72.097188373\n"
     ]
    }
   ],
   "source": [
    "print \"Exact likelihood: \", simpleAR1.log_lik([0.8,1])"
   ]
  },
  {
   "cell_type": "code",
   "execution_count": 17,
   "metadata": {
    "autoscroll": "json-false",
    "collapsed": false,
    "ein.tags": [
     "worksheet-0"
    ]
   },
   "outputs": [],
   "source": [
    "import sys, types\n",
    "sys.path.append('/home/eherbst/Dropbox/DSGE Book (1)/dsge-book/code/helper')\n",
    "from dsge.StateSpaceModel import dlyap\n",
    "import scipy as sp\n",
    "resample = resampling.resampling.multinomial_resampling\n",
    "def log_lik_pf(self, para, *args, **kwargs):\n",
    "\n",
    "    t0 = kwargs.pop('t0', self.t0)\n",
    "    npart = kwargs.pop('npart', 1000)\n",
    "    yy = kwargs.pop('y', self.yy)\n",
    "    P0 = kwargs.pop('P0', 'unconditional')\n",
    "    filt = kwargs.pop('filt', 'bootstrap')\n",
    "    rcond = kwargs.pop('rcond',1e-7)\n",
    "  \n",
    "  \n",
    "    data = np.asarray(yy)\n",
    "    data = np.atleast_2d(data)\n",
    "    seed = kwargs.pop('seed', None)\n",
    "    scale = kwargs.pop('scale', 10)\n",
    "    init_s_w = kwargs.pop('init_s_w', None)\n",
    "  \n",
    "    TT, RR, QQ, DD, ZZ, HH = self.system_matrices(para, *args, **kwargs)\n",
    "  \n",
    "    if P0=='unconditional':\n",
    "        P0, info = dlyap.dlyap(TT, RR.dot(QQ).dot(RR.T))\n",
    "  \n",
    "    if seed is not None:\n",
    "        np.random.seed(seed)\n",
    "  \n",
    "    from scipy.stats import multivariate_normal\n",
    "  \n",
    "    RQR = RR.dot(QQ).dot(RR.T)\n",
    "    P0 = TT.dot(P0).dot(TT.T) + RQR\n",
    "    nobs = data.shape[0]\n",
    "    ny = data.shape[1]\n",
    "    neps = QQ.shape[0]\n",
    "    ns = TT.shape[0]\n",
    "  \n",
    "    St = np.zeros((nobs+1, ns, npart))\n",
    "  \n",
    "    U,s,V = sp.linalg.svd(P0)\n",
    "    L = U.dot(np.diag(np.sqrt(s)))\n",
    "    St[0,:,:] = L.dot(np.random.normal(size=(ns,npart)))\n",
    "  \n",
    "  \n",
    "  \n",
    "    RRcQQ = RR.dot(np.linalg.cholesky(QQ))\n",
    "    iRQR = np.linalg.pinv(RQR,rcond=1e-7)\n",
    "    U,S,V = np.linalg.svd(RQR,full_matrices=0)\n",
    "    detRQR = np.sum(np.log(S[S>1e-7]))\n",
    "  \n",
    "    ps = multivariate_normal(cov=RQR, allow_singular=True)\n",
    "\n",
    "    # container variables\n",
    "    resamp = np.zeros((nobs))\n",
    "    wtsim = np.ones((nobs+1,npart))\n",
    "    incwt = np.zeros((nobs,npart))\n",
    "    incwtaux = np.zeros((nobs,npart))\n",
    "  \n",
    "    #------------------------------------------------------------\n",
    "    # p(yt|st) [in terms of dev from mean]\n",
    "    #------------------------------------------------------------\n",
    "    py = multivariate_normal(cov=HH)\n",
    "    ESS = np.zeros((nobs))\n",
    "    loglh = np.zeros((nobs))\n",
    "    loglhalt = np.zeros((nobs))\n",
    "  \n",
    "    #------------------------------------------------------------\n",
    "    # Helper Functions\n",
    "    #------------------------------------------------------------\n",
    "    demeaned_data = data - np.tile(np.squeeze(DD), (nobs, 1))\n",
    "    fcst_error = lambda i: np.tile(demeaned_data[i].T, (1, npart))-ZZ.dot(TT.dot(St[i, ...]))\n",
    "    if filt=='cond-opt':\n",
    "        Pt = RQR\n",
    "        Ft = np.dot(np.dot(ZZ, Pt), ZZ.T) + HH\n",
    "        iFt = np.linalg.inv(Ft)\n",
    "        PtZZpiFt = Pt.dot(ZZ.T).dot(iFt)\n",
    "        Pt = Pt - Pt.dot(ZZ.T).dot(iFt).dot(ZZ).dot(Pt)\n",
    "        pys = multivariate_normal(cov=Pt, allow_singular=True)\n",
    "  \n",
    "  \n",
    "    #------------------------------------------------------------\n",
    "    # AUXILIARY PARTICLE FILTER\n",
    "    #------------------------------------------------------------\n",
    "    if filt == 'auxsimp':\n",
    "        ptilde = multivariate_normal(cov=scale*HH)\n",
    "        fcst_error = lambda i: np.tile(demeaned_data[i].T, (1, npart))-ZZ.dot(TT.dot(St[i, ...]))\n",
    "  \n",
    "        phatold = ptilde.logpdf(fcst_error(0).T)\n",
    "  \n",
    "        wtsim[0, :] = np.exp(phatold)\n",
    "        wtsim[0, :] = wtsim[0, :]/(wtsim[0, :].mean())\n",
    "  \n",
    "    if init_s_w is not None:\n",
    "        St[0, :, :] = init_s_w[0]\n",
    "        wtsim[0, :] = init_s_w[1]\n",
    "  \n",
    "    for t in range(nobs):\n",
    "        if filt=='bootstrap':\n",
    "            St[t+1,...] = TT.dot(St[t,...]) + ps.rvs(size=npart).T\n",
    "        elif filt=='cond-opt':\n",
    "            nut = fcst_error(t)\n",
    "            Stbar = TT.dot(St[t,...]) + PtZZpiFt.dot(nut)\n",
    "            St[t+1, ...] = Stbar + pys.rvs(size=npart).T\n",
    "            lng = pys.logpdf( (St[t+1, ...]-Stbar).T )\n",
    "  \n",
    "        elif filt=='auxsimp':\n",
    "            #------------------------------------------------------------\n",
    "            # Simulate\n",
    "            #------------------------------------------------------------\n",
    "            St[t+1,...] = TT.dot(St[t,...]) + ps.rvs(size=npart).T\n",
    "  \n",
    "            phatold = ptilde.logpdf(fcst_error(t).T)\n",
    "            if t < nobs-1:\n",
    "                phat = ptilde.logpdf(fcst_error(t+1).T)\n",
    "  \n",
    "  \n",
    "  \n",
    "        nut = (np.tile(demeaned_data[t].T, (1, npart))\n",
    "                       - ZZ.dot(St[t+1,...]))\n",
    "  \n",
    "        incwt[t,:] = py.logpdf(nut.T)\n",
    "  \n",
    "        if filt=='cond-opt':\n",
    "            eta = St[t+1,...] - TT.dot(St[t,...])\n",
    "            lnps = (-0.5*neps*np.log(2.0*np.pi) - 0.5*detRQR\n",
    "                    -0.5*np.einsum('ji,ji->i', np.dot(iRQR,eta),eta))\n",
    "            incwt[t,:] = incwt[t,:] + lnps - lng\n",
    "  \n",
    "        elif filt=='auxsimp':\n",
    "            incwtaux = incwt[t,:] - phatold\n",
    "            incwt[t, :] = incwt[t,:] + phat - phatold\n",
    "  \n",
    "        # Equation 7.7\n",
    "        wtsim[t+1,:] = np.exp(incwt[t,:]) * wtsim[t,:]\n",
    "        wtsim[t+1,:] = wtsim[t+1,:]/np.mean(wtsim[t+1,:])\n",
    "  \n",
    "        ESS[t] = npart / np.mean(wtsim[t+1,:]**2)\n",
    "        loglh[t] = np.log(np.mean(np.exp(incwt[t,:])*wtsim[t,:]))\n",
    "  \n",
    "        if filt=='auxsimp':\n",
    "            if t==0:\n",
    "                loglh[t] = (np.log(np.mean(np.exp(phatold))) +\n",
    "                            np.log(np.mean(np.exp(incwtaux)*wtsim[t,:])))\n",
    "                loglhalt[t] = np.log(np.mean(np.exp(incwt[t, :])*wtsim[t, :])) + np.log(np.mean(np.exp(phatold)))\n",
    "            elif t==nobs-1:\n",
    "                loglh[t] = (-np.log(np.mean((1/np.exp(phatold))*wtsim[t, :])) +\n",
    "                            np.log(np.mean(np.exp(incwtaux)*wtsim[t,:])) )\n",
    "  \n",
    "                loglhalt[t] = np.log(np.mean(np.exp(incwtaux)*wtsim[t, :]))\n",
    "            else:\n",
    "                loglh[t] = (-np.log(np.mean((1/np.exp(phatold))*wtsim[t, :])) +\n",
    "                            np.log(np.mean(np.exp(incwtaux)*wtsim[t,:])) )\n",
    "                loglhalt[t] = np.log(np.mean(np.exp(incwt[t, :])*wtsim[t, :]))\n",
    "  \n",
    "        if ESS[t] < npart/2:\n",
    "            ind = resample(wtsim[t+1,:]/sum(wtsim[t+1,:]), np.random.rand(npart,))\n",
    "            if ns == 1:\n",
    "                St[t+1,...] = np.squeeze(St[t+1,:,ind-1])\n",
    "            else:\n",
    "                St[t+1,...] = St[t+1,...][:,ind-1]\n",
    "  \n",
    "            wtsim[t+1,:] = 1\n",
    "            wtsim[t, :] = wtsim[t, ind-1]\n",
    "            incwt[t, :] = incwt[t, ind-1]\n",
    "            if t > 0:\n",
    "                wtsim[t-1, :] = wtsim[t-1, ind-1]\n",
    "                incwt[t-1, :] = incwt[t-1, ind-1]\n",
    "  \n",
    "    filtered_states = TT.dot(St[:-1,...,...]) * wtsim[:-1,:]\n",
    "    filtered_states = filtered_states.mean(2).T\n",
    "  \n",
    "    if isinstance(yy,p.DataFrame):\n",
    "        loglh = p.DataFrame(loglh,columns=['Log Lik.'])\n",
    "        loglh.index = yy.index\n",
    "  \n",
    "        ESS = p.DataFrame(ESS,columns=['ESS'])\n",
    "        ESS.index = yy.index\n",
    "  \n",
    "        filtered_states = p.DataFrame(filtered_states, columns=self.state_names)\n",
    "        filtered_states.index = yy.index\n",
    "  \n",
    "    results = {}\n",
    "    results['log_lik'] = loglh\n",
    "    results['log_likalt'] = loglhalt\n",
    "    results['ESS'] = ESS\n",
    "    results['filtered_states'] = filtered_states\n",
    "    results['St'] = St[t+1, ...]\n",
    "    results['wt'] = wtsim[t+1, ...]\n",
    "    results['incwt'] = incwt\n",
    "    return results\n",
    "\n",
    "simpleAR1.log_lik_pf = types.MethodType(log_lik_pf, simpleAR1)"
   ]
  },
  {
   "cell_type": "code",
   "execution_count": 28,
   "metadata": {
    "autoscroll": "json-false",
    "collapsed": false,
    "ein.tags": [
     "worksheet-0"
    ]
   },
   "outputs": [
    {
     "data": {
      "image/png": "[encoded data removed]",
      "text/plain": [
       "<matplotlib.figure.Figure at 0xac97d26c>"
      ]
     },
     "metadata": {},
     "output_type": "display_data"
    },
    {
     "data": {
      "text/plain": [
       "<matplotlib.axes._subplots.AxesSubplot at 0xac90768c>"
      ]
     },
     "execution_count": 28,
     "metadata": {},
     "output_type": "execute_result"
    },
    {
     "name": "stderr",
     "output_type": "stream",
     "text": [
      "/home/eherbst/anaconda2/lib/python2.7/site-packages/ipykernel/__main__.py:170: DeprecationWarning: an index can only have a single Ellipsis (`...`); replace all but one with slices (`:`).\n"
     ]
    },
    {
     "name": "stdout",
     "output_type": "stream",
     "text": [
      "count    100.000000\n",
      "mean     -72.608143\n",
      "std        1.105821\n",
      "min      -75.329115\n",
      "25%      -73.411915\n",
      "50%      -72.416113\n",
      "75%      -71.741439\n",
      "max      -70.048535\n",
      "dtype: float64\n"
     ]
    }
   ],
   "source": [
    "nsim = 100\n",
    "ll = np.zeros((nsim,))\n",
    "for i in range(nsim):\n",
    "    ll[i] = simpleAR1.log_lik_pf([0.8,1])['log_lik'].sum()\n",
    "    \n",
    "ll = p.Series(ll)\n",
    "print ll.describe()\n",
    "ll.plot(kind='kde')"
   ]
  },
  {
   "cell_type": "code",
   "execution_count": 678,
   "metadata": {
    "autoscroll": "json-false",
    "collapsed": false,
    "ein.tags": [
     "worksheet-0"
    ]
   },
   "outputs": [],
   "source": [
    "def log_lik_temp_pf(self, para, *args, **kwargs):\n",
    "\n",
    "    t0 = kwargs.pop('t0', self.t0)\n",
    "    npart = kwargs.pop('npart', 1000)\n",
    "    yy = kwargs.pop('y', self.yy)\n",
    "    P0 = kwargs.pop('P0', 'unconditional')\n",
    "    filt = kwargs.pop('filt', 'bootstrap')\n",
    "    rcond = kwargs.pop('rcond',1e-7)\n",
    "    phi = kwargs.pop('phi',np.linspace(9,1,10))\n",
    "    NOSTAGE = kwargs.pop('NOSTAGE', False)\n",
    "    data = np.asarray(yy)\n",
    "    data = np.atleast_2d(data)\n",
    "    seed = kwargs.pop('seed', None)\n",
    "    scale = kwargs.pop('scale', 10)\n",
    "    init_s_w = kwargs.pop('init_s_w', None)\n",
    "  \n",
    "    TT, RR, QQ, DD, ZZ, HH = self.system_matrices(para, *args, **kwargs)\n",
    "  \n",
    "    if P0=='unconditional':\n",
    "        P0, info = dlyap.dlyap(TT, RR.dot(QQ).dot(RR.T))\n",
    "  \n",
    "    if seed is not None:\n",
    "        np.random.seed(seed)\n",
    "  \n",
    "    from scipy.stats import multivariate_normal\n",
    "  \n",
    "    RQR = RR.dot(QQ).dot(RR.T)\n",
    "    P0 = TT.dot(P0).dot(TT.T) + RQR\n",
    "    nobs = data.shape[0]\n",
    "    ny = data.shape[1]\n",
    "    neps = QQ.shape[0]\n",
    "    ns = TT.shape[0]\n",
    "  \n",
    "    St = np.zeros((nobs+1, ns, npart))\n",
    "  \n",
    "    U,s,V = sp.linalg.svd(P0)\n",
    "    L = U.dot(np.diag(np.sqrt(s)))\n",
    "    St[0,:,:] = L.dot(np.random.normal(size=(ns,npart)))\n",
    "    \n",
    "  \n",
    "    RRcQQ = RR.dot(np.linalg.cholesky(QQ))\n",
    "    iRQR = np.linalg.pinv(RQR,rcond=1e-7)\n",
    "    U,S,V = np.linalg.svd(RQR,full_matrices=0)\n",
    "    detRQR = np.sum(np.log(S[S>1e-7]))\n",
    "  \n",
    "    ps = multivariate_normal(cov=RQR, allow_singular=True)\n",
    "    eps = multivariate_normal(cov=QQ)\n",
    "\n",
    "    # container variables\n",
    "    resamp = np.zeros((nobs))\n",
    "    wtsim = np.ones((nobs+1,npart))\n",
    "    incwt = np.zeros((nobs,npart))\n",
    "\n",
    "  \n",
    "    #------------------------------------------------------------\n",
    "    # p(yt|st) [in terms of dev from mean]\n",
    "    #------------------------------------------------------------\n",
    "    py = multivariate_normal(cov=HH)\n",
    "    ESS = np.zeros((nobs))\n",
    "    loglh = np.zeros((nobs))\n",
    "    loglhalt = np.zeros((nobs))\n",
    "  \n",
    "    #------------------------------------------------------------\n",
    "    # Helper Functions\n",
    "    #------------------------------------------------------------\n",
    "    demeaned_data = data - np.tile(np.squeeze(DD), (nobs, 1))\n",
    "  \n",
    "    if init_s_w is not None:\n",
    "        St[0, :, :] = init_s_w[0]\n",
    "        wtsim[0, :] = init_s_w[1]\n",
    "  \n",
    "\t\n",
    "\n",
    "\n",
    "    nstage = phi.size\n",
    "\n",
    "    wtold = np.ones((npart,))\n",
    "    Stold = St[0,...]\n",
    "    \n",
    "    loglh = 0\n",
    "\n",
    "\n",
    "    #phi = np.ones_like(phi)\n",
    "\n",
    "\n",
    "    for t in range(nobs):\n",
    "\tStold_t = Stold.copy()\n",
    "\n",
    "\tpyst_n_old = 0\n",
    "\tepsi = np.atleast_2d(eps.rvs(size=npart).T)\n",
    "\twtold_t = wtold.copy()\n",
    "\tconverged = False\n",
    "\tphiold = 100\n",
    "\twhile converged==False: #for j in range(nstage):\n",
    "\n",
    "\t     \n",
    "\t    St1 = TT.dot(Stold_t) + RR.dot(epsi)\n",
    "  \t    nut = np.tile(demeaned_data[t].T, (1, npart)) - ZZ.dot(St1)\n",
    "\t    #print 'fdsf', demeaned_data[t].T, St1.mean(), St1.std()\n",
    "\t    # correction\n",
    "\t    def ess(phi):\n",
    "\t\tpyst_n = multivariate_normal(cov=HH*phi).logpdf(nut.squeeze())\n",
    "\t\twjt = pyst_n - pyst_n_old\n",
    "\t\twt = np.exp(wjt) * wtold\n",
    "\t\tZt = np.mean(np.exp(wjt)*wtold)\n",
    "\t\twt = wt / Zt\n",
    "\t\tESSj = npart / np.mean(wt**2)\n",
    "\n",
    "\t\treturn ESSj - npart / 3.0\n",
    "\n",
    "\t    #print t, ess(0.01), ess(100), npart\n",
    "\t    if ess(1.0) > 0 or NOSTAGE == True:\n",
    "\t\tprint \"At time \", t, \"no need to search, ESS(1.0) = \", ess(1.0) + npart / 3.0\n",
    "\t\tphihat = 1.0\n",
    "\t\tconverged = True\n",
    "\t    else:\n",
    "\n",
    "\t\tlb = 1.0\n",
    "\t\t#if np.isnan(ess(lb)): lb = 5\n",
    "\t\tif ess(phiold) < 0: phiold = phiold*100\n",
    "\t\t\n",
    "\t\tphihat = brentq(ess, lb, phiold)\n",
    "\t\tprint \"At time \", t, \"searching in [\", lb, phiold, \"], FOUND: \", phihat\n",
    "\n",
    "\t\tif phihat < 1.0:\n",
    "\t\t    phihat = 1.0\n",
    "\t\t    converged = True\n",
    "\t\t#print t, phihat, ess(phihat)+npart/2\n",
    "\n",
    "\t    phiold = phihat\n",
    "\t    pyst_n = multivariate_normal(cov=HH*phihat).logpdf(nut.squeeze())\n",
    "\t    wjt = pyst_n - pyst_n_old\n",
    "\t    wt = np.exp(wjt) * wtold\n",
    "\t    Zt = np.mean(np.exp(wjt)*wtold)\n",
    "\t    wt = wt / Zt\n",
    "\t    ESSj = npart / np.mean(wt**2)\n",
    "\n",
    "\n",
    "\t    loglh += np.log(Zt) #np.mean(np.exp(pyst_n - pyst_n_old) * wtold))\n",
    "\t    # selection\n",
    "\t    ESSj = npart / np.mean(wt**2)\n",
    "\t    # print t,j,ESSj\n",
    "\t    if ESSj < npart/2.0:\n",
    "\t\tind = resample(wt/sum(wt), np.random.rand(npart,))\n",
    "\n",
    "\t\t# resample\n",
    "\t\tSt1 = St1[:,ind-1]\n",
    "\t\tepsi = epsi[:,ind-1]\n",
    "\t\tStold_t = Stold_t[:,ind-1]\n",
    "\n",
    "\t\tpyst_n = pyst_n[ind-1]\n",
    "\t\twt = np.ones((npart,))\n",
    "\n",
    "\t    # mutation\n",
    "\t    c = 0.1\n",
    "\t    epsprop = epsi.copy()+multivariate_normal(cov=c*np.eye(neps), allow_singular=True).rvs(size=npart).T\n",
    "\t    epsprop = np.atleast_2d(epsprop)\n",
    "\t    Stprop = TT.dot(Stold_t) + RR.dot(epsprop)\n",
    "\t    nutprop = np.tile(demeaned_data[t].T, (1, npart)) - ZZ.dot(Stprop)\n",
    "\t    pyst_n_prop = multivariate_normal(cov=HH*phihat).logpdf(nutprop.squeeze())\n",
    "\t    alp = np.exp( (pyst_n_prop+eps.logpdf(epsprop.squeeze()))\n",
    "\t\t\t  - (pyst_n+eps.logpdf(epsi.squeeze())))\n",
    "\t    acpt = 0\n",
    "\t    for k in range(npart):\n",
    "\t\tif uniform.rvs() < alp[k]:\n",
    "\t\t    epsi[:,k] = epsprop[:,k]\n",
    "\t\t    St1[:,k] = Stprop[:,k]\n",
    "\t\t    #wjt[k] = wjtprop[k]\n",
    "\t\t    pyst_n[k] = pyst_n_prop[k]\n",
    "\t\t    acpt +=1\n",
    "\t\t    #print j, acpt\n",
    "\t     \n",
    "\t    Stold = St1.copy()\n",
    "\t    wtold = wt.copy()\n",
    "\t    pyst_n_old = pyst_n.copy()\n",
    "\n",
    "\t    if t==3: z = (Stold * wtold).mean()\n",
    "\n",
    "    return loglh,z\n",
    "\n",
    "simpleAR1.log_lik_temp_pf = types.MethodType(log_lik_temp_pf, simpleAR1)"
   ]
  },
  {
   "cell_type": "code",
   "execution_count": 679,
   "metadata": {
    "autoscroll": "json-false",
    "collapsed": false,
    "ein.tags": [
     "worksheet-0"
    ]
   },
   "outputs": [
    {
     "name": "stderr",
     "output_type": "stream",
     "text": [
      "/home/eherbst/anaconda2/lib/python2.7/site-packages/ipykernel/__main__.py:170: DeprecationWarning: an index can only have a single Ellipsis (`...`); replace all but one with slices (`:`).\n"
     ]
    },
    {
     "name": "stdout",
     "output_type": "stream",
     "text": [
      "\n"
     ]
    },
    {
     "name": "stdout",
     "output_type": "stream",
     "text": [
      " 9 no need to search, ESS(1.0) =  488.776215173\n",
      "                0           1\n",
      "count  100.000000  100.000000\n",
      "mean    -7.287785 -153.597495\n",
      "std      3.294201   48.193330\n",
      "min    -14.153054 -266.839666\n",
      "25%     -9.442493 -185.411706\n",
      "50%     -7.521790 -145.448008\n",
      "75%     -4.919539 -118.764223\n",
      "max      0.793537  -46.163339"
     ]
    },
    {
     "name": "stdout",
     "output_type": "stream",
     "text": [
      " 9 searching in [ 1.0 100 ], FOUND:  39.9845859408\n",
      "At time  9 searching in [ 1.0 39.9845859408 ], FOUND:  1.33819131769\n",
      "At time "
     ]
    },
    {
     "name": "stdout",
     "output_type": "stream",
     "text": [
      " 8 searching in [ 1.0 100 ], FOUND:  7.75206238458\n",
      "At time  8 no need to search, ESS(1.0) =  252.323316022\n",
      "At time "
     ]
    },
    {
     "name": "stdout",
     "output_type": "stream",
     "text": [
      " 7 searching in [ 1.0 100 ], FOUND:  9.77468472461\n",
      "At time  7 no need to search, ESS(1.0) =  228.629242397\n",
      "At time "
     ]
    },
    {
     "name": "stdout",
     "output_type": "stream",
     "text": [
      " 6 searching in [ 1.0 18.1544261606 ], FOUND:  1.15757701253\n",
      "At time  6 no need to search, ESS(1.0) =  494.805424456\n",
      "At time "
     ]
    },
    {
     "name": "stdout",
     "output_type": "stream",
     "text": [
      " 5 no need to search, ESS(1.0) =  442.081713224\n",
      "At time  6 searching in [ 1.0 100 ], FOUND:  18.1544261606\n",
      "At time "
     ]
    },
    {
     "name": "stdout",
     "output_type": "stream",
     "text": [
      " 5 searching in [ 1.0 100 ], FOUND:  31.8158432698\n",
      "At time  5 searching in [ 1.0 31.8158432698 ], FOUND:  2.05085326363\n",
      "At time "
     ]
    },
    {
     "name": "stdout",
     "output_type": "stream",
     "text": [
      " 4 searching in [ 1.0 5.86800276763 ], FOUND:  1.57934547924\n",
      "At time  4 no need to search, ESS(1.0) =  435.303048776\n",
      "At time "
     ]
    },
    {
     "name": "stdout",
     "output_type": "stream",
     "text": [
      " 4 searching in [ 1.0 26.0653036963 ], FOUND:  13.993244877\n",
      "At time  4 searching in [ 1.0 13.993244877 ], FOUND:  5.86800276763\n",
      "At time "
     ]
    },
    {
     "name": "stdout",
     "output_type": "stream",
     "text": [
      " 4 searching in [ 1.0 113.623934855 ], FOUND:  50.2461809096\n",
      "At time  4 searching in [ 1.0 50.2461809096 ], FOUND:  26.0653036963\n",
      "At time "
     ]
    },
    {
     "name": "stdout",
     "output_type": "stream",
     "text": [
      " 4 searching in [ 1.0 10000 ], FOUND:  302.20240084\n",
      "At time  4 searching in [ 1.0 302.20240084 ], FOUND:  113.623934855\n",
      "At time "
     ]
    },
    {
     "name": "stdout",
     "output_type": "stream",
     "text": [
      " 3 no need to search, ESS(1.0) =  478.339299389\n",
      "At time "
     ]
    },
    {
     "name": "stdout",
     "output_type": "stream",
     "text": [
      " 3 searching in [ 1.0 10.8205437061 ], FOUND:  5.38951108462\n",
      "At time  3 searching in [ 1.0 5.38951108462 ], FOUND:  1.29116019068\n",
      "At time "
     ]
    },
    {
     "name": "stdout",
     "output_type": "stream",
     "text": [
      " 3 searching in [ 1.0 18.7081275082 ], FOUND:  10.8205437061\n",
      "At time "
     ]
    },
    {
     "name": "stdout",
     "output_type": "stream",
     "text": [
      " 3 searching in [ 1.0 50.5731027439 ], FOUND:  29.1273927679\n",
      "At time  3 searching in [ 1.0 29.1273927679 ], FOUND:  18.7081275082\n",
      "At time "
     ]
    },
    {
     "name": "stdout",
     "output_type": "stream",
     "text": [
      " 3 searching in [ 1.0 124.440797066 ], FOUND:  50.5731027439\n",
      "At time "
     ]
    },
    {
     "name": "stdout",
     "output_type": "stream",
     "text": [
      " 3 searching in [ 1.0 456.495927924 ], FOUND:  124.440797066\n",
      "At time "
     ]
    },
    {
     "name": "stdout",
     "output_type": "stream",
     "text": [
      " 3 searching in [ 1.0 10000 ], FOUND:  456.495927924\n",
      "At time "
     ]
    },
    {
     "name": "stdout",
     "output_type": "stream",
     "text": [
      " 2 searching in [ 1.0 100 ], FOUND:  6.01658625697\n",
      "At time  2 no need to search, ESS(1.0) =  294.78419826\n",
      "At time "
     ]
    },
    {
     "name": "stdout",
     "output_type": "stream",
     "text": [
      " 1 searching in [ 1.0 100 ], FOUND:  8.29610147726\n",
      "At time  1 no need to search, ESS(1.0) =  236.934196092\n",
      "At time "
     ]
    },
    {
     "name": "stdout",
     "output_type": "stream",
     "text": [
      " 0 searching in [ 1.0 100 ], FOUND:  17.160715649\n",
      "At time  0 no need to search, ESS(1.0) =  175.707478941\n",
      "At time "
     ]
    },
    {
     "name": "stdout",
     "output_type": "stream",
     "text": [
      " 9 searching in [ 1.0 36.2934255963 ], FOUND:  2.08203570608\n",
      "At time  9 no need to search, ESS(1.0) =  436.165441937\n",
      "At time "
     ]
    },
    {
     "name": "stdout",
     "output_type": "stream",
     "text": [
      " 8 no need to search, ESS(1.0) =  261.535078845\n",
      "At time  9 searching in [ 1.0 100 ], FOUND:  36.2934255963\n",
      "At time "
     ]
    },
    {
     "name": "stdout",
     "output_type": "stream",
     "text": [
      " 7 no need to search, ESS(1.0) =  210.865466231\n",
      "At time  8 searching in [ 1.0 100 ], FOUND:  7.6576416133\n",
      "At time "
     ]
    },
    {
     "name": "stdout",
     "output_type": "stream",
     "text": [
      " 6 no need to search, ESS(1.0) =  491.354811475\n",
      "At time  7 searching in [ 1.0 100 ], FOUND:  9.95627282786\n",
      "At time "
     ]
    },
    {
     "name": "stdout",
     "output_type": "stream",
     "text": [
      " 6 searching in [ 1.0 100 ], FOUND:  19.650387843\n",
      "At time  6 searching in [ 1.0 19.650387843 ], FOUND:  1.24944060816\n",
      "At time "
     ]
    },
    {
     "name": "stdout",
     "output_type": "stream",
     "text": [
      " 5 searching in [ 1.0 26.6926620192 ], FOUND:  1.29637167785\n",
      "At time  5 no need to search, ESS(1.0) =  486.672172047\n",
      "At time "
     ]
    },
    {
     "name": "stdout",
     "output_type": "stream",
     "text": [
      " 4 no need to search, ESS(1.0) =  469.365369242\n",
      "At time  5 searching in [ 1.0 100 ], FOUND:  26.6926620192\n",
      "At time "
     ]
    },
    {
     "name": "stdout",
     "output_type": "stream",
     "text": [
      " 4 searching in [ 1.0 12.5445273275 ], FOUND:  5.32611471907\n",
      "At time  4 searching in [ 1.0 5.32611471907 ], FOUND:  1.33859336845\n",
      "At time "
     ]
    },
    {
     "name": "stdout",
     "output_type": "stream",
     "text": [
      " 4 searching in [ 1.0 51.7491804204 ], FOUND:  24.5895413055\n",
      "At time  4 searching in [ 1.0 24.5895413055 ], FOUND:  12.5445273275\n",
      "At time "
     ]
    },
    {
     "name": "stdout",
     "output_type": "stream",
     "text": [
      " 4 searching in [ 1.0 305.560550812 ], FOUND:  115.103370206\n",
      "At time  4 searching in [ 1.0 115.103370206 ], FOUND:  51.7491804204\n",
      "At time "
     ]
    },
    {
     "name": "stdout",
     "output_type": "stream",
     "text": [
      " 3 no need to search, ESS(1.0) =  191.575535876\n",
      "At time  4 searching in [ 1.0 10000 ], FOUND:  305.560550812\n",
      "At time "
     ]
    },
    {
     "name": "stdout",
     "output_type": "stream",
     "text": [
      " 3 searching in [ 1.0 17.9427360149 ], FOUND:  9.44518010448\n",
      "At time  3 searching in [ 1.0 9.44518010448 ], FOUND:  4.08801971969\n",
      "At time "
     ]
    },
    {
     "name": "stdout",
     "output_type": "stream",
     "text": [
      " 3 searching in [ 1.0 59.0305894101 ], FOUND:  30.3055648305\n",
      "At time  3 searching in [ 1.0 30.3055648305 ], FOUND:  17.9427360149\n",
      "At time "
     ]
    },
    {
     "name": "stdout",
     "output_type": "stream",
     "text": [
      " 3 searching in [ 1.0 518.527959693 ], FOUND:  148.739928069\n",
      "At time  3 searching in [ 1.0 148.739928069 ], FOUND:  59.0305894101\n",
      "At time "
     ]
    },
    {
     "name": "stdout",
     "output_type": "stream",
     "text": [
      " 2 no need to search, ESS(1.0) =  259.725348949\n",
      "At time  3 searching in [ 1.0 10000 ], FOUND:  518.527959693\n",
      "At time "
     ]
    },
    {
     "name": "stdout",
     "output_type": "stream",
     "text": [
      " 1 no need to search, ESS(1.0) =  249.264133111\n",
      "At time  2 searching in [ 1.0 100 ], FOUND:  7.23245873231\n",
      "At time "
     ]
    },
    {
     "name": "stdout",
     "output_type": "stream",
     "text": [
      " 0 no need to search, ESS(1.0) =  498.428503841\n",
      "At time  1 searching in [ 1.0 100 ], FOUND:  8.22481387018\n",
      "At time "
     ]
    },
    {
     "name": "stdout",
     "output_type": "stream",
     "text": [
      " 0 searching in [ 1.0 100 ], FOUND:  18.1175213907\n",
      "At time  0 searching in [ 1.0 18.1175213907 ], FOUND:  1.08481007241\n",
      "At time "
     ]
    },
    {
     "name": "stdout",
     "output_type": "stream",
     "text": [
      " 9 no need to search, ESS(1.0) =  257.240657087\n",
      "At time "
     ]
    },
    {
     "name": "stdout",
     "output_type": "stream",
     "text": [
      " 8 no need to search, ESS(1.0) =  485.145298069\n",
      "At time  9 searching in [ 1.0 100 ], FOUND:  8.3554243337\n",
      "At time "
     ]
    },
    {
     "name": "stdout",
     "output_type": "stream",
     "text": [
      " 8 searching in [ 1.0 100 ], FOUND:  27.2269208966\n",
      "At time  8 searching in [ 1.0 27.2269208966 ], FOUND:  1.29576168326\n",
      "At time "
     ]
    },
    {
     "name": "stdout",
     "output_type": "stream",
     "text": [
      " 7 searching in [ 1.0 100 ], FOUND:  7.1329605112\n",
      "At time  7 no need to search, ESS(1.0) =  265.500546957\n",
      "At time "
     ]
    },
    {
     "name": "stdout",
     "output_type": "stream",
     "text": [
      " 6 searching in [ 1.0 20.6646353762 ], FOUND:  1.22438390406\n",
      "At time  6 no need to search, ESS(1.0) =  490.534930929\n",
      "At time "
     ]
    },
    {
     "name": "stdout",
     "output_type": "stream",
     "text": [
      " 5 no need to search, ESS(1.0) =  434.969370548\n",
      "At time  6 searching in [ 1.0 100 ], FOUND:  20.6646353762\n",
      "At time "
     ]
    },
    {
     "name": "stdout",
     "output_type": "stream",
     "text": [
      " 5 searching in [ 1.0 100 ], FOUND:  31.0386946214\n",
      "At time  5 searching in [ 1.0 31.0386946214 ], FOUND:  2.04913776278\n",
      "At time "
     ]
    },
    {
     "name": "stdout",
     "output_type": "stream",
     "text": [
      " 4 searching in [ 1.0 5.77005468318 ], FOUND:  1.60728044195\n",
      "At time  4 no need to search, ESS(1.0) =  430.463763518\n",
      "At time "
     ]
    },
    {
     "name": "stdout",
     "output_type": "stream",
     "text": [
      " 4 searching in [ 1.0 27.3173332554 ], FOUND:  13.4123042977\n",
      "At time  4 searching in [ 1.0 13.4123042977 ], FOUND:  5.77005468318\n",
      "At time "
     ]
    },
    {
     "name": "stdout",
     "output_type": "stream",
     "text": [
      " 4 searching in [ 1.0 122.650689647 ], FOUND:  54.8331823342\n",
      "At time  4 searching in [ 1.0 54.8331823342 ], FOUND:  27.3173332554\n",
      "At time "
     ]
    },
    {
     "name": "stdout",
     "output_type": "stream",
     "text": [
      " 4 searching in [ 1.0 10000 ], FOUND:  336.541846156\n",
      "At time  4 searching in [ 1.0 336.541846156 ], FOUND:  122.650689647\n",
      "At time "
     ]
    },
    {
     "name": "stdout",
     "output_type": "stream",
     "text": [
      " 3 searching in [ 1.0 5.88087123982 ], FOUND:  1.65377907421\n",
      "At time  3 no need to search, ESS(1.0) =  428.753163444\n",
      "At time "
     ]
    },
    {
     "name": "stdout",
     "output_type": "stream",
     "text": [
      " 3 searching in [ 1.0 25.5834761967 ], FOUND:  13.8478435146\n",
      "At time  3 searching in [ 1.0 13.8478435146 ], FOUND:  5.88087123982\n",
      "At time "
     ]
    },
    {
     "name": "stdout",
     "output_type": "stream",
     "text": [
      " 3 searching in [ 1.0 120.191744405 ], FOUND:  50.9923573577\n",
      "At time  3 searching in [ 1.0 50.9923573577 ], FOUND:  25.5834761967\n",
      "At time "
     ]
    },
    {
     "name": "stdout",
     "output_type": "stream",
     "text": [
      " 3 searching in [ 1.0 10000 ], FOUND:  324.700853818\n",
      "At time  3 searching in [ 1.0 324.700853818 ], FOUND:  120.191744405\n",
      "At time "
     ]
    },
    {
     "name": "stdout",
     "output_type": "stream",
     "text": [
      " 2 searching in [ 1.0 100 ], FOUND:  8.26932325053\n",
      "At time  2 no need to search, ESS(1.0) =  226.088607819\n",
      "At time "
     ]
    },
    {
     "name": "stdout",
     "output_type": "stream",
     "text": [
      " 1 searching in [ 1.0 100 ], FOUND:  8.91626258868\n",
      "At time  1 no need to search, ESS(1.0) =  216.670915626\n",
      "At time "
     ]
    },
    {
     "name": "stdout",
     "output_type": "stream",
     "text": [
      " 0 searching in [ 1.0 100 ], FOUND:  15.4240753831\n",
      "At time  0 no need to search, ESS(1.0) =  197.650970957\n",
      "At time "
     ]
    },
    {
     "name": "stdout",
     "output_type": "stream",
     "text": [
      " 9 searching in [ 1.0 31.9008597684 ], FOUND:  1.91855179664\n",
      "At time  9 no need to search, ESS(1.0) =  438.14028652\n",
      "At time "
     ]
    },
    {
     "name": "stdout",
     "output_type": "stream",
     "text": [
      " 8 no need to search, ESS(1.0) =  262.989225717\n",
      "At time  9 searching in [ 1.0 100 ], FOUND:  31.9008597684\n",
      "At time "
     ]
    },
    {
     "name": "stdout",
     "output_type": "stream",
     "text": [
      " 7 no need to search, ESS(1.0) =  233.820598212\n",
      "At time  8 searching in [ 1.0 100 ], FOUND:  7.23923970727\n",
      "At time "
     ]
    },
    {
     "name": "stdout",
     "output_type": "stream",
     "text": [
      " 6 no need to search, ESS(1.0) =  495.348990826\n",
      "At time  7 searching in [ 1.0 100 ], FOUND:  9.19715586293\n",
      "At time "
     ]
    },
    {
     "name": "stdout",
     "output_type": "stream",
     "text": [
      " 6 searching in [ 1.0 100 ], FOUND:  14.7225297425\n",
      "At time  6 searching in [ 1.0 14.7225297425 ], FOUND:  1.13656411836\n",
      "At time "
     ]
    },
    {
     "name": "stdout",
     "output_type": "stream",
     "text": [
      " 5 searching in [ 1.0 22.9088193198 ], FOUND:  1.03451493606\n",
      "At time  5 no need to search, ESS(1.0) =  499.757268547\n",
      "At time "
     ]
    },
    {
     "name": "stdout",
     "output_type": "stream",
     "text": [
      " 4 no need to search, ESS(1.0) =  169.761446929\n",
      "At time  5 searching in [ 1.0 100 ], FOUND:  22.9088193198\n",
      "At time "
     ]
    },
    {
     "name": "stdout",
     "output_type": "stream",
     "text": [
      " 4 searching in [ 1.0 23.77158374 ], FOUND:  10.8811777351\n",
      "At time  4 searching in [ 1.0 10.8811777351 ], FOUND:  4.76506738772\n",
      "At time "
     ]
    },
    {
     "name": "stdout",
     "output_type": "stream",
     "text": [
      " 4 searching in [ 1.0 115.638172208 ], FOUND:  54.1995770609\n",
      "At time  4 searching in [ 1.0 54.1995770609 ], FOUND:  23.77158374\n",
      "At time "
     ]
    },
    {
     "name": "stdout",
     "output_type": "stream",
     "text": [
      " 4 searching in [ 1.0 10000 ], FOUND:  304.220499619\n",
      "At time  4 searching in [ 1.0 304.220499619 ], FOUND:  115.638172208\n",
      "At time "
     ]
    },
    {
     "name": "stdout",
     "output_type": "stream",
     "text": [
      " 3 searching in [ 1.0 5.20232565742 ], FOUND:  1.1937828389\n",
      "At time  3 no need to search, ESS(1.0) =  488.442726767\n",
      "At time "
     ]
    },
    {
     "name": "stdout",
     "output_type": "stream",
     "text": [
      " 3 searching in [ 1.0 30.3061660168 ], FOUND:  13.0516592907\n",
      "At time  3 searching in [ 1.0 13.0516592907 ], FOUND:  5.20232565742\n",
      "At time "
     ]
    },
    {
     "name": "stdout",
     "output_type": "stream",
     "text": [
      " 3 searching in [ 1.0 167.545474076 ], FOUND:  68.4256817409\n",
      "At time  3 searching in [ 1.0 68.4256817409 ], FOUND:  30.3061660168\n",
      "At time "
     ]
    },
    {
     "name": "stdout",
     "output_type": "stream",
     "text": [
      " 3 searching in [ 1.0 10000 ], FOUND:  558.585928928\n",
      "At time  3 searching in [ 1.0 558.585928928 ], FOUND:  167.545474076\n",
      "At time "
     ]
    },
    {
     "name": "stdout",
     "output_type": "stream",
     "text": [
      " 2 searching in [ 1.0 100 ], FOUND:  6.74407747335\n",
      "At time  2 no need to search, ESS(1.0) =  265.904533819\n",
      "At time "
     ]
    },
    {
     "name": "stdout",
     "output_type": "stream",
     "text": [
      " 1 searching in [ 1.0 100 ], FOUND:  8.40848132557\n",
      "At time  1 no need to search, ESS(1.0) =  235.728954559\n",
      "At time "
     ]
    },
    {
     "name": "stdout",
     "output_type": "stream",
     "text": [
      " 0 searching in [ 1.0 100 ], FOUND:  15.4193393624\n",
      "At time  0 no need to search, ESS(1.0) =  196.404220349\n",
      "At time "
     ]
    },
    {
     "name": "stdout",
     "output_type": "stream",
     "text": [
      " 9 searching in [ 1.0 41.199405972 ], FOUND:  2.01899348262\n",
      "At time  9 no need to search, ESS(1.0) =  417.730670154\n",
      "At time "
     ]
    },
    {
     "name": "stdout",
     "output_type": "stream",
     "text": [
      " 8 no need to search, ESS(1.0) =  252.165449035\n",
      "At time  9 searching in [ 1.0 100 ], FOUND:  41.199405972\n",
      "At time "
     ]
    },
    {
     "name": "stdout",
     "output_type": "stream",
     "text": [
      " 7 no need to search, ESS(1.0) =  246.023309854\n",
      "At time  8 searching in [ 1.0 100 ], FOUND:  7.37666739029\n",
      "At time "
     ]
    },
    {
     "name": "stdout",
     "output_type": "stream",
     "text": [
      " 6 no need to search, ESS(1.0) =  177.473592497\n",
      "At time  7 searching in [ 1.0 100 ], FOUND:  8.03141640949\n",
      "At time "
     ]
    },
    {
     "name": "stdout",
     "output_type": "stream",
     "text": [
      " 5 no need to search, ESS(1.0) =  435.015194406\n",
      "At time  6 searching in [ 1.0 100 ], FOUND:  16.4729103735\n",
      "At time "
     ]
    },
    {
     "name": "stdout",
     "output_type": "stream",
     "text": [
      " 5 searching in [ 1.0 100 ], FOUND:  44.0774829995\n",
      "At time  5 searching in [ 1.0 44.0774829995 ], FOUND:  2.02039205695\n",
      "At time "
     ]
    },
    {
     "name": "stdout",
     "output_type": "stream",
     "text": [
      " 4 searching in [ 1.0 7.22436454619 ], FOUND:  2.16087473505\n",
      "At time  4 no need to search, ESS(1.0) =  359.413292242\n",
      "At time "
     ]
    },
    {
     "name": "stdout",
     "output_type": "stream",
     "text": [
      " 4 searching in [ 1.0 31.9625755427 ], FOUND:  15.6236393533\n",
      "At time  4 searching in [ 1.0 15.6236393533 ], FOUND:  7.22436454619\n",
      "At time "
     ]
    },
    {
     "name": "stdout",
     "output_type": "stream",
     "text": [
      " 4 searching in [ 1.0 150.602923292 ], FOUND:  67.3521059994\n",
      "At time  4 searching in [ 1.0 67.3521059994 ], FOUND:  31.9625755427\n",
      "At time "
     ]
    },
    {
     "name": "stdout",
     "output_type": "stream",
     "text": [
      " 4 searching in [ 1.0 10000 ], FOUND:  497.495861557\n",
      "At time  4 searching in [ 1.0 497.495861557 ], FOUND:  150.602923292\n",
      "At time "
     ]
    },
    {
     "name": "stdout",
     "output_type": "stream",
     "text": [
      " 3 searching in [ 1.0 8.66846443126 ], FOUND:  3.16262692454\n",
      "At time  3 no need to search, ESS(1.0) =  271.926672922\n",
      "At time "
     ]
    },
    {
     "name": "stdout",
     "output_type": "stream",
     "text": [
      " 3 searching in [ 1.0 29.662056009 ], FOUND:  16.8263850837\n",
      "At time  3 searching in [ 1.0 16.8263850837 ], FOUND:  8.66846443126\n",
      "At time "
     ]
    },
    {
     "name": "stdout",
     "output_type": "stream",
     "text": [
      " 3 searching in [ 1.0 156.11785988 ], FOUND:  62.5577197817\n",
      "At time  3 searching in [ 1.0 62.5577197817 ], FOUND:  29.662056009\n",
      "At time "
     ]
    },
    {
     "name": "stdout",
     "output_type": "stream",
     "text": [
      " 3 searching in [ 1.0 10000 ], FOUND:  509.231200437\n",
      "At time  3 searching in [ 1.0 509.231200437 ], FOUND:  156.11785988\n",
      "At time "
     ]
    },
    {
     "name": "stdout",
     "output_type": "stream",
     "text": [
      " 2 searching in [ 1.0 100 ], FOUND:  6.40838545833\n",
      "At time  2 no need to search, ESS(1.0) =  275.197212744\n",
      "At time "
     ]
    },
    {
     "name": "stdout",
     "output_type": "stream",
     "text": [
      " 1 searching in [ 1.0 100 ], FOUND:  8.00483234633\n",
      "At time  1 no need to search, ESS(1.0) =  241.837215005\n",
      "At time "
     ]
    },
    {
     "name": "stdout",
     "output_type": "stream",
     "text": [
      " 0 searching in [ 1.0 100 ], FOUND:  16.1623070085\n",
      "At time  0 no need to search, ESS(1.0) =  194.808231133\n",
      "At time "
     ]
    },
    {
     "name": "stdout",
     "output_type": "stream",
     "text": [
      " 9 searching in [ 1.0 100 ], FOUND:  7.25930720865\n",
      "At time  9 no need to search, ESS(1.0) =  276.08055804\n",
      "At time "
     ]
    },
    {
     "name": "stdout",
     "output_type": "stream",
     "text": [
      " 8 searching in [ 1.0 100 ], FOUND:  8.69770074078\n",
      "At time  8 no need to search, ESS(1.0) =  213.499818192\n",
      "At time "
     ]
    },
    {
     "name": "stdout",
     "output_type": "stream",
     "text": [
      " 7 searching in [ 1.0 100 ], FOUND:  8.11975441169\n",
      "At time  7 no need to search, ESS(1.0) =  241.973809589\n",
      "At time "
     ]
    },
    {
     "name": "stdout",
     "output_type": "stream",
     "text": [
      " 6 searching in [ 1.0 19.8150771034 ], FOUND:  1.04458699595\n",
      "At time  6 no need to search, ESS(1.0) =  499.567668141\n",
      "At time "
     ]
    },
    {
     "name": "stdout",
     "output_type": "stream",
     "text": [
      " 5 no need to search, ESS(1.0) =  414.325745461\n",
      "At time  6 searching in [ 1.0 100 ], FOUND:  19.8150771034\n",
      "At time "
     ]
    },
    {
     "name": "stdout",
     "output_type": "stream",
     "text": [
      " 5 searching in [ 1.0 100 ], FOUND:  29.3496697192\n",
      "At time  5 searching in [ 1.0 29.3496697192 ], FOUND:  2.25819714769\n",
      "At time "
     ]
    },
    {
     "name": "stdout",
     "output_type": "stream",
     "text": [
      " 4 searching in [ 1.0 6.10451706277 ], FOUND:  1.5574639326\n",
      "At time  4 no need to search, ESS(1.0) =  448.349277306\n",
      "At time "
     ]
    },
    {
     "name": "stdout",
     "output_type": "stream",
     "text": [
      " 4 searching in [ 1.0 22.4788748694 ], FOUND:  12.6471249318\n",
      "At time  4 searching in [ 1.0 12.6471249318 ], FOUND:  6.10451706277\n",
      "At time "
     ]
    },
    {
     "name": "stdout",
     "output_type": "stream",
     "text": [
      " 4 searching in [ 1.0 107.7235498 ], FOUND:  47.9902461518\n",
      "At time  4 searching in [ 1.0 47.9902461518 ], FOUND:  22.4788748694\n",
      "At time "
     ]
    },
    {
     "name": "stdout",
     "output_type": "stream",
     "text": [
      " 4 searching in [ 1.0 10000 ], FOUND:  284.708809177\n",
      "At time  4 searching in [ 1.0 284.708809177 ], FOUND:  107.7235498\n",
      "At time "
     ]
    },
    {
     "name": "stdout",
     "output_type": "stream",
     "text": [
      " 3 searching in [ 1.0 10.9852313245 ], FOUND:  4.56382342647\n",
      "At time  3 no need to search, ESS(1.0) =  180.162376465\n",
      "At time "
     ]
    },
    {
     "name": "stdout",
     "output_type": "stream",
     "text": [
      " 3 searching in [ 1.0 50.1031143764 ], FOUND:  21.8971618682\n",
      "At time  3 searching in [ 1.0 21.8971618682 ], FOUND:  10.9852313245\n",
      "At time "
     ]
    },
    {
     "name": "stdout",
     "output_type": "stream",
     "text": [
      " 3 searching in [ 1.0 325.762421792 ], FOUND:  119.621185208\n",
      "At time  3 searching in [ 1.0 119.621185208 ], FOUND:  50.1031143764\n",
      "At time "
     ]
    },
    {
     "name": "stdout",
     "output_type": "stream",
     "text": [
      " 2 no need to search, ESS(1.0) =  483.543745623\n",
      "At time  3 searching in [ 1.0 10000 ], FOUND:  325.762421792\n",
      "At time "
     ]
    },
    {
     "name": "stdout",
     "output_type": "stream",
     "text": [
      " 2 searching in [ 1.0 100 ], FOUND:  30.0894049805\n",
      "At time  2 searching in [ 1.0 30.0894049805 ], FOUND:  1.36537578669\n",
      "At time "
     ]
    },
    {
     "name": "stdout",
     "output_type": "stream",
     "text": [
      " 1 searching in [ 1.0 100 ], FOUND:  8.09422936097\n",
      "At time  1 no need to search, ESS(1.0) =  262.75922017\n",
      "At time "
     ]
    },
    {
     "name": "stdout",
     "output_type": "stream",
     "text": [
      " 0 searching in [ 1.0 100 ], FOUND:  18.3341042114\n",
      "At time  0 no need to search, ESS(1.0) =  167.631450215\n",
      "At time "
     ]
    },
    {
     "name": "stdout",
     "output_type": "stream",
     "text": [
      " 9 no need to search, ESS(1.0) =  180.140854479\n",
      "At time "
     ]
    },
    {
     "name": "stdout",
     "output_type": "stream",
     "text": [
      " 8 no need to search, ESS(1.0) =  278.403351023\n",
      "At time  9 searching in [ 1.0 100 ], FOUND:  23.3023577363\n",
      "At time "
     ]
    },
    {
     "name": "stdout",
     "output_type": "stream",
     "text": [
      " 7 no need to search, ESS(1.0) =  199.344740763\n",
      "At time  8 searching in [ 1.0 100 ], FOUND:  6.04021537833\n",
      "At time "
     ]
    },
    {
     "name": "stdout",
     "output_type": "stream",
     "text": [
      " 6 no need to search, ESS(1.0) =  496.741558322\n",
      "At time  7 searching in [ 1.0 100 ], FOUND:  11.9172979344\n",
      "At time "
     ]
    },
    {
     "name": "stdout",
     "output_type": "stream",
     "text": [
      " 6 searching in [ 1.0 100 ], FOUND:  26.3806458347\n",
      "At time  6 searching in [ 1.0 26.3806458347 ], FOUND:  1.1337513182\n",
      "At time "
     ]
    },
    {
     "name": "stdout",
     "output_type": "stream",
     "text": [
      " 5 searching in [ 1.0 52.6824531544 ], FOUND:  3.42446667431\n",
      "At time  5 no need to search, ESS(1.0) =  366.708889457\n",
      "At time "
     ]
    },
    {
     "name": "stdout",
     "output_type": "stream",
     "text": [
      " 4 no need to search, ESS(1.0) =  345.462617938\n",
      "At time  5 searching in [ 1.0 100 ], FOUND:  52.6824531544\n",
      "At time "
     ]
    },
    {
     "name": "stdout",
     "output_type": "stream",
     "text": [
      " 4 searching in [ 1.0 20.8273345237 ], FOUND:  7.99508191522\n",
      "At time  4 searching in [ 1.0 7.99508191522 ], FOUND:  2.34795783835\n",
      "At time "
     ]
    },
    {
     "name": "stdout",
     "output_type": "stream",
     "text": [
      " 4 searching in [ 1.0 172.782042055 ], FOUND:  76.3324949906\n",
      "At time  4 searching in [ 1.0 76.3324949906 ], FOUND:  20.8273345237\n",
      "At time "
     ]
    },
    {
     "name": "stdout",
     "output_type": "stream",
     "text": [
      " 4 searching in [ 1.0 10000 ], FOUND:  446.665940358\n",
      "At time  4 searching in [ 1.0 446.665940358 ], FOUND:  172.782042055\n",
      "At time "
     ]
    },
    {
     "name": "stdout",
     "output_type": "stream",
     "text": [
      " 3 searching in [ 1.0 7.52107440282 ], FOUND:  2.54955552765\n",
      "At time  3 no need to search, ESS(1.0) =  309.710266195\n",
      "At time "
     ]
    },
    {
     "name": "stdout",
     "output_type": "stream",
     "text": [
      " 3 searching in [ 1.0 30.3323585626 ], FOUND:  14.6323228076\n",
      "At time  3 searching in [ 1.0 14.6323228076 ], FOUND:  7.52107440282\n",
      "At time "
     ]
    },
    {
     "name": "stdout",
     "output_type": "stream",
     "text": [
      " 3 searching in [ 1.0 175.68908463 ], FOUND:  71.8829620256\n",
      "At time  3 searching in [ 1.0 71.8829620256 ], FOUND:  30.3323585626\n",
      "At time "
     ]
    },
    {
     "name": "stdout",
     "output_type": "stream",
     "text": [
      " 3 searching in [ 1.0 10000 ], FOUND:  558.875719298\n",
      "At time  3 searching in [ 1.0 558.875719298 ], FOUND:  175.68908463\n",
      "At time "
     ]
    },
    {
     "name": "stdout",
     "output_type": "stream",
     "text": [
      " 2 searching in [ 1.0 100 ], FOUND:  6.17308628794\n",
      "At time  2 no need to search, ESS(1.0) =  273.744881231\n",
      "At time "
     ]
    },
    {
     "name": "stdout",
     "output_type": "stream",
     "text": [
      " 1 searching in [ 1.0 100 ], FOUND:  7.92118053686\n",
      "At time  1 no need to search, ESS(1.0) =  214.481982526\n",
      "At time "
     ]
    },
    {
     "name": "stdout",
     "output_type": "stream",
     "text": [
      " 0 searching in [ 1.0 100 ], FOUND:  17.7234181227\n",
      "At time  0 no need to search, ESS(1.0) =  181.280887408\n",
      "At time "
     ]
    },
    {
     "name": "stdout",
     "output_type": "stream",
     "text": [
      " 9 searching in [ 1.0 100 ], FOUND:  8.8746866344\n",
      "At time  9 no need to search, ESS(1.0) =  230.545590513\n",
      "At time "
     ]
    },
    {
     "name": "stdout",
     "output_type": "stream",
     "text": [
      " 8 searching in [ 1.0 100 ], FOUND:  7.57070324951\n",
      "At time  8 no need to search, ESS(1.0) =  249.022956482\n",
      "At time "
     ]
    },
    {
     "name": "stdout",
     "output_type": "stream",
     "text": [
      " 7 searching in [ 1.0 100 ], FOUND:  9.74813541037\n",
      "At time  7 no need to search, ESS(1.0) =  218.098772281\n",
      "At time "
     ]
    },
    {
     "name": "stdout",
     "output_type": "stream",
     "text": [
      " 6 searching in [ 1.0 23.3920186925 ], FOUND:  1.50840855682\n",
      "At time  6 no need to search, ESS(1.0) =  470.502766394\n",
      "At time "
     ]
    },
    {
     "name": "stdout",
     "output_type": "stream",
     "text": [
      " 5 no need to search, ESS(1.0) =  442.456477953\n",
      "At time  6 searching in [ 1.0 100 ], FOUND:  23.3920186925\n",
      "At time "
     ]
    },
    {
     "name": "stdout",
     "output_type": "stream",
     "text": [
      " 5 searching in [ 1.0 100 ], FOUND:  27.0308866921\n",
      "At time  5 searching in [ 1.0 27.0308866921 ], FOUND:  1.83302324142\n",
      "At time "
     ]
    },
    {
     "name": "stdout",
     "output_type": "stream",
     "text": [
      " 4 searching in [ 1.0 10.2399055538 ], FOUND:  3.91811286331\n",
      "At time  4 no need to search, ESS(1.0) =  196.384180703\n",
      "At time "
     ]
    },
    {
     "name": "stdout",
     "output_type": "stream",
     "text": [
      " 4 searching in [ 1.0 66.5167141886 ], FOUND:  24.0260284009\n",
      "At time  4 searching in [ 1.0 24.0260284009 ], FOUND:  10.2399055538\n",
      "At time "
     ]
    },
    {
     "name": "stdout",
     "output_type": "stream",
     "text": [
      " 4 searching in [ 1.0 453.718182371 ], FOUND:  156.278255481\n",
      "At time  4 searching in [ 1.0 156.278255481 ], FOUND:  66.5167141886\n",
      "At time "
     ]
    },
    {
     "name": "stdout",
     "output_type": "stream",
     "text": [
      " 3 no need to search, ESS(1.0) =  339.32531406\n",
      "At time  4 searching in [ 1.0 10000 ], FOUND:  453.718182371\n",
      "At time "
     ]
    },
    {
     "name": "stdout",
     "output_type": "stream",
     "text": [
      " 3 searching in [ 1.0 20.1359875886 ], FOUND:  8.59131706627\n",
      "At time  3 searching in [ 1.0 8.59131706627 ], FOUND:  2.54424850426\n",
      "At time "
     ]
    },
    {
     "name": "stdout",
     "output_type": "stream",
     "text": [
      " 3 searching in [ 1.0 131.480470976 ], FOUND:  60.6054413673\n",
      "At time  3 searching in [ 1.0 60.6054413673 ], FOUND:  20.1359875886\n",
      "At time "
     ]
    },
    {
     "name": "stdout",
     "output_type": "stream",
     "text": [
      " 3 searching in [ 1.0 10000 ], FOUND:  337.850699498\n",
      "At time  3 searching in [ 1.0 337.850699498 ], FOUND:  131.480470976\n",
      "At time "
     ]
    },
    {
     "name": "stdout",
     "output_type": "stream",
     "text": [
      " 2 searching in [ 1.0 35.2143550085 ], FOUND:  1.57441922712\n",
      "At time  2 no need to search, ESS(1.0) =  458.959256179\n",
      "At time "
     ]
    },
    {
     "name": "stdout",
     "output_type": "stream",
     "text": [
      " 1 no need to search, ESS(1.0) =  250.596647645\n",
      "At time  2 searching in [ 1.0 100 ], FOUND:  35.2143550085\n",
      "At time "
     ]
    },
    {
     "name": "stdout",
     "output_type": "stream",
     "text": [
      " 0 no need to search, ESS(1.0) =  486.85463461\n",
      "At time  1 searching in [ 1.0 100 ], FOUND:  7.85013835102\n",
      "At time "
     ]
    },
    {
     "name": "stdout",
     "output_type": "stream",
     "text": [
      " 0 searching in [ 1.0 100 ], FOUND:  21.3445630351\n",
      "At time  0 searching in [ 1.0 21.3445630351 ], FOUND:  1.27370064303\n",
      "At time "
     ]
    },
    {
     "name": "stdout",
     "output_type": "stream",
     "text": [
      " 9 no need to search, ESS(1.0) =  421.430905729\n",
      "At time "
     ]
    },
    {
     "name": "stdout",
     "output_type": "stream",
     "text": [
      " 9 searching in [ 1.0 100 ], FOUND:  42.2345900344\n",
      "At time  9 searching in [ 1.0 42.2345900344 ], FOUND:  2.13070498559\n",
      "At time "
     ]
    },
    {
     "name": "stdout",
     "output_type": "stream",
     "text": [
      " 8 searching in [ 1.0 100 ], FOUND:  8.27281185566\n",
      "At time  8 no need to search, ESS(1.0) =  255.242195084\n",
      "At time "
     ]
    },
    {
     "name": "stdout",
     "output_type": "stream",
     "text": [
      " 7 searching in [ 1.0 100 ], FOUND:  10.6120240184\n",
      "At time  7 no need to search, ESS(1.0) =  212.18758554\n",
      "At time "
     ]
    },
    {
     "name": "stdout",
     "output_type": "stream",
     "text": [
      " 6 searching in [ 1.0 24.9213005553 ], FOUND:  1.2678667575\n",
      "At time  6 no need to search, ESS(1.0) =  487.903296567\n",
      "At time "
     ]
    },
    {
     "name": "stdout",
     "output_type": "stream",
     "text": [
      " 5 no need to search, ESS(1.0) =  382.713491902\n",
      "At time  6 searching in [ 1.0 100 ], FOUND:  24.9213005553\n",
      "At time "
     ]
    },
    {
     "name": "stdout",
     "output_type": "stream",
     "text": [
      " 5 searching in [ 1.0 100 ], FOUND:  38.0618900705\n",
      "At time  5 searching in [ 1.0 38.0618900705 ], FOUND:  2.52308945241\n",
      "At time "
     ]
    },
    {
     "name": "stdout",
     "output_type": "stream",
     "text": [
      " 4 searching in [ 1.0 6.15770259891 ], FOUND:  1.88568799286\n",
      "At time  4 no need to search, ESS(1.0) =  403.543782318\n",
      "At time "
     ]
    },
    {
     "name": "stdout",
     "output_type": "stream",
     "text": [
      " 4 searching in [ 1.0 28.591903561 ], FOUND:  13.3941176505\n",
      "At time  4 searching in [ 1.0 13.3941176505 ], FOUND:  6.15770259891\n",
      "At time "
     ]
    },
    {
     "name": "stdout",
     "output_type": "stream",
     "text": [
      " 4 searching in [ 1.0 128.64099185 ], FOUND:  64.1401884155\n",
      "At time  4 searching in [ 1.0 64.1401884155 ], FOUND:  28.591903561\n",
      "At time "
     ]
    },
    {
     "name": "stdout",
     "output_type": "stream",
     "text": [
      " 4 searching in [ 1.0 10000 ], FOUND:  327.974122214\n",
      "At time  4 searching in [ 1.0 327.974122214 ], FOUND:  128.64099185\n",
      "At time "
     ]
    },
    {
     "name": "stdout",
     "output_type": "stream",
     "text": [
      " 3 searching in [ 1.0 6.44441310954 ], FOUND:  1.9334896226\n",
      "At time  3 no need to search, ESS(1.0) =  392.25044203\n",
      "At time "
     ]
    },
    {
     "name": "stdout",
     "output_type": "stream",
     "text": [
      " 3 searching in [ 1.0 27.6375890198 ], FOUND:  13.9341313723\n",
      "At time  3 searching in [ 1.0 13.9341313723 ], FOUND:  6.44441310954\n",
      "At time "
     ]
    },
    {
     "name": "stdout",
     "output_type": "stream",
     "text": [
      " 3 searching in [ 1.0 120.183538058 ], FOUND:  54.9735742806\n",
      "At time  3 searching in [ 1.0 54.9735742806 ], FOUND:  27.6375890198\n",
      "At time "
     ]
    },
    {
     "name": "stdout",
     "output_type": "stream",
     "text": [
      " 3 searching in [ 1.0 10000 ], FOUND:  315.130863386\n",
      "At time  3 searching in [ 1.0 315.130863386 ], FOUND:  120.183538058\n",
      "At time "
     ]
    },
    {
     "name": "stdout",
     "output_type": "stream",
     "text": [
      " 2 searching in [ 1.0 33.3535542524 ], FOUND:  1.52687408964\n",
      "At time  2 no need to search, ESS(1.0) =  467.73425942\n",
      "At time "
     ]
    },
    {
     "name": "stdout",
     "output_type": "stream",
     "text": [
      " 1 no need to search, ESS(1.0) =  250.850784238\n",
      "At time  2 searching in [ 1.0 100 ], FOUND:  33.3535542524\n",
      "At time "
     ]
    },
    {
     "name": "stdout",
     "output_type": "stream",
     "text": [
      " 0 no need to search, ESS(1.0) =  498.465882207\n",
      "At time  1 searching in [ 1.0 100 ], FOUND:  7.98920330537\n",
      "At time "
     ]
    },
    {
     "name": "stdout",
     "output_type": "stream",
     "text": [
      " 0 searching in [ 1.0 100 ], FOUND:  20.3312174635\n",
      "At time  0 searching in [ 1.0 20.3312174635 ], FOUND:  1.09209029764\n",
      "At time "
     ]
    },
    {
     "name": "stdout",
     "output_type": "stream",
     "text": [
      " 9 no need to search, ESS(1.0) =  458.337711006\n",
      "At time "
     ]
    },
    {
     "name": "stdout",
     "output_type": "stream",
     "text": [
      " 9 searching in [ 1.0 100 ], FOUND:  35.2827663848\n",
      "At time  9 searching in [ 1.0 35.2827663848 ], FOUND:  1.6651673216\n",
      "At time "
     ]
    },
    {
     "name": "stdout",
     "output_type": "stream",
     "text": [
      " 8 searching in [ 1.0 100 ], FOUND:  7.04408095331\n",
      "At time  8 no need to search, ESS(1.0) =  264.794859715\n",
      "At time "
     ]
    },
    {
     "name": "stdout",
     "output_type": "stream",
     "text": [
      " 7 searching in [ 1.0 100 ], FOUND:  8.66539988244\n",
      "At time  7 no need to search, ESS(1.0) =  236.514641805\n",
      "At time "
     ]
    },
    {
     "name": "stdout",
     "output_type": "stream",
     "text": [
      " 6 searching in [ 1.0 15.2111223296 ], FOUND:  1.00652037047\n",
      "At time  6 no need to search, ESS(1.0) =  499.989759313\n",
      "At time "
     ]
    },
    {
     "name": "stdout",
     "output_type": "stream",
     "text": [
      " 5 no need to search, ESS(1.0) =  493.211894543\n",
      "At time  6 searching in [ 1.0 100 ], FOUND:  15.2111223296\n",
      "At time "
     ]
    },
    {
     "name": "stdout",
     "output_type": "stream",
     "text": [
      " 5 searching in [ 1.0 100 ], FOUND:  22.2884078794\n",
      "At time  5 searching in [ 1.0 22.2884078794 ], FOUND:  1.19769342396\n",
      "At time "
     ]
    },
    {
     "name": "stdout",
     "output_type": "stream",
     "text": [
      " 4 searching in [ 1.0 5.4367882394 ], FOUND:  1.11521429775\n",
      "At time  4 no need to search, ESS(1.0) =  496.27458261\n",
      "At time "
     ]
    },
    {
     "name": "stdout",
     "output_type": "stream",
     "text": [
      " 4 searching in [ 1.0 27.5113532683 ], FOUND:  13.6546318087\n",
      "At time  4 searching in [ 1.0 13.6546318087 ], FOUND:  5.4367882394\n",
      "At time "
     ]
    },
    {
     "name": "stdout",
     "output_type": "stream",
     "text": [
      " 4 searching in [ 1.0 114.373203567 ], FOUND:  56.1949846654\n",
      "At time  4 searching in [ 1.0 56.1949846654 ], FOUND:  27.5113532683\n",
      "At time "
     ]
    },
    {
     "name": "stdout",
     "output_type": "stream",
     "text": [
      " 4 searching in [ 1.0 10000 ], FOUND:  285.815154603\n",
      "At time  4 searching in [ 1.0 285.815154603 ], FOUND:  114.373203567\n",
      "At time "
     ]
    },
    {
     "name": "stdout",
     "output_type": "stream",
     "text": [
      " 3 searching in [ 1.0 6.24376829944 ], FOUND:  1.23921839885\n",
      "At time  3 no need to search, ESS(1.0) =  486.245245015\n",
      "At time "
     ]
    },
    {
     "name": "stdout",
     "output_type": "stream",
     "text": [
      " 3 searching in [ 1.0 24.147223183 ], FOUND:  13.2556112081\n",
      "At time  3 searching in [ 1.0 13.2556112081 ], FOUND:  6.24376829944\n",
      "At time "
     ]
    },
    {
     "name": "stdout",
     "output_type": "stream",
     "text": [
      " 3 searching in [ 1.0 118.629984172 ], FOUND:  49.5377135266\n",
      "At time  3 searching in [ 1.0 49.5377135266 ], FOUND:  24.147223183\n",
      "At time "
     ]
    },
    {
     "name": "stdout",
     "output_type": "stream",
     "text": [
      " 3 searching in [ 1.0 10000 ], FOUND:  320.432055358\n",
      "At time  3 searching in [ 1.0 320.432055358 ], FOUND:  118.629984172\n",
      "At time "
     ]
    },
    {
     "name": "stdout",
     "output_type": "stream",
     "text": [
      " 2 searching in [ 1.0 36.9017615116 ], FOUND:  1.14474291022\n",
      "At time  2 no need to search, ESS(1.0) =  496.694565744\n",
      "At time "
     ]
    },
    {
     "name": "stdout",
     "output_type": "stream",
     "text": [
      " 1 no need to search, ESS(1.0) =  257.90127071\n",
      "At time  2 searching in [ 1.0 100 ], FOUND:  36.9017615116\n",
      "At time "
     ]
    },
    {
     "name": "stdout",
     "output_type": "stream",
     "text": [
      " 0 no need to search, ESS(1.0) =  499.161217311\n",
      "At time  1 searching in [ 1.0 100 ], FOUND:  7.05691722225\n",
      "At time "
     ]
    },
    {
     "name": "stdout",
     "output_type": "stream",
     "text": [
      " 0 searching in [ 1.0 100 ], FOUND:  18.0057064145\n",
      "At time  0 searching in [ 1.0 18.0057064145 ], FOUND:  1.06528812676\n",
      "At time "
     ]
    },
    {
     "name": "stdout",
     "output_type": "stream",
     "text": [
      " 9 no need to search, ESS(1.0) =  250.412076724\n",
      "At time "
     ]
    },
    {
     "name": "stdout",
     "output_type": "stream",
     "text": [
      " 8 no need to search, ESS(1.0) =  249.629171537\n",
      "At time  9 searching in [ 1.0 100 ], FOUND:  8.36500044774\n",
      "At time "
     ]
    },
    {
     "name": "stdout",
     "output_type": "stream",
     "text": [
      " 7 no need to search, ESS(1.0) =  218.258896548\n",
      "At time  8 searching in [ 1.0 100 ], FOUND:  6.41939244882\n",
      "At time "
     ]
    },
    {
     "name": "stdout",
     "output_type": "stream",
     "text": [
      " 6 no need to search, ESS(1.0) =  422.301080662\n",
      "At time  7 searching in [ 1.0 100 ], FOUND:  12.0253526467\n",
      "At time "
     ]
    },
    {
     "name": "stdout",
     "output_type": "stream",
     "text": [
      " 6 searching in [ 1.0 100 ], FOUND:  44.2186160554\n",
      "At time  6 searching in [ 1.0 44.2186160554 ], FOUND:  2.30804767151\n",
      "At time "
     ]
    },
    {
     "name": "stdout",
     "output_type": "stream",
     "text": [
      " 5 searching in [ 1.0 55.6248502584 ], FOUND:  4.31751267936\n",
      "At time  5 no need to search, ESS(1.0) =  300.571413546\n",
      "At time "
     ]
    },
    {
     "name": "stdout",
     "output_type": "stream",
     "text": [
      " 4 no need to search, ESS(1.0) =  331.266505212\n",
      "At time  5 searching in [ 1.0 100 ], FOUND:  55.6248502584\n",
      "At time "
     ]
    },
    {
     "name": "stdout",
     "output_type": "stream",
     "text": [
      " 4 searching in [ 1.0 14.944446183 ], FOUND:  7.1182129618\n",
      "At time  4 searching in [ 1.0 7.1182129618 ], FOUND:  2.46364587278\n",
      "At time "
     ]
    },
    {
     "name": "stdout",
     "output_type": "stream",
     "text": [
      " 4 searching in [ 1.0 64.1686937069 ], FOUND:  30.0461907258\n",
      "At time  4 searching in [ 1.0 30.0461907258 ], FOUND:  14.944446183\n",
      "At time "
     ]
    },
    {
     "name": "stdout",
     "output_type": "stream",
     "text": [
      " 4 searching in [ 1.0 435.439719651 ], FOUND:  143.701883331\n",
      "At time  4 searching in [ 1.0 143.701883331 ], FOUND:  64.1686937069\n",
      "At time "
     ]
    },
    {
     "name": "stdout",
     "output_type": "stream",
     "text": [
      " 3 no need to search, ESS(1.0) =  304.096234527\n",
      "At time  4 searching in [ 1.0 10000 ], FOUND:  435.439719651\n",
      "At time "
     ]
    },
    {
     "name": "stdout",
     "output_type": "stream",
     "text": [
      " 3 searching in [ 1.0 13.8607311395 ], FOUND:  7.12436730164\n",
      "At time  3 searching in [ 1.0 7.12436730164 ], FOUND:  2.52905407351\n",
      "At time "
     ]
    },
    {
     "name": "stdout",
     "output_type": "stream",
     "text": [
      " 3 searching in [ 1.0 47.2695123527 ], FOUND:  23.7453896312\n",
      "At time  3 searching in [ 1.0 23.7453896312 ], FOUND:  13.8607311395\n",
      "At time "
     ]
    },
    {
     "name": "stdout",
     "output_type": "stream",
     "text": [
      " 3 searching in [ 1.0 330.388477348 ], FOUND:  109.829695858\n",
      "At time  3 searching in [ 1.0 109.829695858 ], FOUND:  47.2695123527\n",
      "At time "
     ]
    },
    {
     "name": "stdout",
     "output_type": "stream",
     "text": [
      " 2 no need to search, ESS(1.0) =  433.455240115\n",
      "At time  3 searching in [ 1.0 10000 ], FOUND:  330.388477348\n",
      "At time "
     ]
    },
    {
     "name": "stdout",
     "output_type": "stream",
     "text": [
      " 2 searching in [ 1.0 100 ], FOUND:  39.1137778288\n",
      "At time  2 searching in [ 1.0 39.1137778288 ], FOUND:  1.98181541698\n",
      "At time "
     ]
    },
    {
     "name": "stdout",
     "output_type": "stream",
     "text": [
      " 1 searching in [ 1.0 100 ], FOUND:  8.54390809168\n",
      "At time  1 no need to search, ESS(1.0) =  256.685694769\n",
      "At time "
     ]
    },
    {
     "name": "stdout",
     "output_type": "stream",
     "text": [
      " 0 searching in [ 1.0 100 ], FOUND:  17.7245000448\n",
      "At time  0 no need to search, ESS(1.0) =  181.696107266\n",
      "At time "
     ]
    },
    {
     "name": "stdout",
     "output_type": "stream",
     "text": [
      " 9 searching in [ 1.0 31.7093043739 ], FOUND:  1.82555246494\n",
      "At time  9 no need to search, ESS(1.0) =  452.270667027\n",
      "At time "
     ]
    },
    {
     "name": "stdout",
     "output_type": "stream",
     "text": [
      " 8 no need to search, ESS(1.0) =  272.022204669\n",
      "At time  9 searching in [ 1.0 100 ], FOUND:  31.7093043739\n",
      "At time "
     ]
    },
    {
     "name": "stdout",
     "output_type": "stream",
     "text": [
      " 7 no need to search, ESS(1.0) =  226.714595724\n",
      "At time  8 searching in [ 1.0 100 ], FOUND:  6.78407683058\n",
      "At time "
     ]
    },
    {
     "name": "stdout",
     "output_type": "stream",
     "text": [
      " 6 no need to search, ESS(1.0) =  450.564733985\n",
      "At time  7 searching in [ 1.0 100 ], FOUND:  8.51115461862\n",
      "At time "
     ]
    },
    {
     "name": "stdout",
     "output_type": "stream",
     "text": [
      " 6 searching in [ 1.0 100 ], FOUND:  27.6692043352\n",
      "At time  6 searching in [ 1.0 27.6692043352 ], FOUND:  1.79551184216\n",
      "At time "
     ]
    },
    {
     "name": "stdout",
     "output_type": "stream",
     "text": [
      " 5 searching in [ 1.0 44.5177157033 ], FOUND:  2.23798921944\n",
      "At time  5 no need to search, ESS(1.0) =  414.557130278\n",
      "At time "
     ]
    },
    {
     "name": "stdout",
     "output_type": "stream",
     "text": [
      " 4 no need to search, ESS(1.0) =  359.555918679\n",
      "At time  5 searching in [ 1.0 100 ], FOUND:  44.5177157033\n",
      "At time "
     ]
    },
    {
     "name": "stdout",
     "output_type": "stream",
     "text": [
      " 4 searching in [ 1.0 13.9319656848 ], FOUND:  6.73995449029\n",
      "At time  4 searching in [ 1.0 6.73995449029 ], FOUND:  2.16128000927\n",
      "At time "
     ]
    },
    {
     "name": "stdout",
     "output_type": "stream",
     "text": [
      " 4 searching in [ 1.0 47.4182992631 ], FOUND:  25.4762624409\n",
      "At time  4 searching in [ 1.0 25.4762624409 ], FOUND:  13.9319656848\n",
      "At time "
     ]
    },
    {
     "name": "stdout",
     "output_type": "stream",
     "text": [
      " 4 searching in [ 1.0 302.396300116 ], FOUND:  103.652466615\n",
      "At time  4 searching in [ 1.0 103.652466615 ], FOUND:  47.4182992631\n",
      "At time "
     ]
    },
    {
     "name": "stdout",
     "output_type": "stream",
     "text": [
      " 3 no need to search, ESS(1.0) =  462.206900634\n",
      "At time  4 searching in [ 1.0 10000 ], FOUND:  302.396300116\n",
      "At time "
     ]
    },
    {
     "name": "stdout",
     "output_type": "stream",
     "text": [
      " 3 searching in [ 1.0 12.298163071 ], FOUND:  5.87992408005\n",
      "At time  3 searching in [ 1.0 5.87992408005 ], FOUND:  1.46522659008\n",
      "At time "
     ]
    },
    {
     "name": "stdout",
     "output_type": "stream",
     "text": [
      " 3 searching in [ 1.0 50.2658678636 ], FOUND:  22.3389587394\n",
      "At time  3 searching in [ 1.0 22.3389587394 ], FOUND:  12.298163071\n",
      "At time "
     ]
    },
    {
     "name": "stdout",
     "output_type": "stream",
     "text": [
      " 3 searching in [ 1.0 289.298954979 ], FOUND:  114.123771932\n",
      "At time  3 searching in [ 1.0 114.123771932 ], FOUND:  50.2658678636\n",
      "At time "
     ]
    },
    {
     "name": "stdout",
     "output_type": "stream",
     "text": [
      " 2 no need to search, ESS(1.0) =  463.368318671\n",
      "At time  3 searching in [ 1.0 10000 ], FOUND:  289.298954979\n",
      "At time "
     ]
    },
    {
     "name": "stdout",
     "output_type": "stream",
     "text": [
      " 2 searching in [ 1.0 100 ], FOUND:  30.6742675827\n",
      "At time  2 searching in [ 1.0 30.6742675827 ], FOUND:  1.58357350592\n",
      "At time "
     ]
    },
    {
     "name": "stdout",
     "output_type": "stream",
     "text": [
      " 1 searching in [ 1.0 100 ], FOUND:  6.73944240169\n",
      "At time  1 no need to search, ESS(1.0) =  260.06098108\n",
      "At time "
     ]
    },
    {
     "name": "stdout",
     "output_type": "stream",
     "text": [
      " 0 no need to search, ESS(1.0) =  499.981698666\n",
      "At time "
     ]
    },
    {
     "name": "stdout",
     "output_type": "stream",
     "text": [
      " 0 searching in [ 1.0 100 ], FOUND:  18.9979246555\n",
      "At time  0 searching in [ 1.0 18.9979246555 ], FOUND:  1.00946509562\n",
      "At time "
     ]
    },
    {
     "name": "stdout",
     "output_type": "stream",
     "text": [
      " 9 no need to search, ESS(1.0) =  494.12489609\n",
      "At time "
     ]
    },
    {
     "name": "stdout",
     "output_type": "stream",
     "text": [
      " 9 searching in [ 1.0 100 ], FOUND:  31.5308402507\n",
      "At time  9 searching in [ 1.0 31.5308402507 ], FOUND:  1.17810093935\n",
      "At time "
     ]
    },
    {
     "name": "stdout",
     "output_type": "stream",
     "text": [
      " 8 searching in [ 1.0 100 ], FOUND:  6.46716065446\n",
      "At time  8 no need to search, ESS(1.0) =  270.616872989\n",
      "At time "
     ]
    },
    {
     "name": "stdout",
     "output_type": "stream",
     "text": [
      " 7 searching in [ 1.0 100 ], FOUND:  10.2648173326\n",
      "At time  7 no need to search, ESS(1.0) =  220.35979098\n",
      "At time "
     ]
    },
    {
     "name": "stdout",
     "output_type": "stream",
     "text": [
      " 6 searching in [ 1.0 18.9213969317 ], FOUND:  1.45063563943\n",
      "At time  6 no need to search, ESS(1.0) =  471.887342706\n",
      "At time "
     ]
    },
    {
     "name": "stdout",
     "output_type": "stream",
     "text": [
      " 5 no need to search, ESS(1.0) =  448.361060094\n",
      "At time  6 searching in [ 1.0 100 ], FOUND:  18.9213969317\n",
      "At time "
     ]
    },
    {
     "name": "stdout",
     "output_type": "stream",
     "text": [
      " 5 searching in [ 1.0 100 ], FOUND:  25.2504655114\n",
      "At time  5 searching in [ 1.0 25.2504655114 ], FOUND:  1.85250431627\n",
      "At time "
     ]
    },
    {
     "name": "stdout",
     "output_type": "stream",
     "text": [
      " 4 searching in [ 1.0 5.39061746337 ], FOUND:  1.54333991623\n",
      "At time  4 no need to search, ESS(1.0) =  431.541102823\n",
      "At time "
     ]
    },
    {
     "name": "stdout",
     "output_type": "stream",
     "text": [
      " 4 searching in [ 1.0 24.2274313819 ], FOUND:  11.9591848185\n",
      "At time  4 searching in [ 1.0 11.9591848185 ], FOUND:  5.39061746337\n",
      "At time "
     ]
    },
    {
     "name": "stdout",
     "output_type": "stream",
     "text": [
      " 4 searching in [ 1.0 166.333145576 ], FOUND:  55.0498301499\n",
      "At time  4 searching in [ 1.0 55.0498301499 ], FOUND:  24.2274313819\n",
      "At time "
     ]
    },
    {
     "name": "stdout",
     "output_type": "stream",
     "text": [
      " 4 searching in [ 1.0 10000 ], FOUND:  554.797886556\n",
      "At time  4 searching in [ 1.0 554.797886556 ], FOUND:  166.333145576\n",
      "At time "
     ]
    },
    {
     "name": "stdout",
     "output_type": "stream",
     "text": [
      " 3 searching in [ 1.0 9.63807175854 ], FOUND:  3.38210085625\n",
      "At time  3 no need to search, ESS(1.0) =  268.022126557\n",
      "At time "
     ]
    },
    {
     "name": "stdout",
     "output_type": "stream",
     "text": [
      " 3 searching in [ 1.0 48.7534572423 ], FOUND:  21.5007450912\n",
      "At time  3 searching in [ 1.0 21.5007450912 ], FOUND:  9.63807175854\n",
      "At time "
     ]
    },
    {
     "name": "stdout",
     "output_type": "stream",
     "text": [
      " 3 searching in [ 1.0 360.097493404 ], FOUND:  136.376026555\n",
      "At time  3 searching in [ 1.0 136.376026555 ], FOUND:  48.7534572423\n",
      "At time "
     ]
    },
    {
     "name": "stdout",
     "output_type": "stream",
     "text": [
      " 2 no need to search, ESS(1.0) =  459.117752229\n",
      "At time  3 searching in [ 1.0 10000 ], FOUND:  360.097493404\n",
      "At time "
     ]
    },
    {
     "name": "stdout",
     "output_type": "stream",
     "text": [
      " 2 searching in [ 1.0 100 ], FOUND:  36.4325822264\n",
      "At time  2 searching in [ 1.0 36.4325822264 ], FOUND:  1.60685366613\n",
      "At time "
     ]
    },
    {
     "name": "stdout",
     "output_type": "stream",
     "text": [
      " 1 searching in [ 1.0 100 ], FOUND:  8.40241269904\n",
      "At time  1 no need to search, ESS(1.0) =  256.665238098\n",
      "At time "
     ]
    },
    {
     "name": "stdout",
     "output_type": "stream",
     "text": [
      " 0 searching in [ 1.0 100 ], FOUND:  18.1524360135\n",
      "At time  0 no need to search, ESS(1.0) =  169.306144939\n",
      "At time "
     ]
    },
    {
     "name": "stdout",
     "output_type": "stream",
     "text": [
      " 9 no need to search, ESS(1.0) =  385.909100252\n",
      "At time "
     ]
    },
    {
     "name": "stdout",
     "output_type": "stream",
     "text": [
      " 9 searching in [ 1.0 100 ], FOUND:  46.6819053673\n",
      "At time  9 searching in [ 1.0 46.6819053673 ], FOUND:  2.43927777701\n",
      "At time "
     ]
    },
    {
     "name": "stdout",
     "output_type": "stream",
     "text": [
      " 8 searching in [ 1.0 100 ], FOUND:  6.84386053601\n",
      "At time  8 no need to search, ESS(1.0) =  255.205533291\n",
      "At time "
     ]
    },
    {
     "name": "stdout",
     "output_type": "stream",
     "text": [
      " 7 searching in [ 1.0 100 ], FOUND:  12.4526946857\n",
      "At time  7 no need to search, ESS(1.0) =  197.090200406\n",
      "At time "
     ]
    },
    {
     "name": "stdout",
     "output_type": "stream",
     "text": [
      " 6 searching in [ 1.0 24.4737935479 ], FOUND:  1.74132719163\n",
      "At time  6 no need to search, ESS(1.0) =  438.716265611\n",
      "At time "
     ]
    },
    {
     "name": "stdout",
     "output_type": "stream",
     "text": [
      " 5 no need to search, ESS(1.0) =  427.083276824\n",
      "At time  6 searching in [ 1.0 100 ], FOUND:  24.4737935479\n",
      "At time "
     ]
    },
    {
     "name": "stdout",
     "output_type": "stream",
     "text": [
      " 5 searching in [ 1.0 100 ], FOUND:  28.5988051578\n",
      "At time  5 searching in [ 1.0 28.5988051578 ], FOUND:  2.0205268977\n",
      "At time "
     ]
    },
    {
     "name": "stdout",
     "output_type": "stream",
     "text": [
      " 4 searching in [ 1.0 5.85162969443 ], FOUND:  1.36303510158\n",
      "At time  4 no need to search, ESS(1.0) =  472.746431384\n",
      "At time "
     ]
    },
    {
     "name": "stdout",
     "output_type": "stream",
     "text": [
      " 4 searching in [ 1.0 24.565977167 ], FOUND:  12.3866845595\n",
      "At time  4 searching in [ 1.0 12.3866845595 ], FOUND:  5.85162969443\n",
      "At time "
     ]
    },
    {
     "name": "stdout",
     "output_type": "stream",
     "text": [
      " 4 searching in [ 1.0 111.886357203 ], FOUND:  48.4920680486\n",
      "At time  4 searching in [ 1.0 48.4920680486 ], FOUND:  24.565977167\n",
      "At time "
     ]
    },
    {
     "name": "stdout",
     "output_type": "stream",
     "text": [
      " 4 searching in [ 1.0 10000 ], FOUND:  310.152519935\n",
      "At time  4 searching in [ 1.0 310.152519935 ], FOUND:  111.886357203\n",
      "At time "
     ]
    },
    {
     "name": "stdout",
     "output_type": "stream",
     "text": [
      " 3 searching in [ 1.0 10.3878875423 ], FOUND:  3.9802682629\n",
      "At time  3 no need to search, ESS(1.0) =  200.494285467\n",
      "At time "
     ]
    },
    {
     "name": "stdout",
     "output_type": "stream",
     "text": [
      " 3 searching in [ 1.0 31.2550872637 ], FOUND:  18.5627728636\n",
      "At time  3 searching in [ 1.0 18.5627728636 ], FOUND:  10.3878875423\n",
      "At time "
     ]
    },
    {
     "name": "stdout",
     "output_type": "stream",
     "text": [
      " 3 searching in [ 1.0 148.583677688 ], FOUND:  58.5714380898\n",
      "At time  3 searching in [ 1.0 58.5714380898 ], FOUND:  31.2550872637\n",
      "At time "
     ]
    },
    {
     "name": "stdout",
     "output_type": "stream",
     "text": [
      " 3 searching in [ 1.0 10000 ], FOUND:  509.444959599\n",
      "At time  3 searching in [ 1.0 509.444959599 ], FOUND:  148.583677688\n",
      "At time "
     ]
    },
    {
     "name": "stdout",
     "output_type": "stream",
     "text": [
      " 2 searching in [ 1.0 100 ], FOUND:  5.66647622956\n",
      "At time  2 no need to search, ESS(1.0) =  277.056726689\n",
      "At time "
     ]
    },
    {
     "name": "stdout",
     "output_type": "stream",
     "text": [
      " 1 searching in [ 1.0 100 ], FOUND:  8.40962087502\n",
      "At time  1 no need to search, ESS(1.0) =  240.18668112\n",
      "At time "
     ]
    },
    {
     "name": "stdout",
     "output_type": "stream",
     "text": [
      " 0 searching in [ 1.0 100 ], FOUND:  16.626254545\n",
      "At time  0 no need to search, ESS(1.0) =  168.739200306\n",
      "At time "
     ]
    },
    {
     "name": "stdout",
     "output_type": "stream",
     "text": [
      " 9 no need to search, ESS(1.0) =  454.396076637\n",
      "At time "
     ]
    },
    {
     "name": "stdout",
     "output_type": "stream",
     "text": [
      " 9 searching in [ 1.0 100 ], FOUND:  38.2782342751\n",
      "At time  9 searching in [ 1.0 38.2782342751 ], FOUND:  1.80078159283\n",
      "At time "
     ]
    },
    {
     "name": "stdout",
     "output_type": "stream",
     "text": [
      " 8 searching in [ 1.0 100 ], FOUND:  6.57250975593\n",
      "At time  8 no need to search, ESS(1.0) =  266.385928969\n",
      "At time "
     ]
    },
    {
     "name": "stdout",
     "output_type": "stream",
     "text": [
      " 7 searching in [ 1.0 100 ], FOUND:  10.1740531079\n",
      "At time  7 no need to search, ESS(1.0) =  221.700128864\n",
      "At time "
     ]
    },
    {
     "name": "stdout",
     "output_type": "stream",
     "text": [
      " 6 searching in [ 1.0 100 ], FOUND:  12.4120514027\n",
      "At time  6 no need to search, ESS(1.0) =  192.108035212\n",
      "At time "
     ]
    },
    {
     "name": "stdout",
     "output_type": "stream",
     "text": [
      " 5 searching in [ 1.0 27.0337976098 ], FOUND:  1.21698918874\n",
      "At time  5 no need to search, ESS(1.0) =  492.697810692\n",
      "At time "
     ]
    },
    {
     "name": "stdout",
     "output_type": "stream",
     "text": [
      " 4 no need to search, ESS(1.0) =  444.125989504\n",
      "At time  5 searching in [ 1.0 100 ], FOUND:  27.0337976098\n",
      "At time "
     ]
    },
    {
     "name": "stdout",
     "output_type": "stream",
     "text": [
      " 4 searching in [ 1.0 14.912571985 ], FOUND:  6.35187192437\n",
      "At time  4 searching in [ 1.0 6.35187192437 ], FOUND:  1.57129644269\n",
      "At time "
     ]
    },
    {
     "name": "stdout",
     "output_type": "stream",
     "text": [
      " 4 searching in [ 1.0 53.0126828305 ], FOUND:  26.9535635641\n",
      "At time  4 searching in [ 1.0 26.9535635641 ], FOUND:  14.912571985\n",
      "At time "
     ]
    },
    {
     "name": "stdout",
     "output_type": "stream",
     "text": [
      " 4 searching in [ 1.0 333.407749404 ], FOUND:  117.876791848\n",
      "At time  4 searching in [ 1.0 117.876791848 ], FOUND:  53.0126828305\n",
      "At time "
     ]
    },
    {
     "name": "stdout",
     "output_type": "stream",
     "text": [
      " 4 searching in [ 1.0 10000 ], FOUND:  333.407749404\n",
      "At time "
     ]
    },
    {
     "name": "stdout",
     "output_type": "stream",
     "text": [
      " 3 searching in [ 1.0 5.62803234663 ], FOUND:  1.72902078549\n",
      "At time  3 no need to search, ESS(1.0) =  421.622769316\n",
      "At time "
     ]
    },
    {
     "name": "stdout",
     "output_type": "stream",
     "text": [
      " 3 searching in [ 1.0 22.921398978 ], FOUND:  12.1321055075\n",
      "At time  3 searching in [ 1.0 12.1321055075 ], FOUND:  5.62803234663\n",
      "At time "
     ]
    },
    {
     "name": "stdout",
     "output_type": "stream",
     "text": [
      " 3 searching in [ 1.0 49.8051005594 ], FOUND:  22.921398978\n",
      "At time "
     ]
    },
    {
     "name": "stdout",
     "output_type": "stream",
     "text": [
      " 3 searching in [ 1.0 119.730760436 ], FOUND:  49.8051005594\n",
      "At time "
     ]
    },
    {
     "name": "stdout",
     "output_type": "stream",
     "text": [
      " 3 searching in [ 1.0 320.989160633 ], FOUND:  119.730760436\n",
      "At time "
     ]
    },
    {
     "name": "stdout",
     "output_type": "stream",
     "text": [
      " 3 searching in [ 1.0 10000 ], FOUND:  320.989160633\n",
      "At time "
     ]
    },
    {
     "name": "stdout",
     "output_type": "stream",
     "text": [
      " 2 no need to search, ESS(1.0) =  485.882633067\n",
      "At time "
     ]
    },
    {
     "name": "stdout",
     "output_type": "stream",
     "text": [
      " 2 searching in [ 1.0 100 ], FOUND:  31.0317476914\n",
      "At time  2 searching in [ 1.0 31.0317476914 ], FOUND:  1.34213562419\n",
      "At time "
     ]
    },
    {
     "name": "stdout",
     "output_type": "stream",
     "text": [
      " 1 no need to search, ESS(1.0) =  265.999106459\n",
      "At time "
     ]
    },
    {
     "name": "stdout",
     "output_type": "stream",
     "text": [
      " 1 searching in [ 1.0 100 ], FOUND:  6.43341349908\n",
      "At time "
     ]
    },
    {
     "name": "stdout",
     "output_type": "stream",
     "text": [
      " 0 no need to search, ESS(1.0) =  202.147850975\n",
      "At time "
     ]
    },
    {
     "name": "stdout",
     "output_type": "stream",
     "text": [
      " 0 searching in [ 1.0 100 ], FOUND:  14.517501432\n",
      "At time "
     ]
    },
    {
     "name": "stdout",
     "output_type": "stream",
     "text": [
      " 9 no need to search, ESS(1.0) =  488.682506823\n",
      "At time "
     ]
    },
    {
     "name": "stdout",
     "output_type": "stream",
     "text": [
      " 9 searching in [ 1.0 38.3428125485 ], FOUND:  1.26649451047\n",
      "At time "
     ]
    },
    {
     "name": "stdout",
     "output_type": "stream",
     "text": [
      " 9 searching in [ 1.0 100 ], FOUND:  38.3428125485\n",
      "At time "
     ]
    },
    {
     "name": "stdout",
     "output_type": "stream",
     "text": [
      " 8 searching in [ 1.0 100 ], FOUND:  7.25643570423\n",
      "At time  8 no need to search, ESS(1.0) =  269.679553926\n",
      "At time "
     ]
    },
    {
     "name": "stdout",
     "output_type": "stream",
     "text": [
      " 7 searching in [ 1.0 100 ], FOUND:  9.06075445213\n",
      "At time  7 no need to search, ESS(1.0) =  238.591383077\n",
      "At time "
     ]
    },
    {
     "name": "stdout",
     "output_type": "stream",
     "text": [
      " 6 searching in [ 1.0 16.8537933976 ], FOUND:  1.06977324855\n",
      "At time  6 no need to search, ESS(1.0) =  498.795404104\n",
      "At time "
     ]
    },
    {
     "name": "stdout",
     "output_type": "stream",
     "text": [
      " 6 searching in [ 1.0 100 ], FOUND:  16.8537933976\n",
      "At time "
     ]
    },
    {
     "name": "stdout",
     "output_type": "stream",
     "text": [
      " 5 searching in [ 1.0 28.3867670627 ], FOUND:  1.53317235336\n",
      "At time  5 no need to search, ESS(1.0) =  466.569112651\n",
      "At time "
     ]
    },
    {
     "name": "stdout",
     "output_type": "stream",
     "text": [
      " 4 no need to search, ESS(1.0) =  460.509808419\n",
      "At time  5 searching in [ 1.0 100 ], FOUND:  28.3867670627\n",
      "At time "
     ]
    },
    {
     "name": "stdout",
     "output_type": "stream",
     "text": [
      " 4 searching in [ 1.0 12.1397773517 ], FOUND:  6.05785481373\n",
      "At time  4 searching in [ 1.0 6.05785481373 ], FOUND:  1.47592485665\n",
      "At time "
     ]
    },
    {
     "name": "stdout",
     "output_type": "stream",
     "text": [
      " 4 searching in [ 1.0 21.5123516106 ], FOUND:  12.1397773517\n",
      "At time "
     ]
    },
    {
     "name": "stdout",
     "output_type": "stream",
     "text": [
      " 4 searching in [ 1.0 40.3727131972 ], FOUND:  21.5123516106\n",
      "At time "
     ]
    },
    {
     "name": "stdout",
     "output_type": "stream",
     "text": [
      " 4 searching in [ 1.0 104.43052177 ], FOUND:  40.3727131972\n",
      "At time "
     ]
    },
    {
     "name": "stdout",
     "output_type": "stream",
     "text": [
      " 4 searching in [ 1.0 321.802359622 ], FOUND:  104.43052177\n",
      "At time "
     ]
    },
    {
     "name": "stdout",
     "output_type": "stream",
     "text": [
      " 4 searching in [ 1.0 10000 ], FOUND:  321.802359622\n",
      "At time "
     ]
    },
    {
     "name": "stdout",
     "output_type": "stream",
     "text": [
      " 3 searching in [ 1.0 10.8974331372 ], FOUND:  3.58783842822\n",
      "At time  3 no need to search, ESS(1.0) =  232.254089324\n",
      "At time "
     ]
    },
    {
     "name": "stdout",
     "output_type": "stream",
     "text": [
      " 3 searching in [ 1.0 22.4553860063 ], FOUND:  10.8974331372\n",
      "At time "
     ]
    },
    {
     "name": "stdout",
     "output_type": "stream",
     "text": [
      " 3 searching in [ 1.0 47.722342332 ], FOUND:  22.4553860063\n",
      "At time "
     ]
    },
    {
     "name": "stdout",
     "output_type": "stream",
     "text": [
      " 3 searching in [ 1.0 120.79893054 ], FOUND:  47.722342332\n",
      "At time "
     ]
    },
    {
     "name": "stdout",
     "output_type": "stream",
     "text": [
      " 3 searching in [ 1.0 350.826402347 ], FOUND:  120.79893054\n",
      "At time "
     ]
    },
    {
     "name": "stdout",
     "output_type": "stream",
     "text": [
      " 3 searching in [ 1.0 10000 ], FOUND:  350.826402347\n",
      "At time "
     ]
    },
    {
     "name": "stdout",
     "output_type": "stream",
     "text": [
      " 2 no need to search, ESS(1.0) =  472.469539078\n",
      "At time "
     ]
    },
    {
     "name": "stdout",
     "output_type": "stream",
     "text": [
      " 2 searching in [ 1.0 100 ], FOUND:  33.882962811\n",
      "At time  2 searching in [ 1.0 33.882962811 ], FOUND:  1.46831953652\n",
      "At time "
     ]
    },
    {
     "name": "stdout",
     "output_type": "stream",
     "text": [
      " 1 searching in [ 1.0 100 ], FOUND:  7.49443924867\n",
      "At time  1 no need to search, ESS(1.0) =  253.820794533\n",
      "At time "
     ]
    },
    {
     "name": "stdout",
     "output_type": "stream",
     "text": [
      " 0 searching in [ 1.0 100 ], FOUND:  15.5963245917\n",
      "At time  0 no need to search, ESS(1.0) =  167.428950218\n",
      "At time "
     ]
    },
    {
     "name": "stdout",
     "output_type": "stream",
     "text": [
      " 9 searching in [ 1.0 100 ], FOUND:  8.43610538789\n",
      "At time  9 no need to search, ESS(1.0) =  236.396463431\n",
      "At time "
     ]
    },
    {
     "name": "stdout",
     "output_type": "stream",
     "text": [
      " 8 searching in [ 1.0 100 ], FOUND:  8.18798747485\n",
      "At time  8 no need to search, ESS(1.0) =  239.127377044\n",
      "At time "
     ]
    },
    {
     "name": "stdout",
     "output_type": "stream",
     "text": [
      " 7 searching in [ 1.0 100 ], FOUND:  8.89344593273\n",
      "At time  7 no need to search, ESS(1.0) =  240.495643189\n",
      "At time "
     ]
    },
    {
     "name": "stdout",
     "output_type": "stream",
     "text": [
      " 6 no need to search, ESS(1.0) =  174.668759695\n",
      "At time "
     ]
    },
    {
     "name": "stdout",
     "output_type": "stream",
     "text": [
      " 6 searching in [ 1.0 100 ], FOUND:  16.0046073863\n",
      "At time "
     ]
    },
    {
     "name": "stdout",
     "output_type": "stream",
     "text": [
      " 5 no need to search, ESS(1.0) =  455.986375487\n",
      "At time "
     ]
    },
    {
     "name": "stdout",
     "output_type": "stream",
     "text": [
      " 5 searching in [ 1.0 29.481832737 ], FOUND:  1.65253258344\n",
      "At time "
     ]
    },
    {
     "name": "stdout",
     "output_type": "stream",
     "text": [
      " 5 searching in [ 1.0 100 ], FOUND:  29.481832737\n",
      "At time "
     ]
    },
    {
     "name": "stdout",
     "output_type": "stream",
     "text": [
      " 4 no need to search, ESS(1.0) =  441.121820882\n",
      "At time "
     ]
    },
    {
     "name": "stdout",
     "output_type": "stream",
     "text": [
      " 4 searching in [ 1.0 5.91312439658 ], FOUND:  1.56873665249\n",
      "At time "
     ]
    },
    {
     "name": "stdout",
     "output_type": "stream",
     "text": [
      " 4 searching in [ 1.0 11.0850612432 ], FOUND:  5.91312439658\n",
      "At time "
     ]
    },
    {
     "name": "stdout",
     "output_type": "stream",
     "text": [
      " 4 searching in [ 1.0 19.8252900101 ], FOUND:  11.0850612432\n",
      "At time "
     ]
    },
    {
     "name": "stdout",
     "output_type": "stream",
     "text": [
      " 4 searching in [ 1.0 127.269946115 ], FOUND:  43.3687580457\n",
      "At time  4 searching in [ 1.0 43.3687580457 ], FOUND:  19.8252900101\n",
      "At time "
     ]
    },
    {
     "name": "stdout",
     "output_type": "stream",
     "text": [
      " 4 searching in [ 1.0 10000 ], FOUND:  388.09232662\n",
      "At time  4 searching in [ 1.0 388.09232662 ], FOUND:  127.269946115\n",
      "At time "
     ]
    },
    {
     "name": "stdout",
     "output_type": "stream",
     "text": [
      " 3 searching in [ 1.0 6.39312204738 ], FOUND:  1.85063546265\n",
      "At time  3 no need to search, ESS(1.0) =  406.005771807\n",
      "At time "
     ]
    },
    {
     "name": "stdout",
     "output_type": "stream",
     "text": [
      " 3 searching in [ 1.0 24.2647333139 ], FOUND:  13.3446873903\n",
      "At time  3 searching in [ 1.0 13.3446873903 ], FOUND:  6.39312204738\n",
      "At time "
     ]
    },
    {
     "name": "stdout",
     "output_type": "stream",
     "text": [
      " 3 searching in [ 1.0 48.5119703829 ], FOUND:  24.2647333139\n",
      "At time "
     ]
    },
    {
     "name": "stdout",
     "output_type": "stream",
     "text": [
      " 3 searching in [ 1.0 300.380638173 ], FOUND:  108.498945045\n",
      "At time  3 searching in [ 1.0 108.498945045 ], FOUND:  48.5119703829\n",
      "At time "
     ]
    },
    {
     "name": "stdout",
     "output_type": "stream",
     "text": [
      " 3 searching in [ 1.0 10000 ], FOUND:  300.380638173\n",
      "At time "
     ]
    },
    {
     "name": "stdout",
     "output_type": "stream",
     "text": [
      " 2 searching in [ 1.0 26.422560926 ], FOUND:  1.29275936101\n",
      "At time  2 no need to search, ESS(1.0) =  486.735144496\n",
      "At time "
     ]
    },
    {
     "name": "stdout",
     "output_type": "stream",
     "text": [
      " 2 searching in [ 1.0 100 ], FOUND:  26.422560926\n",
      "At time "
     ]
    },
    {
     "name": "stdout",
     "output_type": "stream",
     "text": [
      " 1 searching in [ 1.0 100 ], FOUND:  7.68538007092\n",
      "At time  1 no need to search, ESS(1.0) =  274.250285001\n",
      "At time "
     ]
    },
    {
     "name": "stdout",
     "output_type": "stream",
     "text": [
      " 0 searching in [ 1.0 16.2539431487 ], FOUND:  1.01241133418\n",
      "At time  0 no need to search, ESS(1.0) =  499.959319576\n",
      "At time "
     ]
    },
    {
     "name": "stdout",
     "output_type": "stream",
     "text": [
      " 0 searching in [ 1.0 100 ], FOUND:  16.2539431487\n",
      "At time "
     ]
    },
    {
     "name": "stdout",
     "output_type": "stream",
     "text": [
      " 9 no need to search, ESS(1.0) =  487.707096158\n",
      "At time "
     ]
    },
    {
     "name": "stdout",
     "output_type": "stream",
     "text": [
      " 9 searching in [ 1.0 100 ], FOUND:  34.8747089055\n",
      "At time  9 searching in [ 1.0 34.8747089055 ], FOUND:  1.28465459814\n",
      "At time "
     ]
    },
    {
     "name": "stdout",
     "output_type": "stream",
     "text": [
      " 8 searching in [ 1.0 100 ], FOUND:  7.09304685495\n",
      "At time  8 no need to search, ESS(1.0) =  255.175393285\n",
      "At time "
     ]
    },
    {
     "name": "stdout",
     "output_type": "stream",
     "text": [
      " 7 searching in [ 1.0 100 ], FOUND:  9.53143878372\n",
      "At time  7 no need to search, ESS(1.0) =  213.851057315\n",
      "At time "
     ]
    },
    {
     "name": "stdout",
     "output_type": "stream",
     "text": [
      " 6 searching in [ 1.0 17.580763619 ], FOUND:  1.11691743112\n",
      "At time  6 no need to search, ESS(1.0) =  496.598684482\n",
      "At time "
     ]
    },
    {
     "name": "stdout",
     "output_type": "stream",
     "text": [
      " 5 no need to search, ESS(1.0) =  449.450312233\n",
      "At time  6 searching in [ 1.0 100 ], FOUND:  17.580763619\n",
      "At time "
     ]
    },
    {
     "name": "stdout",
     "output_type": "stream",
     "text": [
      " 5 searching in [ 1.0 23.2053783983 ], FOUND:  1.72593285593\n",
      "At time "
     ]
    },
    {
     "name": "stdout",
     "output_type": "stream",
     "text": [
      " 5 searching in [ 1.0 100 ], FOUND:  23.2053783983\n",
      "At time "
     ]
    },
    {
     "name": "stdout",
     "output_type": "stream",
     "text": [
      "searching in [ 1.0 9.33033578721 ], FOUND:  3.52275993145\n",
      "At time  4 no need to search, ESS(1.0) =  237.270215593\n",
      "At time "
     ]
    },
    {
     "name": "stdout",
     "output_type": "stream",
     "text": [
      " 4 searching in [ 1.0 21.7148549709 ], FOUND:  9.33033578721\n",
      "At time  4 "
     ]
    },
    {
     "name": "stdout",
     "output_type": "stream",
     "text": [
      " 4 searching in [ 1.0 119.580501661 ], FOUND:  55.2826104016\n",
      "At time  4 searching in [ 1.0 55.2826104016 ], FOUND:  21.7148549709\n",
      "At time "
     ]
    },
    {
     "name": "stdout",
     "output_type": "stream",
     "text": [
      " 4 searching in [ 1.0 309.579926142 ], FOUND:  119.580501661\n",
      "At time "
     ]
    },
    {
     "name": "stdout",
     "output_type": "stream",
     "text": [
      " 4 searching in [ 1.0 10000 ], FOUND:  309.579926142\n",
      "At time "
     ]
    },
    {
     "name": "stdout",
     "output_type": "stream",
     "text": [
      " 3 searching in [ 1.0 9.82396979949 ], FOUND:  3.62484957277\n",
      "At time  3 no need to search, ESS(1.0) =  245.973097075\n",
      "At time "
     ]
    },
    {
     "name": "stdout",
     "output_type": "stream",
     "text": [
      " 3 searching in [ 1.0 55.0327932804 ], FOUND:  22.1877747022\n",
      "At time  3 searching in [ 1.0 22.1877747022 ], FOUND:  9.82396979949\n",
      "At time "
     ]
    },
    {
     "name": "stdout",
     "output_type": "stream",
     "text": [
      " 3 searching in [ 1.0 126.190136398 ], FOUND:  55.0327932804\n",
      "At time "
     ]
    },
    {
     "name": "stdout",
     "output_type": "stream",
     "text": [
      " 3 searching in [ 1.0 315.828172224 ], FOUND:  126.190136398\n",
      "At time "
     ]
    },
    {
     "name": "stdout",
     "output_type": "stream",
     "text": [
      " 3 searching in [ 1.0 10000 ], FOUND:  315.828172224\n",
      "At time "
     ]
    },
    {
     "name": "stdout",
     "output_type": "stream",
     "text": [
      " 2 searching in [ 1.0 100 ], FOUND:  24.5856166827\n",
      "At time  2 no need to search, ESS(1.0) =  174.432016869\n",
      "At time "
     ]
    },
    {
     "name": "stdout",
     "output_type": "stream",
     "text": [
      " 1 searching in [ 1.0 100 ], FOUND:  5.86308530913\n",
      "At time  1 no need to search, ESS(1.0) =  275.134128082\n",
      "At time "
     ]
    },
    {
     "name": "stdout",
     "output_type": "stream",
     "text": [
      " 0 searching in [ 1.0 100 ], FOUND:  15.9227456736\n",
      "At time  0 no need to search, ESS(1.0) =  179.378481178\n",
      "At time "
     ]
    },
    {
     "name": "stdout",
     "output_type": "stream",
     "text": [
      " 9 no need to search, ESS(1.0) =  472.608899981\n",
      "At time "
     ]
    },
    {
     "name": "stdout",
     "output_type": "stream",
     "text": [
      " 9 searching in [ 1.0 100 ], FOUND:  33.2666736126\n",
      "At time  9 searching in [ 1.0 33.2666736126 ], FOUND:  1.44376550509\n",
      "At time "
     ]
    },
    {
     "name": "stdout",
     "output_type": "stream",
     "text": [
      " 8 searching in [ 1.0 100 ], FOUND:  6.65414794418\n",
      "At time  8 no need to search, ESS(1.0) =  263.335081571\n",
      "At time "
     ]
    },
    {
     "name": "stdout",
     "output_type": "stream",
     "text": [
      " 7 no need to search, ESS(1.0) =  226.7780274\n",
      "At time "
     ]
    },
    {
     "name": "stdout",
     "output_type": "stream",
     "text": [
      " 6 no need to search, ESS(1.0) =  493.565243136\n",
      "At time  7 searching in [ 1.0 100 ], FOUND:  9.58228573877\n",
      "At time "
     ]
    },
    {
     "name": "stdout",
     "output_type": "stream",
     "text": [
      " 6 searching in [ 1.0 100 ], FOUND:  18.0099341352\n",
      "At time  6 searching in [ 1.0 18.0099341352 ], FOUND:  1.19213512305\n",
      "At time "
     ]
    },
    {
     "name": "stdout",
     "output_type": "stream",
     "text": [
      " 5 searching in [ 1.0 25.0246897956 ], FOUND:  1.54764238041\n",
      "At time  5 no need to search, ESS(1.0) =  473.718593206\n",
      "At time "
     ]
    },
    {
     "name": "stdout",
     "output_type": "stream",
     "text": [
      " 4 no need to search, ESS(1.0) =  471.499564199\n",
      "At time  5 searching in [ 1.0 100 ], FOUND:  25.0246897956\n",
      "At time "
     ]
    },
    {
     "name": "stdout",
     "output_type": "stream",
     "text": [
      " 4 searching in [ 1.0 12.2274323907 ], FOUND:  5.55850762582\n",
      "At time  4 searching in [ 1.0 5.55850762582 ], FOUND:  1.37908438628\n",
      "At time "
     ]
    },
    {
     "name": "stdout",
     "output_type": "stream",
     "text": [
      " 4 searching in [ 1.0 24.5543778142 ], FOUND:  12.2274323907\n",
      "At time "
     ]
    },
    {
     "name": "stdout",
     "output_type": "stream",
     "text": [
      " 4 searching in [ 1.0 49.0899603633 ], FOUND:  24.5543778142\n",
      "At time "
     ]
    },
    {
     "name": "stdout",
     "output_type": "stream",
     "text": [
      " 4 searching in [ 1.0 106.336851368 ], FOUND:  49.0899603633\n",
      "At time "
     ]
    },
    {
     "name": "stdout",
     "output_type": "stream",
     "text": [
      " 4 searching in [ 1.0 10000 ], FOUND:  303.853425641\n",
      "At time  4 searching in [ 1.0 303.853425641 ], FOUND:  106.336851368\n",
      "At time "
     ]
    },
    {
     "name": "stdout",
     "output_type": "stream",
     "text": [
      " 3 no need to search, ESS(1.0) =  246.37438257\n",
      "At time "
     ]
    },
    {
     "name": "stdout",
     "output_type": "stream",
     "text": [
      " 3 searching in [ 1.0 7.50732051379 ], FOUND:  3.06734031177\n",
      "At time "
     ]
    },
    {
     "name": "stdout",
     "output_type": "stream",
     "text": [
      " 3 searching in [ 1.0 14.2836612901 ], FOUND:  7.50732051379\n",
      "At time "
     ]
    },
    {
     "name": "stdout",
     "output_type": "stream",
     "text": [
      " 3 searching in [ 1.0 45.525617105 ], FOUND:  24.1811500172\n",
      "At time  3 searching in [ 1.0 24.1811500172 ], FOUND:  14.2836612901\n",
      "At time "
     ]
    },
    {
     "name": "stdout",
     "output_type": "stream",
     "text": [
      " 3 searching in [ 1.0 107.920302885 ], FOUND:  45.525617105\n",
      "At time "
     ]
    },
    {
     "name": "stdout",
     "output_type": "stream",
     "text": [
      " 3 searching in [ 1.0 299.801575687 ], FOUND:  107.920302885\n",
      "At time "
     ]
    },
    {
     "name": "stdout",
     "output_type": "stream",
     "text": [
      " 3 searching in [ 1.0 10000 ], FOUND:  299.801575687\n",
      "At time "
     ]
    },
    {
     "name": "stdout",
     "output_type": "stream",
     "text": [
      " 2 searching in [ 1.0 30.7335071754 ], FOUND:  1.49623053935\n",
      "At time  2 no need to search, ESS(1.0) =  472.824427481\n",
      "At time "
     ]
    },
    {
     "name": "stdout",
     "output_type": "stream",
     "text": [
      " 2 searching in [ 1.0 100 ], FOUND:  30.7335071754\n",
      "At time "
     ]
    },
    {
     "name": "stdout",
     "output_type": "stream",
     "text": [
      " 1 searching in [ 1.0 100 ], FOUND:  7.54796026173\n",
      "At time  1 no need to search, ESS(1.0) =  264.253803534\n",
      "At time "
     ]
    },
    {
     "name": "stdout",
     "output_type": "stream",
     "text": [
      " 0 searching in [ 1.0 100 ], FOUND:  16.2456003155\n",
      "At time  0 no need to search, ESS(1.0) =  177.722725791\n",
      "At time "
     ]
    },
    {
     "name": "stdout",
     "output_type": "stream",
     "text": [
      " 9 no need to search, ESS(1.0) =  271.985685984\n",
      "At time "
     ]
    },
    {
     "name": "stdout",
     "output_type": "stream",
     "text": [
      " 9 searching in [ 1.0 100 ], FOUND:  8.30878781297\n",
      "At time "
     ]
    },
    {
     "name": "stdout",
     "output_type": "stream",
     "text": [
      " 8 no need to search, ESS(1.0) =  471.712894698\n",
      "At time "
     ]
    },
    {
     "name": "stdout",
     "output_type": "stream",
     "text": [
      " 8 searching in [ 1.0 100 ], FOUND:  32.5856072528\n",
      "At time  8 searching in [ 1.0 32.5856072528 ], FOUND:  1.43078687544\n",
      "At time "
     ]
    },
    {
     "name": "stdout",
     "output_type": "stream",
     "text": [
      " 7 searching in [ 1.0 100 ], FOUND:  7.74805468303\n",
      "At time  7 no need to search, ESS(1.0) =  258.997859913\n",
      "At time "
     ]
    },
    {
     "name": "stdout",
     "output_type": "stream",
     "text": [
      " 6 searching in [ 1.0 100 ], FOUND:  15.1078607976\n",
      "At time  6 no need to search, ESS(1.0) =  170.121433582\n",
      "At time "
     ]
    },
    {
     "name": "stdout",
     "output_type": "stream",
     "text": [
      " 5 no need to search, ESS(1.0) =  471.527909465\n",
      "At time "
     ]
    },
    {
     "name": "stdout",
     "output_type": "stream",
     "text": [
      " 5 searching in [ 1.0 25.342071723 ], FOUND:  1.47458939156\n",
      "At time "
     ]
    },
    {
     "name": "stdout",
     "output_type": "stream",
     "text": [
      " 5 searching in [ 1.0 100 ], FOUND:  25.342071723\n",
      "At time "
     ]
    },
    {
     "name": "stdout",
     "output_type": "stream",
     "text": [
      " 4 no need to search, ESS(1.0) =  203.040388859\n",
      "At time "
     ]
    },
    {
     "name": "stdout",
     "output_type": "stream",
     "text": [
      " 4 searching in [ 1.0 9.62814437199 ], FOUND:  3.92200340268\n",
      "At time "
     ]
    },
    {
     "name": "stdout",
     "output_type": "stream",
     "text": [
      " 4 searching in [ 1.0 30.6153436122 ], FOUND:  17.9047767656\n",
      "At time  4 searching in [ 1.0 17.9047767656 ], FOUND:  9.62814437199\n",
      "At time "
     ]
    },
    {
     "name": "stdout",
     "output_type": "stream",
     "text": [
      " 4 searching in [ 1.0 155.67913794 ], FOUND:  60.5145359548\n",
      "At time  4 searching in [ 1.0 60.5145359548 ], FOUND:  30.6153436122\n",
      "At time "
     ]
    },
    {
     "name": "stdout",
     "output_type": "stream",
     "text": [
      " 4 searching in [ 1.0 10000 ], FOUND:  575.553832263\n",
      "At time  4 searching in [ 1.0 575.553832263 ], FOUND:  155.67913794\n",
      "At time "
     ]
    },
    {
     "name": "stdout",
     "output_type": "stream",
     "text": [
      " 3 searching in [ 1.0 8.55772523903 ], FOUND:  3.32977215294\n",
      "At time  3 no need to search, ESS(1.0) =  250.868886632\n",
      "At time "
     ]
    },
    {
     "name": "stdout",
     "output_type": "stream",
     "text": [
      " 3 searching in [ 1.0 25.8907332898 ], FOUND:  15.5729048019\n",
      "At time  3 searching in [ 1.0 15.5729048019 ], FOUND:  8.55772523903\n",
      "At time "
     ]
    },
    {
     "name": "stdout",
     "output_type": "stream",
     "text": [
      " 3 searching in [ 1.0 94.4259311464 ], FOUND:  46.0680351468\n",
      "At time  3 searching in [ 1.0 46.0680351468 ], FOUND:  25.8907332898\n",
      "At time "
     ]
    },
    {
     "name": "stdout",
     "output_type": "stream",
     "text": [
      " 3 searching in [ 1.0 263.984540271 ], FOUND:  94.4259311464\n",
      "At time "
     ]
    },
    {
     "name": "stdout",
     "output_type": "stream",
     "text": [
      " 3 searching in [ 1.0 10000 ], FOUND:  263.984540271\n",
      "At time "
     ]
    },
    {
     "name": "stdout",
     "output_type": "stream",
     "text": [
      " 2 no need to search, ESS(1.0) =  488.075926988\n",
      "At time "
     ]
    },
    {
     "name": "stdout",
     "output_type": "stream",
     "text": [
      " 2 searching in [ 1.0 100 ], FOUND:  28.9645590024\n",
      "At time  2 searching in [ 1.0 28.9645590024 ], FOUND:  1.28695007988\n",
      "At time "
     ]
    },
    {
     "name": "stdout",
     "output_type": "stream",
     "text": [
      " 1 no need to search, ESS(1.0) =  261.567117801\n",
      "At time "
     ]
    },
    {
     "name": "stdout",
     "output_type": "stream",
     "text": [
      " 1 searching in [ 1.0 100 ], FOUND:  7.86436180572\n",
      "At time "
     ]
    },
    {
     "name": "stdout",
     "output_type": "stream",
     "text": [
      " 0 searching in [ 1.0 100 ], FOUND:  16.0160069818\n",
      "At time  0 no need to search, ESS(1.0) =  176.041673789\n",
      "At time "
     ]
    },
    {
     "name": "stdout",
     "output_type": "stream",
     "text": [
      " 9 searching in [ 1.0 47.8306602048 ], FOUND:  2.34372117257\n",
      "At time  9 no need to search, ESS(1.0) =  416.760859664\n",
      "At time "
     ]
    },
    {
     "name": "stdout",
     "output_type": "stream",
     "text": [
      " 8 no need to search, ESS(1.0) =  250.075949028\n",
      "At time  9 searching in [ 1.0 100 ], FOUND:  47.8306602048\n",
      "At time "
     ]
    },
    {
     "name": "stdout",
     "output_type": "stream",
     "text": [
      " 7 no need to search, ESS(1.0) =  239.191821774\n",
      "At time  8 searching in [ 1.0 100 ], FOUND:  7.00527273314\n",
      "At time "
     ]
    },
    {
     "name": "stdout",
     "output_type": "stream",
     "text": [
      " 6 no need to search, ESS(1.0) =  497.133540165\n",
      "At time  7 searching in [ 1.0 100 ], FOUND:  10.36046492\n",
      "At time "
     ]
    },
    {
     "name": "stdout",
     "output_type": "stream",
     "text": [
      " 6 searching in [ 1.0 100 ], FOUND:  16.5675013884\n",
      "At time  6 searching in [ 1.0 16.5675013884 ], FOUND:  1.13041466224\n",
      "At time "
     ]
    },
    {
     "name": "stdout",
     "output_type": "stream",
     "text": [
      " 5 searching in [ 1.0 18.7572477609 ], FOUND:  1.47539248018\n",
      "At time  5 no need to search, ESS(1.0) =  472.629163162\n",
      "At time "
     ]
    },
    {
     "name": "stdout",
     "output_type": "stream",
     "text": [
      " 4 no need to search, ESS(1.0) =  195.372940894\n",
      "At time  5 searching in [ 1.0 100 ], FOUND:  18.7572477609\n",
      "At time "
     ]
    },
    {
     "name": "stdout",
     "output_type": "stream",
     "text": [
      " 4 searching in [ 1.0 24.4663944428 ], FOUND:  10.4958875961\n",
      "At time  4 searching in [ 1.0 10.4958875961 ], FOUND:  4.09441931481\n",
      "At time "
     ]
    },
    {
     "name": "stdout",
     "output_type": "stream",
     "text": [
      " 4 searching in [ 1.0 137.474901184 ], FOUND:  61.3730071577\n",
      "At time  4 searching in [ 1.0 61.3730071577 ], FOUND:  24.4663944428\n",
      "At time "
     ]
    },
    {
     "name": "stdout",
     "output_type": "stream",
     "text": [
      " 4 searching in [ 1.0 10000 ], FOUND:  420.594149777\n",
      "At time  4 searching in [ 1.0 420.594149777 ], FOUND:  137.474901184\n",
      "At time "
     ]
    },
    {
     "name": "stdout",
     "output_type": "stream",
     "text": [
      " 3 searching in [ 1.0 7.09576111553 ], FOUND:  2.35662282465\n",
      "At time  3 no need to search, ESS(1.0) =  351.102409092\n",
      "At time "
     ]
    },
    {
     "name": "stdout",
     "output_type": "stream",
     "text": [
      "At time  3 searching in [ 1.0 33.731526437 ], FOUND:  16.3266101332\n",
      "At time  3 searching in [ 1.0 16.3266101332 ], FOUND:  7.09576111553\n",
      "At time "
     ]
    },
    {
     "name": "stdout",
     "output_type": "stream",
     "text": [
      " 3 searching in [ 1.0 168.959047765 ], FOUND:  73.4815564786\n",
      "At time  3 searching in [ 1.0 73.4815564786 ], FOUND:  33.731526437\n"
     ]
    },
    {
     "name": "stdout",
     "output_type": "stream",
     "text": [
      " 3 searching in [ 1.0 10000 ], FOUND:  608.929302783\n",
      "At time  3 searching in [ 1.0 608.929302783 ], FOUND:  168.959047765\n",
      "At time "
     ]
    },
    {
     "name": "stdout",
     "output_type": "stream",
     "text": [
      " 2 searching in [ 1.0 100 ], FOUND:  6.4065995987\n",
      "At time  2 no need to search, ESS(1.0) =  257.253422477\n",
      "At time "
     ]
    },
    {
     "name": "stdout",
     "output_type": "stream",
     "text": [
      " 1 searching in [ 1.0 100 ], FOUND:  8.45363931713\n",
      "At time  1 no need to search, ESS(1.0) =  243.187408929\n",
      "At time "
     ]
    },
    {
     "name": "stdout",
     "output_type": "stream",
     "text": [
      " 0 searching in [ 1.0 100 ], FOUND:  17.0439937464\n",
      "At time  0 no need to search, ESS(1.0) =  184.636716782\n",
      "At time "
     ]
    },
    {
     "name": "stdout",
     "output_type": "stream",
     "text": [
      " 9 searching in [ 1.0 100 ], FOUND:  10.2155040004\n",
      "At time  9 no need to search, ESS(1.0) =  217.647033235\n",
      "At time "
     ]
    },
    {
     "name": "stdout",
     "output_type": "stream",
     "text": [
      " 8 searching in [ 1.0 32.6643794349 ], FOUND:  1.38450389417\n",
      "At time  8 no need to search, ESS(1.0) =  481.183720469\n",
      "At time "
     ]
    },
    {
     "name": "stdout",
     "output_type": "stream",
     "text": [
      " 8 searching in [ 1.0 100 ], FOUND:  32.6643794349\n",
      "At time "
     ]
    },
    {
     "name": "stdout",
     "output_type": "stream",
     "text": [
      " 7 no need to search, ESS(1.0) =  259.376897417\n",
      "At time "
     ]
    },
    {
     "name": "stdout",
     "output_type": "stream",
     "text": [
      " 7 searching in [ 1.0 100 ], FOUND:  7.81560448207\n",
      "At time "
     ]
    },
    {
     "name": "stdout",
     "output_type": "stream",
     "text": [
      " 6 no need to search, ESS(1.0) =  483.47727894\n",
      "At time "
     ]
    },
    {
     "name": "stdout",
     "output_type": "stream",
     "text": [
      " 6 searching in [ 1.0 26.4055630987 ], FOUND:  1.30745675342\n",
      "At time "
     ]
    },
    {
     "name": "stdout",
     "output_type": "stream",
     "text": [
      " 6 searching in [ 1.0 100 ], FOUND:  26.4055630987\n",
      "At time "
     ]
    },
    {
     "name": "stdout",
     "output_type": "stream",
     "text": [
      " 5 searching in [ 1.0 47.5655309432 ], FOUND:  2.73132600992\n",
      "At time  5 no need to search, ESS(1.0) =  380.215742581\n",
      "At time "
     ]
    },
    {
     "name": "stdout",
     "output_type": "stream",
     "text": [
      " 5 searching in [ 1.0 100 ], FOUND:  47.5655309432\n",
      "At time "
     ]
    },
    {
     "name": "stdout",
     "output_type": "stream",
     "text": [
      " 4 searching in [ 1.0 6.99298664798 ], FOUND:  2.09021387883\n",
      "At time  4 no need to search, ESS(1.0) =  361.386407359\n",
      "At time "
     ]
    },
    {
     "name": "stdout",
     "output_type": "stream",
     "text": [
      " 4 searching in [ 1.0 15.3075932454 ], FOUND:  6.99298664798\n",
      "At time "
     ]
    },
    {
     "name": "stdout",
     "output_type": "stream",
     "text": [
      " 4 searching in [ 1.0 28.6133757807 ], FOUND:  15.3075932454\n",
      "At time "
     ]
    },
    {
     "name": "stdout",
     "output_type": "stream",
     "text": [
      " 4 searching in [ 1.0 52.6854728085 ], FOUND:  28.6133757807\n",
      "At time "
     ]
    },
    {
     "name": "stdout",
     "output_type": "stream",
     "text": [
      " 4 searching in [ 1.0 115.982255616 ], FOUND:  52.6854728085\n",
      "At time "
     ]
    },
    {
     "name": "stdout",
     "output_type": "stream",
     "text": [
      " 4 searching in [ 1.0 338.998632055 ], FOUND:  115.982255616\n",
      "At time "
     ]
    },
    {
     "name": "stdout",
     "output_type": "stream",
     "text": [
      " 4 searching in [ 1.0 10000 ], FOUND:  338.998632055\n",
      "At time "
     ]
    },
    {
     "name": "stdout",
     "output_type": "stream",
     "text": [
      " 3 searching in [ 1.0 5.72067236068 ], FOUND:  1.72192003539\n",
      "At time  3 no need to search, ESS(1.0) =  418.62580356\n",
      "At time "
     ]
    },
    {
     "name": "stdout",
     "output_type": "stream",
     "text": [
      " 3 searching in [ 1.0 22.0174992981 ], FOUND:  11.8012621716\n",
      "At time  3 searching in [ 1.0 11.8012621716 ], FOUND:  5.72067236068\n",
      "At time "
     ]
    },
    {
     "name": "stdout",
     "output_type": "stream",
     "text": [
      " 3 searching in [ 1.0 129.439576484 ], FOUND:  49.9810957428\n",
      "At time  3 searching in [ 1.0 49.9810957428 ], FOUND:  22.0174992981\n",
      "At time "
     ]
    },
    {
     "name": "stdout",
     "output_type": "stream",
     "text": [
      " 3 searching in [ 1.0 10000 ], FOUND:  328.567693591\n",
      "At time  3 searching in [ 1.0 328.567693591 ], FOUND:  129.439576484\n",
      "At time "
     ]
    },
    {
     "name": "stdout",
     "output_type": "stream",
     "text": [
      " 2 searching in [ 1.0 22.9437349373 ], FOUND:  1.35318346509\n",
      "At time  2 no need to search, ESS(1.0) =  483.990988851\n",
      "At time "
     ]
    },
    {
     "name": "stdout",
     "output_type": "stream",
     "text": [
      " 1 no need to search, ESS(1.0) =  271.748526861\n",
      "At time  2 searching in [ 1.0 100 ], FOUND:  22.9437349373\n",
      "At time "
     ]
    },
    {
     "name": "stdout",
     "output_type": "stream",
     "text": [
      " 0 no need to search, ESS(1.0) =  499.997834774\n",
      "At time  1 searching in [ 1.0 100 ], FOUND:  7.15675349633\n",
      "At time "
     ]
    },
    {
     "name": "stdout",
     "output_type": "stream",
     "text": [
      " 0 searching in [ 1.0 100 ], FOUND:  17.9148928302\n",
      "At time  0 searching in [ 1.0 17.9148928302 ], FOUND:  1.00283052153\n",
      "At time "
     ]
    },
    {
     "name": "stdout",
     "output_type": "stream",
     "text": [
      " 9 no need to search, ESS(1.0) =  465.289153979\n",
      "At time "
     ]
    },
    {
     "name": "stdout",
     "output_type": "stream",
     "text": [
      " 9 searching in [ 1.0 100 ], FOUND:  36.7390232292\n",
      "At time  9 searching in [ 1.0 36.7390232292 ], FOUND:  1.60757040752\n",
      "At time "
     ]
    },
    {
     "name": "stdout",
     "output_type": "stream",
     "text": [
      " 8 searching in [ 1.0 100 ], FOUND:  7.08744360652\n",
      "At time  8 no need to search, ESS(1.0) =  268.384360687\n",
      "At time "
     ]
    },
    {
     "name": "stdout",
     "output_type": "stream",
     "text": [
      " 7 searching in [ 1.0 100 ], FOUND:  12.9579367964\n",
      "At time  7 no need to search, ESS(1.0) =  207.146295373\n",
      "At time "
     ]
    },
    {
     "name": "stdout",
     "output_type": "stream",
     "text": [
      " 6 searching in [ 1.0 37.0947956959 ], FOUND:  2.02860662658\n",
      "At time  6 no need to search, ESS(1.0) =  425.21587731\n",
      "At time "
     ]
    },
    {
     "name": "stdout",
     "output_type": "stream",
     "text": [
      " 5 no need to search, ESS(1.0) =  336.262216778\n",
      "At time  6 searching in [ 1.0 100 ], FOUND:  37.0947956959\n",
      "At time "
     ]
    },
    {
     "name": "stdout",
     "output_type": "stream",
     "text": [
      " 5 searching in [ 1.0 100 ], FOUND:  55.6714241447\n",
      "At time  5 searching in [ 1.0 55.6714241447 ], FOUND:  3.9781819775\n",
      "At time "
     ]
    },
    {
     "name": "stdout",
     "output_type": "stream",
     "text": [
      " 4 searching in [ 1.0 7.9464459488 ], FOUND:  2.57311535991\n",
      "At time  4 no need to search, ESS(1.0) =  323.958382696\n",
      "At time "
     ]
    },
    {
     "name": "stdout",
     "output_type": "stream",
     "text": [
      "At time  4 searching in [ 1.0 26.5230372005 ], FOUND:  14.7952753568\n",
      "At time  4 searching in [ 1.0 14.7952753568 ], FOUND:  7.9464459488\n",
      "At time "
     ]
    },
    {
     "name": "stdout",
     "output_type": "stream",
     "text": [
      " 4 searching in [ 1.0 137.192813879 ], FOUND:  58.3443744453\n",
      "At time  4 searching in [ 1.0 58.3443744453 ], FOUND:  26.5230372005\n"
     ]
    },
    {
     "name": "stdout",
     "output_type": "stream",
     "text": [
      " 4 searching in [ 1.0 10000 ], FOUND:  358.931747689\n",
      "At time  4 searching in [ 1.0 358.931747689 ], FOUND:  137.192813879\n",
      "At time "
     ]
    },
    {
     "name": "stdout",
     "output_type": "stream",
     "text": [
      " 3 searching in [ 1.0 6.26822686219 ], FOUND:  1.7711777383\n",
      "At time  3 no need to search, ESS(1.0) =  409.262387512\n",
      "At time "
     ]
    },
    {
     "name": "stdout",
     "output_type": "stream",
     "text": [
      " 3 searching in [ 1.0 24.1035988989 ], FOUND:  13.23933951\n",
      "At time  3 searching in [ 1.0 13.23933951 ], FOUND:  6.26822686219\n",
      "At time "
     ]
    },
    {
     "name": "stdout",
     "output_type": "stream",
     "text": [
      " 3 searching in [ 1.0 108.470605607 ], FOUND:  45.1267238902\n",
      "At time  3 searching in [ 1.0 45.1267238902 ], FOUND:  24.1035988989\n",
      "At time "
     ]
    },
    {
     "name": "stdout",
     "output_type": "stream",
     "text": [
      " 3 searching in [ 1.0 305.343105742 ], FOUND:  108.470605607\n",
      "At time "
     ]
    },
    {
     "name": "stdout",
     "output_type": "stream",
     "text": [
      " 3 searching in [ 1.0 10000 ], FOUND:  305.343105742\n",
      "At time "
     ]
    },
    {
     "name": "stdout",
     "output_type": "stream",
     "text": [
      " 2 searching in [ 1.0 100 ], FOUND:  6.76289273947\n",
      "At time  2 no need to search, ESS(1.0) =  243.189574108\n",
      "At time "
     ]
    },
    {
     "name": "stdout",
     "output_type": "stream",
     "text": [
      " 1 searching in [ 1.0 100 ], FOUND:  8.54877393205\n",
      "At time  1 no need to search, ESS(1.0) =  236.909195128\n",
      "At time "
     ]
    },
    {
     "name": "stdout",
     "output_type": "stream",
     "text": [
      " 0 searching in [ 1.0 100 ], FOUND:  17.0289155196\n",
      "At time  0 no need to search, ESS(1.0) =  173.801111613\n",
      "At time "
     ]
    },
    {
     "name": "stdout",
     "output_type": "stream",
     "text": [
      " 9 searching in [ 1.0 38.0570290366 ], FOUND:  1.32217471058\n",
      "At time  9 no need to search, ESS(1.0) =  486.473155334\n",
      "At time "
     ]
    },
    {
     "name": "stdout",
     "output_type": "stream",
     "text": [
      " 8 no need to search, ESS(1.0) =  260.630243981\n",
      "At time  9 searching in [ 1.0 100 ], FOUND:  38.0570290366\n",
      "At time "
     ]
    },
    {
     "name": "stdout",
     "output_type": "stream",
     "text": [
      " 7 no need to search, ESS(1.0) =  237.967398445\n",
      "At time  8 searching in [ 1.0 100 ], FOUND:  7.53837224784\n",
      "At time "
     ]
    },
    {
     "name": "stdout",
     "output_type": "stream",
     "text": [
      " 6 no need to search, ESS(1.0) =  179.110731129\n",
      "At time  7 searching in [ 1.0 100 ], FOUND:  8.92276552232\n",
      "At time "
     ]
    },
    {
     "name": "stdout",
     "output_type": "stream",
     "text": [
      " 5 no need to search, ESS(1.0) =  483.50785148\n",
      "At time  6 searching in [ 1.0 100 ], FOUND:  17.2946292537\n",
      "At time "
     ]
    },
    {
     "name": "stdout",
     "output_type": "stream",
     "text": [
      " 5 searching in [ 1.0 100 ], FOUND:  21.2067439927\n",
      "At time  5 searching in [ 1.0 21.2067439927 ], FOUND:  1.3059507162\n",
      "At time "
     ]
    },
    {
     "name": "stdout",
     "output_type": "stream",
     "text": [
      " 4 searching in [ 1.0 14.4817481751 ], FOUND:  5.7066009675\n",
      "At time  4 no need to search, ESS(1.0) =  184.986493581\n",
      "At time "
     ]
    },
    {
     "name": "stdout",
     "output_type": "stream",
     "text": [
      " 4 searching in [ 1.0 56.0817985021 ], FOUND:  27.0008312871\n",
      "At time  4 searching in [ 1.0 27.0008312871 ], FOUND:  14.4817481751\n",
      "At time "
     ]
    },
    {
     "name": "stdout",
     "output_type": "stream",
     "text": [
      " 4 searching in [ 1.0 449.53157733 ], FOUND:  139.755168978\n",
      "At time  4 searching in [ 1.0 139.755168978 ], FOUND:  56.0817985021\n",
      "At time "
     ]
    },
    {
     "name": "stdout",
     "output_type": "stream",
     "text": [
      " 3 no need to search, ESS(1.0) =  344.85580128\n",
      "At time  4 searching in [ 1.0 10000 ], FOUND:  449.53157733\n",
      "At time "
     ]
    },
    {
     "name": "stdout",
     "output_type": "stream",
     "text": [
      " 3 searching in [ 1.0 13.3982312672 ], FOUND:  7.07371471675\n",
      "At time  3 searching in [ 1.0 7.07371471675 ], FOUND:  2.30101638504\n",
      "At time "
     ]
    },
    {
     "name": "stdout",
     "output_type": "stream",
     "text": [
      " 3 searching in [ 1.0 41.024610592 ], FOUND:  22.4328019603\n",
      "At time  3 searching in [ 1.0 22.4328019603 ], FOUND:  13.3982312672\n",
      "At time "
     ]
    },
    {
     "name": "stdout",
     "output_type": "stream",
     "text": [
      " 3 searching in [ 1.0 321.396619484 ], FOUND:  101.319964021\n",
      "At time  3 searching in [ 1.0 101.319964021 ], FOUND:  41.024610592\n",
      "At time "
     ]
    },
    {
     "name": "stdout",
     "output_type": "stream",
     "text": [
      " 2 no need to search, ESS(1.0) =  477.92516449\n",
      "At time  3 searching in [ 1.0 10000 ], FOUND:  321.396619484\n",
      "At time "
     ]
    },
    {
     "name": "stdout",
     "output_type": "stream",
     "text": [
      " 2 searching in [ 1.0 100 ], FOUND:  26.7030703432\n",
      "At time  2 searching in [ 1.0 26.7030703432 ], FOUND:  1.4533433631\n",
      "At time "
     ]
    },
    {
     "name": "stdout",
     "output_type": "stream",
     "text": [
      " 1 searching in [ 1.0 100 ], FOUND:  6.94149513673\n",
      "At time  1 no need to search, ESS(1.0) =  268.894056283\n",
      "At time "
     ]
    },
    {
     "name": "stdout",
     "output_type": "stream",
     "text": [
      " 0 searching in [ 1.0 100 ], FOUND:  12.8389297839\n",
      "At time  0 no need to search, ESS(1.0) =  187.620673171\n",
      "At time "
     ]
    },
    {
     "name": "stdout",
     "output_type": "stream",
     "text": [
      " 9 searching in [ 1.0 100 ], FOUND:  7.74404631948\n",
      "At time  9 no need to search, ESS(1.0) =  249.802394852\n",
      "At time "
     ]
    },
    {
     "name": "stdout",
     "output_type": "stream",
     "text": [
      " 8 searching in [ 1.0 100 ], FOUND:  7.90170074226\n",
      "At time  8 no need to search, ESS(1.0) =  233.747415533\n",
      "At time "
     ]
    },
    {
     "name": "stdout",
     "output_type": "stream",
     "text": [
      " 7 no need to search, ESS(1.0) =  241.699418608\n",
      "At time "
     ]
    },
    {
     "name": "stdout",
     "output_type": "stream",
     "text": [
      " 7 searching in [ 1.0 100 ], FOUND:  7.91777997885\n",
      "At time "
     ]
    },
    {
     "name": "stdout",
     "output_type": "stream",
     "text": [
      " 6 searching in [ 1.0 23.4946279803 ], FOUND:  1.2397814765\n",
      "At time  6 no need to search, ESS(1.0) =  492.396616717\n",
      "At time "
     ]
    },
    {
     "name": "stdout",
     "output_type": "stream",
     "text": [
      " 6 searching in [ 1.0 100 ], FOUND:  23.4946279803\n",
      "At time "
     ]
    },
    {
     "name": "stdout",
     "output_type": "stream",
     "text": [
      " 5 searching in [ 1.0 29.6721082188 ], FOUND:  2.26364633944\n",
      "At time  5 no need to search, ESS(1.0) =  413.763813807\n",
      "At time "
     ]
    },
    {
     "name": "stdout",
     "output_type": "stream",
     "text": [
      " 4 no need to search, ESS(1.0) =  446.220399892\n",
      "At time  5 searching in [ 1.0 100 ], FOUND:  29.6721082188\n",
      "At time "
     ]
    },
    {
     "name": "stdout",
     "output_type": "stream",
     "text": [
      " 4 searching in [ 1.0 11.2665650255 ], FOUND:  5.55664645765\n",
      "At time  4 searching in [ 1.0 5.55664645765 ], FOUND:  1.55257985329\n",
      "At time "
     ]
    },
    {
     "name": "stdout",
     "output_type": "stream",
     "text": [
      " 4 searching in [ 1.0 44.8686162617 ], FOUND:  21.488208068\n",
      "At time  4 searching in [ 1.0 21.488208068 ], FOUND:  11.2665650255\n",
      "At time "
     ]
    },
    {
     "name": "stdout",
     "output_type": "stream",
     "text": [
      " 4 searching in [ 1.0 347.866417988 ], FOUND:  115.717177632\n",
      "At time  4 searching in [ 1.0 115.717177632 ], FOUND:  44.8686162617\n",
      "At time "
     ]
    },
    {
     "name": "stdout",
     "output_type": "stream",
     "text": [
      " 3 no need to search, ESS(1.0) =  479.206345285\n",
      "At time  4 searching in [ 1.0 10000 ], FOUND:  347.866417988\n",
      "At time "
     ]
    },
    {
     "name": "stdout",
     "output_type": "stream",
     "text": [
      " 3 searching in [ 1.0 12.5639062187 ], FOUND:  5.77776683592\n",
      "At time  3 searching in [ 1.0 5.77776683592 ], FOUND:  1.3524301498\n",
      "At time "
     ]
    },
    {
     "name": "stdout",
     "output_type": "stream",
     "text": [
      " 3 searching in [ 1.0 23.5556670643 ], FOUND:  12.5639062187\n",
      "At time "
     ]
    },
    {
     "name": "stdout",
     "output_type": "stream",
     "text": [
      " 3 searching in [ 1.0 45.6107547387 ], FOUND:  23.5556670643\n",
      "At time "
     ]
    },
    {
     "name": "stdout",
     "output_type": "stream",
     "text": [
      " 3 searching in [ 1.0 102.716444912 ], FOUND:  45.6107547387\n",
      "At time "
     ]
    },
    {
     "name": "stdout",
     "output_type": "stream",
     "text": [
      " 3 searching in [ 1.0 298.016317449 ], FOUND:  102.716444912\n",
      "At time "
     ]
    },
    {
     "name": "stdout",
     "output_type": "stream",
     "text": [
      " 2 no need to search, ESS(1.0) =  496.605061078\n",
      "At time  3 searching in [ 1.0 10000 ], FOUND:  298.016317449\n",
      "At time "
     ]
    },
    {
     "name": "stdout",
     "output_type": "stream",
     "text": [
      " 2 searching in [ 1.0 100 ], FOUND:  25.712984381\n",
      "At time  2 searching in [ 1.0 25.712984381 ], FOUND:  1.13370748247\n",
      "At time "
     ]
    },
    {
     "name": "stdout",
     "output_type": "stream",
     "text": [
      " 1 searching in [ 1.0 100 ], FOUND:  7.11074202326\n",
      "At time  1 no need to search, ESS(1.0) =  267.466322068\n",
      "At time "
     ]
    },
    {
     "name": "stdout",
     "output_type": "stream",
     "text": [
      " 0 searching in [ 1.0 100 ], FOUND:  14.9058843638\n",
      "At time  0 no need to search, ESS(1.0) =  175.91193981\n",
      "At time "
     ]
    },
    {
     "name": "stdout",
     "output_type": "stream",
     "text": [
      " 9 no need to search, ESS(1.0) =  462.909686851\n",
      "At time "
     ]
    },
    {
     "name": "stdout",
     "output_type": "stream",
     "text": [
      " 9 searching in [ 1.0 100 ], FOUND:  39.8347351153\n",
      "At time  9 searching in [ 1.0 39.8347351153 ], FOUND:  1.6920409138\n",
      "At time "
     ]
    },
    {
     "name": "stdout",
     "output_type": "stream",
     "text": [
      " 8 searching in [ 1.0 100 ], FOUND:  6.72678164028\n",
      "At time  8 no need to search, ESS(1.0) =  260.258278825\n",
      "At time "
     ]
    },
    {
     "name": "stdout",
     "output_type": "stream",
     "text": [
      " 7 searching in [ 1.0 100 ], FOUND:  12.5734929476\n",
      "At time  7 no need to search, ESS(1.0) =  209.487957532\n",
      "At time "
     ]
    },
    {
     "name": "stdout",
     "output_type": "stream",
     "text": [
      " 6 searching in [ 1.0 41.2373967397 ], FOUND:  2.14781878488\n",
      "At time  6 no need to search, ESS(1.0) =  428.336070007\n",
      "At time "
     ]
    },
    {
     "name": "stdout",
     "output_type": "stream",
     "text": [
      " 6 searching in [ 1.0 100 ], FOUND:  41.2373967397\n",
      "At time "
     ]
    },
    {
     "name": "stdout",
     "output_type": "stream",
     "text": [
      " 5 searching in [ 1.0 79.5087091926 ], FOUND:  4.6154389714\n",
      "At time  5 no need to search, ESS(1.0) =  312.892939879\n",
      "At time "
     ]
    },
    {
     "name": "stdout",
     "output_type": "stream",
     "text": [
      " 4 no need to search, ESS(1.0) =  291.345552619\n",
      "At time  5 searching in [ 1.0 100 ], FOUND:  79.5087091926\n",
      "At time "
     ]
    },
    {
     "name": "stdout",
     "output_type": "stream",
     "text": [
      " 4 searching in [ 1.0 14.7077625008 ], FOUND:  7.83569669574\n",
      "At time  4 searching in [ 1.0 7.83569669574 ], FOUND:  2.87948174158\n",
      "At time "
     ]
    },
    {
     "name": "stdout",
     "output_type": "stream",
     "text": [
      " 4 searching in [ 1.0 46.6937991721 ], FOUND:  24.5928923413\n",
      "At time  4 searching in [ 1.0 24.5928923413 ], FOUND:  14.7077625008\n",
      "At time "
     ]
    },
    {
     "name": "stdout",
     "output_type": "stream",
     "text": [
      " 4 searching in [ 1.0 350.349662219 ], FOUND:  110.601454981\n",
      "At time  4 searching in [ 1.0 110.601454981 ], FOUND:  46.6937991721\n",
      "At time "
     ]
    },
    {
     "name": "stdout",
     "output_type": "stream",
     "text": [
      " 3 no need to search, ESS(1.0) =  424.772406543\n",
      "At time  4 searching in [ 1.0 10000 ], FOUND:  350.349662219\n",
      "At time "
     ]
    },
    {
     "name": "stdout",
     "output_type": "stream",
     "text": [
      " 3 searching in [ 1.0 12.6707651615 ], FOUND:  6.25513276838\n",
      "At time  3 searching in [ 1.0 6.25513276838 ], FOUND:  1.80962767871\n",
      "At time "
     ]
    },
    {
     "name": "stdout",
     "output_type": "stream",
     "text": [
      " 3 searching in [ 1.0 49.6450067575 ], FOUND:  24.8723071276\n",
      "At time  3 searching in [ 1.0 24.8723071276 ], FOUND:  12.6707651615\n",
      "At time "
     ]
    },
    {
     "name": "stdout",
     "output_type": "stream",
     "text": [
      " 3 searching in [ 1.0 320.132674592 ], FOUND:  114.743036384\n",
      "At time  3 searching in [ 1.0 114.743036384 ], FOUND:  49.6450067575\n",
      "At time "
     ]
    },
    {
     "name": "stdout",
     "output_type": "stream",
     "text": [
      " 2 no need to search, ESS(1.0) =  458.257340991\n",
      "At time  3 searching in [ 1.0 10000 ], FOUND:  320.132674592\n",
      "At time "
     ]
    },
    {
     "name": "stdout",
     "output_type": "stream",
     "text": [
      " 2 searching in [ 1.0 100 ], FOUND:  40.6602757973\n",
      "At time  2 searching in [ 1.0 40.6602757973 ], FOUND:  1.76231208269\n",
      "At time "
     ]
    },
    {
     "name": "stdout",
     "output_type": "stream",
     "text": [
      " 1 searching in [ 1.0 100 ], FOUND:  6.94126519408\n",
      "At time  1 no need to search, ESS(1.0) =  252.610721876\n",
      "At time "
     ]
    },
    {
     "name": "stdout",
     "output_type": "stream",
     "text": [
      " 0 searching in [ 1.0 100 ], FOUND:  14.5028511673\n",
      "At time  0 no need to search, ESS(1.0) =  200.523060283\n",
      "At time "
     ]
    },
    {
     "name": "stdout",
     "output_type": "stream",
     "text": [
      " 9 no need to search, ESS(1.0) =  485.097730171\n",
      "At time "
     ]
    },
    {
     "name": "stdout",
     "output_type": "stream",
     "text": [
      " 9 searching in [ 1.0 100 ], FOUND:  25.1733941935\n",
      "At time  9 searching in [ 1.0 25.1733941935 ], FOUND:  1.29852253485\n",
      "At time "
     ]
    },
    {
     "name": "stdout",
     "output_type": "stream",
     "text": [
      " 8 searching in [ 1.0 100 ], FOUND:  7.60938326711\n",
      "At time  8 no need to search, ESS(1.0) =  269.970205433\n",
      "At time "
     ]
    },
    {
     "name": "stdout",
     "output_type": "stream",
     "text": [
      " 7 searching in [ 1.0 100 ], FOUND:  8.48585906473\n",
      "At time  7 no need to search, ESS(1.0) =  244.319672123\n",
      "At time "
     ]
    },
    {
     "name": "stdout",
     "output_type": "stream",
     "text": [
      " 6 searching in [ 1.0 19.7854228992 ], FOUND:  1.23442965141\n",
      "At time  6 no need to search, ESS(1.0) =  490.337931164\n",
      "At time "
     ]
    },
    {
     "name": "stdout",
     "output_type": "stream",
     "text": [
      " 6 searching in [ 1.0 100 ], FOUND:  19.7854228992\n",
      "At time "
     ]
    },
    {
     "name": "stdout",
     "output_type": "stream",
     "text": [
      " 5 searching in [ 1.0 38.3376518924 ], FOUND:  2.15768768162\n",
      "At time  5 no need to search, ESS(1.0) =  424.575965838\n",
      "At time "
     ]
    },
    {
     "name": "stdout",
     "output_type": "stream",
     "text": [
      " 4 no need to search, ESS(1.0) =  390.427740104\n",
      "At time  5 searching in [ 1.0 100 ], FOUND:  38.3376518924\n",
      "At time "
     ]
    },
    {
     "name": "stdout",
     "output_type": "stream",
     "text": [
      " 4 searching in [ 1.0 13.3780459177 ], FOUND:  6.52552163325\n",
      "At time  4 searching in [ 1.0 6.52552163325 ], FOUND:  2.07407164874\n",
      "At time "
     ]
    },
    {
     "name": "stdout",
     "output_type": "stream",
     "text": [
      " 4 searching in [ 1.0 48.7263872595 ], FOUND:  25.2810339731\n",
      "At time  4 searching in [ 1.0 25.2810339731 ], FOUND:  13.3780459177\n",
      "At time "
     ]
    },
    {
     "name": "stdout",
     "output_type": "stream",
     "text": [
      " 4 searching in [ 1.0 293.287092251 ], FOUND:  108.062021897\n",
      "At time  4 searching in [ 1.0 108.062021897 ], FOUND:  48.7263872595\n",
      "At time "
     ]
    },
    {
     "name": "stdout",
     "output_type": "stream",
     "text": [
      " 3 no need to search, ESS(1.0) =  172.938776122\n",
      "At time  4 searching in [ 1.0 10000 ], FOUND:  293.287092251\n",
      "At time "
     ]
    },
    {
     "name": "stdout",
     "output_type": "stream",
     "text": [
      " 3 searching in [ 1.0 18.6406072165 ], FOUND:  10.4877542809\n",
      "At time  3 searching in [ 1.0 10.4877542809 ], FOUND:  4.52182102097\n",
      "At time "
     ]
    },
    {
     "name": "stdout",
     "output_type": "stream",
     "text": [
      " 3 searching in [ 1.0 58.9108147712 ], FOUND:  31.4409681498\n",
      "At time  3 searching in [ 1.0 31.4409681498 ], FOUND:  18.6406072165\n",
      "At time "
     ]
    },
    {
     "name": "stdout",
     "output_type": "stream",
     "text": [
      " 3 searching in [ 1.0 557.269370318 ], FOUND:  139.57510807\n",
      "At time  3 searching in [ 1.0 139.57510807 ], FOUND:  58.9108147712\n",
      "At time "
     ]
    },
    {
     "name": "stdout",
     "output_type": "stream",
     "text": [
      " 2 no need to search, ESS(1.0) =  258.026873894\n",
      "At time  3 searching in [ 1.0 10000 ], FOUND:  557.269370318\n",
      "At time "
     ]
    },
    {
     "name": "stdout",
     "output_type": "stream",
     "text": [
      " 1 no need to search, ESS(1.0) =  221.303212262\n",
      "At time  2 searching in [ 1.0 100 ], FOUND:  7.17638121924\n",
      "At time "
     ]
    },
    {
     "name": "stdout",
     "output_type": "stream",
     "text": [
      " 0 no need to search, ESS(1.0) =  472.804070607\n",
      "At time  1 searching in [ 1.0 100 ], FOUND:  8.51618191776\n",
      "At time "
     ]
    },
    {
     "name": "stdout",
     "output_type": "stream",
     "text": [
      " 0 searching in [ 1.0 100 ], FOUND:  18.6466614279\n",
      "At time  0 searching in [ 1.0 18.6466614279 ], FOUND:  1.39127007596\n",
      "At time "
     ]
    },
    {
     "name": "stdout",
     "output_type": "stream",
     "text": [
      " 9 searching in [ 1.0 29.2519960411 ], FOUND:  1.09288634062\n",
      "At time  9 no need to search, ESS(1.0) =  498.043926574\n",
      "At time "
     ]
    },
    {
     "name": "stdout",
     "output_type": "stream",
     "text": [
      " 8 no need to search, ESS(1.0) =  259.386425019\n",
      "At time  9 searching in [ 1.0 100 ], FOUND:  29.2519960411\n",
      "At time "
     ]
    },
    {
     "name": "stdout",
     "output_type": "stream",
     "text": [
      " 7 no need to search, ESS(1.0) =  189.275415677\n",
      "At time  8 searching in [ 1.0 100 ], FOUND:  7.00546061577\n",
      "At time "
     ]
    },
    {
     "name": "stdout",
     "output_type": "stream",
     "text": [
      " 6 no need to search, ESS(1.0) =  403.652003217\n",
      "At time  7 searching in [ 1.0 100 ], FOUND:  15.2927276429\n",
      "At time "
     ]
    },
    {
     "name": "stdout",
     "output_type": "stream",
     "text": [
      " 6 searching in [ 1.0 100 ], FOUND:  35.7143265462\n",
      "At time  6 searching in [ 1.0 35.7143265462 ], FOUND:  2.34501705999\n",
      "At time "
     ]
    },
    {
     "name": "stdout",
     "output_type": "stream",
     "text": [
      " 5 searching in [ 1.0 71.7672886844 ], FOUND:  4.84042532045\n",
      "At time  5 no need to search, ESS(1.0) =  321.960986991\n",
      "At time "
     ]
    },
    {
     "name": "stdout",
     "output_type": "stream",
     "text": [
      " 4 no need to search, ESS(1.0) =  285.621637315\n",
      "At time  5 searching in [ 1.0 100 ], FOUND:  71.7672886844\n",
      "At time "
     ]
    },
    {
     "name": "stdout",
     "output_type": "stream",
     "text": [
      " 4 searching in [ 1.0 34.7506771554 ], FOUND:  11.3521734886\n",
      "At time  4 searching in [ 1.0 11.3521734886 ], FOUND:  2.97848601924\n",
      "At time "
     ]
    },
    {
     "name": "stdout",
     "output_type": "stream",
     "text": [
      " 4 searching in [ 1.0 169.176074706 ], FOUND:  70.9369240043\n",
      "At time  4 searching in [ 1.0 70.9369240043 ], FOUND:  34.7506771554\n",
      "At time "
     ]
    },
    {
     "name": "stdout",
     "output_type": "stream",
     "text": [
      " 4 searching in [ 1.0 10000 ], FOUND:  544.412431505\n",
      "At time  4 searching in [ 1.0 544.412431505 ], FOUND:  169.176074706\n",
      "At time "
     ]
    },
    {
     "name": "stdout",
     "output_type": "stream",
     "text": [
      " 3 searching in [ 1.0 10.309955662 ], FOUND:  3.65772894836\n",
      "At time  3 no need to search, ESS(1.0) =  266.155208381\n",
      "At time "
     ]
    },
    {
     "name": "stdout",
     "output_type": "stream",
     "text": [
      " 3 searching in [ 1.0 30.1328654515 ], FOUND:  18.4167487489\n",
      "At time  3 searching in [ 1.0 18.4167487489 ], FOUND:  10.309955662\n",
      "At time "
     ]
    },
    {
     "name": "stdout",
     "output_type": "stream",
     "text": [
      " 3 searching in [ 1.0 146.154974291 ], FOUND:  55.8474173699\n",
      "At time  3 searching in [ 1.0 55.8474173699 ], FOUND:  30.1328654515\n",
      "At time "
     ]
    },
    {
     "name": "stdout",
     "output_type": "stream",
     "text": [
      " 3 searching in [ 1.0 10000 ], FOUND:  489.484076713\n",
      "At time  3 searching in [ 1.0 489.484076713 ], FOUND:  146.154974291\n",
      "At time "
     ]
    },
    {
     "name": "stdout",
     "output_type": "stream",
     "text": [
      " 2 searching in [ 1.0 100 ], FOUND:  5.44934703244\n",
      "At time  2 no need to search, ESS(1.0) =  287.756317148\n",
      "At time "
     ]
    },
    {
     "name": "stdout",
     "output_type": "stream",
     "text": [
      " 1 searching in [ 1.0 100 ], FOUND:  8.76106646653\n",
      "At time  1 no need to search, ESS(1.0) =  236.907990072\n",
      "At time "
     ]
    },
    {
     "name": "stdout",
     "output_type": "stream",
     "text": [
      " 0 searching in [ 1.0 100 ], FOUND:  13.970795948\n",
      "At time  0 no need to search, ESS(1.0) =  167.781449952\n",
      "At time "
     ]
    },
    {
     "name": "stdout",
     "output_type": "stream",
     "text": [
      " 9 searching in [ 1.0 100 ], FOUND:  6.62895900456\n",
      "At time  9 no need to search, ESS(1.0) =  250.836841688\n",
      "At time "
     ]
    },
    {
     "name": "stdout",
     "output_type": "stream",
     "text": [
      " 8 searching in [ 1.0 27.4289446236 ], FOUND:  1.46779568592\n",
      "At time  8 no need to search, ESS(1.0) =  472.620036464\n",
      "At time "
     ]
    },
    {
     "name": "stdout",
     "output_type": "stream",
     "text": [
      " 8 searching in [ 1.0 100 ], FOUND:  27.4289446236\n",
      "At time "
     ]
    },
    {
     "name": "stdout",
     "output_type": "stream",
     "text": [
      " 7 searching in [ 1.0 100 ], FOUND:  6.61294931737\n",
      "At time  7 no need to search, ESS(1.0) =  265.196917464\n",
      "At time "
     ]
    },
    {
     "name": "stdout",
     "output_type": "stream",
     "text": [
      " 6 searching in [ 1.0 100 ], FOUND:  15.5663670803\n",
      "At time  6 no need to search, ESS(1.0) =  183.857407155\n",
      "At time "
     ]
    },
    {
     "name": "stdout",
     "output_type": "stream",
     "text": [
      " 5 searching in [ 1.0 22.7396863744 ], FOUND:  1.22060923435\n",
      "At time  5 no need to search, ESS(1.0) =  490.837336392\n",
      "At time "
     ]
    },
    {
     "name": "stdout",
     "output_type": "stream",
     "text": [
      " 4 no need to search, ESS(1.0) =  496.179354415\n",
      "At time  5 searching in [ 1.0 100 ], FOUND:  22.7396863744\n",
      "At time "
     ]
    },
    {
     "name": "stdout",
     "output_type": "stream",
     "text": [
      " 4 searching in [ 1.0 11.753164272 ], FOUND:  5.20989685138\n",
      "At time  4 searching in [ 1.0 5.20989685138 ], FOUND:  1.1239233107\n",
      "At time "
     ]
    },
    {
     "name": "stdout",
     "output_type": "stream",
     "text": [
      " 4 searching in [ 1.0 45.2446647089 ], FOUND:  23.0199545414\n",
      "At time  4 searching in [ 1.0 23.0199545414 ], FOUND:  11.753164272\n",
      "At time "
     ]
    },
    {
     "name": "stdout",
     "output_type": "stream",
     "text": [
      " 4 searching in [ 1.0 292.229745098 ], FOUND:  101.698291014\n",
      "At time  4 searching in [ 1.0 101.698291014 ], FOUND:  45.2446647089\n",
      "At time "
     ]
    },
    {
     "name": "stdout",
     "output_type": "stream",
     "text": [
      " 3 no need to search, ESS(1.0) =  219.322766994\n",
      "At time  4 searching in [ 1.0 10000 ], FOUND:  292.229745098\n",
      "At time "
     ]
    },
    {
     "name": "stdout",
     "output_type": "stream",
     "text": [
      " 3 searching in [ 1.0 18.7622172691 ], FOUND:  9.67875938897\n",
      "At time  3 searching in [ 1.0 9.67875938897 ], FOUND:  3.77207120542\n",
      "At time "
     ]
    },
    {
     "name": "stdout",
     "output_type": "stream",
     "text": [
      " 3 searching in [ 1.0 62.2708429189 ], FOUND:  34.7205641181\n",
      "At time  3 searching in [ 1.0 34.7205641181 ], FOUND:  18.7622172691\n",
      "At time "
     ]
    },
    {
     "name": "stdout",
     "output_type": "stream",
     "text": [
      "1.0 144.495113749 ], FOUND:  62.2708429189\n",
      "At time "
     ]
    },
    {
     "name": "stdout",
     "output_type": "stream",
     "text": [
      " 3 searching in [ 1.0 519.157180815 ], FOUND:  144.495113749\n",
      "At time  3 searching in [ "
     ]
    },
    {
     "name": "stdout",
     "output_type": "stream",
     "text": [
      " 3 searching in [ 1.0 10000 ], FOUND:  519.157180815\n",
      "At time "
     ]
    },
    {
     "name": "stdout",
     "output_type": "stream",
     "text": [
      " 2 searching in [ 1.0 100 ], FOUND:  7.09339441511\n",
      "At time  2 no need to search, ESS(1.0) =  271.369648325\n",
      "At time "
     ]
    },
    {
     "name": "stdout",
     "output_type": "stream",
     "text": [
      " 1 searching in [ 1.0 100 ], FOUND:  7.61590053067\n",
      "At time  1 no need to search, ESS(1.0) =  249.154319677\n",
      "At time "
     ]
    },
    {
     "name": "stdout",
     "output_type": "stream",
     "text": [
      " 0 searching in [ 1.0 100 ], FOUND:  15.7408668932\n",
      "At time  0 no need to search, ESS(1.0) =  176.04553089\n",
      "At time "
     ]
    },
    {
     "name": "stdout",
     "output_type": "stream",
     "text": [
      " 9 searching in [ 1.0 100 ], FOUND:  7.40296331561\n",
      "At time  9 no need to search, ESS(1.0) =  276.154445775\n",
      "At time "
     ]
    },
    {
     "name": "stdout",
     "output_type": "stream",
     "text": [
      " 8 searching in [ 1.0 100 ], FOUND:  9.16975466961\n",
      "At time  8 no need to search, ESS(1.0) =  219.622731078\n",
      "At time "
     ]
    },
    {
     "name": "stdout",
     "output_type": "stream",
     "text": [
      " 7 searching in [ 1.0 100 ], FOUND:  9.46126546201\n",
      "At time  7 no need to search, ESS(1.0) =  231.567450239\n",
      "At time "
     ]
    },
    {
     "name": "stdout",
     "output_type": "stream",
     "text": [
      " 6 searching in [ 1.0 100 ], FOUND:  12.8817328879\n",
      "At time  6 no need to search, ESS(1.0) =  185.51112903\n",
      "At time "
     ]
    },
    {
     "name": "stdout",
     "output_type": "stream",
     "text": [
      " 5 searching in [ 1.0 19.6629874851 ], FOUND:  1.37450054621\n",
      "At time  5 no need to search, ESS(1.0) =  478.287250198\n",
      "At time "
     ]
    },
    {
     "name": "stdout",
     "output_type": "stream",
     "text": [
      " 4 no need to search, ESS(1.0) =  194.99789872\n",
      "At time  5 searching in [ 1.0 100 ], FOUND:  19.6629874851\n",
      "At time "
     ]
    },
    {
     "name": "stdout",
     "output_type": "stream",
     "text": [
      " 4 searching in [ 1.0 23.2302843208 ], FOUND:  10.0313504311\n",
      "At time  4 searching in [ 1.0 10.0313504311 ], FOUND:  3.70791518919\n",
      "At time "
     ]
    },
    {
     "name": "stdout",
     "output_type": "stream",
     "text": [
      " 4 searching in [ 1.0 116.690103648 ], FOUND:  51.3089303211\n",
      "At time  4 searching in [ 1.0 51.3089303211 ], FOUND:  23.2302843208\n",
      "At time "
     ]
    },
    {
     "name": "stdout",
     "output_type": "stream",
     "text": [
      " 4 searching in [ 1.0 10000 ], FOUND:  306.564894555\n",
      "At time  4 searching in [ 1.0 306.564894555 ], FOUND:  116.690103648\n",
      "At time "
     ]
    },
    {
     "name": "stdout",
     "output_type": "stream",
     "text": [
      " 3 searching in [ 1.0 9.85394621255 ], FOUND:  3.40996601053\n",
      "At time  3 no need to search, ESS(1.0) =  243.122267393\n",
      "At time "
     ]
    },
    {
     "name": "stdout",
     "output_type": "stream",
     "text": [
      " 3 searching in [ 1.0 59.8935881962 ], FOUND:  24.7080108029\n",
      "At time  3 searching in [ 1.0 24.7080108029 ], FOUND:  9.85394621255\n",
      "At time "
     ]
    },
    {
     "name": "stdout",
     "output_type": "stream",
     "text": [
      " 3 searching in [ 1.0 299.860475002 ], FOUND:  121.507070676\n",
      "At time  3 searching in [ 1.0 121.507070676 ], FOUND:  59.8935881962\n",
      "At time "
     ]
    },
    {
     "name": "stdout",
     "output_type": "stream",
     "text": [
      " 2 no need to search, ESS(1.0) =  492.56355202\n",
      "At time  3 searching in [ 1.0 10000 ], FOUND:  299.860475002\n",
      "At time "
     ]
    },
    {
     "name": "stdout",
     "output_type": "stream",
     "text": [
      " 2 searching in [ 1.0 100 ], FOUND:  28.0054622286\n",
      "At time  2 searching in [ 1.0 28.0054622286 ], FOUND:  1.2046535545\n",
      "At time "
     ]
    },
    {
     "name": "stdout",
     "output_type": "stream",
     "text": [
      " 1 searching in [ 1.0 100 ], FOUND:  6.99176034855\n",
      "At time  1 no need to search, ESS(1.0) =  267.414131791\n",
      "At time "
     ]
    },
    {
     "name": "stdout",
     "output_type": "stream",
     "text": [
      " 0 searching in [ 1.0 100 ], FOUND:  14.2366831299\n",
      "At time  0 no need to search, ESS(1.0) =  194.633905821\n",
      "At time "
     ]
    },
    {
     "name": "stdout",
     "output_type": "stream",
     "text": [
      " 9 searching in [ 1.0 100 ], FOUND:  6.38127621463\n",
      "At time  9 no need to search, ESS(1.0) =  286.664252626\n",
      "At time "
     ]
    },
    {
     "name": "stdout",
     "output_type": "stream",
     "text": [
      " 8 searching in [ 1.0 100 ], FOUND:  8.1776339618\n",
      "At time  8 no need to search, ESS(1.0) =  244.571417687\n",
      "At time "
     ]
    },
    {
     "name": "stdout",
     "output_type": "stream",
     "text": [
      " 7 searching in [ 1.0 100 ], FOUND:  9.80727003158\n",
      "At time  7 no need to search, ESS(1.0) =  226.592801414\n",
      "At time "
     ]
    },
    {
     "name": "stdout",
     "output_type": "stream",
     "text": [
      " 6 searching in [ 1.0 100 ], FOUND:  15.7344092829\n",
      "At time  6 no need to search, ESS(1.0) =  189.162988673\n",
      "At time "
     ]
    },
    {
     "name": "stdout",
     "output_type": "stream",
     "text": [
      " 5 searching in [ 1.0 23.4961112703 ], FOUND:  1.59558782866\n",
      "At time  5 no need to search, ESS(1.0) =  460.220359486\n",
      "At time "
     ]
    },
    {
     "name": "stdout",
     "output_type": "stream",
     "text": [
      " 4 no need to search, ESS(1.0) =  215.098296291\n",
      "At time  5 searching in [ 1.0 100 ], FOUND:  23.4961112703\n",
      "At time "
     ]
    },
    {
     "name": "stdout",
     "output_type": "stream",
     "text": [
      " 4 searching in [ 1.0 19.9739163181 ], FOUND:  9.8493709231\n",
      "At time  4 searching in [ 1.0 9.8493709231 ], FOUND:  3.86844960964\n",
      "At time "
     ]
    },
    {
     "name": "stdout",
     "output_type": "stream",
     "text": [
      " 4 searching in [ 1.0 124.3734793 ], FOUND:  46.7268704178\n",
      "At time  4 searching in [ 1.0 46.7268704178 ], FOUND:  19.9739163181\n",
      "At time "
     ]
    },
    {
     "name": "stdout",
     "output_type": "stream",
     "text": [
      " 4 searching in [ 1.0 10000 ], FOUND:  326.642880321\n",
      "At time  4 searching in [ 1.0 326.642880321 ], FOUND:  124.3734793\n",
      "At time "
     ]
    },
    {
     "name": "stdout",
     "output_type": "stream",
     "text": [
      " 3 searching in [ 1.0 9.51988709285 ], FOUND:  3.62841880344\n",
      "At time  3 no need to search, ESS(1.0) =  246.928355054\n",
      "At time "
     ]
    },
    {
     "name": "stdout",
     "output_type": "stream",
     "text": [
      " 3 searching in [ 1.0 32.4760093609 ], FOUND:  17.8506441778\n",
      "At time  3 searching in [ 1.0 17.8506441778 ], FOUND:  9.51988709285\n",
      "At time "
     ]
    },
    {
     "name": "stdout",
     "output_type": "stream",
     "text": [
      " 3 searching in [ 1.0 152.243294005 ], FOUND:  69.1319041057\n",
      "At time  3 searching in [ 1.0 69.1319041057 ], FOUND:  32.4760093609\n",
      "At time "
     ]
    },
    {
     "name": "stdout",
     "output_type": "stream",
     "text": [
      " 3 searching in [ 1.0 10000 ], FOUND:  488.807967533\n",
      "At time  3 searching in [ 1.0 488.807967533 ], FOUND:  152.243294005\n",
      "At time "
     ]
    },
    {
     "name": "stdout",
     "output_type": "stream",
     "text": [
      " 2 searching in [ 1.0 100 ], FOUND:  5.84621792936\n",
      "At time  2 no need to search, ESS(1.0) =  286.320218412\n",
      "At time "
     ]
    },
    {
     "name": "stdout",
     "output_type": "stream",
     "text": [
      " 1 searching in [ 1.0 100 ], FOUND:  8.53127881513\n",
      "At time  1 no need to search, ESS(1.0) =  234.006111217\n",
      "At time "
     ]
    },
    {
     "name": "stdout",
     "output_type": "stream",
     "text": [
      " 0 searching in [ 1.0 100 ], FOUND:  19.0919812783\n",
      "At time  0 no need to search, ESS(1.0) =  169.92865997\n",
      "At time "
     ]
    },
    {
     "name": "stdout",
     "output_type": "stream",
     "text": [
      " 9 searching in [ 1.0 34.0896953941 ], FOUND:  1.21134087011\n",
      "At time  9 no need to search, ESS(1.0) =  493.356170035\n",
      "At time "
     ]
    },
    {
     "name": "stdout",
     "output_type": "stream",
     "text": [
      " 8 no need to search, ESS(1.0) =  271.139311987\n",
      "At time  9 searching in [ 1.0 100 ], FOUND:  34.0896953941\n",
      "At time "
     ]
    },
    {
     "name": "stdout",
     "output_type": "stream",
     "text": [
      " 7 no need to search, ESS(1.0) =  183.138132501\n",
      "At time  8 searching in [ 1.0 100 ], FOUND:  6.62254138327\n",
      "At time "
     ]
    },
    {
     "name": "stdout",
     "output_type": "stream",
     "text": [
      " 6 no need to search, ESS(1.0) =  422.117513693\n",
      "At time  7 searching in [ 1.0 100 ], FOUND:  16.1309416271\n",
      "At time "
     ]
    },
    {
     "name": "stdout",
     "output_type": "stream",
     "text": [
      " 6 searching in [ 1.0 100 ], FOUND:  44.785122687\n",
      "At time  6 searching in [ 1.0 44.785122687 ], FOUND:  2.32929424954\n",
      "At time "
     ]
    },
    {
     "name": "stdout",
     "output_type": "stream",
     "text": [
      " 5 searching in [ 1.0 64.11803755 ], FOUND:  4.04422188386\n",
      "At time  5 no need to search, ESS(1.0) =  325.042045716\n",
      "At time "
     ]
    },
    {
     "name": "stdout",
     "output_type": "stream",
     "text": [
      " 4 no need to search, ESS(1.0) =  309.294118966\n",
      "At time  5 searching in [ 1.0 100 ], FOUND:  64.11803755\n",
      "At time "
     ]
    },
    {
     "name": "stdout",
     "output_type": "stream",
     "text": [
      " 4 searching in [ 1.0 16.9619606439 ], FOUND:  8.59898361296\n",
      "At time  4 searching in [ 1.0 8.59898361296 ], FOUND:  2.6558545369\n",
      "At time "
     ]
    },
    {
     "name": "stdout",
     "output_type": "stream",
     "text": [
      " 4 searching in [ 1.0 67.468000676 ], FOUND:  31.8821551541\n",
      "At time  4 searching in [ 1.0 31.8821551541 ], FOUND:  16.9619606439\n",
      "At time "
     ]
    },
    {
     "name": "stdout",
     "output_type": "stream",
     "text": [
      " 4 searching in [ 1.0 492.718510418 ], FOUND:  146.481760933\n",
      "At time  4 searching in [ 1.0 146.481760933 ], FOUND:  67.468000676\n",
      "At time "
     ]
    },
    {
     "name": "stdout",
     "output_type": "stream",
     "text": [
      " 3 no need to search, ESS(1.0) =  275.241012972\n",
      "At time  4 searching in [ 1.0 10000 ], FOUND:  492.718510418\n",
      "At time "
     ]
    },
    {
     "name": "stdout",
     "output_type": "stream",
     "text": [
      " 3 searching in [ 1.0 14.7594997804 ], FOUND:  8.21990032531\n",
      "At time  3 searching in [ 1.0 8.21990032531 ], FOUND:  3.05967975452\n",
      "At time "
     ]
    },
    {
     "name": "stdout",
     "output_type": "stream",
     "text": [
      " 3 searching in [ 1.0 46.5690692406 ], FOUND:  24.759358169\n",
      "At time  3 searching in [ 1.0 24.759358169 ], FOUND:  14.7594997804\n",
      "At time "
     ]
    },
    {
     "name": "stdout",
     "output_type": "stream",
     "text": [
      " 3 searching in [ 1.0 300.763088231 ], FOUND:  99.5202795416\n",
      "At time  3 searching in [ 1.0 99.5202795416 ], FOUND:  46.5690692406\n",
      "At time "
     ]
    },
    {
     "name": "stdout",
     "output_type": "stream",
     "text": [
      " 2 no need to search, ESS(1.0) =  475.309924899\n",
      "At time  3 searching in [ 1.0 10000 ], FOUND:  300.763088231\n",
      "At time "
     ]
    },
    {
     "name": "stdout",
     "output_type": "stream",
     "text": [
      " 2 searching in [ 1.0 100 ], FOUND:  27.7932696241\n",
      "At time  2 searching in [ 1.0 27.7932696241 ], FOUND:  1.41075083181\n",
      "At time "
     ]
    },
    {
     "name": "stdout",
     "output_type": "stream",
     "text": [
      " 1 searching in [ 1.0 100 ], FOUND:  7.29907074438\n",
      "At time  1 no need to search, ESS(1.0) =  263.189440219\n",
      "At time "
     ]
    },
    {
     "name": "stdout",
     "output_type": "stream",
     "text": [
      " 0 searching in [ 1.0 100 ], FOUND:  14.4428293277\n",
      "At time  0 no need to search, ESS(1.0) =  180.024244518\n",
      "At time "
     ]
    },
    {
     "name": "stdout",
     "output_type": "stream",
     "text": [
      " 9 no need to search, ESS(1.0) =  243.285905936\n",
      "At time "
     ]
    },
    {
     "name": "stdout",
     "output_type": "stream",
     "text": [
      " 8 no need to search, ESS(1.0) =  497.119241673\n",
      "At time  9 searching in [ 1.0 100 ], FOUND:  8.27634432316\n",
      "At time "
     ]
    },
    {
     "name": "stdout",
     "output_type": "stream",
     "text": [
      " 8 searching in [ 1.0 100 ], FOUND:  33.5133709436\n",
      "At time  8 searching in [ 1.0 33.5133709436 ], FOUND:  1.1280378159\n",
      "At time "
     ]
    },
    {
     "name": "stdout",
     "output_type": "stream",
     "text": [
      " 7 searching in [ 1.0 100 ], FOUND:  8.2552294535\n",
      "At time  7 no need to search, ESS(1.0) =  250.622370255\n",
      "At time "
     ]
    },
    {
     "name": "stdout",
     "output_type": "stream",
     "text": [
      " 6 searching in [ 1.0 100 ], FOUND:  14.3079436934\n",
      "At time  6 no need to search, ESS(1.0) =  190.36788573\n",
      "At time "
     ]
    },
    {
     "name": "stdout",
     "output_type": "stream",
     "text": [
      " 5 searching in [ 1.0 21.8139641368 ], FOUND:  1.1697727606\n",
      "At time  5 no need to search, ESS(1.0) =  494.505033768\n",
      "At time "
     ]
    },
    {
     "name": "stdout",
     "output_type": "stream",
     "text": [
      " 4 no need to search, ESS(1.0) =  499.912378136\n",
      "At time  5 searching in [ 1.0 100 ], FOUND:  21.8139641368\n",
      "At time "
     ]
    },
    {
     "name": "stdout",
     "output_type": "stream",
     "text": [
      " 4 searching in [ 1.0 9.25272395573 ], FOUND:  4.26927781868\n",
      "At time  4 searching in [ 1.0 4.26927781868 ], FOUND:  1.01471572765\n",
      "At time "
     ]
    },
    {
     "name": "stdout",
     "output_type": "stream",
     "text": [
      " 4 searching in [ 1.0 29.2420258386 ], FOUND:  16.34050686\n",
      "At time  4 searching in [ 1.0 16.34050686 ], FOUND:  9.25272395573\n",
      "At time "
     ]
    },
    {
     "name": "stdout",
     "output_type": "stream",
     "text": [
      " 4 searching in [ 1.0 107.603072136 ], FOUND:  54.8532513536\n",
      "At time  4 searching in [ 1.0 54.8532513536 ], FOUND:  29.2420258386\n",
      "At time "
     ]
    },
    {
     "name": "stdout",
     "output_type": "stream",
     "text": [
      " 4 searching in [ 1.0 10000 ], FOUND:  309.791084808\n",
      "At time  4 searching in [ 1.0 309.791084808 ], FOUND:  107.603072136\n",
      "At time "
     ]
    },
    {
     "name": "stdout",
     "output_type": "stream",
     "text": [
      " 3 searching in [ 1.0 6.54917481162 ], FOUND:  2.07354389126\n",
      "At time  3 no need to search, ESS(1.0) =  375.546765109\n",
      "At time "
     ]
    },
    {
     "name": "stdout",
     "output_type": "stream",
     "text": [
      " 3 searching in [ 1.0 25.468526327 ], FOUND:  14.8862830359\n",
      "At time  3 searching in [ 1.0 14.8862830359 ], FOUND:  6.54917481162\n",
      "At time "
     ]
    },
    {
     "name": "stdout",
     "output_type": "stream",
     "text": [
      " 3 searching in [ 1.0 99.4313405079 ], FOUND:  44.5120687699\n",
      "At time  3 searching in [ 1.0 44.5120687699 ], FOUND:  25.468526327\n",
      "At time "
     ]
    },
    {
     "name": "stdout",
     "output_type": "stream",
     "text": [
      " 3 searching in [ 1.0 10000 ], FOUND:  291.606190081\n",
      "At time  3 searching in [ 1.0 291.606190081 ], FOUND:  99.4313405079\n",
      "At time "
     ]
    },
    {
     "name": "stdout",
     "output_type": "stream",
     "text": [
      " 2 searching in [ 1.0 30.0018249434 ], FOUND:  1.18745686576\n",
      "At time  2 no need to search, ESS(1.0) =  494.703617974\n",
      "At time "
     ]
    },
    {
     "name": "stdout",
     "output_type": "stream",
     "text": [
      " 1 no need to search, ESS(1.0) =  280.42484686\n",
      "At time  2 searching in [ 1.0 100 ], FOUND:  30.0018249434\n",
      "At time "
     ]
    },
    {
     "name": "stdout",
     "output_type": "stream",
     "text": [
      " 0 no need to search, ESS(1.0) =  473.389382681\n",
      "At time  1 searching in [ 1.0 100 ], FOUND:  6.83420790646\n",
      "At time "
     ]
    },
    {
     "name": "stdout",
     "output_type": "stream",
     "text": [
      " 0 searching in [ 1.0 100 ], FOUND:  22.5719017337\n",
      "At time  0 searching in [ 1.0 22.5719017337 ], FOUND:  1.46795477862\n",
      "At time "
     ]
    },
    {
     "name": "stdout",
     "output_type": "stream",
     "text": [
      " 9 no need to search, ESS(1.0) =  257.029501302\n",
      "At time "
     ]
    },
    {
     "name": "stdout",
     "output_type": "stream",
     "text": [
      " 8 no need to search, ESS(1.0) =  483.748413421\n",
      "At time  9 searching in [ 1.0 100 ], FOUND:  8.08270093683\n",
      "At time "
     ]
    },
    {
     "name": "stdout",
     "output_type": "stream",
     "text": [
      " 8 searching in [ 1.0 100 ], FOUND:  33.9678557939\n",
      "At time  8 searching in [ 1.0 33.9678557939 ], FOUND:  1.33987977904\n",
      "At time "
     ]
    },
    {
     "name": "stdout",
     "output_type": "stream",
     "text": [
      " 7 searching in [ 1.0 100 ], FOUND:  7.89852716325\n",
      "At time  7 no need to search, ESS(1.0) =  251.961375355\n",
      "At time "
     ]
    },
    {
     "name": "stdout",
     "output_type": "stream",
     "text": [
      " 6 searching in [ 1.0 24.9967411765 ], FOUND:  1.29839271993\n",
      "At time  6 no need to search, ESS(1.0) =  487.92182872\n",
      "At time "
     ]
    },
    {
     "name": "stdout",
     "output_type": "stream",
     "text": [
      " 5 no need to search, ESS(1.0) =  425.068704582\n",
      "At time  6 searching in [ 1.0 100 ], FOUND:  24.9967411765\n",
      "At time "
     ]
    },
    {
     "name": "stdout",
     "output_type": "stream",
     "text": [
      " 5 searching in [ 1.0 100 ], FOUND:  41.8731668104\n",
      "At time  5 searching in [ 1.0 41.8731668104 ], FOUND:  2.2318294521\n",
      "At time "
     ]
    },
    {
     "name": "stdout",
     "output_type": "stream",
     "text": [
      " 4 searching in [ 1.0 6.28969960132 ], FOUND:  2.11701407148\n",
      "At time  4 no need to search, ESS(1.0) =  370.584175077\n",
      "At time "
     ]
    },
    {
     "name": "stdout",
     "output_type": "stream",
     "text": [
      " 4 searching in [ 1.0 23.4030124431 ], FOUND:  13.2089284454\n",
      "At time  4 searching in [ 1.0 13.2089284454 ], FOUND:  6.28969960132\n",
      "At time "
     ]
    },
    {
     "name": "stdout",
     "output_type": "stream",
     "text": [
      " 4 searching in [ 1.0 136.420626575 ], FOUND:  50.2801557847\n",
      "At time  4 searching in [ 1.0 50.2801557847 ], FOUND:  23.4030124431\n",
      "At time "
     ]
    },
    {
     "name": "stdout",
     "output_type": "stream",
     "text": [
      " 4 searching in [ 1.0 10000 ], FOUND:  399.111448478\n",
      "At time  4 searching in [ 1.0 399.111448478 ], FOUND:  136.420626575\n",
      "At time "
     ]
    },
    {
     "name": "stdout",
     "output_type": "stream",
     "text": [
      " 3 searching in [ 1.0 7.26049101478 ], FOUND:  2.3094824014\n",
      "At time  3 no need to search, ESS(1.0) =  343.765605702\n",
      "At time "
     ]
    },
    {
     "name": "stdout",
     "output_type": "stream",
     "text": [
      " 3 searching in [ 1.0 31.1210753288 ], FOUND:  15.6954580112\n",
      "At time  3 searching in [ 1.0 15.6954580112 ], FOUND:  7.26049101478\n",
      "At time "
     ]
    },
    {
     "name": "stdout",
     "output_type": "stream",
     "text": [
      " 3 searching in [ 1.0 173.607929925 ], FOUND:  70.3704399085\n",
      "At time  3 searching in [ 1.0 70.3704399085 ], FOUND:  31.1210753288\n",
      "At time "
     ]
    },
    {
     "name": "stdout",
     "output_type": "stream",
     "text": [
      " 3 searching in [ 1.0 10000 ], FOUND:  572.937835194\n",
      "At time  3 searching in [ 1.0 572.937835194 ], FOUND:  173.607929925\n",
      "At time "
     ]
    },
    {
     "name": "stdout",
     "output_type": "stream",
     "text": [
      " 2 searching in [ 1.0 100 ], FOUND:  6.9464891744\n",
      "At time  2 no need to search, ESS(1.0) =  266.713359388\n",
      "At time "
     ]
    },
    {
     "name": "stdout",
     "output_type": "stream",
     "text": [
      " 1 searching in [ 1.0 100 ], FOUND:  9.70868491884\n",
      "At time  1 no need to search, ESS(1.0) =  203.954246486\n",
      "At time "
     ]
    },
    {
     "name": "stdout",
     "output_type": "stream",
     "text": [
      " 0 searching in [ 1.0 100 ], FOUND:  14.8212282512\n",
      "At time  0 no need to search, ESS(1.0) =  170.89544614\n",
      "At time "
     ]
    },
    {
     "name": "stdout",
     "output_type": "stream",
     "text": [
      " 9 no need to search, ESS(1.0) =  465.257745423\n",
      "At time "
     ]
    },
    {
     "name": "stdout",
     "output_type": "stream",
     "text": [
      " 9 searching in [ 1.0 100 ], FOUND:  34.2922049127\n",
      "At time  9 searching in [ 1.0 34.2922049127 ], FOUND:  1.56627428874\n",
      "At time "
     ]
    },
    {
     "name": "stdout",
     "output_type": "stream",
     "text": [
      " 8 searching in [ 1.0 100 ], FOUND:  7.33628996553\n",
      "At time  8 no need to search, ESS(1.0) =  265.440935977\n",
      "At time "
     ]
    },
    {
     "name": "stdout",
     "output_type": "stream",
     "text": [
      " 7 searching in [ 1.0 100 ], FOUND:  11.820461881\n",
      "At time  7 no need to search, ESS(1.0) =  183.672334266\n",
      "At time "
     ]
    },
    {
     "name": "stdout",
     "output_type": "stream",
     "text": [
      " 6 searching in [ 1.0 100 ], FOUND:  14.3625739801\n",
      "At time  6 no need to search, ESS(1.0) =  171.399355646\n",
      "At time "
     ]
    },
    {
     "name": "stdout",
     "output_type": "stream",
     "text": [
      " 5 searching in [ 1.0 24.0154337728 ], FOUND:  1.42198688393\n",
      "At time  5 no need to search, ESS(1.0) =  476.509482113\n",
      "At time "
     ]
    },
    {
     "name": "stdout",
     "output_type": "stream",
     "text": [
      " 4 no need to search, ESS(1.0) =  226.90955337\n",
      "At time  5 searching in [ 1.0 100 ], FOUND:  24.0154337728\n",
      "At time "
     ]
    },
    {
     "name": "stdout",
     "output_type": "stream",
     "text": [
      " 4 searching in [ 1.0 14.4440325301 ], FOUND:  8.36862711334\n",
      "At time  4 searching in [ 1.0 8.36862711334 ], FOUND:  3.16584886394\n",
      "At time "
     ]
    },
    {
     "name": "stdout",
     "output_type": "stream",
     "text": [
      " 4 searching in [ 1.0 42.7192118263 ], FOUND:  23.8918349268\n",
      "At time  4 searching in [ 1.0 23.8918349268 ], FOUND:  14.4440325301\n",
      "At time "
     ]
    },
    {
     "name": "stdout",
     "output_type": "stream",
     "text": [
      " 4 searching in [ 1.0 290.659673178 ], FOUND:  97.6451873287\n",
      "At time  4 searching in [ 1.0 97.6451873287 ], FOUND:  42.7192118263\n",
      "At time "
     ]
    },
    {
     "name": "stdout",
     "output_type": "stream",
     "text": [
      " 3 no need to search, ESS(1.0) =  491.903083204\n",
      "At time  4 searching in [ 1.0 10000 ], FOUND:  290.659673178\n",
      "At time "
     ]
    },
    {
     "name": "stdout",
     "output_type": "stream",
     "text": [
      " 3 searching in [ 1.0 12.5735371525 ], FOUND:  5.68743144258\n",
      "At time  3 searching in [ 1.0 5.68743144258 ], FOUND:  1.15957503649\n",
      "At time "
     ]
    },
    {
     "name": "stdout",
     "output_type": "stream",
     "text": [
      " 3 searching in [ 1.0 41.3155932616 ], FOUND:  21.821249127\n",
      "At time  3 searching in [ 1.0 21.821249127 ], FOUND:  12.5735371525\n",
      "At time "
     ]
    },
    {
     "name": "stdout",
     "output_type": "stream",
     "text": [
      " 3 searching in [ 1.0 330.834962731 ], FOUND:  108.870304848\n",
      "At time  3 searching in [ 1.0 108.870304848 ], FOUND:  41.3155932616\n",
      "At time "
     ]
    },
    {
     "name": "stdout",
     "output_type": "stream",
     "text": [
      " 2 no need to search, ESS(1.0) =  489.422349623\n",
      "At time  3 searching in [ 1.0 10000 ], FOUND:  330.834962731\n",
      "At time "
     ]
    },
    {
     "name": "stdout",
     "output_type": "stream",
     "text": [
      " 2 searching in [ 1.0 100 ], FOUND:  25.4395831994\n",
      "At time  2 searching in [ 1.0 25.4395831994 ], FOUND:  1.25370219204\n",
      "At time "
     ]
    },
    {
     "name": "stdout",
     "output_type": "stream",
     "text": [
      " 1 searching in [ 1.0 100 ], FOUND:  5.98217799274\n",
      "At time  1 no need to search, ESS(1.0) =  284.972086667\n",
      "At time "
     ]
    },
    {
     "name": "stdout",
     "output_type": "stream",
     "text": [
      " 0 searching in [ 1.0 100 ], FOUND:  17.3465889366\n",
      "At time  0 no need to search, ESS(1.0) =  177.430867706\n",
      "At time "
     ]
    },
    {
     "name": "stdout",
     "output_type": "stream",
     "text": [
      " 9 searching in [ 1.0 32.1286939566 ], FOUND:  1.63968728829\n",
      "At time  9 no need to search, ESS(1.0) =  461.152784393\n",
      "At time "
     ]
    },
    {
     "name": "stdout",
     "output_type": "stream",
     "text": [
      " 8 no need to search, ESS(1.0) =  268.552659394\n",
      "At time  9 searching in [ 1.0 100 ], FOUND:  32.1286939566\n",
      "At time "
     ]
    },
    {
     "name": "stdout",
     "output_type": "stream",
     "text": [
      " 7 no need to search, ESS(1.0) =  226.136645618\n",
      "At time  8 searching in [ 1.0 100 ], FOUND:  6.64934296641\n",
      "At time "
     ]
    },
    {
     "name": "stdout",
     "output_type": "stream",
     "text": [
      " 6 no need to search, ESS(1.0) =  491.617932336\n",
      "At time  7 searching in [ 1.0 100 ], FOUND:  10.4690647333\n",
      "At time "
     ]
    },
    {
     "name": "stdout",
     "output_type": "stream",
     "text": [
      " 6 searching in [ 1.0 100 ], FOUND:  22.1367200731\n",
      "At time  6 searching in [ 1.0 22.1367200731 ], FOUND:  1.26716684289\n",
      "At time "
     ]
    },
    {
     "name": "stdout",
     "output_type": "stream",
     "text": [
      " 5 searching in [ 1.0 28.31161343 ], FOUND:  2.02119748417\n",
      "At time  5 no need to search, ESS(1.0) =  421.886010543\n",
      "At time "
     ]
    },
    {
     "name": "stdout",
     "output_type": "stream",
     "text": [
      " 4 no need to search, ESS(1.0) =  467.929918853\n",
      "At time  5 searching in [ 1.0 100 ], FOUND:  28.31161343\n",
      "At time "
     ]
    },
    {
     "name": "stdout",
     "output_type": "stream",
     "text": [
      " 4 searching in [ 1.0 12.2451267088 ], FOUND:  5.55420802601\n",
      "At time  4 searching in [ 1.0 5.55420802601 ], FOUND:  1.33381735269\n",
      "At time "
     ]
    },
    {
     "name": "stdout",
     "output_type": "stream",
     "text": [
      " 4 searching in [ 1.0 45.0779533678 ], FOUND:  22.1829287392\n",
      "At time  4 searching in [ 1.0 22.1829287392 ], FOUND:  12.2451267088\n",
      "At time "
     ]
    },
    {
     "name": "stdout",
     "output_type": "stream",
     "text": [
      " 4 searching in [ 1.0 336.541254113 ], FOUND:  113.63007338\n",
      "At time  4 searching in [ 1.0 113.63007338 ], FOUND:  45.0779533678\n",
      "At time "
     ]
    },
    {
     "name": "stdout",
     "output_type": "stream",
     "text": [
      " 3 no need to search, ESS(1.0) =  453.146231739\n",
      "At time  4 searching in [ 1.0 10000 ], FOUND:  336.541254113\n",
      "At time "
     ]
    },
    {
     "name": "stdout",
     "output_type": "stream",
     "text": [
      " 3 searching in [ 1.0 12.394141297 ], FOUND:  5.70058136457\n",
      "At time  3 searching in [ 1.0 5.70058136457 ], FOUND:  1.48396819599\n",
      "At time "
     ]
    },
    {
     "name": "stdout",
     "output_type": "stream",
     "text": [
      " 3 searching in [ 1.0 49.3444820826 ], FOUND:  23.167358659\n",
      "At time  3 searching in [ 1.0 23.167358659 ], FOUND:  12.394141297\n",
      "At time "
     ]
    },
    {
     "name": "stdout",
     "output_type": "stream",
     "text": [
      " 3 searching in [ 1.0 326.025758506 ], FOUND:  119.096853825\n",
      "At time  3 searching in [ 1.0 119.096853825 ], FOUND:  49.3444820826\n",
      "At time "
     ]
    },
    {
     "name": "stdout",
     "output_type": "stream",
     "text": [
      " 2 no need to search, ESS(1.0) =  495.817061982\n",
      "At time  3 searching in [ 1.0 10000 ], FOUND:  326.025758506\n",
      "At time "
     ]
    },
    {
     "name": "stdout",
     "output_type": "stream",
     "text": [
      " 2 searching in [ 1.0 100 ], FOUND:  22.9414416065\n",
      "At time  2 searching in [ 1.0 22.9414416065 ], FOUND:  1.14090761372\n",
      "At time "
     ]
    },
    {
     "name": "stdout",
     "output_type": "stream",
     "text": [
      " 1 searching in [ 1.0 100 ], FOUND:  5.91894275479\n",
      "At time  1 no need to search, ESS(1.0) =  297.806679766\n",
      "At time "
     ]
    },
    {
     "name": "stdout",
     "output_type": "stream",
     "text": [
      " 0 searching in [ 1.0 100 ], FOUND:  16.8303310236\n",
      "At time  0 no need to search, ESS(1.0) =  171.189443543\n",
      "At time "
     ]
    },
    {
     "name": "stdout",
     "output_type": "stream",
     "text": [
      " 9 searching in [ 1.0 39.219206352 ], FOUND:  1.64613589514\n",
      "At time  9 no need to search, ESS(1.0) =  467.860515835\n",
      "At time "
     ]
    },
    {
     "name": "stdout",
     "output_type": "stream",
     "text": [
      " 8 no need to search, ESS(1.0) =  267.562776976\n",
      "At time  9 searching in [ 1.0 100 ], FOUND:  39.219206352\n",
      "At time "
     ]
    },
    {
     "name": "stdout",
     "output_type": "stream",
     "text": [
      " 7 no need to search, ESS(1.0) =  244.268016308\n",
      "At time  8 searching in [ 1.0 100 ], FOUND:  6.85087887033\n",
      "At time "
     ]
    },
    {
     "name": "stdout",
     "output_type": "stream",
     "text": [
      " 6 no need to search, ESS(1.0) =  177.831537832\n",
      "At time  7 searching in [ 1.0 100 ], FOUND:  7.5937906865\n",
      "At time "
     ]
    },
    {
     "name": "stdout",
     "output_type": "stream",
     "text": [
      " 5 no need to search, ESS(1.0) =  465.827676152\n",
      "At time  6 searching in [ 1.0 100 ], FOUND:  17.8468080772\n",
      "At time "
     ]
    },
    {
     "name": "stdout",
     "output_type": "stream",
     "text": [
      " 5 searching in [ 1.0 100 ], FOUND:  23.6146565613\n",
      "At time  5 searching in [ 1.0 23.6146565613 ], FOUND:  1.52563361037\n",
      "At time "
     ]
    },
    {
     "name": "stdout",
     "output_type": "stream",
     "text": [
      " 4 searching in [ 1.0 4.76957180055 ], FOUND:  1.07359145697\n",
      "At time  4 no need to search, ESS(1.0) =  498.011832542\n",
      "At time "
     ]
    },
    {
     "name": "stdout",
     "output_type": "stream",
     "text": [
      " 4 searching in [ 1.0 53.9969742755 ], FOUND:  14.6239678938\n",
      "At time  4 searching in [ 1.0 14.6239678938 ], FOUND:  4.76957180055\n",
      "At time "
     ]
    },
    {
     "name": "stdout",
     "output_type": "stream",
     "text": [
      " 4 searching in [ 1.0 332.085023936 ], FOUND:  146.507769861\n",
      "At time  4 searching in [ 1.0 146.507769861 ], FOUND:  53.9969742755\n",
      "At time "
     ]
    },
    {
     "name": "stdout",
     "output_type": "stream",
     "text": [
      " 3 no need to search, ESS(1.0) =  499.583049415\n",
      "At time  4 searching in [ 1.0 10000 ], FOUND:  332.085023936\n",
      "At time "
     ]
    },
    {
     "name": "stdout",
     "output_type": "stream",
     "text": [
      " 3 searching in [ 1.0 10.1052644656 ], FOUND:  4.88271764966\n",
      "At time  3 searching in [ 1.0 4.88271764966 ], FOUND:  1.03747341195\n",
      "At time "
     ]
    },
    {
     "name": "stdout",
     "output_type": "stream",
     "text": [
      " 3 searching in [ 1.0 32.9633790852 ], FOUND:  18.0477205089\n",
      "At time  3 searching in [ 1.0 18.0477205089 ], FOUND:  10.1052644656\n",
      "At time "
     ]
    },
    {
     "name": "stdout",
     "output_type": "stream",
     "text": [
      " 3 searching in [ 1.0 142.695794725 ], FOUND:  64.1263774205\n",
      "At time  3 searching in [ 1.0 64.1263774205 ], FOUND:  32.9633790852\n",
      "At time "
     ]
    },
    {
     "name": "stdout",
     "output_type": "stream",
     "text": [
      " 3 searching in [ 1.0 10000 ], FOUND:  543.324543043\n",
      "At time  3 searching in [ 1.0 543.324543043 ], FOUND:  142.695794725\n",
      "At time "
     ]
    },
    {
     "name": "stdout",
     "output_type": "stream",
     "text": [
      " 2 searching in [ 1.0 100 ], FOUND:  6.86050703938\n",
      "At time  2 no need to search, ESS(1.0) =  266.525658926\n",
      "At time "
     ]
    },
    {
     "name": "stdout",
     "output_type": "stream",
     "text": [
      " 1 searching in [ 1.0 100 ], FOUND:  8.81445778591\n",
      "At time  1 no need to search, ESS(1.0) =  240.25807941\n",
      "At time "
     ]
    },
    {
     "name": "stdout",
     "output_type": "stream",
     "text": [
      " 0 searching in [ 1.0 100 ], FOUND:  16.6841524248\n",
      "At time  0 no need to search, ESS(1.0) =  181.741007616\n",
      "At time "
     ]
    },
    {
     "name": "stdout",
     "output_type": "stream",
     "text": [
      " 9 searching in [ 1.0 30.8235960922 ], FOUND:  1.32660645112\n",
      "At time  9 no need to search, ESS(1.0) =  483.936523948\n",
      "At time "
     ]
    },
    {
     "name": "stdout",
     "output_type": "stream",
     "text": [
      " 8 no need to search, ESS(1.0) =  274.719405306\n",
      "At time  9 searching in [ 1.0 100 ], FOUND:  30.8235960922\n",
      "At time "
     ]
    },
    {
     "name": "stdout",
     "output_type": "stream",
     "text": [
      " 7 no need to search, ESS(1.0) =  191.343592604\n",
      "At time  8 searching in [ 1.0 100 ], FOUND:  6.78731142081\n",
      "At time "
     ]
    },
    {
     "name": "stdout",
     "output_type": "stream",
     "text": [
      " 6 no need to search, ESS(1.0) =  427.68546544\n",
      "At time  7 searching in [ 1.0 100 ], FOUND:  14.7168135674\n",
      "At time "
     ]
    },
    {
     "name": "stdout",
     "output_type": "stream",
     "text": [
      " 6 searching in [ 1.0 100 ], FOUND:  34.454179147\n",
      "At time  6 searching in [ 1.0 34.454179147 ], FOUND:  1.99293892248\n",
      "At time "
     ]
    },
    {
     "name": "stdout",
     "output_type": "stream",
     "text": [
      " 5 searching in [ 1.0 41.9553910049 ], FOUND:  3.58488166299\n",
      "At time  5 no need to search, ESS(1.0) =  350.36896709\n",
      "At time "
     ]
    },
    {
     "name": "stdout",
     "output_type": "stream",
     "text": [
      " 4 no need to search, ESS(1.0) =  381.451402619\n",
      "At time  5 searching in [ 1.0 100 ], FOUND:  41.9553910049\n",
      "At time "
     ]
    },
    {
     "name": "stdout",
     "output_type": "stream",
     "text": [
      " 4 searching in [ 1.0 13.6184226617 ], FOUND:  6.54079107693\n",
      "At time  4 searching in [ 1.0 6.54079107693 ], FOUND:  1.96124228492\n",
      "At time "
     ]
    },
    {
     "name": "stdout",
     "output_type": "stream",
     "text": [
      " 4 searching in [ 1.0 46.2345283942 ], FOUND:  24.7946719444\n",
      "At time  4 searching in [ 1.0 24.7946719444 ], FOUND:  13.6184226617\n",
      "At time "
     ]
    },
    {
     "name": "stdout",
     "output_type": "stream",
     "text": [
      " 4 searching in [ 1.0 298.86934145 ], FOUND:  102.11577676\n",
      "At time  4 searching in [ 1.0 102.11577676 ], FOUND:  46.2345283942\n",
      "At time "
     ]
    },
    {
     "name": "stdout",
     "output_type": "stream",
     "text": [
      " 3 no need to search, ESS(1.0) =  202.925779154\n",
      "At time  4 searching in [ 1.0 10000 ], FOUND:  298.86934145\n",
      "At time "
     ]
    },
    {
     "name": "stdout",
     "output_type": "stream",
     "text": [
      " 3 searching in [ 1.0 26.7791801252 ], FOUND:  12.0077453949\n",
      "At time  3 searching in [ 1.0 12.0077453949 ], FOUND:  4.38493765968\n",
      "At time "
     ]
    },
    {
     "name": "stdout",
     "output_type": "stream",
     "text": [
      " 3 searching in [ 1.0 181.894008284 ], FOUND:  64.7316755583\n",
      "At time  3 searching in [ 1.0 64.7316755583 ], FOUND:  26.7791801252\n",
      "At time "
     ]
    },
    {
     "name": "stdout",
     "output_type": "stream",
     "text": [
      " 3 searching in [ 1.0 10000 ], FOUND:  572.623902978\n",
      "At time  3 searching in [ 1.0 572.623902978 ], FOUND:  181.894008284\n",
      "At time "
     ]
    },
    {
     "name": "stdout",
     "output_type": "stream",
     "text": [
      " 2 searching in [ 1.0 100 ], FOUND:  6.02902149542\n",
      "At time  2 no need to search, ESS(1.0) =  288.067302317\n",
      "At time "
     ]
    },
    {
     "name": "stdout",
     "output_type": "stream",
     "text": [
      " 1 searching in [ 1.0 100 ], FOUND:  7.5953076529\n",
      "At time  1 no need to search, ESS(1.0) =  247.67597889\n",
      "At time "
     ]
    },
    {
     "name": "stdout",
     "output_type": "stream",
     "text": [
      " 0 searching in [ 1.0 100 ], FOUND:  16.4111622167\n",
      "At time  0 no need to search, ESS(1.0) =  176.395011714\n",
      "At time "
     ]
    },
    {
     "name": "stdout",
     "output_type": "stream",
     "text": [
      " 9 searching in [ 1.0 34.4855919292 ], FOUND:  1.6876427759\n",
      "At time  9 no need to search, ESS(1.0) =  462.450759555\n",
      "At time "
     ]
    },
    {
     "name": "stdout",
     "output_type": "stream",
     "text": [
      " 8 no need to search, ESS(1.0) =  257.898134398\n",
      "At time  9 searching in [ 1.0 100 ], FOUND:  34.4855919292\n",
      "At time "
     ]
    },
    {
     "name": "stdout",
     "output_type": "stream",
     "text": [
      " 7 no need to search, ESS(1.0) =  235.647547292\n",
      "At time  8 searching in [ 1.0 100 ], FOUND:  7.98506233709\n",
      "At time "
     ]
    },
    {
     "name": "stdout",
     "output_type": "stream",
     "text": [
      " 6 no need to search, ESS(1.0) =  168.116012009\n",
      "At time  7 searching in [ 1.0 100 ], FOUND:  10.9566139602\n",
      "At time "
     ]
    },
    {
     "name": "stdout",
     "output_type": "stream",
     "text": [
      " 5 no need to search, ESS(1.0) =  433.050320732\n",
      "At time  6 searching in [ 1.0 100 ], FOUND:  18.9451067677\n",
      "At time "
     ]
    },
    {
     "name": "stdout",
     "output_type": "stream",
     "text": [
      " 5 searching in [ 1.0 100 ], FOUND:  30.5180459898\n",
      "At time  5 searching in [ 1.0 30.5180459898 ], FOUND:  1.94748461418\n",
      "At time "
     ]
    },
    {
     "name": "stdout",
     "output_type": "stream",
     "text": [
      " 4 searching in [ 1.0 5.69004737371 ], FOUND:  1.61854497841\n",
      "At time  4 no need to search, ESS(1.0) =  434.807628731\n",
      "At time "
     ]
    },
    {
     "name": "stdout",
     "output_type": "stream",
     "text": [
      " 4 searching in [ 1.0 30.0040682763 ], FOUND:  12.7006967054\n",
      "At time  4 searching in [ 1.0 12.7006967054 ], FOUND:  5.69004737371\n",
      "At time "
     ]
    },
    {
     "name": "stdout",
     "output_type": "stream",
     "text": [
      " 4 searching in [ 1.0 158.123504751 ], FOUND:  73.8226050009\n",
      "At time  4 searching in [ 1.0 73.8226050009 ], FOUND:  30.0040682763\n",
      "At time "
     ]
    },
    {
     "name": "stdout",
     "output_type": "stream",
     "text": [
      " 4 searching in [ 1.0 10000 ], FOUND:  487.797500926\n",
      "At time  4 searching in [ 1.0 487.797500926 ], FOUND:  158.123504751\n",
      "At time "
     ]
    },
    {
     "name": "stdout",
     "output_type": "stream",
     "text": [
      " 3 searching in [ 1.0 8.00823859989 ], FOUND:  3.29562562698\n",
      "At time  3 no need to search, ESS(1.0) =  263.268112381\n",
      "At time "
     ]
    },
    {
     "name": "stdout",
     "output_type": "stream",
     "text": [
      " 3 searching in [ 1.0 29.3492962393 ], FOUND:  15.8283625155\n",
      "At time  3 searching in [ 1.0 15.8283625155 ], FOUND:  8.00823859989\n",
      "At time "
     ]
    },
    {
     "name": "stdout",
     "output_type": "stream",
     "text": [
      " 3 searching in [ 1.0 168.090281977 ], FOUND:  62.5134234478\n",
      "At time  3 searching in [ 1.0 62.5134234478 ], FOUND:  29.3492962393\n",
      "At time "
     ]
    },
    {
     "name": "stdout",
     "output_type": "stream",
     "text": [
      " 3 searching in [ 1.0 10000 ], FOUND:  535.746290298\n",
      "At time  3 searching in [ 1.0 535.746290298 ], FOUND:  168.090281977\n",
      "At time "
     ]
    },
    {
     "name": "stdout",
     "output_type": "stream",
     "text": [
      " 2 searching in [ 1.0 100 ], FOUND:  6.58996514003\n",
      "At time  2 no need to search, ESS(1.0) =  263.475852209\n",
      "At time "
     ]
    },
    {
     "name": "stdout",
     "output_type": "stream",
     "text": [
      " 1 searching in [ 1.0 100 ], FOUND:  8.22583353525\n",
      "At time  1 no need to search, ESS(1.0) =  233.805568922\n",
      "At time "
     ]
    },
    {
     "name": "stdout",
     "output_type": "stream",
     "text": [
      " 0 searching in [ 1.0 100 ], FOUND:  18.2455372349\n",
      "At time  0 no need to search, ESS(1.0) =  188.195666558\n",
      "At time "
     ]
    },
    {
     "name": "stdout",
     "output_type": "stream",
     "text": [
      " 9 no need to search, ESS(1.0) =  469.498094224\n",
      "At time "
     ]
    },
    {
     "name": "stdout",
     "output_type": "stream",
     "text": [
      " 9 searching in [ 1.0 100 ], FOUND:  29.8292677334\n",
      "At time  9 searching in [ 1.0 29.8292677334 ], FOUND:  1.57027331117\n",
      "At time "
     ]
    },
    {
     "name": "stdout",
     "output_type": "stream",
     "text": [
      " 8 searching in [ 1.0 100 ], FOUND:  5.98942138848\n",
      "At time  8 no need to search, ESS(1.0) =  275.305050456\n",
      "At time "
     ]
    },
    {
     "name": "stdout",
     "output_type": "stream",
     "text": [
      " 7 searching in [ 1.0 100 ], FOUND:  9.5976888068\n",
      "At time  7 no need to search, ESS(1.0) =  229.001583738\n",
      "At time "
     ]
    },
    {
     "name": "stdout",
     "output_type": "stream",
     "text": [
      " 6 searching in [ 1.0 100 ], FOUND:  16.6227255283\n",
      "At time  6 no need to search, ESS(1.0) =  180.656936143\n",
      "At time "
     ]
    },
    {
     "name": "stdout",
     "output_type": "stream",
     "text": [
      " 5 searching in [ 1.0 27.0317274343 ], FOUND:  1.71167147423\n",
      "At time  5 no need to search, ESS(1.0) =  459.246887132\n",
      "At time "
     ]
    },
    {
     "name": "stdout",
     "output_type": "stream",
     "text": [
      " 4 no need to search, ESS(1.0) =  456.490896936\n",
      "At time  5 searching in [ 1.0 100 ], FOUND:  27.0317274343\n",
      "At time "
     ]
    },
    {
     "name": "stdout",
     "output_type": "stream",
     "text": [
      " 4 searching in [ 1.0 14.700262199 ], FOUND:  7.43260797162\n",
      "At time  4 searching in [ 1.0 7.43260797162 ], FOUND:  1.57816276982\n",
      "At time "
     ]
    },
    {
     "name": "stdout",
     "output_type": "stream",
     "text": [
      " 4 searching in [ 1.0 48.8748663986 ], FOUND:  26.2250929847\n",
      "At time  4 searching in [ 1.0 26.2250929847 ], FOUND:  14.700262199\n",
      "At time "
     ]
    },
    {
     "name": "stdout",
     "output_type": "stream",
     "text": [
      " 4 searching in [ 1.0 375.329913082 ], FOUND:  120.884257812\n",
      "At time  4 searching in [ 1.0 120.884257812 ], FOUND:  48.8748663986\n",
      "At time "
     ]
    },
    {
     "name": "stdout",
     "output_type": "stream",
     "text": [
      " 3 no need to search, ESS(1.0) =  359.997983373\n",
      "At time  4 searching in [ 1.0 10000 ], FOUND:  375.329913082\n",
      "At time "
     ]
    },
    {
     "name": "stdout",
     "output_type": "stream",
     "text": [
      " 3 searching in [ 1.0 15.0507726009 ], FOUND:  7.39197603256\n",
      "At time  3 searching in [ 1.0 7.39197603256 ], FOUND:  2.20365837757\n",
      "At time "
     ]
    },
    {
     "name": "stdout",
     "output_type": "stream",
     "text": [
      " 3 searching in [ 1.0 50.2310200629 ], FOUND:  26.5718406482\n",
      "At time  3 searching in [ 1.0 26.5718406482 ], FOUND:  15.0507726009\n",
      "At time "
     ]
    },
    {
     "name": "stdout",
     "output_type": "stream",
     "text": [
      " 3 searching in [ 1.0 296.367671571 ], FOUND:  115.879501507\n",
      "At time  3 searching in [ 1.0 115.879501507 ], FOUND:  50.2310200629\n",
      "At time "
     ]
    },
    {
     "name": "stdout",
     "output_type": "stream",
     "text": [
      " 2 no need to search, ESS(1.0) =  487.079508136\n",
      "At time  3 searching in [ 1.0 10000 ], FOUND:  296.367671571\n",
      "At time "
     ]
    },
    {
     "name": "stdout",
     "output_type": "stream",
     "text": [
      " 2 searching in [ 1.0 100 ], FOUND:  21.6923405613\n",
      "At time  2 searching in [ 1.0 21.6923405613 ], FOUND:  1.27355491383\n",
      "At time "
     ]
    },
    {
     "name": "stdout",
     "output_type": "stream",
     "text": [
      " 1 searching in [ 1.0 100 ], FOUND:  6.636479084\n",
      "At time  1 no need to search, ESS(1.0) =  277.79961412\n",
      "At time "
     ]
    },
    {
     "name": "stdout",
     "output_type": "stream",
     "text": [
      " 0 searching in [ 1.0 100 ], FOUND:  14.4986952349\n",
      "At time  0 no need to search, ESS(1.0) =  191.649747906\n",
      "At time "
     ]
    },
    {
     "name": "stdout",
     "output_type": "stream",
     "text": [
      " 9 no need to search, ESS(1.0) =  262.425480927\n",
      "At time "
     ]
    },
    {
     "name": "stdout",
     "output_type": "stream",
     "text": [
      " 8 no need to search, ESS(1.0) =  237.539606353\n",
      "At time  9 searching in [ 1.0 100 ], FOUND:  6.95332051467\n",
      "At time "
     ]
    },
    {
     "name": "stdout",
     "output_type": "stream",
     "text": [
      " 7 no need to search, ESS(1.0) =  213.443400663\n",
      "At time  8 searching in [ 1.0 100 ], FOUND:  7.60783407971\n",
      "At time "
     ]
    },
    {
     "name": "stdout",
     "output_type": "stream",
     "text": [
      " 6 no need to search, ESS(1.0) =  499.698186002\n",
      "At time  7 searching in [ 1.0 100 ], FOUND:  12.5782321684\n",
      "At time "
     ]
    },
    {
     "name": "stdout",
     "output_type": "stream",
     "text": [
      " 6 searching in [ 1.0 100 ], FOUND:  20.4635160392\n",
      "At time  6 searching in [ 1.0 20.4635160392 ], FOUND:  1.03324626026\n",
      "At time "
     ]
    },
    {
     "name": "stdout",
     "output_type": "stream",
     "text": [
      " 5 searching in [ 1.0 26.9058563506 ], FOUND:  1.77635314255\n",
      "At time  5 no need to search, ESS(1.0) =  443.783245396\n",
      "At time "
     ]
    },
    {
     "name": "stdout",
     "output_type": "stream",
     "text": [
      " 4 no need to search, ESS(1.0) =  466.204555819\n",
      "At time  5 searching in [ 1.0 100 ], FOUND:  26.9058563506\n",
      "At time "
     ]
    },
    {
     "name": "stdout",
     "output_type": "stream",
     "text": [
      " 4 searching in [ 1.0 13.3204301609 ], FOUND:  6.06108665711\n",
      "At time  4 searching in [ 1.0 6.06108665711 ], FOUND:  1.43383689263\n",
      "At time "
     ]
    },
    {
     "name": "stdout",
     "output_type": "stream",
     "text": [
      " 4 searching in [ 1.0 46.5928139483 ], FOUND:  25.4399398816\n",
      "At time  4 searching in [ 1.0 25.4399398816 ], FOUND:  13.3204301609\n",
      "At time "
     ]
    },
    {
     "name": "stdout",
     "output_type": "stream",
     "text": [
      " 4 searching in [ 1.0 320.658776287 ], FOUND:  106.879906978\n",
      "At time  4 searching in [ 1.0 106.879906978 ], FOUND:  46.5928139483\n",
      "At time "
     ]
    },
    {
     "name": "stdout",
     "output_type": "stream",
     "text": [
      " 3 no need to search, ESS(1.0) =  471.53892536\n",
      "At time  4 searching in [ 1.0 10000 ], FOUND:  320.658776287\n",
      "At time "
     ]
    },
    {
     "name": "stdout",
     "output_type": "stream",
     "text": [
      " 3 searching in [ 1.0 12.9428287917 ], FOUND:  5.22403726469\n",
      "At time  3 searching in [ 1.0 5.22403726469 ], FOUND:  1.34192374974\n",
      "At time "
     ]
    },
    {
     "name": "stdout",
     "output_type": "stream",
     "text": [
      " 3 searching in [ 1.0 49.9834959483 ], FOUND:  24.9130274518\n",
      "At time  3 searching in [ 1.0 24.9130274518 ], FOUND:  12.9428287917\n",
      "At time "
     ]
    },
    {
     "name": "stdout",
     "output_type": "stream",
     "text": [
      " 3 searching in [ 1.0 322.629970537 ], FOUND:  111.312192494\n",
      "At time  3 searching in [ 1.0 111.312192494 ], FOUND:  49.9834959483\n",
      "At time "
     ]
    },
    {
     "name": "stdout",
     "output_type": "stream",
     "text": [
      " 2 no need to search, ESS(1.0) =  455.084298799\n",
      "At time  3 searching in [ 1.0 10000 ], FOUND:  322.629970537\n",
      "At time "
     ]
    },
    {
     "name": "stdout",
     "output_type": "stream",
     "text": [
      " 2 searching in [ 1.0 100 ], FOUND:  39.664682688\n",
      "At time  2 searching in [ 1.0 39.664682688 ], FOUND:  1.67709282297\n",
      "At time "
     ]
    },
    {
     "name": "stdout",
     "output_type": "stream",
     "text": [
      " 1 searching in [ 1.0 100 ], FOUND:  7.74109496827\n",
      "At time  1 no need to search, ESS(1.0) =  254.556594644\n",
      "At time "
     ]
    },
    {
     "name": "stdout",
     "output_type": "stream",
     "text": [
      " 0 searching in [ 1.0 100 ], FOUND:  16.841399417\n",
      "At time  0 no need to search, ESS(1.0) =  224.231741441\n",
      "At time "
     ]
    },
    {
     "name": "stdout",
     "output_type": "stream",
     "text": [
      " 9 searching in [ 1.0 100 ], FOUND:  35.0471992038\n",
      "At time  9 no need to search, ESS(1.0) =  167.786682999\n",
      "At time "
     ]
    },
    {
     "name": "stdout",
     "output_type": "stream",
     "text": [
      " 8 searching in [ 1.0 100 ], FOUND:  6.75024924711\n",
      "At time  8 no need to search, ESS(1.0) =  251.366980019\n",
      "At time "
     ]
    },
    {
     "name": "stdout",
     "output_type": "stream",
     "text": [
      " 7 searching in [ 1.0 100 ], FOUND:  10.4424331844\n",
      "At time  7 no need to search, ESS(1.0) =  226.380450744\n",
      "At time "
     ]
    },
    {
     "name": "stdout",
     "output_type": "stream",
     "text": [
      " 6 searching in [ 1.0 34.3906146765 ], FOUND:  1.45007882053\n",
      "At time  6 no need to search, ESS(1.0) =  471.173742951\n",
      "At time "
     ]
    },
    {
     "name": "stdout",
     "output_type": "stream",
     "text": [
      " 5 no need to search, ESS(1.0) =  310.496769343\n",
      "At time  6 searching in [ 1.0 100 ], FOUND:  34.3906146765\n",
      "At time "
     ]
    },
    {
     "name": "stdout",
     "output_type": "stream",
     "text": [
      " 5 searching in [ 1.0 100 ], FOUND:  67.5028396962\n",
      "At time  5 searching in [ 1.0 67.5028396962 ], FOUND:  3.96986686006\n",
      "At time "
     ]
    },
    {
     "name": "stdout",
     "output_type": "stream",
     "text": [
      " 4 searching in [ 1.0 8.46107786336 ], FOUND:  2.79384052678\n",
      "At time  4 no need to search, ESS(1.0) =  291.655769252\n",
      "At time "
     ]
    },
    {
     "name": "stdout",
     "output_type": "stream",
     "text": [
      " 4 searching in [ 1.0 55.2611773438 ], FOUND:  22.0606624216\n",
      "At time  4 searching in [ 1.0 22.0606624216 ], FOUND:  8.46107786336\n",
      "At time "
     ]
    },
    {
     "name": "stdout",
     "output_type": "stream",
     "text": [
      " 4 searching in [ 1.0 303.816567031 ], FOUND:  117.87314111\n",
      "At time  4 searching in [ 1.0 117.87314111 ], FOUND:  55.2611773438\n",
      "At time "
     ]
    },
    {
     "name": "stdout",
     "output_type": "stream",
     "text": [
      " 3 no need to search, ESS(1.0) =  493.607261673\n",
      "At time  4 searching in [ 1.0 10000 ], FOUND:  303.816567031\n",
      "At time "
     ]
    },
    {
     "name": "stdout",
     "output_type": "stream",
     "text": [
      " 3 searching in [ 1.0 12.3984001066 ], FOUND:  5.2265338708\n",
      "At time  3 searching in [ 1.0 5.2265338708 ], FOUND:  1.1479227541\n",
      "At time "
     ]
    },
    {
     "name": "stdout",
     "output_type": "stream",
     "text": [
      " 3 searching in [ 1.0 56.2642866454 ], FOUND:  25.9892233144\n",
      "At time  3 searching in [ 1.0 25.9892233144 ], FOUND:  12.3984001066\n",
      "At time "
     ]
    },
    {
     "name": "stdout",
     "output_type": "stream",
     "text": [
      " 3 searching in [ 1.0 318.610630691 ], FOUND:  122.071554644\n",
      "At time  3 searching in [ 1.0 122.071554644 ], FOUND:  56.2642866454\n",
      "At time "
     ]
    },
    {
     "name": "stdout",
     "output_type": "stream",
     "text": [
      " 2 no need to search, ESS(1.0) =  248.599443518\n",
      "At time  3 searching in [ 1.0 10000 ], FOUND:  318.610630691\n",
      "At time "
     ]
    },
    {
     "name": "stdout",
     "output_type": "stream",
     "text": [
      " 1 no need to search, ESS(1.0) =  247.736647552\n",
      "At time  2 searching in [ 1.0 100 ], FOUND:  6.78776658508\n",
      "At time "
     ]
    },
    {
     "name": "stdout",
     "output_type": "stream",
     "text": [
      " 0 no need to search, ESS(1.0) =  494.958940944\n",
      "At time  1 searching in [ 1.0 100 ], FOUND:  7.81095539397\n",
      "At time "
     ]
    },
    {
     "name": "stdout",
     "output_type": "stream",
     "text": [
      " 0 searching in [ 1.0 100 ], FOUND:  20.4275192145\n",
      "At time  0 searching in [ 1.0 20.4275192145 ], FOUND:  1.17011952027\n",
      "At time "
     ]
    },
    {
     "name": "stdout",
     "output_type": "stream",
     "text": [
      " 9 no need to search, ESS(1.0) =  459.320868714\n",
      "At time "
     ]
    },
    {
     "name": "stdout",
     "output_type": "stream",
     "text": [
      " 9 searching in [ 1.0 100 ], FOUND:  39.5573584822\n",
      "At time  9 searching in [ 1.0 39.5573584822 ], FOUND:  1.71888964749\n",
      "At time "
     ]
    },
    {
     "name": "stdout",
     "output_type": "stream",
     "text": [
      " 8 searching in [ 1.0 100 ], FOUND:  6.57647675541\n",
      "At time  8 no need to search, ESS(1.0) =  257.048996721\n",
      "At time "
     ]
    },
    {
     "name": "stdout",
     "output_type": "stream",
     "text": [
      " 7 searching in [ 1.0 100 ], FOUND:  10.7575933856\n",
      "At time  7 no need to search, ESS(1.0) =  193.570790891\n",
      "At time "
     ]
    },
    {
     "name": "stdout",
     "output_type": "stream",
     "text": [
      " 6 searching in [ 1.0 27.5748194828 ], FOUND:  1.52685080781\n",
      "At time  6 no need to search, ESS(1.0) =  466.141246098\n",
      "At time "
     ]
    },
    {
     "name": "stdout",
     "output_type": "stream",
     "text": [
      " 5 no need to search, ESS(1.0) =  390.834031101\n",
      "At time  6 searching in [ 1.0 100 ], FOUND:  27.5748194828\n",
      "At time "
     ]
    },
    {
     "name": "stdout",
     "output_type": "stream",
     "text": [
      " 5 searching in [ 1.0 100 ], FOUND:  45.7650787005\n",
      "At time  5 searching in [ 1.0 45.7650787005 ], FOUND:  2.74997207617\n",
      "At time "
     ]
    },
    {
     "name": "stdout",
     "output_type": "stream",
     "text": [
      " 4 searching in [ 1.0 8.49908380961 ], FOUND:  2.49080605685\n",
      "At time  4 no need to search, ESS(1.0) =  371.07409592\n",
      "At time "
     ]
    },
    {
     "name": "stdout",
     "output_type": "stream",
     "text": [
      " 4 searching in [ 1.0 51.3460258863 ], FOUND:  20.1602630969\n",
      "At time  4 searching in [ 1.0 20.1602630969 ], FOUND:  8.49908380961\n",
      "At time "
     ]
    },
    {
     "name": "stdout",
     "output_type": "stream",
     "text": [
      " 4 searching in [ 1.0 341.906722099 ], FOUND:  123.639857443\n",
      "At time  4 searching in [ 1.0 123.639857443 ], FOUND:  51.3460258863\n",
      "At time "
     ]
    },
    {
     "name": "stdout",
     "output_type": "stream",
     "text": [
      " 3 no need to search, ESS(1.0) =  433.907125025\n",
      "At time  4 searching in [ 1.0 10000 ], FOUND:  341.906722099\n",
      "At time "
     ]
    },
    {
     "name": "stdout",
     "output_type": "stream",
     "text": [
      " 3 searching in [ 1.0 13.4418487858 ], FOUND:  5.23684426889\n",
      "At time  3 searching in [ 1.0 5.23684426889 ], FOUND:  1.58885476609\n",
      "At time "
     ]
    },
    {
     "name": "stdout",
     "output_type": "stream",
     "text": [
      " 3 searching in [ 1.0 61.5321117079 ], FOUND:  28.5628109372\n",
      "At time  3 searching in [ 1.0 28.5628109372 ], FOUND:  13.4418487858\n",
      "At time "
     ]
    },
    {
     "name": "stdout",
     "output_type": "stream",
     "text": [
      " 3 searching in [ 1.0 496.774297033 ], FOUND:  159.488395692\n",
      "At time  3 searching in [ 1.0 159.488395692 ], FOUND:  61.5321117079\n",
      "At time "
     ]
    },
    {
     "name": "stdout",
     "output_type": "stream",
     "text": [
      " 2 no need to search, ESS(1.0) =  301.527995374\n",
      "At time  3 searching in [ 1.0 10000 ], FOUND:  496.774297033\n",
      "At time "
     ]
    },
    {
     "name": "stdout",
     "output_type": "stream",
     "text": [
      " 1 no need to search, ESS(1.0) =  205.847826884\n",
      "At time  2 searching in [ 1.0 100 ], FOUND:  5.10313088669\n",
      "At time "
     ]
    },
    {
     "name": "stdout",
     "output_type": "stream",
     "text": [
      " 0 no need to search, ESS(1.0) =  499.70548758\n",
      "At time  1 searching in [ 1.0 100 ], FOUND:  10.6103083572\n",
      "At time "
     ]
    },
    {
     "name": "stdout",
     "output_type": "stream",
     "text": [
      " 0 searching in [ 1.0 100 ], FOUND:  18.734359787\n",
      "At time  0 searching in [ 1.0 18.734359787 ], FOUND:  1.03615809317\n",
      "At time "
     ]
    },
    {
     "name": "stdout",
     "output_type": "stream",
     "text": [
      " 9 no need to search, ESS(1.0) =  279.862697766\n",
      "At time "
     ]
    },
    {
     "name": "stdout",
     "output_type": "stream",
     "text": [
      " 8 no need to search, ESS(1.0) =  244.733103623\n",
      "At time  9 searching in [ 1.0 100 ], FOUND:  6.6150787527\n",
      "At time "
     ]
    },
    {
     "name": "stdout",
     "output_type": "stream",
     "text": [
      " 7 no need to search, ESS(1.0) =  235.747087705\n",
      "At time  8 searching in [ 1.0 100 ], FOUND:  7.34856979967\n",
      "At time "
     ]
    },
    {
     "name": "stdout",
     "output_type": "stream",
     "text": [
      " 6 no need to search, ESS(1.0) =  498.904975734\n",
      "At time  7 searching in [ 1.0 100 ], FOUND:  9.96345031187\n",
      "At time "
     ]
    },
    {
     "name": "stdout",
     "output_type": "stream",
     "text": [
      " 6 searching in [ 1.0 100 ], FOUND:  18.1419662194\n",
      "At time  6 searching in [ 1.0 18.1419662194 ], FOUND:  1.06452915892\n",
      "At time "
     ]
    },
    {
     "name": "stdout",
     "output_type": "stream",
     "text": [
      " 5 searching in [ 1.0 25.7157720586 ], FOUND:  1.39301704588\n",
      "At time  5 no need to search, ESS(1.0) =  479.190214846\n",
      "At time "
     ]
    },
    {
     "name": "stdout",
     "output_type": "stream",
     "text": [
      " 4 no need to search, ESS(1.0) =  196.203888597\n",
      "At time  5 searching in [ 1.0 100 ], FOUND:  25.7157720586\n",
      "At time "
     ]
    },
    {
     "name": "stdout",
     "output_type": "stream",
     "text": [
      " 4 searching in [ 1.0 18.4349667646 ], FOUND:  9.89010515162\n",
      "At time  4 searching in [ 1.0 9.89010515162 ], FOUND:  4.05619833868\n",
      "At time "
     ]
    },
    {
     "name": "stdout",
     "output_type": "stream",
     "text": [
      " 4 searching in [ 1.0 65.2046324219 ], FOUND:  32.1733648344\n",
      "At time  4 searching in [ 1.0 32.1733648344 ], FOUND:  18.4349667646\n",
      "At time "
     ]
    },
    {
     "name": "stdout",
     "output_type": "stream",
     "text": [
      " 4 searching in [ 1.0 539.788729259 ], FOUND:  153.999781017\n",
      "At time  4 searching in [ 1.0 153.999781017 ], FOUND:  65.2046324219\n",
      "At time "
     ]
    },
    {
     "name": "stdout",
     "output_type": "stream",
     "text": [
      " 3 no need to search, ESS(1.0) =  272.349620949\n",
      "At time  4 searching in [ 1.0 10000 ], FOUND:  539.788729259\n",
      "At time "
     ]
    },
    {
     "name": "stdout",
     "output_type": "stream",
     "text": [
      " 3 searching in [ 1.0 15.7736138638 ], FOUND:  7.60388176811\n",
      "At time  3 searching in [ 1.0 7.60388176811 ], FOUND:  2.91026459529\n",
      "At time "
     ]
    },
    {
     "name": "stdout",
     "output_type": "stream",
     "text": [
      " 3 searching in [ 1.0 61.6910795341 ], FOUND:  28.8128573108\n",
      "At time  3 searching in [ 1.0 28.8128573108 ], FOUND:  15.7736138638\n",
      "At time "
     ]
    },
    {
     "name": "stdout",
     "output_type": "stream",
     "text": [
      " 3 searching in [ 1.0 531.415098987 ], FOUND:  166.848985808\n",
      "At time  3 searching in [ 1.0 166.848985808 ], FOUND:  61.6910795341\n",
      "At time "
     ]
    },
    {
     "name": "stdout",
     "output_type": "stream",
     "text": [
      " 2 no need to search, ESS(1.0) =  283.268053669\n",
      "At time  3 searching in [ 1.0 10000 ], FOUND:  531.415098987\n",
      "At time "
     ]
    },
    {
     "name": "stdout",
     "output_type": "stream",
     "text": [
      " 1 no need to search, ESS(1.0) =  232.660683773\n",
      "At time  2 searching in [ 1.0 100 ], FOUND:  5.95069177211\n",
      "At time "
     ]
    },
    {
     "name": "stdout",
     "output_type": "stream",
     "text": [
      " 0 no need to search, ESS(1.0) =  499.836041376\n",
      "At time  1 searching in [ 1.0 100 ], FOUND:  8.85645840599\n",
      "At time "
     ]
    },
    {
     "name": "stdout",
     "output_type": "stream",
     "text": [
      " 0 searching in [ 1.0 100 ], FOUND:  20.0325438231\n",
      "At time  0 searching in [ 1.0 20.0325438231 ], FOUND:  1.02755265169\n",
      "At time "
     ]
    },
    {
     "name": "stdout",
     "output_type": "stream",
     "text": [
      " 9 no need to search, ESS(1.0) =  242.990851672\n",
      "At time "
     ]
    },
    {
     "name": "stdout",
     "output_type": "stream",
     "text": [
      " 8 no need to search, ESS(1.0) =  223.698875977\n",
      "At time  9 searching in [ 1.0 100 ], FOUND:  8.96474624913\n",
      "At time "
     ]
    },
    {
     "name": "stdout",
     "output_type": "stream",
     "text": [
      " 7 no need to search, ESS(1.0) =  197.257892392\n",
      "At time  8 searching in [ 1.0 100 ], FOUND:  8.91033458711\n",
      "At time "
     ]
    },
    {
     "name": "stdout",
     "output_type": "stream",
     "text": [
      " 6 no need to search, ESS(1.0) =  470.579158956\n",
      "At time  7 searching in [ 1.0 100 ], FOUND:  10.0840902699\n",
      "At time "
     ]
    },
    {
     "name": "stdout",
     "output_type": "stream",
     "text": [
      " 6 searching in [ 1.0 100 ], FOUND:  29.4530966194\n",
      "At time  6 searching in [ 1.0 29.4530966194 ], FOUND:  1.50420489833\n",
      "At time "
     ]
    },
    {
     "name": "stdout",
     "output_type": "stream",
     "text": [
      " 5 searching in [ 1.0 69.8953048771 ], FOUND:  3.72215805367\n",
      "At time  5 no need to search, ESS(1.0) =  343.944259148\n",
      "At time "
     ]
    },
    {
     "name": "stdout",
     "output_type": "stream",
     "text": [
      " 4 no need to search, ESS(1.0) =  282.676274066\n",
      "At time  5 searching in [ 1.0 100 ], FOUND:  69.8953048771\n",
      "At time "
     ]
    },
    {
     "name": "stdout",
     "output_type": "stream",
     "text": [
      " 4 searching in [ 1.0 26.3694969064 ], FOUND:  9.79243149206\n",
      "At time  4 searching in [ 1.0 9.79243149206 ], FOUND:  3.14825357043\n",
      "At time "
     ]
    },
    {
     "name": "stdout",
     "output_type": "stream",
     "text": [
      " 4 searching in [ 1.0 125.950777963 ], FOUND:  59.5548401461\n",
      "At time  4 searching in [ 1.0 59.5548401461 ], FOUND:  26.3694969064\n",
      "At time "
     ]
    },
    {
     "name": "stdout",
     "output_type": "stream",
     "text": [
      " 4 searching in [ 1.0 10000 ], FOUND:  365.486491306\n",
      "At time  4 searching in [ 1.0 365.486491306 ], FOUND:  125.950777963\n",
      "At time "
     ]
    },
    {
     "name": "stdout",
     "output_type": "stream",
     "text": [
      " 3 searching in [ 1.0 6.44442925232 ], FOUND:  1.71628471936\n",
      "At time  3 no need to search, ESS(1.0) =  413.639481129\n",
      "At time "
     ]
    },
    {
     "name": "stdout",
     "output_type": "stream",
     "text": [
      " 3 searching in [ 1.0 27.2204510229 ], FOUND:  14.0497461304\n",
      "At time  3 searching in [ 1.0 14.0497461304 ], FOUND:  6.44442925232\n",
      "At time "
     ]
    },
    {
     "name": "stdout",
     "output_type": "stream",
     "text": [
      " 3 searching in [ 1.0 111.521847259 ], FOUND:  50.6669724085\n",
      "At time  3 searching in [ 1.0 50.6669724085 ], FOUND:  27.2204510229\n",
      "At time "
     ]
    },
    {
     "name": "stdout",
     "output_type": "stream",
     "text": [
      " 3 searching in [ 1.0 10000 ], FOUND:  314.507047769\n",
      "At time  3 searching in [ 1.0 314.507047769 ], FOUND:  111.521847259\n",
      "At time "
     ]
    },
    {
     "name": "stdout",
     "output_type": "stream",
     "text": [
      " 2 searching in [ 1.0 32.451081362 ], FOUND:  1.30563780454\n",
      "At time  2 no need to search, ESS(1.0) =  488.08517734\n",
      "At time "
     ]
    },
    {
     "name": "stdout",
     "output_type": "stream",
     "text": [
      " 1 no need to search, ESS(1.0) =  261.873957803\n",
      "At time  2 searching in [ 1.0 100 ], FOUND:  32.451081362\n",
      "At time "
     ]
    },
    {
     "name": "stdout",
     "output_type": "stream",
     "text": [
      " 0 no need to search, ESS(1.0) =  498.476288558\n",
      "At time  1 searching in [ 1.0 100 ], FOUND:  8.08893516701\n",
      "At time "
     ]
    },
    {
     "name": "stdout",
     "output_type": "stream",
     "text": [
      " 0 searching in [ 1.0 100 ], FOUND:  15.5279640266\n",
      "At time  0 searching in [ 1.0 15.5279640266 ], FOUND:  1.08837978982\n",
      "At time "
     ]
    },
    {
     "name": "stdout",
     "output_type": "stream",
     "text": [
      " 9 searching in [ 1.0 38.9741431963 ], FOUND:  1.41475101262\n",
      "At time  9 no need to search, ESS(1.0) =  480.504257695\n",
      "At time "
     ]
    },
    {
     "name": "stdout",
     "output_type": "stream",
     "text": [
      " 8 no need to search, ESS(1.0) =  267.888163352\n",
      "At time  9 searching in [ 1.0 100 ], FOUND:  38.9741431963\n",
      "At time "
     ]
    },
    {
     "name": "stdout",
     "output_type": "stream",
     "text": [
      " 7 no need to search, ESS(1.0) =  172.139601849\n",
      "At time  8 searching in [ 1.0 100 ], FOUND:  6.96632401872\n",
      "At time "
     ]
    },
    {
     "name": "stdout",
     "output_type": "stream",
     "text": [
      " 6 no need to search, ESS(1.0) =  385.677548733\n",
      "At time  7 searching in [ 1.0 100 ], FOUND:  16.8492770596\n",
      "At time "
     ]
    },
    {
     "name": "stdout",
     "output_type": "stream",
     "text": [
      " 6 searching in [ 1.0 100 ], FOUND:  54.4961376736\n",
      "At time  6 searching in [ 1.0 54.4961376736 ], FOUND:  2.65252521061\n",
      "At time "
     ]
    },
    {
     "name": "stdout",
     "output_type": "stream",
     "text": [
      " 5 searching in [ 1.0 86.6081845974 ], FOUND:  4.56081346985\n",
      "At time  5 no need to search, ESS(1.0) =  293.124768775\n",
      "At time "
     ]
    },
    {
     "name": "stdout",
     "output_type": "stream",
     "text": [
      " 4 no need to search, ESS(1.0) =  273.419308375\n",
      "At time  5 searching in [ 1.0 100 ], FOUND:  86.6081845974\n",
      "At time "
     ]
    },
    {
     "name": "stdout",
     "output_type": "stream",
     "text": [
      " 4 searching in [ 1.0 20.5854200829 ], FOUND:  9.22177646155\n",
      "At time  4 searching in [ 1.0 9.22177646155 ], FOUND:  3.11758382772\n",
      "At time "
     ]
    },
    {
     "name": "stdout",
     "output_type": "stream",
     "text": [
      " 4 searching in [ 1.0 118.385128915 ], FOUND:  48.1745539075\n",
      "At time  4 searching in [ 1.0 48.1745539075 ], FOUND:  20.5854200829\n",
      "At time "
     ]
    },
    {
     "name": "stdout",
     "output_type": "stream",
     "text": [
      " 4 searching in [ 1.0 10000 ], FOUND:  313.370305585\n",
      "At time  4 searching in [ 1.0 313.370305585 ], FOUND:  118.385128915\n",
      "At time "
     ]
    },
    {
     "name": "stdout",
     "output_type": "stream",
     "text": [
      " 3 searching in [ 1.0 12.7450954714 ], FOUND:  5.11767500561\n",
      "At time  3 no need to search, ESS(1.0) =  171.138986501\n",
      "At time "
     ]
    },
    {
     "name": "stdout",
     "output_type": "stream",
     "text": [
      " 3 searching in [ 1.0 51.475234635 ], FOUND:  24.9269471272\n",
      "At time  3 searching in [ 1.0 24.9269471272 ], FOUND:  12.7450954714\n",
      "At time "
     ]
    },
    {
     "name": "stdout",
     "output_type": "stream",
     "text": [
      " 3 searching in [ 1.0 314.37781651 ], FOUND:  118.334360755\n",
      "At time  3 searching in [ 1.0 118.334360755 ], FOUND:  51.475234635\n",
      "At time "
     ]
    },
    {
     "name": "stdout",
     "output_type": "stream",
     "text": [
      " 2 no need to search, ESS(1.0) =  484.128824385\n",
      "At time  3 searching in [ 1.0 10000 ], FOUND:  314.37781651\n",
      "At time "
     ]
    },
    {
     "name": "stdout",
     "output_type": "stream",
     "text": [
      " 2 searching in [ 1.0 100 ], FOUND:  28.5820473626\n",
      "At time  2 searching in [ 1.0 28.5820473626 ], FOUND:  1.39210125132\n",
      "At time "
     ]
    },
    {
     "name": "stdout",
     "output_type": "stream",
     "text": [
      " 1 searching in [ 1.0 100 ], FOUND:  8.34613180275\n",
      "At time  1 no need to search, ESS(1.0) =  272.425792456\n",
      "At time "
     ]
    },
    {
     "name": "stdout",
     "output_type": "stream",
     "text": [
      " 0 searching in [ 1.0 100 ], FOUND:  17.7960618734\n",
      "At time  0 no need to search, ESS(1.0) =  198.447721974\n",
      "At time "
     ]
    },
    {
     "name": "stdout",
     "output_type": "stream",
     "text": [
      " 9 no need to search, ESS(1.0) =  307.90510917\n",
      "At time "
     ]
    },
    {
     "name": "stdout",
     "output_type": "stream",
     "text": [
      " 8 no need to search, ESS(1.0) =  237.961338028\n",
      "At time  9 searching in [ 1.0 100 ], FOUND:  5.37337594042\n",
      "At time "
     ]
    },
    {
     "name": "stdout",
     "output_type": "stream",
     "text": [
      " 7 no need to search, ESS(1.0) =  226.791627621\n",
      "At time  8 searching in [ 1.0 100 ], FOUND:  8.09411057722\n",
      "At time "
     ]
    },
    {
     "name": "stdout",
     "output_type": "stream",
     "text": [
      " 6 no need to search, ESS(1.0) =  482.218725457\n",
      "At time  7 searching in [ 1.0 100 ], FOUND:  8.79879115988\n",
      "At time "
     ]
    },
    {
     "name": "stdout",
     "output_type": "stream",
     "text": [
      " 6 searching in [ 1.0 100 ], FOUND:  18.678187071\n",
      "At time  6 searching in [ 1.0 18.678187071 ], FOUND:  1.32261200016\n",
      "At time "
     ]
    },
    {
     "name": "stdout",
     "output_type": "stream",
     "text": [
      " 5 searching in [ 1.0 25.4555105481 ], FOUND:  1.65770199231\n",
      "At time  5 no need to search, ESS(1.0) =  460.851409431\n",
      "At time "
     ]
    },
    {
     "name": "stdout",
     "output_type": "stream",
     "text": [
      " 4 no need to search, ESS(1.0) =  496.484325365\n",
      "At time  5 searching in [ 1.0 100 ], FOUND:  25.4555105481\n",
      "At time "
     ]
    },
    {
     "name": "stdout",
     "output_type": "stream",
     "text": [
      " 4 searching in [ 1.0 11.5393021369 ], FOUND:  4.72494348673\n",
      "At time  4 searching in [ 1.0 4.72494348673 ], FOUND:  1.09863669911\n",
      "At time "
     ]
    },
    {
     "name": "stdout",
     "output_type": "stream",
     "text": [
      " 4 searching in [ 1.0 58.9991650737 ], FOUND:  24.8947844988\n",
      "At time  4 searching in [ 1.0 24.8947844988 ], FOUND:  11.5393021369\n",
      "At time "
     ]
    },
    {
     "name": "stdout",
     "output_type": "stream",
     "text": [
      " 4 searching in [ 1.0 473.325599262 ], FOUND:  158.484396921\n",
      "At time  4 searching in [ 1.0 158.484396921 ], FOUND:  58.9991650737\n",
      "At time "
     ]
    },
    {
     "name": "stdout",
     "output_type": "stream",
     "text": [
      " 3 no need to search, ESS(1.0) =  309.530381734\n",
      "At time  4 searching in [ 1.0 10000 ], FOUND:  473.325599262\n",
      "At time "
     ]
    },
    {
     "name": "stdout",
     "output_type": "stream",
     "text": [
      " 3 searching in [ 1.0 21.7551553645 ], FOUND:  9.12209945017\n",
      "At time  3 searching in [ 1.0 9.12209945017 ], FOUND:  2.90124471023\n",
      "At time "
     ]
    },
    {
     "name": "stdout",
     "output_type": "stream",
     "text": [
      " 3 searching in [ 1.0 121.080523839 ], FOUND:  54.8243643041\n",
      "At time  3 searching in [ 1.0 54.8243643041 ], FOUND:  21.7551553645\n",
      "At time "
     ]
    },
    {
     "name": "stdout",
     "output_type": "stream",
     "text": [
      " 3 searching in [ 1.0 10000 ], FOUND:  326.372899704\n",
      "At time  3 searching in [ 1.0 326.372899704 ], FOUND:  121.080523839\n",
      "At time "
     ]
    },
    {
     "name": "stdout",
     "output_type": "stream",
     "text": [
      " 2 searching in [ 1.0 29.2542675049 ], FOUND:  1.52301653201\n",
      "At time  2 no need to search, ESS(1.0) =  468.764591235\n",
      "At time "
     ]
    },
    {
     "name": "stdout",
     "output_type": "stream",
     "text": [
      " 1 no need to search, ESS(1.0) =  256.040676106\n",
      "At time  2 searching in [ 1.0 100 ], FOUND:  29.2542675049\n",
      "At time "
     ]
    },
    {
     "name": "stdout",
     "output_type": "stream",
     "text": [
      " 0 no need to search, ESS(1.0) =  498.711537939\n",
      "At time  1 searching in [ 1.0 100 ], FOUND:  8.35002385732\n",
      "At time "
     ]
    },
    {
     "name": "stdout",
     "output_type": "stream",
     "text": [
      " 0 searching in [ 1.0 100 ], FOUND:  16.1323741287\n",
      "At time  0 searching in [ 1.0 16.1323741287 ], FOUND:  1.07792934024\n",
      "At time "
     ]
    },
    {
     "name": "stdout",
     "output_type": "stream",
     "text": [
      " 9 searching in [ 1.0 41.8930590074 ], FOUND:  1.69451225046\n",
      "At time  9 no need to search, ESS(1.0) =  454.595102552\n",
      "At time "
     ]
    },
    {
     "name": "stdout",
     "output_type": "stream",
     "text": [
      " 8 no need to search, ESS(1.0) =  252.764922826\n",
      "At time  9 searching in [ 1.0 100 ], FOUND:  41.8930590074\n",
      "At time "
     ]
    },
    {
     "name": "stdout",
     "output_type": "stream",
     "text": [
      " 7 no need to search, ESS(1.0) =  234.104325451\n",
      "At time  8 searching in [ 1.0 100 ], FOUND:  8.17569822952\n",
      "At time "
     ]
    },
    {
     "name": "stdout",
     "output_type": "stream",
     "text": [
      " 6 no need to search, ESS(1.0) =  190.297645749\n",
      "At time  7 searching in [ 1.0 100 ], FOUND:  9.41186816689\n",
      "At time "
     ]
    },
    {
     "name": "stdout",
     "output_type": "stream",
     "text": [
      " 5 no need to search, ESS(1.0) =  249.23518924\n",
      "At time  6 searching in [ 1.0 100 ], FOUND:  15.2589384102\n",
      "At time "
     ]
    },
    {
     "name": "stdout",
     "output_type": "stream",
     "text": [
      " 5 searching in [ 1.0 100 ], FOUND:  77.40957068\n",
      "At time  5 searching in [ 1.0 77.40957068 ], FOUND:  6.83435538787\n",
      "At time "
     ]
    },
    {
     "name": "stdout",
     "output_type": "stream",
     "text": [
      " 4 searching in [ 1.0 7.63427636425 ], FOUND:  2.78295048595\n",
      "At time  4 no need to search, ESS(1.0) =  301.600026913\n",
      "At time "
     ]
    },
    {
     "name": "stdout",
     "output_type": "stream",
     "text": [
      " 4 searching in [ 1.0 30.3873283975 ], FOUND:  15.2496832795\n",
      "At time  4 searching in [ 1.0 15.2496832795 ], FOUND:  7.63427636425\n",
      "At time "
     ]
    },
    {
     "name": "stdout",
     "output_type": "stream",
     "text": [
      " 4 searching in [ 1.0 127.212526026 ], FOUND:  64.4398252483\n",
      "At time  4 searching in [ 1.0 64.4398252483 ], FOUND:  30.3873283975\n",
      "At time "
     ]
    },
    {
     "name": "stdout",
     "output_type": "stream",
     "text": [
      " 4 searching in [ 1.0 10000 ], FOUND:  383.410427844\n",
      "At time  4 searching in [ 1.0 383.410427844 ], FOUND:  127.212526026\n",
      "At time "
     ]
    },
    {
     "name": "stdout",
     "output_type": "stream",
     "text": [
      " 3 searching in [ 1.0 7.75230367811 ], FOUND:  2.51026058217\n",
      "At time  3 no need to search, ESS(1.0) =  337.518991674\n",
      "At time "
     ]
    },
    {
     "name": "stdout",
     "output_type": "stream",
     "text": [
      " 3 searching in [ 1.0 27.4092144864 ], FOUND:  14.4724458713\n",
      "At time  3 searching in [ 1.0 14.4724458713 ], FOUND:  7.75230367811\n",
      "At time "
     ]
    },
    {
     "name": "stdout",
     "output_type": "stream",
     "text": [
      " 3 searching in [ 1.0 169.85916757 ], FOUND:  63.3568689443\n",
      "At time  3 searching in [ 1.0 63.3568689443 ], FOUND:  27.4092144864\n",
      "At time "
     ]
    },
    {
     "name": "stdout",
     "output_type": "stream",
     "text": [
      " 3 searching in [ 1.0 10000 ], FOUND:  542.1006712\n",
      "At time  3 searching in [ 1.0 542.1006712 ], FOUND:  169.85916757\n",
      "At time "
     ]
    },
    {
     "name": "stdout",
     "output_type": "stream",
     "text": [
      " 2 searching in [ 1.0 100 ], FOUND:  6.22519301969\n",
      "At time  2 no need to search, ESS(1.0) =  273.386215657\n",
      "At time "
     ]
    },
    {
     "name": "stdout",
     "output_type": "stream",
     "text": [
      " 1 searching in [ 1.0 100 ], FOUND:  8.77491192529\n",
      "At time  1 no need to search, ESS(1.0) =  229.483448262\n",
      "At time "
     ]
    },
    {
     "name": "stdout",
     "output_type": "stream",
     "text": [
      " 0 searching in [ 1.0 100 ], FOUND:  17.9303073615\n",
      "At time  0 no need to search, ESS(1.0) =  187.616078421\n",
      "At time "
     ]
    },
    {
     "name": "stdout",
     "output_type": "stream",
     "text": [
      " 9 no need to search, ESS(1.0) =  480.867889917\n",
      "At time "
     ]
    },
    {
     "name": "stdout",
     "output_type": "stream",
     "text": [
      " 9 searching in [ 1.0 100 ], FOUND:  25.123926889\n",
      "At time  9 searching in [ 1.0 25.123926889 ], FOUND:  1.37331172126\n",
      "At time "
     ]
    },
    {
     "name": "stdout",
     "output_type": "stream",
     "text": [
      " 8 searching in [ 1.0 100 ], FOUND:  6.22790913278\n",
      "At time  8 no need to search, ESS(1.0) =  286.67488448\n",
      "At time "
     ]
    },
    {
     "name": "stdout",
     "output_type": "stream",
     "text": [
      " 7 searching in [ 1.0 100 ], FOUND:  14.1998826084\n",
      "At time  7 no need to search, ESS(1.0) =  184.453328999\n",
      "At time "
     ]
    },
    {
     "name": "stdout",
     "output_type": "stream",
     "text": [
      " 6 searching in [ 1.0 34.083210545 ], FOUND:  2.15699222749\n",
      "At time  6 no need to search, ESS(1.0) =  424.154008657\n",
      "At time "
     ]
    },
    {
     "name": "stdout",
     "output_type": "stream",
     "text": [
      " 5 no need to search, ESS(1.0) =  347.697685585\n",
      "At time  6 searching in [ 1.0 100 ], FOUND:  34.083210545\n",
      "At time "
     ]
    },
    {
     "name": "stdout",
     "output_type": "stream",
     "text": [
      " 5 searching in [ 1.0 100 ], FOUND:  54.4189323083\n",
      "At time  5 searching in [ 1.0 54.4189323083 ], FOUND:  3.83660189246\n",
      "At time "
     ]
    },
    {
     "name": "stdout",
     "output_type": "stream",
     "text": [
      " 4 searching in [ 1.0 14.4377019577 ], FOUND:  2.53232616451\n",
      "At time  4 no need to search, ESS(1.0) =  352.689832094\n",
      "At time "
     ]
    },
    {
     "name": "stdout",
     "output_type": "stream",
     "text": [
      " 4 searching in [ 1.0 137.80519666 ], FOUND:  64.5375468063\n",
      "At time  4 searching in [ 1.0 64.5375468063 ], FOUND:  14.4377019577\n",
      "At time "
     ]
    },
    {
     "name": "stdout",
     "output_type": "stream",
     "text": [
      " 4 searching in [ 1.0 10000 ], FOUND:  340.172423\n",
      "At time  4 searching in [ 1.0 340.172423 ], FOUND:  137.80519666\n",
      "At time "
     ]
    },
    {
     "name": "stdout",
     "output_type": "stream",
     "text": [
      " 3 searching in [ 1.0 5.00460137233 ], FOUND:  1.14000002471\n",
      "At time  3 no need to search, ESS(1.0) =  493.86847749\n",
      "At time "
     ]
    },
    {
     "name": "stdout",
     "output_type": "stream",
     "text": [
      " 3 searching in [ 1.0 25.032960729 ], FOUND:  11.7709833994\n",
      "At time  3 searching in [ 1.0 11.7709833994 ], FOUND:  5.00460137233\n",
      "At time "
     ]
    },
    {
     "name": "stdout",
     "output_type": "stream",
     "text": [
      " 3 searching in [ 1.0 118.750874327 ], FOUND:  55.4446390681\n",
      "At time  3 searching in [ 1.0 55.4446390681 ], FOUND:  25.032960729\n",
      "At time "
     ]
    },
    {
     "name": "stdout",
     "output_type": "stream",
     "text": [
      " 3 searching in [ 1.0 10000 ], FOUND:  326.800733174\n",
      "At time  3 searching in [ 1.0 326.800733174 ], FOUND:  118.750874327\n",
      "At time "
     ]
    },
    {
     "name": "stdout",
     "output_type": "stream",
     "text": [
      " 2 searching in [ 1.0 34.0960719653 ], FOUND:  1.31326072859\n",
      "At time  2 no need to search, ESS(1.0) =  484.983915827\n",
      "At time "
     ]
    },
    {
     "name": "stdout",
     "output_type": "stream",
     "text": [
      " 1 no need to search, ESS(1.0) =  260.855860803\n",
      "At time  2 searching in [ 1.0 100 ], FOUND:  34.0960719653\n",
      "At time "
     ]
    },
    {
     "name": "stdout",
     "output_type": "stream",
     "text": [
      " 0 no need to search, ESS(1.0) =  498.663550766\n",
      "At time  1 searching in [ 1.0 100 ], FOUND:  6.61894436127\n",
      "At time "
     ]
    },
    {
     "name": "stdout",
     "output_type": "stream",
     "text": [
      " 0 searching in [ 1.0 100 ], FOUND:  17.4895348306\n",
      "At time  0 searching in [ 1.0 17.4895348306 ], FOUND:  1.0720223521\n",
      "At time "
     ]
    },
    {
     "name": "stdout",
     "output_type": "stream",
     "text": [
      " 9 no need to search, ESS(1.0) =  467.591939947\n",
      "At time "
     ]
    },
    {
     "name": "stdout",
     "output_type": "stream",
     "text": [
      " 9 searching in [ 1.0 100 ], FOUND:  38.394661619\n",
      "At time  9 searching in [ 1.0 38.394661619 ], FOUND:  1.5070947661\n",
      "At time "
     ]
    },
    {
     "name": "stdout",
     "output_type": "stream",
     "text": [
      " 8 searching in [ 1.0 100 ], FOUND:  6.6571136644\n",
      "At time  8 no need to search, ESS(1.0) =  276.297128793\n",
      "At time "
     ]
    },
    {
     "name": "stdout",
     "output_type": "stream",
     "text": [
      " 7 searching in [ 1.0 100 ], FOUND:  11.6290820615\n",
      "At time  7 no need to search, ESS(1.0) =  209.223700692\n",
      "At time "
     ]
    },
    {
     "name": "stdout",
     "output_type": "stream",
     "text": [
      " 6 searching in [ 1.0 43.5300282102 ], FOUND:  2.27132861165\n",
      "At time  6 no need to search, ESS(1.0) =  410.428538833\n",
      "At time "
     ]
    },
    {
     "name": "stdout",
     "output_type": "stream",
     "text": [
      " 5 no need to search, ESS(1.0) =  322.919046564\n",
      "At time  6 searching in [ 1.0 100 ], FOUND:  43.5300282102\n",
      "At time "
     ]
    },
    {
     "name": "stdout",
     "output_type": "stream",
     "text": [
      " 5 searching in [ 1.0 100 ], FOUND:  72.3666677897\n",
      "At time  5 searching in [ 1.0 72.3666677897 ], FOUND:  4.22454655677\n",
      "At time "
     ]
    },
    {
     "name": "stdout",
     "output_type": "stream",
     "text": [
      " 4 searching in [ 1.0 7.84995072985 ], FOUND:  2.93343926362\n",
      "At time  4 no need to search, ESS(1.0) =  277.405460703\n",
      "At time "
     ]
    },
    {
     "name": "stdout",
     "output_type": "stream",
     "text": [
      " 4 searching in [ 1.0 29.1919178946 ], FOUND:  15.8079645209\n",
      "At time  4 searching in [ 1.0 15.8079645209 ], FOUND:  7.84995072985\n",
      "At time "
     ]
    },
    {
     "name": "stdout",
     "output_type": "stream",
     "text": [
      " 4 searching in [ 1.0 157.587282553 ], FOUND:  61.4675784247\n",
      "At time  4 searching in [ 1.0 61.4675784247 ], FOUND:  29.1919178946\n",
      "At time "
     ]
    },
    {
     "name": "stdout",
     "output_type": "stream",
     "text": [
      " 4 searching in [ 1.0 10000 ], FOUND:  549.629901402\n",
      "At time  4 searching in [ 1.0 549.629901402 ], FOUND:  157.587282553\n",
      "At time "
     ]
    },
    {
     "name": "stdout",
     "output_type": "stream",
     "text": [
      " 3 searching in [ 1.0 7.85889034268 ], FOUND:  2.89451081921\n",
      "At time  3 no need to search, ESS(1.0) =  264.567094636\n",
      "At time "
     ]
    },
    {
     "name": "stdout",
     "output_type": "stream",
     "text": [
      " 3 searching in [ 1.0 34.7570335624 ], FOUND:  17.0710909167\n",
      "At time  3 searching in [ 1.0 17.0710909167 ], FOUND:  7.85889034268\n",
      "At time "
     ]
    },
    {
     "name": "stdout",
     "output_type": "stream",
     "text": [
      " 3 searching in [ 1.0 162.28261085 ], FOUND:  73.3140926444\n",
      "At time  3 searching in [ 1.0 73.3140926444 ], FOUND:  34.7570335624\n",
      "At time "
     ]
    },
    {
     "name": "stdout",
     "output_type": "stream",
     "text": [
      " 3 searching in [ 1.0 10000 ], FOUND:  568.290641049\n",
      "At time  3 searching in [ 1.0 568.290641049 ], FOUND:  162.28261085\n",
      "At time "
     ]
    },
    {
     "name": "stdout",
     "output_type": "stream",
     "text": [
      " 2 searching in [ 1.0 100 ], FOUND:  6.32184159579\n",
      "At time  2 no need to search, ESS(1.0) =  281.227868516\n",
      "At time "
     ]
    },
    {
     "name": "stdout",
     "output_type": "stream",
     "text": [
      " 1 searching in [ 1.0 100 ], FOUND:  7.14094590077\n",
      "At time  1 no need to search, ESS(1.0) =  249.910444044\n",
      "At time "
     ]
    },
    {
     "name": "stdout",
     "output_type": "stream",
     "text": [
      " 0 searching in [ 1.0 100 ], FOUND:  15.4956273233\n",
      "At time  0 no need to search, ESS(1.0) =  174.979244607\n",
      "At time "
     ]
    },
    {
     "name": "stdout",
     "output_type": "stream",
     "text": [
      " 9 searching in [ 1.0 23.9460773935 ], FOUND:  1.11137890239\n",
      "At time  9 no need to search, ESS(1.0) =  497.646897023\n",
      "At time "
     ]
    },
    {
     "name": "stdout",
     "output_type": "stream",
     "text": [
      " 8 no need to search, ESS(1.0) =  288.832664699\n",
      "At time  9 searching in [ 1.0 100 ], FOUND:  23.9460773935\n",
      "At time "
     ]
    },
    {
     "name": "stdout",
     "output_type": "stream",
     "text": [
      " 7 no need to search, ESS(1.0) =  183.249576838\n",
      "At time  8 searching in [ 1.0 100 ], FOUND:  5.70164998568\n",
      "At time "
     ]
    },
    {
     "name": "stdout",
     "output_type": "stream",
     "text": [
      " 6 no need to search, ESS(1.0) =  382.142224381\n",
      "At time  7 searching in [ 1.0 100 ], FOUND:  14.1938237824\n",
      "At time "
     ]
    },
    {
     "name": "stdout",
     "output_type": "stream",
     "text": [
      " 6 searching in [ 1.0 100 ], FOUND:  59.7545852726\n",
      "At time  6 searching in [ 1.0 59.7545852726 ], FOUND:  2.75937640569\n",
      "At time "
     ]
    },
    {
     "name": "stdout",
     "output_type": "stream",
     "text": [
      " 5 searching in [ 1.0 74.876369912 ], FOUND:  6.05825148418\n",
      "At time  5 no need to search, ESS(1.0) =  269.934570744\n",
      "At time "
     ]
    },
    {
     "name": "stdout",
     "output_type": "stream",
     "text": [
      " 4 no need to search, ESS(1.0) =  277.002743761\n",
      "At time  5 searching in [ 1.0 100 ], FOUND:  74.876369912\n",
      "At time "
     ]
    },
    {
     "name": "stdout",
     "output_type": "stream",
     "text": [
      " 4 searching in [ 1.0 22.5012186128 ], FOUND:  11.261384455\n",
      "At time  4 searching in [ 1.0 11.261384455 ], FOUND:  3.49246784489\n",
      "At time "
     ]
    },
    {
     "name": "stdout",
     "output_type": "stream",
     "text": [
      " 4 searching in [ 1.0 113.722373021 ], FOUND:  47.6232343765\n",
      "At time  4 searching in [ 1.0 47.6232343765 ], FOUND:  22.5012186128\n",
      "At time "
     ]
    },
    {
     "name": "stdout",
     "output_type": "stream",
     "text": [
      " 4 searching in [ 1.0 10000 ], FOUND:  324.77335178\n",
      "At time  4 searching in [ 1.0 324.77335178 ], FOUND:  113.722373021\n",
      "At time "
     ]
    },
    {
     "name": "stdout",
     "output_type": "stream",
     "text": [
      " 3 searching in [ 1.0 5.82277257026 ], FOUND:  1.4136616851\n",
      "At time  3 no need to search, ESS(1.0) =  460.65662891\n",
      "At time "
     ]
    },
    {
     "name": "stdout",
     "output_type": "stream",
     "text": [
      " 3 searching in [ 1.0 24.1445994292 ], FOUND:  12.7547926544\n",
      "At time  3 searching in [ 1.0 12.7547926544 ], FOUND:  5.82277257026\n",
      "At time "
     ]
    },
    {
     "name": "stdout",
     "output_type": "stream",
     "text": [
      " 3 searching in [ 1.0 122.617068993 ], FOUND:  52.2974850198\n",
      "At time  3 searching in [ 1.0 52.2974850198 ], FOUND:  24.1445994292\n",
      "At time "
     ]
    },
    {
     "name": "stdout",
     "output_type": "stream",
     "text": [
      " 3 searching in [ 1.0 10000 ], FOUND:  320.00983082\n",
      "At time  3 searching in [ 1.0 320.00983082 ], FOUND:  122.617068993\n",
      "At time "
     ]
    },
    {
     "name": "stdout",
     "output_type": "stream",
     "text": [
      " 2 searching in [ 1.0 100 ], FOUND:  7.36352154234\n",
      "At time  2 no need to search, ESS(1.0) =  247.556924345\n",
      "At time "
     ]
    },
    {
     "name": "stdout",
     "output_type": "stream",
     "text": [
      " 1 searching in [ 1.0 100 ], FOUND:  8.19756423594\n",
      "At time  1 no need to search, ESS(1.0) =  235.758811628\n",
      "At time "
     ]
    },
    {
     "name": "stdout",
     "output_type": "stream",
     "text": [
      " 0 searching in [ 1.0 100 ], FOUND:  14.9861270071\n",
      "At time  0 no need to search, ESS(1.0) =  186.608787907\n",
      "At time "
     ]
    },
    {
     "name": "stdout",
     "output_type": "stream",
     "text": [
      " 9 no need to search, ESS(1.0) =  253.701699686\n",
      "At time "
     ]
    },
    {
     "name": "stdout",
     "output_type": "stream",
     "text": [
      " 8 no need to search, ESS(1.0) =  245.793295024\n",
      "At time  9 searching in [ 1.0 100 ], FOUND:  8.07402954074\n",
      "At time "
     ]
    },
    {
     "name": "stdout",
     "output_type": "stream",
     "text": [
      " 7 no need to search, ESS(1.0) =  234.400040509\n",
      "At time  8 searching in [ 1.0 100 ], FOUND:  8.39056734973\n",
      "At time "
     ]
    },
    {
     "name": "stdout",
     "output_type": "stream",
     "text": [
      " 6 no need to search, ESS(1.0) =  497.669999028\n",
      "At time  7 searching in [ 1.0 100 ], FOUND:  8.88286352764\n",
      "At time "
     ]
    },
    {
     "name": "stdout",
     "output_type": "stream",
     "text": [
      " 6 searching in [ 1.0 100 ], FOUND:  20.3613088021\n",
      "At time  6 searching in [ 1.0 20.3613088021 ], FOUND:  1.10602620391\n",
      "At time "
     ]
    },
    {
     "name": "stdout",
     "output_type": "stream",
     "text": [
      " 5 searching in [ 1.0 27.0066500474 ], FOUND:  1.63734520881\n",
      "At time  5 no need to search, ESS(1.0) =  452.973430704\n",
      "At time "
     ]
    },
    {
     "name": "stdout",
     "output_type": "stream",
     "text": [
      " 4 no need to search, ESS(1.0) =  466.172665732\n",
      "At time  5 searching in [ 1.0 100 ], FOUND:  27.0066500474\n",
      "At time "
     ]
    },
    {
     "name": "stdout",
     "output_type": "stream",
     "text": [
      " 4 searching in [ 1.0 11.348023162 ], FOUND:  5.30520393498\n",
      "At time  4 searching in [ 1.0 5.30520393498 ], FOUND:  1.40569754558\n",
      "At time "
     ]
    },
    {
     "name": "stdout",
     "output_type": "stream",
     "text": [
      " 4 searching in [ 1.0 47.7157487853 ], FOUND:  21.4857973196\n",
      "At time  4 searching in [ 1.0 21.4857973196 ], FOUND:  11.348023162\n",
      "At time "
     ]
    },
    {
     "name": "stdout",
     "output_type": "stream",
     "text": [
      " 4 searching in [ 1.0 308.779034956 ], FOUND:  117.217834216\n",
      "At time  4 searching in [ 1.0 117.217834216 ], FOUND:  47.7157487853\n",
      "At time "
     ]
    },
    {
     "name": "stdout",
     "output_type": "stream",
     "text": [
      " 3 no need to search, ESS(1.0) =  191.76696592\n",
      "At time  4 searching in [ 1.0 10000 ], FOUND:  308.779034956\n",
      "At time "
     ]
    },
    {
     "name": "stdout",
     "output_type": "stream",
     "text": [
      " 3 searching in [ 1.0 19.2950957651 ], FOUND:  10.6861824535\n",
      "At time  3 searching in [ 1.0 10.6861824535 ], FOUND:  4.52810345924\n",
      "At time "
     ]
    },
    {
     "name": "stdout",
     "output_type": "stream",
     "text": [
      " 3 searching in [ 1.0 62.9417864473 ], FOUND:  33.780763135\n",
      "At time  3 searching in [ 1.0 33.780763135 ], FOUND:  19.2950957651\n",
      "At time "
     ]
    },
    {
     "name": "stdout",
     "output_type": "stream",
     "text": [
      " 3 searching in [ 1.0 588.686360033 ], FOUND:  145.556543964\n",
      "At time  3 searching in [ 1.0 145.556543964 ], FOUND:  62.9417864473\n",
      "At time "
     ]
    },
    {
     "name": "stdout",
     "output_type": "stream",
     "text": [
      " 2 no need to search, ESS(1.0) =  253.372878121\n",
      "At time  3 searching in [ 1.0 10000 ], FOUND:  588.686360033\n",
      "At time "
     ]
    },
    {
     "name": "stdout",
     "output_type": "stream",
     "text": [
      " 1 no need to search, ESS(1.0) =  232.574049104\n",
      "At time  2 searching in [ 1.0 100 ], FOUND:  6.87605294373\n",
      "At time "
     ]
    },
    {
     "name": "stdout",
     "output_type": "stream",
     "text": [
      " 0 no need to search, ESS(1.0) =  499.999776814\n",
      "At time  1 searching in [ 1.0 100 ], FOUND:  7.31435750057\n",
      "At time "
     ]
    },
    {
     "name": "stdout",
     "output_type": "stream",
     "text": [
      " 0 searching in [ 1.0 100 ], FOUND:  18.4933561984\n",
      "At time  0 searching in [ 1.0 18.4933561984 ], FOUND:  1.0009408745\n",
      "At time "
     ]
    },
    {
     "name": "stdout",
     "output_type": "stream",
     "text": [
      " 9 searching in [ 1.0 22.3083393298 ], FOUND:  1.40247561484\n",
      "At time  9 no need to search, ESS(1.0) =  477.868700441\n",
      "At time "
     ]
    },
    {
     "name": "stdout",
     "output_type": "stream",
     "text": [
      " 8 no need to search, ESS(1.0) =  299.590775876\n",
      "At time  9 searching in [ 1.0 100 ], FOUND:  22.3083393298\n",
      "At time "
     ]
    },
    {
     "name": "stdout",
     "output_type": "stream",
     "text": [
      " 7 no need to search, ESS(1.0) =  195.86043282\n",
      "At time  8 searching in [ 1.0 100 ], FOUND:  6.49087004511\n",
      "At time "
     ]
    },
    {
     "name": "stdout",
     "output_type": "stream",
     "text": [
      " 6 no need to search, ESS(1.0) =  439.133561183\n",
      "At time  7 searching in [ 1.0 100 ], FOUND:  13.8452787515\n",
      "At time "
     ]
    },
    {
     "name": "stdout",
     "output_type": "stream",
     "text": [
      " 6 searching in [ 1.0 100 ], FOUND:  45.4337483022\n",
      "At time  6 searching in [ 1.0 45.4337483022 ], FOUND:  1.9014738425\n",
      "At time "
     ]
    },
    {
     "name": "stdout",
     "output_type": "stream",
     "text": [
      " 5 searching in [ 1.0 63.3136079549 ], FOUND:  4.96694556135\n",
      "At time  5 no need to search, ESS(1.0) =  298.457660738\n",
      "At time "
     ]
    },
    {
     "name": "stdout",
     "output_type": "stream",
     "text": [
      " 4 no need to search, ESS(1.0) =  299.175352178\n",
      "At time  5 searching in [ 1.0 100 ], FOUND:  63.3136079549\n",
      "At time "
     ]
    },
    {
     "name": "stdout",
     "output_type": "stream",
     "text": [
      " 4 searching in [ 1.0 15.5076762237 ], FOUND:  7.85116254212\n",
      "At time  4 searching in [ 1.0 7.85116254212 ], FOUND:  2.93173399206\n",
      "At time "
     ]
    },
    {
     "name": "stdout",
     "output_type": "stream",
     "text": [
      " 4 searching in [ 1.0 64.2169933995 ], FOUND:  30.459172991\n",
      "At time  4 searching in [ 1.0 30.459172991 ], FOUND:  15.5076762237\n",
      "At time "
     ]
    },
    {
     "name": "stdout",
     "output_type": "stream",
     "text": [
      " 4 searching in [ 1.0 492.98814024 ], FOUND:  151.94858207\n",
      "At time  4 searching in [ 1.0 151.94858207 ], FOUND:  64.2169933995\n",
      "At time "
     ]
    },
    {
     "name": "stdout",
     "output_type": "stream",
     "text": [
      " 3 no need to search, ESS(1.0) =  270.40059402\n",
      "At time  4 searching in [ 1.0 10000 ], FOUND:  492.98814024\n",
      "At time "
     ]
    },
    {
     "name": "stdout",
     "output_type": "stream",
     "text": [
      " 3 searching in [ 1.0 15.4459443743 ], FOUND:  7.9608491742\n",
      "At time  3 searching in [ 1.0 7.9608491742 ], FOUND:  3.0069944614\n",
      "At time "
     ]
    },
    {
     "name": "stdout",
     "output_type": "stream",
     "text": [
      " 3 searching in [ 1.0 47.1077941359 ], FOUND:  26.1920966654\n",
      "At time  3 searching in [ 1.0 26.1920966654 ], FOUND:  15.4459443743\n",
      "At time "
     ]
    },
    {
     "name": "stdout",
     "output_type": "stream",
     "text": [
      " 3 searching in [ 1.0 311.012943487 ], FOUND:  110.74248637\n",
      "At time  3 searching in [ 1.0 110.74248637 ], FOUND:  47.1077941359\n",
      "At time "
     ]
    },
    {
     "name": "stdout",
     "output_type": "stream",
     "text": [
      " 2 no need to search, ESS(1.0) =  472.874826186\n",
      "At time  3 searching in [ 1.0 10000 ], FOUND:  311.012943487\n",
      "At time "
     ]
    },
    {
     "name": "stdout",
     "output_type": "stream",
     "text": [
      " 2 searching in [ 1.0 100 ], FOUND:  30.872858868\n",
      "At time  2 searching in [ 1.0 30.872858868 ], FOUND:  1.532438991\n",
      "At time "
     ]
    },
    {
     "name": "stdout",
     "output_type": "stream",
     "text": [
      " 1 searching in [ 1.0 100 ], FOUND:  7.48746586266\n",
      "At time  1 no need to search, ESS(1.0) =  254.182074241\n",
      "At time "
     ]
    },
    {
     "name": "stdout",
     "output_type": "stream",
     "text": [
      " 0 searching in [ 1.0 100 ], FOUND:  18.5085714339\n",
      "At time  0 no need to search, ESS(1.0) =  174.351030119\n",
      "At time "
     ]
    },
    {
     "name": "stdout",
     "output_type": "stream",
     "text": [
      " 9 no need to search, ESS(1.0) =  171.087324047\n",
      "At time "
     ]
    },
    {
     "name": "stdout",
     "output_type": "stream",
     "text": [
      " 8 no need to search, ESS(1.0) =  322.956715537\n",
      "At time  9 searching in [ 1.0 100 ], FOUND:  20.146204333\n",
      "At time "
     ]
    },
    {
     "name": "stdout",
     "output_type": "stream",
     "text": [
      " 7 no need to search, ESS(1.0) =  220.261090799\n",
      "At time  8 searching in [ 1.0 100 ], FOUND:  5.06402623718\n",
      "At time "
     ]
    },
    {
     "name": "stdout",
     "output_type": "stream",
     "text": [
      " 6 no need to search, ESS(1.0) =  499.126415346\n",
      "At time  7 searching in [ 1.0 100 ], FOUND:  9.78087707056\n",
      "At time "
     ]
    },
    {
     "name": "stdout",
     "output_type": "stream",
     "text": [
      " 6 searching in [ 1.0 100 ], FOUND:  16.3673328858\n",
      "At time  6 searching in [ 1.0 16.3673328858 ], FOUND:  1.06471762544\n",
      "At time "
     ]
    },
    {
     "name": "stdout",
     "output_type": "stream",
     "text": [
      " 5 searching in [ 1.0 22.8267269184 ], FOUND:  1.40891827769\n",
      "At time  5 no need to search, ESS(1.0) =  473.275835689\n",
      "At time "
     ]
    },
    {
     "name": "stdout",
     "output_type": "stream",
     "text": [
      " 4 no need to search, ESS(1.0) =  484.686824878\n",
      "At time  5 searching in [ 1.0 100 ], FOUND:  22.8267269184\n",
      "At time "
     ]
    },
    {
     "name": "stdout",
     "output_type": "stream",
     "text": [
      " 4 searching in [ 1.0 10.3349137883 ], FOUND:  4.72227252358\n",
      "At time  4 searching in [ 1.0 4.72227252358 ], FOUND:  1.2131877791\n",
      "At time "
     ]
    },
    {
     "name": "stdout",
     "output_type": "stream",
     "text": [
      " 4 searching in [ 1.0 44.2679092751 ], FOUND:  21.2343200442\n",
      "At time  4 searching in [ 1.0 21.2343200442 ], FOUND:  10.3349137883\n",
      "At time "
     ]
    },
    {
     "name": "stdout",
     "output_type": "stream",
     "text": [
      " 4 searching in [ 1.0 335.800881568 ], FOUND:  113.48956812\n",
      "At time  4 searching in [ 1.0 113.48956812 ], FOUND:  44.2679092751\n",
      "At time "
     ]
    },
    {
     "name": "stdout",
     "output_type": "stream",
     "text": [
      " 3 no need to search, ESS(1.0) =  476.837410356\n",
      "At time  4 searching in [ 1.0 10000 ], FOUND:  335.800881568\n",
      "At time "
     ]
    },
    {
     "name": "stdout",
     "output_type": "stream",
     "text": [
      " 3 searching in [ 1.0 13.3071159621 ], FOUND:  5.16016143915\n",
      "At time  3 searching in [ 1.0 5.16016143915 ], FOUND:  1.32828098882\n",
      "At time "
     ]
    },
    {
     "name": "stdout",
     "output_type": "stream",
     "text": [
      " 3 searching in [ 1.0 54.5894058448 ], FOUND:  27.004327918\n",
      "At time  3 searching in [ 1.0 27.004327918 ], FOUND:  13.3071159621\n",
      "At time "
     ]
    },
    {
     "name": "stdout",
     "output_type": "stream",
     "text": [
      " 3 searching in [ 1.0 328.996503149 ], FOUND:  123.463780305\n",
      "At time  3 searching in [ 1.0 123.463780305 ], FOUND:  54.5894058448\n",
      "At time "
     ]
    },
    {
     "name": "stdout",
     "output_type": "stream",
     "text": [
      " 2 no need to search, ESS(1.0) =  241.594734576\n",
      "At time  3 searching in [ 1.0 10000 ], FOUND:  328.996503149\n",
      "At time "
     ]
    },
    {
     "name": "stdout",
     "output_type": "stream",
     "text": [
      " 1 no need to search, ESS(1.0) =  239.716353704\n",
      "At time  2 searching in [ 1.0 100 ], FOUND:  8.15612517023\n",
      "At time "
     ]
    },
    {
     "name": "stdout",
     "output_type": "stream",
     "text": [
      " 0 no need to search, ESS(1.0) =  498.715666773\n",
      "At time  1 searching in [ 1.0 100 ], FOUND:  8.13084825672\n",
      "At time "
     ]
    },
    {
     "name": "stdout",
     "output_type": "stream",
     "text": [
      " 0 searching in [ 1.0 100 ], FOUND:  22.1703555839\n",
      "At time  0 searching in [ 1.0 22.1703555839 ], FOUND:  1.08104642072\n",
      "At time "
     ]
    },
    {
     "name": "stdout",
     "output_type": "stream",
     "text": [
      " 9 no need to search, ESS(1.0) =  245.827900323\n",
      "At time "
     ]
    },
    {
     "name": "stdout",
     "output_type": "stream",
     "text": [
      " 8 no need to search, ESS(1.0) =  227.143748994\n",
      "At time  9 searching in [ 1.0 100 ], FOUND:  7.59975793154\n",
      "At time "
     ]
    },
    {
     "name": "stdout",
     "output_type": "stream",
     "text": [
      " 7 no need to search, ESS(1.0) =  241.618811863\n",
      "At time  8 searching in [ 1.0 100 ], FOUND:  8.82493091022\n",
      "At time "
     ]
    },
    {
     "name": "stdout",
     "output_type": "stream",
     "text": [
      " 6 no need to search, ESS(1.0) =  181.146396185\n",
      "At time  7 searching in [ 1.0 100 ], FOUND:  10.4724998296\n",
      "At time "
     ]
    },
    {
     "name": "stdout",
     "output_type": "stream",
     "text": [
      " 5 no need to search, ESS(1.0) =  460.832797417\n",
      "At time  6 searching in [ 1.0 100 ], FOUND:  15.4228140115\n",
      "At time "
     ]
    },
    {
     "name": "stdout",
     "output_type": "stream",
     "text": [
      " 5 searching in [ 1.0 100 ], FOUND:  24.263613224\n",
      "At time  5 searching in [ 1.0 24.263613224 ], FOUND:  1.68457336285\n",
      "At time "
     ]
    },
    {
     "name": "stdout",
     "output_type": "stream",
     "text": [
      " 4 searching in [ 1.0 9.86697504771 ], FOUND:  3.71371712302\n",
      "At time  4 no need to search, ESS(1.0) =  230.260060841\n",
      "At time "
     ]
    },
    {
     "name": "stdout",
     "output_type": "stream",
     "text": [
      " 4 searching in [ 1.0 55.4936986448 ], FOUND:  21.796353229\n",
      "At time  4 searching in [ 1.0 21.796353229 ], FOUND:  9.86697504771\n",
      "At time "
     ]
    },
    {
     "name": "stdout",
     "output_type": "stream",
     "text": [
      " 4 searching in [ 1.0 305.485541458 ], FOUND:  122.964575323\n",
      "At time  4 searching in [ 1.0 122.964575323 ], FOUND:  55.4936986448\n",
      "At time "
     ]
    },
    {
     "name": "stdout",
     "output_type": "stream",
     "text": [
      " 3 no need to search, ESS(1.0) =  488.446077921\n",
      "At time  4 searching in [ 1.0 10000 ], FOUND:  305.485541458\n",
      "At time "
     ]
    },
    {
     "name": "stdout",
     "output_type": "stream",
     "text": [
      " 3 searching in [ 1.0 13.0068555262 ], FOUND:  5.7660205173\n",
      "At time  3 searching in [ 1.0 5.7660205173 ], FOUND:  1.23808048551\n",
      "At time "
     ]
    },
    {
     "name": "stdout",
     "output_type": "stream",
     "text": [
      " 3 searching in [ 1.0 44.5399407502 ], FOUND:  23.2058085312\n",
      "At time  3 searching in [ 1.0 23.2058085312 ], FOUND:  13.0068555262\n",
      "At time "
     ]
    },
    {
     "name": "stdout",
     "output_type": "stream",
     "text": [
      " 3 searching in [ 1.0 320.551926257 ], FOUND:  113.124787203\n",
      "At time  3 searching in [ 1.0 113.124787203 ], FOUND:  44.5399407502\n",
      "At time "
     ]
    },
    {
     "name": "stdout",
     "output_type": "stream",
     "text": [
      " 2 no need to search, ESS(1.0) =  497.116425528\n",
      "At time  3 searching in [ 1.0 10000 ], FOUND:  320.551926257\n",
      "At time "
     ]
    },
    {
     "name": "stdout",
     "output_type": "stream",
     "text": [
      " 2 searching in [ 1.0 100 ], FOUND:  31.7428730882\n",
      "At time  2 searching in [ 1.0 31.7428730882 ], FOUND:  1.13174423235\n",
      "At time "
     ]
    },
    {
     "name": "stdout",
     "output_type": "stream",
     "text": [
      " 1 searching in [ 1.0 100 ], FOUND:  8.19097370504\n",
      "At time  1 no need to search, ESS(1.0) =  268.346104427\n",
      "At time "
     ]
    },
    {
     "name": "stdout",
     "output_type": "stream",
     "text": [
      " 0 searching in [ 1.0 100 ], FOUND:  18.4194913245\n",
      "At time  0 no need to search, ESS(1.0) =  168.118036769\n",
      "At time "
     ]
    },
    {
     "name": "stdout",
     "output_type": "stream",
     "text": [
      " 9 searching in [ 1.0 100 ], FOUND:  9.57205058154\n",
      "At time  9 no need to search, ESS(1.0) =  223.57757254\n",
      "At time "
     ]
    },
    {
     "name": "stdout",
     "output_type": "stream",
     "text": [
      " 8 searching in [ 1.0 34.4250637825 ], FOUND:  1.48958741668\n",
      "At time  8 no need to search, ESS(1.0) =  475.114866662\n",
      "At time "
     ]
    },
    {
     "name": "stdout",
     "output_type": "stream",
     "text": [
      " 7 no need to search, ESS(1.0) =  259.554710115\n",
      "At time  8 searching in [ 1.0 100 ], FOUND:  34.4250637825\n",
      "At time "
     ]
    },
    {
     "name": "stdout",
     "output_type": "stream",
     "text": [
      " 6 no need to search, ESS(1.0) =  172.585861781\n",
      "At time  7 searching in [ 1.0 100 ], FOUND:  6.56994509885\n",
      "At time "
     ]
    },
    {
     "name": "stdout",
     "output_type": "stream",
     "text": [
      " 5 no need to search, ESS(1.0) =  461.91095019\n",
      "At time  6 searching in [ 1.0 100 ], FOUND:  17.0381207989\n",
      "At time "
     ]
    },
    {
     "name": "stdout",
     "output_type": "stream",
     "text": [
      " 5 searching in [ 1.0 100 ], FOUND:  25.6737126181\n",
      "At time  5 searching in [ 1.0 25.6737126181 ], FOUND:  1.57735319797\n",
      "At time "
     ]
    },
    {
     "name": "stdout",
     "output_type": "stream",
     "text": [
      " 4 searching in [ 1.0 5.15916935275 ], FOUND:  1.3276576842\n",
      "At time  4 no need to search, ESS(1.0) =  473.345029477\n",
      "At time "
     ]
    },
    {
     "name": "stdout",
     "output_type": "stream",
     "text": [
      " 4 searching in [ 1.0 24.7437177409 ], FOUND:  12.4329378171\n",
      "At time  4 searching in [ 1.0 12.4329378171 ], FOUND:  5.15916935275\n",
      "At time "
     ]
    },
    {
     "name": "stdout",
     "output_type": "stream",
     "text": [
      " 4 searching in [ 1.0 122.989261479 ], FOUND:  54.8954591859\n",
      "At time  4 searching in [ 1.0 54.8954591859 ], FOUND:  24.7437177409\n",
      "At time "
     ]
    },
    {
     "name": "stdout",
     "output_type": "stream",
     "text": [
      " 4 searching in [ 1.0 10000 ], FOUND:  320.959525454\n",
      "At time  4 searching in [ 1.0 320.959525454 ], FOUND:  122.989261479\n",
      "At time "
     ]
    },
    {
     "name": "stdout",
     "output_type": "stream",
     "text": [
      " 3 searching in [ 1.0 8.13816847122 ], FOUND:  3.37559173887\n",
      "At time  3 no need to search, ESS(1.0) =  239.546560148\n",
      "At time "
     ]
    },
    {
     "name": "stdout",
     "output_type": "stream",
     "text": [
      " 3 searching in [ 1.0 30.1799862214 ], FOUND:  15.9467336167\n",
      "At time  3 searching in [ 1.0 15.9467336167 ], FOUND:  8.13816847122\n",
      "At time "
     ]
    },
    {
     "name": "stdout",
     "output_type": "stream",
     "text": [
      " 3 searching in [ 1.0 139.1930872 ], FOUND:  62.8874611366\n",
      "At time  3 searching in [ 1.0 62.8874611366 ], FOUND:  30.1799862214\n",
      "At time "
     ]
    },
    {
     "name": "stdout",
     "output_type": "stream",
     "text": [
      " 3 searching in [ 1.0 10000 ], FOUND:  489.813906691\n",
      "At time  3 searching in [ 1.0 489.813906691 ], FOUND:  139.1930872\n",
      "At time "
     ]
    },
    {
     "name": "stdout",
     "output_type": "stream",
     "text": [
      " 2 searching in [ 1.0 100 ], FOUND:  5.72098412099\n",
      "At time  2 no need to search, ESS(1.0) =  290.875850424\n",
      "At time "
     ]
    },
    {
     "name": "stdout",
     "output_type": "stream",
     "text": [
      " 1 searching in [ 1.0 100 ], FOUND:  8.82511614218\n",
      "At time  1 no need to search, ESS(1.0) =  231.180355269\n",
      "At time "
     ]
    },
    {
     "name": "stdout",
     "output_type": "stream",
     "text": [
      " 0 searching in [ 1.0 100 ], FOUND:  17.5447600201\n",
      "At time  0 no need to search, ESS(1.0) =  183.630460544\n",
      "At time "
     ]
    },
    {
     "name": "stdout",
     "output_type": "stream",
     "text": [
      " 9 no need to search, ESS(1.0) =  458.343102085\n",
      "At time "
     ]
    },
    {
     "name": "stdout",
     "output_type": "stream",
     "text": [
      " 9 searching in [ 1.0 100 ], FOUND:  33.2856338294\n",
      "At time  9 searching in [ 1.0 33.2856338294 ], FOUND:  1.65796852755\n",
      "At time "
     ]
    },
    {
     "name": "stdout",
     "output_type": "stream",
     "text": [
      " 8 searching in [ 1.0 100 ], FOUND:  7.13747984392\n",
      "At time  8 no need to search, ESS(1.0) =  256.514280667\n",
      "At time "
     ]
    },
    {
     "name": "stdout",
     "output_type": "stream",
     "text": [
      " 7 searching in [ 1.0 100 ], FOUND:  8.43085599056\n",
      "At time  7 no need to search, ESS(1.0) =  235.234633043\n",
      "At time "
     ]
    },
    {
     "name": "stdout",
     "output_type": "stream",
     "text": [
      " 6 searching in [ 1.0 16.5647793543 ], FOUND:  1.1184448275\n",
      "At time  6 no need to search, ESS(1.0) =  497.664262302\n",
      "At time "
     ]
    },
    {
     "name": "stdout",
     "output_type": "stream",
     "text": [
      " 5 no need to search, ESS(1.0) =  477.196246164\n",
      "At time  6 searching in [ 1.0 100 ], FOUND:  16.5647793543\n",
      "At time "
     ]
    },
    {
     "name": "stdout",
     "output_type": "stream",
     "text": [
      " 5 searching in [ 1.0 100 ], FOUND:  23.9938630224\n",
      "At time  5 searching in [ 1.0 23.9938630224 ], FOUND:  1.43121669445\n",
      "At time "
     ]
    },
    {
     "name": "stdout",
     "output_type": "stream",
     "text": [
      " 4 searching in [ 1.0 6.05417628546 ], FOUND:  1.22428813859\n",
      "At time  4 no need to search, ESS(1.0) =  487.380182106\n",
      "At time "
     ]
    },
    {
     "name": "stdout",
     "output_type": "stream",
     "text": [
      " 4 searching in [ 1.0 24.7780950889 ], FOUND:  13.3782684408\n",
      "At time  4 searching in [ 1.0 13.3782684408 ], FOUND:  6.05417628546\n",
      "At time "
     ]
    },
    {
     "name": "stdout",
     "output_type": "stream",
     "text": [
      " 4 searching in [ 1.0 114.107601566 ], FOUND:  47.6061390631\n",
      "At time  4 searching in [ 1.0 47.6061390631 ], FOUND:  24.7780950889\n",
      "At time "
     ]
    },
    {
     "name": "stdout",
     "output_type": "stream",
     "text": [
      " 4 searching in [ 1.0 10000 ], FOUND:  317.690145491\n",
      "At time  4 searching in [ 1.0 317.690145491 ], FOUND:  114.107601566\n",
      "At time "
     ]
    },
    {
     "name": "stdout",
     "output_type": "stream",
     "text": [
      " 3 searching in [ 1.0 10.8186357141 ], FOUND:  4.25128620771\n",
      "At time  3 no need to search, ESS(1.0) =  207.167517841\n",
      "At time "
     ]
    },
    {
     "name": "stdout",
     "output_type": "stream",
     "text": [
      " 3 searching in [ 1.0 61.6294354632 ], FOUND:  25.3342414037\n",
      "At time  3 searching in [ 1.0 25.3342414037 ], FOUND:  10.8186357141\n",
      "At time "
     ]
    },
    {
     "name": "stdout",
     "output_type": "stream",
     "text": [
      " 3 searching in [ 1.0 380.183886158 ], FOUND:  130.20575719\n",
      "At time  3 searching in [ 1.0 130.20575719 ], FOUND:  61.6294354632\n",
      "At time "
     ]
    },
    {
     "name": "stdout",
     "output_type": "stream",
     "text": [
      " 2 no need to search, ESS(1.0) =  394.551444503\n",
      "At time  3 searching in [ 1.0 10000 ], FOUND:  380.183886158\n",
      "At time "
     ]
    },
    {
     "name": "stdout",
     "output_type": "stream",
     "text": [
      " 2 searching in [ 1.0 100 ], FOUND:  38.0687519782\n",
      "At time  2 searching in [ 1.0 38.0687519782 ], FOUND:  2.54513208449\n",
      "At time "
     ]
    },
    {
     "name": "stdout",
     "output_type": "stream",
     "text": [
      " 1 searching in [ 1.0 100 ], FOUND:  7.04980192126\n",
      "At time  1 no need to search, ESS(1.0) =  256.24000885\n",
      "At time "
     ]
    },
    {
     "name": "stdout",
     "output_type": "stream",
     "text": [
      " 0 searching in [ 1.0 100 ], FOUND:  16.2468907718\n",
      "At time  0 no need to search, ESS(1.0) =  173.588494568\n",
      "At time "
     ]
    },
    {
     "name": "stdout",
     "output_type": "stream",
     "text": [
      " 9 searching in [ 1.0 44.9698850926 ], FOUND:  1.48958733437\n",
      "At time  9 no need to search, ESS(1.0) =  474.241639536\n",
      "At time "
     ]
    },
    {
     "name": "stdout",
     "output_type": "stream",
     "text": [
      " 8 no need to search, ESS(1.0) =  252.041980523\n",
      "At time  9 searching in [ 1.0 100 ], FOUND:  44.9698850926\n",
      "At time "
     ]
    },
    {
     "name": "stdout",
     "output_type": "stream",
     "text": [
      " 7 no need to search, ESS(1.0) =  200.903293373\n",
      "At time  8 searching in [ 1.0 100 ], FOUND:  8.1239377799\n",
      "At time "
     ]
    },
    {
     "name": "stdout",
     "output_type": "stream",
     "text": [
      " 6 no need to search, ESS(1.0) =  415.674376375\n",
      "At time  7 searching in [ 1.0 100 ], FOUND:  14.3316405768\n",
      "At time "
     ]
    },
    {
     "name": "stdout",
     "output_type": "stream",
     "text": [
      " 6 searching in [ 1.0 100 ], FOUND:  39.374439949\n",
      "At time  6 searching in [ 1.0 39.374439949 ], FOUND:  2.34112287572\n",
      "At time "
     ]
    },
    {
     "name": "stdout",
     "output_type": "stream",
     "text": [
      " 5 searching in [ 1.0 65.8222228486 ], FOUND:  4.25310865162\n",
      "At time  5 no need to search, ESS(1.0) =  324.646887345\n",
      "At time "
     ]
    },
    {
     "name": "stdout",
     "output_type": "stream",
     "text": [
      " 4 no need to search, ESS(1.0) =  296.635109663\n",
      "At time  5 searching in [ 1.0 100 ], FOUND:  65.8222228486\n",
      "At time "
     ]
    },
    {
     "name": "stdout",
     "output_type": "stream",
     "text": [
      " 4 searching in [ 1.0 16.4802919451 ], FOUND:  7.87571686149\n",
      "At time  4 searching in [ 1.0 7.87571686149 ], FOUND:  2.86227411753\n",
      "At time "
     ]
    },
    {
     "name": "stdout",
     "output_type": "stream",
     "text": [
      " 4 searching in [ 1.0 65.3852975424 ], FOUND:  32.8598449836\n",
      "At time  4 searching in [ 1.0 32.8598449836 ], FOUND:  16.4802919451\n",
      "At time "
     ]
    },
    {
     "name": "stdout",
     "output_type": "stream",
     "text": [
      " 4 searching in [ 1.0 597.261405046 ], FOUND:  159.650665069\n",
      "At time  4 searching in [ 1.0 159.650665069 ], FOUND:  65.3852975424\n",
      "At time "
     ]
    },
    {
     "name": "stdout",
     "output_type": "stream",
     "text": [
      " 3 no need to search, ESS(1.0) =  251.18814078\n",
      "At time  4 searching in [ 1.0 10000 ], FOUND:  597.261405046\n",
      "At time "
     ]
    },
    {
     "name": "stdout",
     "output_type": "stream",
     "text": [
      " 3 searching in [ 1.0 16.651226079 ], FOUND:  8.67514570435\n",
      "At time  3 searching in [ 1.0 8.67514570435 ], FOUND:  3.3060800641\n",
      "At time "
     ]
    },
    {
     "name": "stdout",
     "output_type": "stream",
     "text": [
      " 3 searching in [ 1.0 62.9124854818 ], FOUND:  30.2251243609\n",
      "At time  3 searching in [ 1.0 30.2251243609 ], FOUND:  16.651226079\n",
      "At time "
     ]
    },
    {
     "name": "stdout",
     "output_type": "stream",
     "text": [
      " 3 searching in [ 1.0 507.293454733 ], FOUND:  146.059305429\n",
      "At time  3 searching in [ 1.0 146.059305429 ], FOUND:  62.9124854818\n",
      "At time "
     ]
    },
    {
     "name": "stdout",
     "output_type": "stream",
     "text": [
      " 2 no need to search, ESS(1.0) =  273.927357932\n",
      "At time  3 searching in [ 1.0 10000 ], FOUND:  507.293454733\n",
      "At time "
     ]
    },
    {
     "name": "stdout",
     "output_type": "stream",
     "text": [
      " 1 no need to search, ESS(1.0) =  226.977342054\n",
      "At time  2 searching in [ 1.0 100 ], FOUND:  6.47972343245\n",
      "At time "
     ]
    },
    {
     "name": "stdout",
     "output_type": "stream",
     "text": [
      " 0 no need to search, ESS(1.0) =  499.661612084\n",
      "At time  1 searching in [ 1.0 100 ], FOUND:  8.10585133176\n",
      "At time "
     ]
    },
    {
     "name": "stdout",
     "output_type": "stream",
     "text": [
      " 0 searching in [ 1.0 100 ], FOUND:  17.178392752\n",
      "At time  0 searching in [ 1.0 17.178392752 ], FOUND:  1.03868964619\n",
      "At time "
     ]
    },
    {
     "name": "stdout",
     "output_type": "stream",
     "text": [
      " 9 searching in [ 1.0 32.3088071052 ], FOUND:  1.79900233916\n",
      "At time  9 no need to search, ESS(1.0) =  450.134292386\n",
      "At time "
     ]
    },
    {
     "name": "stdout",
     "output_type": "stream",
     "text": [
      " 8 no need to search, ESS(1.0) =  265.432807774\n",
      "At time  9 searching in [ 1.0 100 ], FOUND:  32.3088071052\n",
      "At time "
     ]
    },
    {
     "name": "stdout",
     "output_type": "stream",
     "text": [
      " 7 no need to search, ESS(1.0) =  191.483651593\n",
      "At time  8 searching in [ 1.0 100 ], FOUND:  6.54853854129\n",
      "At time "
     ]
    },
    {
     "name": "stdout",
     "output_type": "stream",
     "text": [
      " 6 no need to search, ESS(1.0) =  422.203459601\n",
      "At time  7 searching in [ 1.0 100 ], FOUND:  14.0293860266\n",
      "At time "
     ]
    },
    {
     "name": "stdout",
     "output_type": "stream",
     "text": [
      " 6 searching in [ 1.0 100 ], FOUND:  36.1012815414\n",
      "At time  6 searching in [ 1.0 36.1012815414 ], FOUND:  2.0848979834\n",
      "At time "
     ]
    },
    {
     "name": "stdout",
     "output_type": "stream",
     "text": [
      " 5 searching in [ 1.0 62.5331355747 ], FOUND:  4.19550017395\n",
      "At time  5 no need to search, ESS(1.0) =  328.060108394\n",
      "At time "
     ]
    },
    {
     "name": "stdout",
     "output_type": "stream",
     "text": [
      " 4 no need to search, ESS(1.0) =  314.399245489\n",
      "At time  5 searching in [ 1.0 100 ], FOUND:  62.5331355747\n",
      "At time "
     ]
    },
    {
     "name": "stdout",
     "output_type": "stream",
     "text": [
      " 4 searching in [ 1.0 14.2565697555 ], FOUND:  7.55036293819\n",
      "At time  4 searching in [ 1.0 7.55036293819 ], FOUND:  2.49140888691\n",
      "At time "
     ]
    },
    {
     "name": "stdout",
     "output_type": "stream",
     "text": [
      " 4 searching in [ 1.0 45.1414517359 ], FOUND:  23.8362798621\n",
      "At time  4 searching in [ 1.0 23.8362798621 ], FOUND:  14.2565697555\n",
      "At time "
     ]
    },
    {
     "name": "stdout",
     "output_type": "stream",
     "text": [
      " 4 searching in [ 1.0 312.87359568 ], FOUND:  111.98131292\n",
      "At time  4 searching in [ 1.0 111.98131292 ], FOUND:  45.1414517359\n",
      "At time "
     ]
    },
    {
     "name": "stdout",
     "output_type": "stream",
     "text": [
      " 3 no need to search, ESS(1.0) =  490.661838113\n",
      "At time  4 searching in [ 1.0 10000 ], FOUND:  312.87359568\n",
      "At time "
     ]
    },
    {
     "name": "stdout",
     "output_type": "stream",
     "text": [
      " 3 searching in [ 1.0 10.9130618604 ], FOUND:  5.00039250134\n",
      "At time  3 searching in [ 1.0 5.00039250134 ], FOUND:  1.16607930239\n",
      "At time "
     ]
    },
    {
     "name": "stdout",
     "output_type": "stream",
     "text": [
      " 3 searching in [ 1.0 31.0438233559 ], FOUND:  18.4529604883\n",
      "At time  3 searching in [ 1.0 18.4529604883 ], FOUND:  10.9130618604\n",
      "At time "
     ]
    },
    {
     "name": "stdout",
     "output_type": "stream",
     "text": [
      " 3 searching in [ 1.0 149.060083372 ], FOUND:  62.6190700558\n",
      "At time  3 searching in [ 1.0 62.6190700558 ], FOUND:  31.0438233559\n",
      "At time "
     ]
    },
    {
     "name": "stdout",
     "output_type": "stream",
     "text": [
      " 3 searching in [ 1.0 10000 ], FOUND:  500.992546353\n",
      "At time  3 searching in [ 1.0 500.992546353 ], FOUND:  149.060083372\n",
      "At time "
     ]
    },
    {
     "name": "stdout",
     "output_type": "stream",
     "text": [
      " 2 searching in [ 1.0 100 ], FOUND:  5.94083031563\n",
      "At time  2 no need to search, ESS(1.0) =  277.989622297\n",
      "At time "
     ]
    },
    {
     "name": "stdout",
     "output_type": "stream",
     "text": [
      " 1 searching in [ 1.0 100 ], FOUND:  7.30311817923\n",
      "At time  1 no need to search, ESS(1.0) =  236.759071546\n",
      "At time "
     ]
    },
    {
     "name": "stdout",
     "output_type": "stream",
     "text": [
      " 0 searching in [ 1.0 100 ], FOUND:  16.0621170109\n",
      "At time  0 no need to search, ESS(1.0) =  178.870648327\n",
      "At time "
     ]
    },
    {
     "name": "stdout",
     "output_type": "stream",
     "text": [
      " 9 no need to search, ESS(1.0) =  421.476297685\n",
      "At time "
     ]
    },
    {
     "name": "stdout",
     "output_type": "stream",
     "text": [
      " 9 searching in [ 1.0 100 ], FOUND:  37.8862317092\n",
      "At time  9 searching in [ 1.0 37.8862317092 ], FOUND:  2.14804443245\n",
      "At time "
     ]
    },
    {
     "name": "stdout",
     "output_type": "stream",
     "text": [
      " 8 searching in [ 1.0 100 ], FOUND:  6.51055149157\n",
      "At time  8 no need to search, ESS(1.0) =  270.896943938\n",
      "At time "
     ]
    },
    {
     "name": "stdout",
     "output_type": "stream",
     "text": [
      " 7 searching in [ 1.0 100 ], FOUND:  9.41047950879\n",
      "At time  7 no need to search, ESS(1.0) =  230.792170388\n",
      "At time "
     ]
    },
    {
     "name": "stdout",
     "output_type": "stream",
     "text": [
      " 6 searching in [ 1.0 16.3550164562 ], FOUND:  1.06339999161\n",
      "At time  6 no need to search, ESS(1.0) =  498.84954063\n",
      "At time "
     ]
    },
    {
     "name": "stdout",
     "output_type": "stream",
     "text": [
      " 5 no need to search, ESS(1.0) =  481.042969171\n",
      "At time  6 searching in [ 1.0 100 ], FOUND:  16.3550164562\n",
      "At time "
     ]
    },
    {
     "name": "stdout",
     "output_type": "stream",
     "text": [
      " 5 searching in [ 1.0 100 ], FOUND:  29.4918105415\n",
      "At time  5 searching in [ 1.0 29.4918105415 ], FOUND:  1.39810481532\n",
      "At time "
     ]
    },
    {
     "name": "stdout",
     "output_type": "stream",
     "text": [
      " 4 searching in [ 1.0 5.76530134211 ], FOUND:  1.61782111176\n",
      "At time  4 no need to search, ESS(1.0) =  437.845328463\n",
      "At time "
     ]
    },
    {
     "name": "stdout",
     "output_type": "stream",
     "text": [
      " 4 searching in [ 1.0 22.5547994807 ], FOUND:  11.8980718861\n",
      "At time  4 searching in [ 1.0 11.8980718861 ], FOUND:  5.76530134211\n",
      "At time "
     ]
    },
    {
     "name": "stdout",
     "output_type": "stream",
     "text": [
      " 4 searching in [ 1.0 117.688722926 ], FOUND:  47.4390440183\n",
      "At time  4 searching in [ 1.0 47.4390440183 ], FOUND:  22.5547994807\n",
      "At time "
     ]
    },
    {
     "name": "stdout",
     "output_type": "stream",
     "text": [
      " 4 searching in [ 1.0 10000 ], FOUND:  333.168383756\n",
      "At time  4 searching in [ 1.0 333.168383756 ], FOUND:  117.688722926\n",
      "At time "
     ]
    },
    {
     "name": "stdout",
     "output_type": "stream",
     "text": [
      " 3 searching in [ 1.0 5.90294515466 ], FOUND:  1.42210781115\n",
      "At time  3 no need to search, ESS(1.0) =  463.483921513\n",
      "At time "
     ]
    },
    {
     "name": "stdout",
     "output_type": "stream",
     "text": [
      " 3 searching in [ 1.0 39.5836203757 ], FOUND:  15.5819144423\n",
      "At time  3 searching in [ 1.0 15.5819144423 ], FOUND:  5.90294515466\n",
      "At time "
     ]
    },
    {
     "name": "stdout",
     "output_type": "stream",
     "text": [
      " 3 searching in [ 1.0 148.386388906 ], FOUND:  76.5892073562\n",
      "At time  3 searching in [ 1.0 76.5892073562 ], FOUND:  39.5836203757\n",
      "At time "
     ]
    },
    {
     "name": "stdout",
     "output_type": "stream",
     "text": [
      " 3 searching in [ 1.0 10000 ], FOUND:  499.468747657\n",
      "At time  3 searching in [ 1.0 499.468747657 ], FOUND:  148.386388906\n",
      "At time "
     ]
    },
    {
     "name": "stdout",
     "output_type": "stream",
     "text": [
      " 2 searching in [ 1.0 100 ], FOUND:  5.61615462959\n",
      "At time  2 no need to search, ESS(1.0) =  278.786813627\n",
      "At time "
     ]
    },
    {
     "name": "stdout",
     "output_type": "stream",
     "text": [
      " 1 searching in [ 1.0 100 ], FOUND:  8.38521248179\n",
      "At time  1 no need to search, ESS(1.0) =  248.638839884\n",
      "At time "
     ]
    },
    {
     "name": "stdout",
     "output_type": "stream",
     "text": [
      " 0 searching in [ 1.0 100 ], FOUND:  15.8912517665\n",
      "At time  0 no need to search, ESS(1.0) =  195.171241093\n",
      "At time "
     ]
    },
    {
     "name": "stdout",
     "output_type": "stream",
     "text": [
      " 9 no need to search, ESS(1.0) =  271.454423575\n",
      "At time "
     ]
    },
    {
     "name": "stdout",
     "output_type": "stream",
     "text": [
      " 8 no need to search, ESS(1.0) =  499.962157134\n",
      "At time  9 searching in [ 1.0 100 ], FOUND:  7.69448237581\n",
      "At time "
     ]
    },
    {
     "name": "stdout",
     "output_type": "stream",
     "text": [
      " 8 searching in [ 1.0 100 ], FOUND:  22.8164019593\n",
      "At time  8 searching in [ 1.0 22.8164019593 ], FOUND:  1.01088289825\n",
      "At time "
     ]
    },
    {
     "name": "stdout",
     "output_type": "stream",
     "text": [
      " 7 searching in [ 1.0 100 ], FOUND:  6.32549037735\n",
      "At time  7 no need to search, ESS(1.0) =  284.418982595\n",
      "At time "
     ]
    },
    {
     "name": "stdout",
     "output_type": "stream",
     "text": [
      " 6 searching in [ 1.0 19.0482464333 ], FOUND:  1.09325562963\n",
      "At time  6 no need to search, ESS(1.0) =  498.407248048\n",
      "At time "
     ]
    },
    {
     "name": "stdout",
     "output_type": "stream",
     "text": [
      " 5 no need to search, ESS(1.0) =  468.655068977\n",
      "At time  6 searching in [ 1.0 100 ], FOUND:  19.0482464333\n",
      "At time "
     ]
    },
    {
     "name": "stdout",
     "output_type": "stream",
     "text": [
      " 5 searching in [ 1.0 100 ], FOUND:  26.933240008\n",
      "At time  5 searching in [ 1.0 26.933240008 ], FOUND:  1.49713767548\n",
      "At time "
     ]
    },
    {
     "name": "stdout",
     "output_type": "stream",
     "text": [
      " 4 searching in [ 1.0 10.0300838027 ], FOUND:  4.40508210098\n",
      "At time  4 no need to search, ESS(1.0) =  174.752945679\n",
      "At time "
     ]
    },
    {
     "name": "stdout",
     "output_type": "stream",
     "text": [
      " 4 searching in [ 1.0 43.6642766874 ], FOUND:  19.5223296955\n",
      "At time  4 searching in [ 1.0 19.5223296955 ], FOUND:  10.0300838027\n",
      "At time "
     ]
    },
    {
     "name": "stdout",
     "output_type": "stream",
     "text": [
      " 4 searching in [ 1.0 330.675929942 ], FOUND:  117.545567443\n",
      "At time  4 searching in [ 1.0 117.545567443 ], FOUND:  43.6642766874\n",
      "At time "
     ]
    },
    {
     "name": "stdout",
     "output_type": "stream",
     "text": [
      " 3 no need to search, ESS(1.0) =  497.915174117\n",
      "At time  4 searching in [ 1.0 10000 ], FOUND:  330.675929942\n",
      "At time "
     ]
    },
    {
     "name": "stdout",
     "output_type": "stream",
     "text": [
      " 3 searching in [ 1.0 11.141570929 ], FOUND:  4.3066724339\n",
      "At time  3 searching in [ 1.0 4.3066724339 ], FOUND:  1.07448107215\n",
      "At time "
     ]
    },
    {
     "name": "stdout",
     "output_type": "stream",
     "text": [
      " 3 searching in [ 1.0 50.9014326001 ], FOUND:  22.9322035734\n",
      "At time  3 searching in [ 1.0 22.9322035734 ], FOUND:  11.141570929\n",
      "At time "
     ]
    },
    {
     "name": "stdout",
     "output_type": "stream",
     "text": [
      " 3 searching in [ 1.0 337.538676223 ], FOUND:  129.75177668\n",
      "At time  3 searching in [ 1.0 129.75177668 ], FOUND:  50.9014326001\n",
      "At time "
     ]
    },
    {
     "name": "stdout",
     "output_type": "stream",
     "text": [
      " 2 no need to search, ESS(1.0) =  465.818436269\n",
      "At time  3 searching in [ 1.0 10000 ], FOUND:  337.538676223\n",
      "At time "
     ]
    },
    {
     "name": "stdout",
     "output_type": "stream",
     "text": [
      " 2 searching in [ 1.0 100 ], FOUND:  37.7379975524\n",
      "At time  2 searching in [ 1.0 37.7379975524 ], FOUND:  1.64495669317\n",
      "At time "
     ]
    },
    {
     "name": "stdout",
     "output_type": "stream",
     "text": [
      " 1 searching in [ 1.0 100 ], FOUND:  8.38770996088\n",
      "At time  1 no need to search, ESS(1.0) =  250.179684375\n",
      "At time "
     ]
    },
    {
     "name": "stdout",
     "output_type": "stream",
     "text": [
      " 0 searching in [ 1.0 100 ], FOUND:  13.8120667211\n",
      "At time  0 no need to search, ESS(1.0) =  181.472824887\n",
      "At time "
     ]
    },
    {
     "name": "stdout",
     "output_type": "stream",
     "text": [
      " 9 searching in [ 1.0 31.7417253964 ], FOUND:  1.72699777948\n",
      "At time  9 no need to search, ESS(1.0) =  451.907461428\n",
      "At time "
     ]
    },
    {
     "name": "stdout",
     "output_type": "stream",
     "text": [
      " 8 no need to search, ESS(1.0) =  278.731799171\n",
      "At time  9 searching in [ 1.0 100 ], FOUND:  31.7417253964\n",
      "At time "
     ]
    },
    {
     "name": "stdout",
     "output_type": "stream",
     "text": [
      " 7 no need to search, ESS(1.0) =  201.918019999\n",
      "At time  8 searching in [ 1.0 100 ], FOUND:  5.89181338164\n",
      "At time "
     ]
    },
    {
     "name": "stdout",
     "output_type": "stream",
     "text": [
      " 6 no need to search, ESS(1.0) =  427.571779685\n",
      "At time  7 searching in [ 1.0 100 ], FOUND:  11.0601778388\n",
      "At time "
     ]
    },
    {
     "name": "stdout",
     "output_type": "stream",
     "text": [
      " 6 searching in [ 1.0 100 ], FOUND:  40.3867897658\n",
      "At time  6 searching in [ 1.0 40.3867897658 ], FOUND:  2.00454372816\n",
      "At time "
     ]
    },
    {
     "name": "stdout",
     "output_type": "stream",
     "text": [
      " 5 searching in [ 1.0 52.0619144741 ], FOUND:  4.01532647978\n",
      "At time  5 no need to search, ESS(1.0) =  314.25298577\n",
      "At time "
     ]
    },
    {
     "name": "stdout",
     "output_type": "stream",
     "text": [
      " 4 no need to search, ESS(1.0) =  344.683429561\n",
      "At time  5 searching in [ 1.0 100 ], FOUND:  52.0619144741\n",
      "At time "
     ]
    },
    {
     "name": "stdout",
     "output_type": "stream",
     "text": [
      " 4 searching in [ 1.0 21.5950445288 ], FOUND:  8.53462947449\n",
      "At time  4 searching in [ 1.0 8.53462947449 ], FOUND:  2.50705052431\n",
      "At time "
     ]
    },
    {
     "name": "stdout",
     "output_type": "stream",
     "text": [
      " 4 searching in [ 1.0 124.008618642 ], FOUND:  54.6584679237\n",
      "At time  4 searching in [ 1.0 54.6584679237 ], FOUND:  21.5950445288\n",
      "At time "
     ]
    },
    {
     "name": "stdout",
     "output_type": "stream",
     "text": [
      " 4 searching in [ 1.0 10000 ], FOUND:  324.168597803\n",
      "At time  4 searching in [ 1.0 324.168597803 ], FOUND:  124.008618642\n",
      "At time "
     ]
    },
    {
     "name": "stdout",
     "output_type": "stream",
     "text": [
      " 3 searching in [ 1.0 5.47329654314 ], FOUND:  1.21791710263\n",
      "At time  3 no need to search, ESS(1.0) =  487.368493237\n",
      "At time "
     ]
    },
    {
     "name": "stdout",
     "output_type": "stream",
     "text": [
      " 3 searching in [ 1.0 61.5206720824 ], FOUND:  14.9877162767\n",
      "At time  3 searching in [ 1.0 14.9877162767 ], FOUND:  5.47329654314\n",
      "At time "
     ]
    },
    {
     "name": "stdout",
     "output_type": "stream",
     "text": [
      " 3 searching in [ 1.0 335.552409113 ], FOUND:  132.169145105\n",
      "At time  3 searching in [ 1.0 132.169145105 ], FOUND:  61.5206720824\n",
      "At time "
     ]
    },
    {
     "name": "stdout",
     "output_type": "stream",
     "text": [
      " 2 no need to search, ESS(1.0) =  478.044838143\n",
      "At time  3 searching in [ 1.0 10000 ], FOUND:  335.552409113\n",
      "At time "
     ]
    },
    {
     "name": "stdout",
     "output_type": "stream",
     "text": [
      " 2 searching in [ 1.0 100 ], FOUND:  30.2819247638\n",
      "At time  2 searching in [ 1.0 30.2819247638 ], FOUND:  1.42171695977\n",
      "At time "
     ]
    },
    {
     "name": "stdout",
     "output_type": "stream",
     "text": [
      " 1 searching in [ 1.0 100 ], FOUND:  6.96433548119\n",
      "At time  1 no need to search, ESS(1.0) =  266.200460581\n",
      "At time "
     ]
    },
    {
     "name": "stdout",
     "output_type": "stream",
     "text": [
      " 0 searching in [ 1.0 100 ], FOUND:  18.0946874825\n",
      "At time  0 no need to search, ESS(1.0) =  169.90427288\n",
      "At time "
     ]
    },
    {
     "name": "stdout",
     "output_type": "stream",
     "text": [
      " 9 no need to search, ESS(1.0) =  465.675893301\n",
      "At time "
     ]
    },
    {
     "name": "stdout",
     "output_type": "stream",
     "text": [
      " 9 searching in [ 1.0 100 ], FOUND:  32.8765982429\n",
      "At time  9 searching in [ 1.0 32.8765982429 ], FOUND:  1.60662416342\n",
      "At time "
     ]
    },
    {
     "name": "stdout",
     "output_type": "stream",
     "text": [
      " 8 searching in [ 1.0 100 ], FOUND:  6.79404117662\n",
      "At time  8 no need to search, ESS(1.0) =  278.346040314\n",
      "At time "
     ]
    },
    {
     "name": "stdout",
     "output_type": "stream",
     "text": [
      " 7 searching in [ 1.0 100 ], FOUND:  19.0645195696\n",
      "At time  7 no need to search, ESS(1.0) =  167.705073461\n",
      "At time "
     ]
    },
    {
     "name": "stdout",
     "output_type": "stream",
     "text": [
      " 6 searching in [ 1.0 57.4448872867 ], FOUND:  3.4336084255\n",
      "At time  6 no need to search, ESS(1.0) =  350.016828036\n",
      "At time "
     ]
    },
    {
     "name": "stdout",
     "output_type": "stream",
     "text": [
      " 5 no need to search, ESS(1.0) =  275.260753993\n",
      "At time  6 searching in [ 1.0 100 ], FOUND:  57.4448872867\n",
      "At time "
     ]
    },
    {
     "name": "stdout",
     "output_type": "stream",
     "text": [
      " 5 searching in [ 1.0 100 ], FOUND:  57.9360187774\n",
      "At time  5 searching in [ 1.0 57.9360187774 ], FOUND:  4.93253264647\n",
      "At time "
     ]
    },
    {
     "name": "stdout",
     "output_type": "stream",
     "text": [
      " 4 searching in [ 1.0 7.02186146373 ], FOUND:  2.50118939324\n",
      "At time  4 no need to search, ESS(1.0) =  339.291814552\n",
      "At time "
     ]
    },
    {
     "name": "stdout",
     "output_type": "stream",
     "text": [
      " 4 searching in [ 1.0 27.2188195711 ], FOUND:  14.8066209069\n",
      "At time  4 searching in [ 1.0 14.8066209069 ], FOUND:  7.02186146373\n",
      "At time "
     ]
    },
    {
     "name": "stdout",
     "output_type": "stream",
     "text": [
      " 4 searching in [ 1.0 116.28061509 ], FOUND:  53.0191118202\n",
      "At time  4 searching in [ 1.0 53.0191118202 ], FOUND:  27.2188195711\n",
      "At time "
     ]
    },
    {
     "name": "stdout",
     "output_type": "stream",
     "text": [
      " 4 searching in [ 1.0 10000 ], FOUND:  318.154386525\n",
      "At time  4 searching in [ 1.0 318.154386525 ], FOUND:  116.28061509\n",
      "At time "
     ]
    },
    {
     "name": "stdout",
     "output_type": "stream",
     "text": [
      " 3 searching in [ 1.0 5.264335078 ], FOUND:  1.4646269644\n",
      "At time  3 no need to search, ESS(1.0) =  451.989890551\n",
      "At time "
     ]
    },
    {
     "name": "stdout",
     "output_type": "stream",
     "text": [
      " 3 searching in [ 1.0 21.9724626795 ], FOUND:  11.4924202768\n",
      "At time  3 searching in [ 1.0 11.4924202768 ], FOUND:  5.264335078\n",
      "At time "
     ]
    },
    {
     "name": "stdout",
     "output_type": "stream",
     "text": [
      " 3 searching in [ 1.0 113.117883693 ], FOUND:  46.977746158\n",
      "At time  3 searching in [ 1.0 46.977746158 ], FOUND:  21.9724626795\n",
      "At time "
     ]
    },
    {
     "name": "stdout",
     "output_type": "stream",
     "text": [
      " 3 searching in [ 1.0 10000 ], FOUND:  323.238674101\n",
      "At time  3 searching in [ 1.0 323.238674101 ], FOUND:  113.117883693\n",
      "At time "
     ]
    },
    {
     "name": "stdout",
     "output_type": "stream",
     "text": [
      " 2 searching in [ 1.0 32.7380891698 ], FOUND:  1.46212731196\n",
      "At time  2 no need to search, ESS(1.0) =  469.908958994\n",
      "At time "
     ]
    },
    {
     "name": "stdout",
     "output_type": "stream",
     "text": [
      " 1 no need to search, ESS(1.0) =  265.969240672\n",
      "At time  2 searching in [ 1.0 100 ], FOUND:  32.7380891698\n",
      "At time "
     ]
    },
    {
     "name": "stdout",
     "output_type": "stream",
     "text": [
      " 0 no need to search, ESS(1.0) =  493.356115164\n",
      "At time  1 searching in [ 1.0 100 ], FOUND:  7.4732940476\n",
      "At time "
     ]
    },
    {
     "name": "stdout",
     "output_type": "stream",
     "text": [
      " 0 searching in [ 1.0 100 ], FOUND:  16.5402028147\n",
      "At time  0 searching in [ 1.0 16.5402028147 ], FOUND:  1.18077973886\n",
      "At time "
     ]
    },
    {
     "name": "stdout",
     "output_type": "stream",
     "text": [
      " 9 no need to search, ESS(1.0) =  235.035942933\n",
      "At time "
     ]
    },
    {
     "name": "stdout",
     "output_type": "stream",
     "text": [
      " 8 no need to search, ESS(1.0) =  242.370425442\n",
      "At time  9 searching in [ 1.0 100 ], FOUND:  9.07237089519\n",
      "At time "
     ]
    },
    {
     "name": "stdout",
     "output_type": "stream",
     "text": [
      " 7 no need to search, ESS(1.0) =  227.598441718\n",
      "At time  8 searching in [ 1.0 100 ], FOUND:  7.6225946655\n",
      "At time "
     ]
    },
    {
     "name": "stdout",
     "output_type": "stream",
     "text": [
      " 6 no need to search, ESS(1.0) =  171.326832393\n",
      "At time  7 searching in [ 1.0 100 ], FOUND:  9.22511507614\n",
      "At time "
     ]
    },
    {
     "name": "stdout",
     "output_type": "stream",
     "text": [
      " 5 no need to search, ESS(1.0) =  475.174967047\n",
      "At time  6 searching in [ 1.0 100 ], FOUND:  13.9498407287\n",
      "At time "
     ]
    },
    {
     "name": "stdout",
     "output_type": "stream",
     "text": [
      " 5 searching in [ 1.0 100 ], FOUND:  24.1554902343\n",
      "At time  5 searching in [ 1.0 24.1554902343 ], FOUND:  1.46461090893\n",
      "At time "
     ]
    },
    {
     "name": "stdout",
     "output_type": "stream",
     "text": [
      " 4 searching in [ 1.0 5.2048201854 ], FOUND:  1.31028729819\n",
      "At time  4 no need to search, ESS(1.0) =  476.497875948\n",
      "At time "
     ]
    },
    {
     "name": "stdout",
     "output_type": "stream",
     "text": [
      " 4 searching in [ 1.0 23.5651915346 ], FOUND:  12.059816361\n",
      "At time  4 searching in [ 1.0 12.059816361 ], FOUND:  5.2048201854\n",
      "At time "
     ]
    },
    {
     "name": "stdout",
     "output_type": "stream",
     "text": [
      " 4 searching in [ 1.0 119.839601382 ], FOUND:  49.9486274465\n",
      "At time  4 searching in [ 1.0 49.9486274465 ], FOUND:  23.5651915346\n",
      "At time "
     ]
    },
    {
     "name": "stdout",
     "output_type": "stream",
     "text": [
      " 4 searching in [ 1.0 10000 ], FOUND:  328.297746136\n",
      "At time  4 searching in [ 1.0 328.297746136 ], FOUND:  119.839601382\n",
      "At time "
     ]
    },
    {
     "name": "stdout",
     "output_type": "stream",
     "text": [
      " 3 searching in [ 1.0 5.34618887834 ], FOUND:  1.45090232447\n",
      "At time  3 no need to search, ESS(1.0) =  458.809762996\n",
      "At time "
     ]
    },
    {
     "name": "stdout",
     "output_type": "stream",
     "text": [
      " 3 searching in [ 1.0 54.4445608425 ], FOUND:  13.9217132341\n",
      "At time  3 searching in [ 1.0 13.9217132341 ], FOUND:  5.34618887834\n",
      "At time "
     ]
    },
    {
     "name": "stdout",
     "output_type": "stream",
     "text": [
      " 3 searching in [ 1.0 510.479495595 ], FOUND:  178.91088186\n",
      "At time  3 searching in [ 1.0 178.91088186 ], FOUND:  54.4445608425\n",
      "At time "
     ]
    },
    {
     "name": "stdout",
     "output_type": "stream",
     "text": [
      " 2 no need to search, ESS(1.0) =  281.992629599\n",
      "At time  3 searching in [ 1.0 10000 ], FOUND:  510.479495595\n",
      "At time "
     ]
    },
    {
     "name": "stdout",
     "output_type": "stream",
     "text": [
      " 1 no need to search, ESS(1.0) =  208.476381904\n",
      "At time  2 searching in [ 1.0 100 ], FOUND:  5.47498395371\n",
      "At time "
     ]
    },
    {
     "name": "stdout",
     "output_type": "stream",
     "text": [
      " 0 no need to search, ESS(1.0) =  499.994541559\n",
      "At time  1 searching in [ 1.0 100 ], FOUND:  8.8410913493\n",
      "At time "
     ]
    },
    {
     "name": "stdout",
     "output_type": "stream",
     "text": [
      " 0 searching in [ 1.0 100 ], FOUND:  22.2246301152\n",
      "At time  0 searching in [ 1.0 22.2246301152 ], FOUND:  1.00501597079\n",
      "At time "
     ]
    },
    {
     "name": "stdout",
     "output_type": "stream",
     "text": [
      " 9 searching in [ 1.0 100 ], FOUND:  21.5678258769\n",
      "At time  9 no need to search, ESS(1.0) =  195.017982277\n",
      "At time "
     ]
    },
    {
     "name": "stdout",
     "output_type": "stream",
     "text": [
      " 8 searching in [ 1.0 100 ], FOUND:  6.15893879005\n",
      "At time  8 no need to search, ESS(1.0) =  297.101747729\n",
      "At time "
     ]
    },
    {
     "name": "stdout",
     "output_type": "stream",
     "text": [
      " 7 searching in [ 1.0 100 ], FOUND:  11.3281262404\n",
      "At time  7 no need to search, ESS(1.0) =  216.14519177\n",
      "At time "
     ]
    },
    {
     "name": "stdout",
     "output_type": "stream",
     "text": [
      " 6 searching in [ 1.0 41.4617472658 ], FOUND:  1.63018398978\n",
      "At time  6 no need to search, ESS(1.0) =  463.775396724\n",
      "At time "
     ]
    },
    {
     "name": "stdout",
     "output_type": "stream",
     "text": [
      " 5 no need to search, ESS(1.0) =  310.803326272\n",
      "At time  6 searching in [ 1.0 100 ], FOUND:  41.4617472658\n",
      "At time "
     ]
    },
    {
     "name": "stdout",
     "output_type": "stream",
     "text": [
      " 5 searching in [ 1.0 100 ], FOUND:  70.6741466199\n",
      "At time  5 searching in [ 1.0 70.6741466199 ], FOUND:  4.30325108491\n",
      "At time "
     ]
    },
    {
     "name": "stdout",
     "output_type": "stream",
     "text": [
      " 4 searching in [ 1.0 7.79582629006 ], FOUND:  2.74047379791\n",
      "At time  4 no need to search, ESS(1.0) =  287.132450801\n",
      "At time "
     ]
    },
    {
     "name": "stdout",
     "output_type": "stream",
     "text": [
      " 4 searching in [ 1.0 32.0261149831 ], FOUND:  16.5978005227\n",
      "At time  4 searching in [ 1.0 16.5978005227 ], FOUND:  7.79582629006\n",
      "At time "
     ]
    },
    {
     "name": "stdout",
     "output_type": "stream",
     "text": [
      " 4 searching in [ 1.0 139.479633974 ], FOUND:  62.6439851406\n",
      "At time  4 searching in [ 1.0 62.6439851406 ], FOUND:  32.0261149831\n",
      "At time "
     ]
    },
    {
     "name": "stdout",
     "output_type": "stream",
     "text": [
      " 4 searching in [ 1.0 10000 ], FOUND:  469.994298641\n",
      "At time  4 searching in [ 1.0 469.994298641 ], FOUND:  139.479633974\n",
      "At time "
     ]
    },
    {
     "name": "stdout",
     "output_type": "stream",
     "text": [
      " 3 searching in [ 1.0 9.26319877813 ], FOUND:  3.11578370538\n",
      "At time  3 no need to search, ESS(1.0) =  282.079613335\n",
      "At time "
     ]
    },
    {
     "name": "stdout",
     "output_type": "stream",
     "text": [
      " 3 searching in [ 1.0 31.0328063509 ], FOUND:  17.6675810882\n",
      "At time  3 searching in [ 1.0 17.6675810882 ], FOUND:  9.26319877813\n",
      "At time "
     ]
    },
    {
     "name": "stdout",
     "output_type": "stream",
     "text": [
      " 3 searching in [ 1.0 136.819584899 ], FOUND:  61.0542523871\n",
      "At time  3 searching in [ 1.0 61.0542523871 ], FOUND:  31.0328063509\n",
      "At time "
     ]
    },
    {
     "name": "stdout",
     "output_type": "stream",
     "text": [
      " 3 searching in [ 1.0 10000 ], FOUND:  435.107875567\n",
      "At time  3 searching in [ 1.0 435.107875567 ], FOUND:  136.819584899\n",
      "At time "
     ]
    },
    {
     "name": "stdout",
     "output_type": "stream",
     "text": [
      " 2 searching in [ 1.0 100 ], FOUND:  5.99853161812\n",
      "At time  2 no need to search, ESS(1.0) =  304.565028936\n",
      "At time "
     ]
    },
    {
     "name": "stdout",
     "output_type": "stream",
     "text": [
      " 1 searching in [ 1.0 100 ], FOUND:  8.85721385885\n",
      "At time  1 no need to search, ESS(1.0) =  231.921423483\n",
      "At time "
     ]
    },
    {
     "name": "stdout",
     "output_type": "stream",
     "text": [
      " 0 searching in [ 1.0 100 ], FOUND:  17.6421296375\n",
      "At time  0 no need to search, ESS(1.0) =  169.805098312\n",
      "At time "
     ]
    },
    {
     "name": "stdout",
     "output_type": "stream",
     "text": [
      " 9 no need to search, ESS(1.0) =  492.737958685\n",
      "At time "
     ]
    },
    {
     "name": "stdout",
     "output_type": "stream",
     "text": [
      " 9 searching in [ 1.0 100 ], FOUND:  29.6957038986\n",
      "At time  9 searching in [ 1.0 29.6957038986 ], FOUND:  1.22023141422\n",
      "At time "
     ]
    },
    {
     "name": "stdout",
     "output_type": "stream",
     "text": [
      " 8 searching in [ 1.0 100 ], FOUND:  5.69086081486\n",
      "At time  8 no need to search, ESS(1.0) =  295.588105532\n",
      "At time "
     ]
    },
    {
     "name": "stdout",
     "output_type": "stream",
     "text": [
      " 7 searching in [ 1.0 100 ], FOUND:  9.45383130404\n",
      "At time  7 no need to search, ESS(1.0) =  249.504837847\n",
      "At time "
     ]
    },
    {
     "name": "stdout",
     "output_type": "stream",
     "text": [
      " 6 searching in [ 1.0 18.0193415446 ], FOUND:  1.16310035548\n",
      "At time  6 no need to search, ESS(1.0) =  494.487418306\n",
      "At time "
     ]
    },
    {
     "name": "stdout",
     "output_type": "stream",
     "text": [
      " 5 no need to search, ESS(1.0) =  463.568333326\n",
      "At time  6 searching in [ 1.0 100 ], FOUND:  18.0193415446\n",
      "At time "
     ]
    },
    {
     "name": "stdout",
     "output_type": "stream",
     "text": [
      " 5 searching in [ 1.0 100 ], FOUND:  28.0708917819\n",
      "At time  5 searching in [ 1.0 28.0708917819 ], FOUND:  1.60839187741\n",
      "At time "
     ]
    },
    {
     "name": "stdout",
     "output_type": "stream",
     "text": [
      " 4 searching in [ 1.0 5.59036216154 ], FOUND:  1.36167624735\n",
      "At time  4 no need to search, ESS(1.0) =  475.586932068\n",
      "At time "
     ]
    },
    {
     "name": "stdout",
     "output_type": "stream",
     "text": [
      " 4 searching in [ 1.0 26.2955738694 ], FOUND:  12.5497077229\n",
      "At time  4 searching in [ 1.0 12.5497077229 ], FOUND:  5.59036216154\n",
      "At time "
     ]
    },
    {
     "name": "stdout",
     "output_type": "stream",
     "text": [
      " 4 searching in [ 1.0 155.981228771 ], FOUND:  61.5236993225\n",
      "At time  4 searching in [ 1.0 61.5236993225 ], FOUND:  26.2955738694\n",
      "At time "
     ]
    },
    {
     "name": "stdout",
     "output_type": "stream",
     "text": [
      " 4 searching in [ 1.0 10000 ], FOUND:  452.38029524\n",
      "At time  4 searching in [ 1.0 452.38029524 ], FOUND:  155.981228771\n",
      "At time "
     ]
    },
    {
     "name": "stdout",
     "output_type": "stream",
     "text": [
      " 3 searching in [ 1.0 7.63929852142 ], FOUND:  2.6923471838\n",
      "At time  3 no need to search, ESS(1.0) =  322.774660727\n",
      "At time "
     ]
    },
    {
     "name": "stdout",
     "output_type": "stream",
     "text": [
      " 3 searching in [ 1.0 30.4662092308 ], FOUND:  15.6594644602\n",
      "At time  3 searching in [ 1.0 15.6594644602 ], FOUND:  7.63929852142\n",
      "At time "
     ]
    },
    {
     "name": "stdout",
     "output_type": "stream",
     "text": [
      " 3 searching in [ 1.0 149.408453136 ], FOUND:  62.9087862025\n",
      "At time  3 searching in [ 1.0 62.9087862025 ], FOUND:  30.4662092308\n",
      "At time "
     ]
    },
    {
     "name": "stdout",
     "output_type": "stream",
     "text": [
      " 3 searching in [ 1.0 10000 ], FOUND:  503.645759962\n",
      "At time  3 searching in [ 1.0 503.645759962 ], FOUND:  149.408453136\n",
      "At time "
     ]
    },
    {
     "name": "stdout",
     "output_type": "stream",
     "text": [
      " 2 searching in [ 1.0 100 ], FOUND:  5.69120680512\n",
      "At time  2 no need to search, ESS(1.0) =  283.195308776\n",
      "At time "
     ]
    },
    {
     "name": "stdout",
     "output_type": "stream",
     "text": [
      " 1 searching in [ 1.0 100 ], FOUND:  7.98817674169\n",
      "At time  1 no need to search, ESS(1.0) =  235.320325976\n",
      "At time "
     ]
    },
    {
     "name": "stdout",
     "output_type": "stream",
     "text": [
      " 0 searching in [ 1.0 100 ], FOUND:  16.9544841011\n",
      "At time  0 no need to search, ESS(1.0) =  167.896191735\n",
      "At time "
     ]
    },
    {
     "name": "stdout",
     "output_type": "stream",
     "text": [
      " 9 no need to search, ESS(1.0) =  487.919990657\n",
      "At time "
     ]
    },
    {
     "name": "stdout",
     "output_type": "stream",
     "text": [
      " 9 searching in [ 1.0 100 ], FOUND:  37.6690832306\n",
      "At time  9 searching in [ 1.0 37.6690832306 ], FOUND:  1.28905908399\n",
      "At time "
     ]
    },
    {
     "name": "stdout",
     "output_type": "stream",
     "text": [
      " 8 searching in [ 1.0 100 ], FOUND:  7.0965235049\n",
      "At time  8 no need to search, ESS(1.0) =  261.824381517\n",
      "At time "
     ]
    },
    {
     "name": "stdout",
     "output_type": "stream",
     "text": [
      " 7 searching in [ 1.0 100 ], FOUND:  9.34884730269\n",
      "At time  7 no need to search, ESS(1.0) =  234.668384156\n",
      "At time "
     ]
    },
    {
     "name": "stdout",
     "output_type": "stream",
     "text": [
      " 6 searching in [ 1.0 100 ], FOUND:  20.8803787643\n",
      "At time  6 no need to search, ESS(1.0) =  169.233281934\n",
      "At time "
     ]
    },
    {
     "name": "stdout",
     "output_type": "stream",
     "text": [
      " 5 searching in [ 1.0 26.9843448546 ], FOUND:  1.68295616953\n",
      "At time  5 no need to search, ESS(1.0) =  460.271729571\n",
      "At time "
     ]
    },
    {
     "name": "stdout",
     "output_type": "stream",
     "text": [
      " 4 no need to search, ESS(1.0) =  228.215993841\n",
      "At time  5 searching in [ 1.0 100 ], FOUND:  26.9843448546\n",
      "At time "
     ]
    },
    {
     "name": "stdout",
     "output_type": "stream",
     "text": [
      " 4 searching in [ 1.0 14.0325666567 ], FOUND:  7.68378179154\n",
      "At time  4 searching in [ 1.0 7.68378179154 ], FOUND:  3.1256839397\n",
      "At time "
     ]
    },
    {
     "name": "stdout",
     "output_type": "stream",
     "text": [
      " 4 searching in [ 1.0 55.8244217615 ], FOUND:  26.6490066597\n",
      "At time  4 searching in [ 1.0 26.6490066597 ], FOUND:  14.0325666567\n",
      "At time "
     ]
    },
    {
     "name": "stdout",
     "output_type": "stream",
     "text": [
      " 4 searching in [ 1.0 448.588162976 ], FOUND:  137.230034645\n",
      "At time  4 searching in [ 1.0 137.230034645 ], FOUND:  55.8244217615\n",
      "At time "
     ]
    },
    {
     "name": "stdout",
     "output_type": "stream",
     "text": [
      " 3 no need to search, ESS(1.0) =  309.706998143\n",
      "At time  4 searching in [ 1.0 10000 ], FOUND:  448.588162976\n",
      "At time "
     ]
    },
    {
     "name": "stdout",
     "output_type": "stream",
     "text": [
      " 3 searching in [ 1.0 13.3815955726 ], FOUND:  7.1518763617\n",
      "At time  3 searching in [ 1.0 7.1518763617 ], FOUND:  2.67123665091\n",
      "At time "
     ]
    },
    {
     "name": "stdout",
     "output_type": "stream",
     "text": [
      " 3 searching in [ 1.0 43.6044454253 ], FOUND:  23.2095906793\n",
      "At time  3 searching in [ 1.0 23.2095906793 ], FOUND:  13.3815955726\n",
      "At time "
     ]
    },
    {
     "name": "stdout",
     "output_type": "stream",
     "text": [
      " 3 searching in [ 1.0 312.501008153 ], FOUND:  107.370736481\n",
      "At time  3 searching in [ 1.0 107.370736481 ], FOUND:  43.6044454253\n",
      "At time "
     ]
    },
    {
     "name": "stdout",
     "output_type": "stream",
     "text": [
      " 2 no need to search, ESS(1.0) =  472.332717804\n",
      "At time  3 searching in [ 1.0 10000 ], FOUND:  312.501008153\n",
      "At time "
     ]
    },
    {
     "name": "stdout",
     "output_type": "stream",
     "text": [
      " 2 searching in [ 1.0 100 ], FOUND:  27.5347505435\n",
      "At time  2 searching in [ 1.0 27.5347505435 ], FOUND:  1.43814604924\n",
      "At time "
     ]
    },
    {
     "name": "stdout",
     "output_type": "stream",
     "text": [
      " 1 searching in [ 1.0 100 ], FOUND:  7.03054661092\n",
      "At time  1 no need to search, ESS(1.0) =  268.421637783\n",
      "At time "
     ]
    },
    {
     "name": "stdout",
     "output_type": "stream",
     "text": [
      " 0 searching in [ 1.0 100 ], FOUND:  16.9205686394\n",
      "At time  0 no need to search, ESS(1.0) =  175.507239516\n",
      "At time "
     ]
    },
    {
     "name": "stdout",
     "output_type": "stream",
     "text": [
      " 9 no need to search, ESS(1.0) =  257.166188644\n",
      "At time "
     ]
    },
    {
     "name": "stdout",
     "output_type": "stream",
     "text": [
      " 8 no need to search, ESS(1.0) =  477.127129568\n",
      "At time  9 searching in [ 1.0 100 ], FOUND:  7.7955412281\n",
      "At time "
     ]
    },
    {
     "name": "stdout",
     "output_type": "stream",
     "text": [
      " 8 searching in [ 1.0 100 ], FOUND:  35.3962759069\n",
      "At time  8 searching in [ 1.0 35.3962759069 ], FOUND:  1.43385102109\n",
      "At time "
     ]
    },
    {
     "name": "stdout",
     "output_type": "stream",
     "text": [
      " 7 searching in [ 1.0 100 ], FOUND:  8.28664736592\n",
      "At time  7 no need to search, ESS(1.0) =  254.537956406\n",
      "At time "
     ]
    },
    {
     "name": "stdout",
     "output_type": "stream",
     "text": [
      " 6 searching in [ 1.0 100 ], FOUND:  13.5998164804\n",
      "At time  6 no need to search, ESS(1.0) =  189.124137396\n",
      "At time "
     ]
    },
    {
     "name": "stdout",
     "output_type": "stream",
     "text": [
      " 5 searching in [ 1.0 24.0535108869 ], FOUND:  1.432724907\n",
      "At time  5 no need to search, ESS(1.0) =  477.160143439\n",
      "At time "
     ]
    },
    {
     "name": "stdout",
     "output_type": "stream",
     "text": [
      " 4 no need to search, ESS(1.0) =  176.464038069\n",
      "At time  5 searching in [ 1.0 100 ], FOUND:  24.0535108869\n",
      "At time "
     ]
    },
    {
     "name": "stdout",
     "output_type": "stream",
     "text": [
      " 4 searching in [ 1.0 25.221243251 ], FOUND:  13.0450503213\n",
      "At time  4 searching in [ 1.0 13.0450503213 ], FOUND:  4.76477190625\n",
      "At time "
     ]
    },
    {
     "name": "stdout",
     "output_type": "stream",
     "text": [
      " 4 searching in [ 1.0 111.210044256 ], FOUND:  47.3785824747\n",
      "At time  4 searching in [ 1.0 47.3785824747 ], FOUND:  25.221243251\n",
      "At time "
     ]
    },
    {
     "name": "stdout",
     "output_type": "stream",
     "text": [
      " 4 searching in [ 1.0 10000 ], FOUND:  306.932204223\n",
      "At time  4 searching in [ 1.0 306.932204223 ], FOUND:  111.210044256\n",
      "At time "
     ]
    },
    {
     "name": "stdout",
     "output_type": "stream",
     "text": [
      " 3 searching in [ 1.0 9.47406452788 ], FOUND:  3.46675266106\n",
      "At time  3 no need to search, ESS(1.0) =  247.182170119\n",
      "At time "
     ]
    },
    {
     "name": "stdout",
     "output_type": "stream",
     "text": [
      " 3 searching in [ 1.0 28.8209766924 ], FOUND:  17.2618612118\n",
      "At time  3 searching in [ 1.0 17.2618612118 ], FOUND:  9.47406452788\n",
      "At time "
     ]
    },
    {
     "name": "stdout",
     "output_type": "stream",
     "text": [
      " 3 searching in [ 1.0 137.30467962 ], FOUND:  55.6212776537\n",
      "At time  3 searching in [ 1.0 55.6212776537 ], FOUND:  28.8209766924\n",
      "At time "
     ]
    },
    {
     "name": "stdout",
     "output_type": "stream",
     "text": [
      " 3 searching in [ 1.0 10000 ], FOUND:  453.781194609\n",
      "At time  3 searching in [ 1.0 453.781194609 ], FOUND:  137.30467962\n",
      "At time "
     ]
    },
    {
     "name": "stdout",
     "output_type": "stream",
     "text": [
      " 2 searching in [ 1.0 100 ], FOUND:  6.11199953934\n",
      "At time  2 no need to search, ESS(1.0) =  282.830318611\n",
      "At time "
     ]
    },
    {
     "name": "stdout",
     "output_type": "stream",
     "text": [
      " 1 searching in [ 1.0 100 ], FOUND:  8.59230448173\n",
      "At time  1 no need to search, ESS(1.0) =  243.641456296\n",
      "At time "
     ]
    },
    {
     "name": "stdout",
     "output_type": "stream",
     "text": [
      " 0 searching in [ 1.0 100 ], FOUND:  16.3641457095\n",
      "At time  0 no need to search, ESS(1.0) =  167.617828524\n",
      "At time "
     ]
    },
    {
     "name": "stdout",
     "output_type": "stream",
     "text": [
      " 9 no need to search, ESS(1.0) =  463.889872045\n",
      "At time "
     ]
    },
    {
     "name": "stdout",
     "output_type": "stream",
     "text": [
      " 9 searching in [ 1.0 100 ], FOUND:  43.1280505375\n",
      "At time  9 searching in [ 1.0 43.1280505375 ], FOUND:  1.68097273172\n",
      "At time "
     ]
    },
    {
     "name": "stdout",
     "output_type": "stream",
     "text": [
      " 8 searching in [ 1.0 100 ], FOUND:  7.18277621374\n",
      "At time  8 no need to search, ESS(1.0) =  261.024473896\n",
      "At time "
     ]
    },
    {
     "name": "stdout",
     "output_type": "stream",
     "text": [
      " 7 searching in [ 1.0 100 ], FOUND:  9.00819828598\n",
      "At time  7 no need to search, ESS(1.0) =  248.471504974\n",
      "At time "
     ]
    },
    {
     "name": "stdout",
     "output_type": "stream",
     "text": [
      " 6 searching in [ 1.0 100 ], FOUND:  16.6329247619\n",
      "At time  6 no need to search, ESS(1.0) =  181.099392228\n",
      "At time "
     ]
    },
    {
     "name": "stdout",
     "output_type": "stream",
     "text": [
      " 5 searching in [ 1.0 26.5822703947 ], FOUND:  1.57657110676\n",
      "At time  5 no need to search, ESS(1.0) =  461.743524175\n",
      "At time "
     ]
    },
    {
     "name": "stdout",
     "output_type": "stream",
     "text": [
      " 4 no need to search, ESS(1.0) =  457.852067259\n",
      "At time  5 searching in [ 1.0 100 ], FOUND:  26.5822703947\n",
      "At time "
     ]
    },
    {
     "name": "stdout",
     "output_type": "stream",
     "text": [
      " 4 searching in [ 1.0 17.0132312039 ], FOUND:  5.627100491\n",
      "At time  4 searching in [ 1.0 5.627100491 ], FOUND:  1.44487041621\n",
      "At time "
     ]
    },
    {
     "name": "stdout",
     "output_type": "stream",
     "text": [
      " 4 searching in [ 1.0 160.375312545 ], FOUND:  75.3402891688\n",
      "At time  4 searching in [ 1.0 75.3402891688 ], FOUND:  17.0132312039\n",
      "At time "
     ]
    },
    {
     "name": "stdout",
     "output_type": "stream",
     "text": [
      " 4 searching in [ 1.0 10000 ], FOUND:  418.983653524\n",
      "At time  4 searching in [ 1.0 418.983653524 ], FOUND:  160.375312545\n",
      "At time "
     ]
    },
    {
     "name": "stdout",
     "output_type": "stream",
     "text": [
      " 3 searching in [ 1.0 7.64349257161 ], FOUND:  2.59882165511\n",
      "At time  3 no need to search, ESS(1.0) =  325.117441879\n",
      "At time "
     ]
    },
    {
     "name": "stdout",
     "output_type": "stream",
     "text": [
      " 3 searching in [ 1.0 26.9294161626 ], FOUND:  14.9728484427\n",
      "At time  3 searching in [ 1.0 14.9728484427 ], FOUND:  7.64349257161\n",
      "At time "
     ]
    },
    {
     "name": "stdout",
     "output_type": "stream",
     "text": [
      " 3 searching in [ 1.0 162.625575634 ], FOUND:  54.6387057865\n",
      "At time  3 searching in [ 1.0 54.6387057865 ], FOUND:  26.9294161626\n",
      "At time "
     ]
    },
    {
     "name": "stdout",
     "output_type": "stream",
     "text": [
      " 3 searching in [ 1.0 10000 ], FOUND:  592.502135545\n",
      "At time  3 searching in [ 1.0 592.502135545 ], FOUND:  162.625575634\n",
      "At time "
     ]
    },
    {
     "name": "stdout",
     "output_type": "stream",
     "text": [
      " 2 searching in [ 1.0 100 ], FOUND:  6.98204810779\n",
      "At time  2 no need to search, ESS(1.0) =  263.54728508\n",
      "At time "
     ]
    },
    {
     "name": "stdout",
     "output_type": "stream",
     "text": [
      " 1 searching in [ 1.0 100 ], FOUND:  8.83740072016\n",
      "At time  1 no need to search, ESS(1.0) =  225.087280494\n",
      "At time "
     ]
    },
    {
     "name": "stdout",
     "output_type": "stream",
     "text": [
      " 0 searching in [ 1.0 100 ], FOUND:  16.4379603863\n",
      "At time  0 no need to search, ESS(1.0) =  169.798669636\n",
      "At time "
     ]
    },
    {
     "name": "stdout",
     "output_type": "stream",
     "text": [
      " 9 no need to search, ESS(1.0) =  255.193833555\n",
      "At time "
     ]
    },
    {
     "name": "stdout",
     "output_type": "stream",
     "text": [
      " 8 no need to search, ESS(1.0) =  209.831043907\n",
      "At time  9 searching in [ 1.0 100 ], FOUND:  7.83288463359\n",
      "At time "
     ]
    },
    {
     "name": "stdout",
     "output_type": "stream",
     "text": [
      " 7 no need to search, ESS(1.0) =  209.594363409\n",
      "At time  8 searching in [ 1.0 100 ], FOUND:  8.11880969811\n",
      "At time "
     ]
    },
    {
     "name": "stdout",
     "output_type": "stream",
     "text": [
      " 6 no need to search, ESS(1.0) =  177.762735388\n",
      "At time  7 searching in [ 1.0 100 ], FOUND:  10.3235724194\n",
      "At time "
     ]
    },
    {
     "name": "stdout",
     "output_type": "stream",
     "text": [
      " 5 no need to search, ESS(1.0) =  459.716237774\n",
      "At time  6 searching in [ 1.0 100 ], FOUND:  15.721428941\n",
      "At time "
     ]
    },
    {
     "name": "stdout",
     "output_type": "stream",
     "text": [
      " 5 searching in [ 1.0 100 ], FOUND:  27.1422780324\n",
      "At time  5 searching in [ 1.0 27.1422780324 ], FOUND:  1.68373956757\n",
      "At time "
     ]
    },
    {
     "name": "stdout",
     "output_type": "stream",
     "text": [
      " 4 searching in [ 1.0 5.29670904044 ], FOUND:  1.21731535841\n",
      "At time  4 no need to search, ESS(1.0) =  486.754548824\n",
      "At time "
     ]
    },
    {
     "name": "stdout",
     "output_type": "stream",
     "text": [
      " 4 searching in [ 1.0 31.6461893754 ], FOUND:  13.431351219\n",
      "At time  4 searching in [ 1.0 13.431351219 ], FOUND:  5.29670904044\n",
      "At time "
     ]
    },
    {
     "name": "stdout",
     "output_type": "stream",
     "text": [
      " 4 searching in [ 1.0 168.070538728 ], FOUND:  70.3056626275\n",
      "At time  4 searching in [ 1.0 70.3056626275 ], FOUND:  31.6461893754\n",
      "At time "
     ]
    },
    {
     "name": "stdout",
     "output_type": "stream",
     "text": [
      " 4 searching in [ 1.0 10000 ], FOUND:  611.982171019\n",
      "At time  4 searching in [ 1.0 611.982171019 ], FOUND:  168.070538728\n",
      "At time "
     ]
    },
    {
     "name": "stdout",
     "output_type": "stream",
     "text": [
      " 3 searching in [ 1.0 12.0688839514 ], FOUND:  3.82465894339\n",
      "At time  3 no need to search, ESS(1.0) =  260.875347699\n",
      "At time "
     ]
    },
    {
     "name": "stdout",
     "output_type": "stream",
     "text": [
      " 3 searching in [ 1.0 69.5269912046 ], FOUND:  30.3723503991\n",
      "At time  3 searching in [ 1.0 30.3723503991 ], FOUND:  12.0688839514\n",
      "At time "
     ]
    },
    {
     "name": "stdout",
     "output_type": "stream",
     "text": [
      " 3 searching in [ 1.0 512.453536007 ], FOUND:  157.696697547\n",
      "At time  3 searching in [ 1.0 157.696697547 ], FOUND:  69.5269912046\n",
      "At time "
     ]
    },
    {
     "name": "stdout",
     "output_type": "stream",
     "text": [
      " 2 no need to search, ESS(1.0) =  280.602762542\n",
      "At time  3 searching in [ 1.0 10000 ], FOUND:  512.453536007\n",
      "At time "
     ]
    },
    {
     "name": "stdout",
     "output_type": "stream",
     "text": [
      " 1 no need to search, ESS(1.0) =  222.060979445\n",
      "At time  2 searching in [ 1.0 100 ], FOUND:  6.18130366418\n",
      "At time "
     ]
    },
    {
     "name": "stdout",
     "output_type": "stream",
     "text": [
      " 0 no need to search, ESS(1.0) =  494.157998015\n",
      "At time  1 searching in [ 1.0 100 ], FOUND:  8.53710213698\n",
      "At time "
     ]
    },
    {
     "name": "stdout",
     "output_type": "stream",
     "text": [
      " 0 searching in [ 1.0 100 ], FOUND:  17.4210340964\n",
      "At time  0 searching in [ 1.0 17.4210340964 ], FOUND:  1.16605206539\n",
      "At time "
     ]
    },
    {
     "name": "stdout",
     "output_type": "stream",
     "text": [
      " 9 no need to search, ESS(1.0) =  417.446153359\n",
      "At time "
     ]
    },
    {
     "name": "stdout",
     "output_type": "stream",
     "text": [
      " 9 searching in [ 1.0 100 ], FOUND:  44.5943026839\n",
      "At time  9 searching in [ 1.0 44.5943026839 ], FOUND:  2.15582094749\n",
      "At time "
     ]
    },
    {
     "name": "stdout",
     "output_type": "stream",
     "text": [
      " 8 searching in [ 1.0 100 ], FOUND:  7.74117957126\n",
      "At time  8 no need to search, ESS(1.0) =  256.323907918\n",
      "At time "
     ]
    },
    {
     "name": "stdout",
     "output_type": "stream",
     "text": [
      " 7 searching in [ 1.0 100 ], FOUND:  11.7333265318\n",
      "At time  7 no need to search, ESS(1.0) =  194.75109385\n",
      "At time "
     ]
    },
    {
     "name": "stdout",
     "output_type": "stream",
     "text": [
      " 6 searching in [ 1.0 21.0311682969 ], FOUND:  1.24163797903\n",
      "At time  6 no need to search, ESS(1.0) =  490.68751337\n",
      "At time "
     ]
    },
    {
     "name": "stdout",
     "output_type": "stream",
     "text": [
      " 5 no need to search, ESS(1.0) =  416.860224769\n",
      "At time  6 searching in [ 1.0 100 ], FOUND:  21.0311682969\n",
      "At time "
     ]
    },
    {
     "name": "stdout",
     "output_type": "stream",
     "text": [
      " 5 searching in [ 1.0 100 ], FOUND:  38.7076238997\n",
      "At time  5 searching in [ 1.0 38.7076238997 ], FOUND:  2.20370242522\n",
      "At time "
     ]
    },
    {
     "name": "stdout",
     "output_type": "stream",
     "text": [
      " 4 searching in [ 1.0 7.40928538399 ], FOUND:  2.13467160814\n",
      "At time  4 no need to search, ESS(1.0) =  370.955671597\n",
      "At time "
     ]
    },
    {
     "name": "stdout",
     "output_type": "stream",
     "text": [
      " 4 searching in [ 1.0 25.9752411819 ], FOUND:  14.5385383472\n",
      "At time  4 searching in [ 1.0 14.5385383472 ], FOUND:  7.40928538399\n",
      "At time "
     ]
    },
    {
     "name": "stdout",
     "output_type": "stream",
     "text": [
      " 4 searching in [ 1.0 136.159459736 ], FOUND:  52.9235856791\n",
      "At time  4 searching in [ 1.0 52.9235856791 ], FOUND:  25.9752411819\n",
      "At time "
     ]
    },
    {
     "name": "stdout",
     "output_type": "stream",
     "text": [
      " 4 searching in [ 1.0 10000 ], FOUND:  510.08793588\n",
      "At time  4 searching in [ 1.0 510.08793588 ], FOUND:  136.159459736\n",
      "At time "
     ]
    },
    {
     "name": "stdout",
     "output_type": "stream",
     "text": [
      " 3 searching in [ 1.0 7.25749889663 ], FOUND:  2.58268078416\n",
      "At time  3 no need to search, ESS(1.0) =  311.318498206\n",
      "At time "
     ]
    },
    {
     "name": "stdout",
     "output_type": "stream",
     "text": [
      " 3 searching in [ 1.0 28.3392990751 ], FOUND:  14.1761809477\n",
      "At time  3 searching in [ 1.0 14.1761809477 ], FOUND:  7.25749889663\n",
      "At time "
     ]
    },
    {
     "name": "stdout",
     "output_type": "stream",
     "text": [
      " 3 searching in [ 1.0 114.825515346 ], FOUND:  54.1095043108\n",
      "At time  3 searching in [ 1.0 54.1095043108 ], FOUND:  28.3392990751\n",
      "At time "
     ]
    },
    {
     "name": "stdout",
     "output_type": "stream",
     "text": [
      " 3 searching in [ 1.0 10000 ], FOUND:  314.646958074\n",
      "At time  3 searching in [ 1.0 314.646958074 ], FOUND:  114.825515346\n",
      "At time "
     ]
    },
    {
     "name": "stdout",
     "output_type": "stream",
     "text": [
      " 2 searching in [ 1.0 33.3439333756 ], FOUND:  1.31794855902\n",
      "At time  2 no need to search, ESS(1.0) =  483.987113246\n",
      "At time "
     ]
    },
    {
     "name": "stdout",
     "output_type": "stream",
     "text": [
      " 1 no need to search, ESS(1.0) =  257.64131962\n",
      "At time  2 searching in [ 1.0 100 ], FOUND:  33.3439333756\n",
      "At time "
     ]
    },
    {
     "name": "stdout",
     "output_type": "stream",
     "text": [
      " 0 no need to search, ESS(1.0) =  499.03314447\n",
      "At time  1 searching in [ 1.0 100 ], FOUND:  6.88041453555\n",
      "At time "
     ]
    },
    {
     "name": "stdout",
     "output_type": "stream",
     "text": [
      " 0 searching in [ 1.0 100 ], FOUND:  18.1968921695\n",
      "At time  0 searching in [ 1.0 18.1968921695 ], FOUND:  1.06741346446\n",
      "At time "
     ]
    },
    {
     "name": "stdout",
     "output_type": "stream",
     "text": [
      " 9 searching in [ 1.0 100 ], FOUND:  6.78108736734\n",
      "At time  9 no need to search, ESS(1.0) =  266.46693811\n",
      "At time "
     ]
    },
    {
     "name": "stdout",
     "output_type": "stream",
     "text": [
      " 8 searching in [ 1.0 100 ], FOUND:  8.28804465481\n",
      "At time  8 no need to search, ESS(1.0) =  243.51763311\n",
      "At time "
     ]
    },
    {
     "name": "stdout",
     "output_type": "stream",
     "text": [
      " 7 searching in [ 1.0 100 ], FOUND:  9.34968927109\n",
      "At time  7 no need to search, ESS(1.0) =  232.632612631\n",
      "At time "
     ]
    },
    {
     "name": "stdout",
     "output_type": "stream",
     "text": [
      " 6 searching in [ 1.0 100 ], FOUND:  17.6088088676\n",
      "At time  6 no need to search, ESS(1.0) =  173.251799918\n",
      "At time "
     ]
    },
    {
     "name": "stdout",
     "output_type": "stream",
     "text": [
      " 5 searching in [ 1.0 25.0754702921 ], FOUND:  1.71374081637\n",
      "At time  5 no need to search, ESS(1.0) =  453.820676764\n",
      "At time "
     ]
    },
    {
     "name": "stdout",
     "output_type": "stream",
     "text": [
      " 4 no need to search, ESS(1.0) =  487.899290733\n",
      "At time  5 searching in [ 1.0 100 ], FOUND:  25.0754702921\n",
      "At time "
     ]
    },
    {
     "name": "stdout",
     "output_type": "stream",
     "text": [
      " 4 searching in [ 1.0 11.9677668484 ], FOUND:  5.28912556289\n",
      "At time  4 searching in [ 1.0 5.28912556289 ], FOUND:  1.20664901884\n",
      "At time "
     ]
    },
    {
     "name": "stdout",
     "output_type": "stream",
     "text": [
      " 4 searching in [ 1.0 56.0748941008 ], FOUND:  25.2336585229\n",
      "At time  4 searching in [ 1.0 25.2336585229 ], FOUND:  11.9677668484\n",
      "At time "
     ]
    },
    {
     "name": "stdout",
     "output_type": "stream",
     "text": [
      " 4 searching in [ 1.0 400.986840719 ], FOUND:  124.725232071\n",
      "At time  4 searching in [ 1.0 124.725232071 ], FOUND:  56.0748941008\n",
      "At time "
     ]
    },
    {
     "name": "stdout",
     "output_type": "stream",
     "text": [
      " 3 no need to search, ESS(1.0) =  354.131290947\n",
      "At time  4 searching in [ 1.0 10000 ], FOUND:  400.986840719\n",
      "At time "
     ]
    },
    {
     "name": "stdout",
     "output_type": "stream",
     "text": [
      " 3 searching in [ 1.0 19.4481932654 ], FOUND:  7.32235176888\n",
      "At time  3 searching in [ 1.0 7.32235176888 ], FOUND:  2.29711234396\n",
      "At time "
     ]
    },
    {
     "name": "stdout",
     "output_type": "stream",
     "text": [
      " 3 searching in [ 1.0 202.481210057 ], FOUND:  84.6208887931\n",
      "At time  3 searching in [ 1.0 84.6208887931 ], FOUND:  19.4481932654\n",
      "At time "
     ]
    },
    {
     "name": "stdout",
     "output_type": "stream",
     "text": [
      " 3 searching in [ 1.0 10000 ], FOUND:  613.854927295\n",
      "At time  3 searching in [ 1.0 613.854927295 ], FOUND:  202.481210057\n",
      "At time "
     ]
    },
    {
     "name": "stdout",
     "output_type": "stream",
     "text": [
      " 2 searching in [ 1.0 100 ], FOUND:  5.97101533949\n",
      "At time  2 no need to search, ESS(1.0) =  279.061745839\n",
      "At time "
     ]
    },
    {
     "name": "stdout",
     "output_type": "stream",
     "text": [
      " 1 searching in [ 1.0 100 ], FOUND:  8.75135813271\n",
      "At time  1 no need to search, ESS(1.0) =  239.56176193\n",
      "At time "
     ]
    },
    {
     "name": "stdout",
     "output_type": "stream",
     "text": [
      " 0 searching in [ 1.0 100 ], FOUND:  16.9211266424\n",
      "At time  0 no need to search, ESS(1.0) =  197.574550696\n",
      "At time "
     ]
    },
    {
     "name": "stdout",
     "output_type": "stream",
     "text": [
      " 9 no need to search, ESS(1.0) =  465.518705814\n",
      "At time "
     ]
    },
    {
     "name": "stdout",
     "output_type": "stream",
     "text": [
      " 9 searching in [ 1.0 100 ], FOUND:  38.3461997846\n",
      "At time  9 searching in [ 1.0 38.3461997846 ], FOUND:  1.58866363218\n",
      "At time "
     ]
    },
    {
     "name": "stdout",
     "output_type": "stream",
     "text": [
      " 8 searching in [ 1.0 100 ], FOUND:  6.07874597294\n",
      "At time  8 no need to search, ESS(1.0) =  273.998200319\n",
      "At time "
     ]
    },
    {
     "name": "stdout",
     "output_type": "stream",
     "text": [
      " 7 searching in [ 1.0 100 ], FOUND:  18.4387673406\n",
      "At time  7 no need to search, ESS(1.0) =  173.304843914\n",
      "At time "
     ]
    },
    {
     "name": "stdout",
     "output_type": "stream",
     "text": [
      " 6 searching in [ 1.0 55.9430874574 ], FOUND:  3.0094604534\n",
      "At time  6 no need to search, ESS(1.0) =  375.185582284\n",
      "At time "
     ]
    },
    {
     "name": "stdout",
     "output_type": "stream",
     "text": [
      " 5 no need to search, ESS(1.0) =  266.943382887\n",
      "At time  6 searching in [ 1.0 100 ], FOUND:  55.9430874574\n",
      "At time "
     ]
    },
    {
     "name": "stdout",
     "output_type": "stream",
     "text": [
      " 5 searching in [ 1.0 100 ], FOUND:  75.6021240448\n",
      "At time  5 searching in [ 1.0 75.6021240448 ], FOUND:  5.87974884347\n",
      "At time "
     ]
    },
    {
     "name": "stdout",
     "output_type": "stream",
     "text": [
      " 4 searching in [ 1.0 11.5021174778 ], FOUND:  3.43447459393\n",
      "At time  4 no need to search, ESS(1.0) =  272.573641212\n",
      "At time "
     ]
    },
    {
     "name": "stdout",
     "output_type": "stream",
     "text": [
      " 4 searching in [ 1.0 50.0829106921 ], FOUND:  27.1204573293\n",
      "At time  4 searching in [ 1.0 27.1204573293 ], FOUND:  11.5021174778\n",
      "At time "
     ]
    },
    {
     "name": "stdout",
     "output_type": "stream",
     "text": [
      " 4 searching in [ 1.0 305.283846821 ], FOUND:  102.539235555\n",
      "At time  4 searching in [ 1.0 102.539235555 ], FOUND:  50.0829106921\n",
      "At time "
     ]
    },
    {
     "name": "stdout",
     "output_type": "stream",
     "text": [
      " 3 no need to search, ESS(1.0) =  242.372409763\n",
      "At time  4 searching in [ 1.0 10000 ], FOUND:  305.283846821\n",
      "At time "
     ]
    },
    {
     "name": "stdout",
     "output_type": "stream",
     "text": [
      " 3 searching in [ 1.0 18.4780311328 ], FOUND:  10.1489442625\n",
      "At time  3 searching in [ 1.0 10.1489442625 ], FOUND:  3.32491314468\n",
      "At time "
     ]
    },
    {
     "name": "stdout",
     "output_type": "stream",
     "text": [
      " 3 searching in [ 1.0 59.071194383 ], FOUND:  31.9300572682\n",
      "At time  3 searching in [ 1.0 31.9300572682 ], FOUND:  18.4780311328\n",
      "At time "
     ]
    },
    {
     "name": "stdout",
     "output_type": "stream",
     "text": [
      " 3 searching in [ 1.0 494.156147863 ], FOUND:  137.488888912\n",
      "At time  3 searching in [ 1.0 137.488888912 ], FOUND:  59.071194383\n",
      "At time "
     ]
    },
    {
     "name": "stdout",
     "output_type": "stream",
     "text": [
      " 2 no need to search, ESS(1.0) =  300.892777571\n",
      "At time  3 searching in [ 1.0 10000 ], FOUND:  494.156147863\n",
      "At time "
     ]
    },
    {
     "name": "stdout",
     "output_type": "stream",
     "text": [
      " 1 no need to search, ESS(1.0) =  231.679440754\n",
      "At time  2 searching in [ 1.0 100 ], FOUND:  5.42830866653\n",
      "At time "
     ]
    },
    {
     "name": "stdout",
     "output_type": "stream",
     "text": [
      " 0 no need to search, ESS(1.0) =  499.352913362\n",
      "At time  1 searching in [ 1.0 100 ], FOUND:  7.45591891488\n",
      "At time "
     ]
    },
    {
     "name": "stdout",
     "output_type": "stream",
     "text": [
      " 0 searching in [ 1.0 100 ], FOUND:  19.4223927279\n",
      "At time  0 searching in [ 1.0 19.4223927279 ], FOUND:  1.04774895053\n",
      "At time "
     ]
    },
    {
     "name": "stdout",
     "output_type": "stream",
     "text": [
      " 9 no need to search, ESS(1.0) =  268.224988824\n",
      "At time "
     ]
    },
    {
     "name": "stdout",
     "output_type": "stream",
     "text": [
      " 8 no need to search, ESS(1.0) =  473.834475544\n",
      "At time  9 searching in [ 1.0 100 ], FOUND:  7.3137608153\n",
      "At time "
     ]
    },
    {
     "name": "stdout",
     "output_type": "stream",
     "text": [
      " 8 searching in [ 1.0 100 ], FOUND:  33.1942312215\n",
      "At time  8 searching in [ 1.0 33.1942312215 ], FOUND:  1.44677317232\n",
      "At time "
     ]
    },
    {
     "name": "stdout",
     "output_type": "stream",
     "text": [
      " 7 searching in [ 1.0 100 ], FOUND:  7.7346390525\n",
      "At time  7 no need to search, ESS(1.0) =  261.480926871\n",
      "At time "
     ]
    },
    {
     "name": "stdout",
     "output_type": "stream",
     "text": [
      " 6 searching in [ 1.0 20.3649652471 ], FOUND:  1.02695912308\n",
      "At time  6 no need to search, ESS(1.0) =  499.806881779\n",
      "At time "
     ]
    },
    {
     "name": "stdout",
     "output_type": "stream",
     "text": [
      " 5 no need to search, ESS(1.0) =  439.729058388\n",
      "At time  6 searching in [ 1.0 100 ], FOUND:  20.3649652471\n",
      "At time "
     ]
    },
    {
     "name": "stdout",
     "output_type": "stream",
     "text": [
      " 5 searching in [ 1.0 100 ], FOUND:  26.3560724929\n",
      "At time  5 searching in [ 1.0 26.3560724929 ], FOUND:  1.96979847029\n",
      "At time "
     ]
    },
    {
     "name": "stdout",
     "output_type": "stream",
     "text": [
      " 4 searching in [ 1.0 9.28858907825 ], FOUND:  3.96723837704\n",
      "At time  4 no need to search, ESS(1.0) =  196.468405913\n",
      "At time "
     ]
    },
    {
     "name": "stdout",
     "output_type": "stream",
     "text": [
      " 4 searching in [ 1.0 48.3038224496 ], FOUND:  19.9358745831\n",
      "At time  4 searching in [ 1.0 19.9358745831 ], FOUND:  9.28858907825\n",
      "At time "
     ]
    },
    {
     "name": "stdout",
     "output_type": "stream",
     "text": [
      " 4 searching in [ 1.0 355.681155743 ], FOUND:  127.120549543\n",
      "At time  4 searching in [ 1.0 127.120549543 ], FOUND:  48.3038224496\n",
      "At time "
     ]
    },
    {
     "name": "stdout",
     "output_type": "stream",
     "text": [
      " 3 no need to search, ESS(1.0) =  452.266723776\n",
      "At time  4 searching in [ 1.0 10000 ], FOUND:  355.681155743\n",
      "At time "
     ]
    },
    {
     "name": "stdout",
     "output_type": "stream",
     "text": [
      " 3 searching in [ 1.0 12.6356671941 ], FOUND:  6.27578602248\n",
      "At time  3 searching in [ 1.0 6.27578602248 ], FOUND:  1.54680053496\n",
      "At time "
     ]
    },
    {
     "name": "stdout",
     "output_type": "stream",
     "text": [
      " 3 searching in [ 1.0 43.7626641477 ], FOUND:  23.3109823308\n",
      "At time  3 searching in [ 1.0 23.3109823308 ], FOUND:  12.6356671941\n",
      "At time "
     ]
    },
    {
     "name": "stdout",
     "output_type": "stream",
     "text": [
      " 3 searching in [ 1.0 308.085675736 ], FOUND:  103.389960755\n",
      "At time  3 searching in [ 1.0 103.389960755 ], FOUND:  43.7626641477\n",
      "At time "
     ]
    },
    {
     "name": "stdout",
     "output_type": "stream",
     "text": [
      " 2 no need to search, ESS(1.0) =  487.372695155\n",
      "At time  3 searching in [ 1.0 10000 ], FOUND:  308.085675736\n",
      "At time "
     ]
    },
    {
     "name": "stdout",
     "output_type": "stream",
     "text": [
      " 2 searching in [ 1.0 100 ], FOUND:  25.3389821914\n",
      "At time  2 searching in [ 1.0 25.3389821914 ], FOUND:  1.29245618797\n",
      "At time "
     ]
    },
    {
     "name": "stdout",
     "output_type": "stream",
     "text": [
      " 1 searching in [ 1.0 100 ], FOUND:  7.00494850524\n",
      "At time  1 no need to search, ESS(1.0) =  267.953458204\n",
      "At time "
     ]
    },
    {
     "name": "stdout",
     "output_type": "stream",
     "text": [
      " 0 searching in [ 1.0 100 ], FOUND:  17.8030732519\n",
      "At time  0 no need to search, ESS(1.0) =  176.692380483\n",
      "At time "
     ]
    },
    {
     "name": "stdout",
     "output_type": "stream",
     "text": [
      " 9 searching in [ 1.0 100 ], FOUND:  9.67623138442\n",
      "At time  9 no need to search, ESS(1.0) =  216.178584745\n",
      "At time "
     ]
    },
    {
     "name": "stdout",
     "output_type": "stream",
     "text": [
      " 8 searching in [ 1.0 36.8039206772 ], FOUND:  1.93266210053\n",
      "At time  8 no need to search, ESS(1.0) =  436.023862208\n",
      "At time "
     ]
    },
    {
     "name": "stdout",
     "output_type": "stream",
     "text": [
      " 7 no need to search, ESS(1.0) =  253.585276896\n",
      "At time  8 searching in [ 1.0 100 ], FOUND:  36.8039206772\n",
      "At time "
     ]
    },
    {
     "name": "stdout",
     "output_type": "stream",
     "text": [
      " 6 no need to search, ESS(1.0) =  478.524756076\n",
      "At time  7 searching in [ 1.0 100 ], FOUND:  8.4098361055\n",
      "At time "
     ]
    },
    {
     "name": "stdout",
     "output_type": "stream",
     "text": [
      " 6 searching in [ 1.0 100 ], FOUND:  17.2939008987\n",
      "At time  6 searching in [ 1.0 17.2939008987 ], FOUND:  1.36621846604\n",
      "At time "
     ]
    },
    {
     "name": "stdout",
     "output_type": "stream",
     "text": [
      " 5 searching in [ 1.0 91.3048496733 ], FOUND:  7.35829848186\n",
      "At time  5 no need to search, ESS(1.0) =  229.58645204\n",
      "At time "
     ]
    },
    {
     "name": "stdout",
     "output_type": "stream",
     "text": [
      " 4 no need to search, ESS(1.0) =  266.166630119\n",
      "At time  5 searching in [ 1.0 100 ], FOUND:  91.3048496733\n",
      "At time "
     ]
    },
    {
     "name": "stdout",
     "output_type": "stream",
     "text": [
      " 4 searching in [ 1.0 15.4449244328 ], FOUND:  7.86423293368\n",
      "At time  4 searching in [ 1.0 7.86423293368 ], FOUND:  3.22408463003\n",
      "At time "
     ]
    },
    {
     "name": "stdout",
     "output_type": "stream",
     "text": [
      " 4 searching in [ 1.0 56.3325415286 ], FOUND:  28.9703076289\n",
      "At time  4 searching in [ 1.0 28.9703076289 ], FOUND:  15.4449244328\n",
      "At time "
     ]
    },
    {
     "name": "stdout",
     "output_type": "stream",
     "text": [
      " 4 searching in [ 1.0 452.827540928 ], FOUND:  131.928435781\n",
      "At time  4 searching in [ 1.0 131.928435781 ], FOUND:  56.3325415286\n",
      "At time "
     ]
    },
    {
     "name": "stdout",
     "output_type": "stream",
     "text": [
      " 3 no need to search, ESS(1.0) =  318.761681252\n",
      "At time  4 searching in [ 1.0 10000 ], FOUND:  452.827540928\n",
      "At time "
     ]
    },
    {
     "name": "stdout",
     "output_type": "stream",
     "text": [
      " 3 searching in [ 1.0 21.5770026346 ], FOUND:  8.54925113031\n",
      "At time  3 searching in [ 1.0 8.54925113031 ], FOUND:  2.64026138765\n",
      "At time "
     ]
    },
    {
     "name": "stdout",
     "output_type": "stream",
     "text": [
      " 3 searching in [ 1.0 164.819080585 ], FOUND:  64.633552125\n",
      "At time  3 searching in [ 1.0 64.633552125 ], FOUND:  21.5770026346\n",
      "At time "
     ]
    },
    {
     "name": "stdout",
     "output_type": "stream",
     "text": [
      " 3 searching in [ 1.0 10000 ], FOUND:  492.514785599\n",
      "At time  3 searching in [ 1.0 492.514785599 ], FOUND:  164.819080585\n",
      "At time "
     ]
    },
    {
     "name": "stdout",
     "output_type": "stream",
     "text": [
      " 2 searching in [ 1.0 100 ], FOUND:  5.83178034354\n",
      "At time  2 no need to search, ESS(1.0) =  295.866061201\n",
      "At time "
     ]
    },
    {
     "name": "stdout",
     "output_type": "stream",
     "text": [
      " 1 searching in [ 1.0 100 ], FOUND:  9.81746238781\n",
      "At time  1 no need to search, ESS(1.0) =  234.52258083\n",
      "At time "
     ]
    },
    {
     "name": "stdout",
     "output_type": "stream",
     "text": [
      " 0 searching in [ 1.0 100 ], FOUND:  15.1486821295\n",
      "At time  0 no need to search, ESS(1.0) =  196.902966022\n",
      "At time "
     ]
    },
    {
     "name": "stdout",
     "output_type": "stream",
     "text": [
      " 9 no need to search, ESS(1.0) =  470.893598863\n",
      "At time "
     ]
    },
    {
     "name": "stdout",
     "output_type": "stream",
     "text": [
      " 9 searching in [ 1.0 100 ], FOUND:  37.0373249586\n",
      "At time  9 searching in [ 1.0 37.0373249586 ], FOUND:  1.49476609976\n",
      "At time "
     ]
    },
    {
     "name": "stdout",
     "output_type": "stream",
     "text": [
      " 8 searching in [ 1.0 100 ], FOUND:  6.23254953573\n",
      "At time  8 no need to search, ESS(1.0) =  259.97598441\n",
      "At time "
     ]
    },
    {
     "name": "stdout",
     "output_type": "stream",
     "text": [
      " 7 searching in [ 1.0 100 ], FOUND:  12.6044520061\n",
      "At time  7 no need to search, ESS(1.0) =  195.849810516\n",
      "At time "
     ]
    },
    {
     "name": "stdout",
     "output_type": "stream",
     "text": [
      " 6 searching in [ 1.0 31.8483278558 ], FOUND:  1.6389764857\n",
      "At time  6 no need to search, ESS(1.0) =  460.390552968\n",
      "At time "
     ]
    },
    {
     "name": "stdout",
     "output_type": "stream",
     "text": [
      " 5 no need to search, ESS(1.0) =  329.222670676\n",
      "At time  6 searching in [ 1.0 100 ], FOUND:  31.8483278558\n",
      "At time "
     ]
    },
    {
     "name": "stdout",
     "output_type": "stream",
     "text": [
      " 5 searching in [ 1.0 100 ], FOUND:  67.015187317\n",
      "At time  5 searching in [ 1.0 67.015187317 ], FOUND:  4.09988431919\n",
      "At time "
     ]
    },
    {
     "name": "stdout",
     "output_type": "stream",
     "text": [
      " 4 searching in [ 1.0 6.93793920905 ], FOUND:  2.59572680434\n",
      "At time  4 no need to search, ESS(1.0) =  307.213315118\n",
      "At time "
     ]
    },
    {
     "name": "stdout",
     "output_type": "stream",
     "text": [
      " 4 searching in [ 1.0 24.5502292129 ], FOUND:  13.3822034929\n",
      "At time  4 searching in [ 1.0 13.3822034929 ], FOUND:  6.93793920905\n",
      "At time "
     ]
    },
    {
     "name": "stdout",
     "output_type": "stream",
     "text": [
      " 4 searching in [ 1.0 112.303826433 ], FOUND:  51.7718554093\n",
      "At time  4 searching in [ 1.0 51.7718554093 ], FOUND:  24.5502292129\n",
      "At time "
     ]
    },
    {
     "name": "stdout",
     "output_type": "stream",
     "text": [
      " 4 searching in [ 1.0 10000 ], FOUND:  293.305826124\n",
      "At time  4 searching in [ 1.0 293.305826124 ], FOUND:  112.303826433\n",
      "At time "
     ]
    },
    {
     "name": "stdout",
     "output_type": "stream",
     "text": [
      " 3 searching in [ 1.0 10.6421839495 ], FOUND:  3.88091693759\n",
      "At time  3 no need to search, ESS(1.0) =  241.534326442\n",
      "At time "
     ]
    },
    {
     "name": "stdout",
     "output_type": "stream",
     "text": [
      " 3 searching in [ 1.0 48.7824114851 ], FOUND:  21.9535922152\n",
      "At time  3 searching in [ 1.0 21.9535922152 ], FOUND:  10.6421839495\n",
      "At time "
     ]
    },
    {
     "name": "stdout",
     "output_type": "stream",
     "text": [
      " 3 searching in [ 1.0 317.138882161 ], FOUND:  127.438556785\n",
      "At time  3 searching in [ 1.0 127.438556785 ], FOUND:  48.7824114851\n",
      "At time "
     ]
    },
    {
     "name": "stdout",
     "output_type": "stream",
     "text": [
      " 2 no need to search, ESS(1.0) =  492.604305555\n",
      "At time  3 searching in [ 1.0 10000 ], FOUND:  317.138882161\n",
      "At time "
     ]
    },
    {
     "name": "stdout",
     "output_type": "stream",
     "text": [
      " 2 searching in [ 1.0 100 ], FOUND:  35.8880739069\n",
      "At time  2 searching in [ 1.0 35.8880739069 ], FOUND:  1.20877389585\n",
      "At time "
     ]
    },
    {
     "name": "stdout",
     "output_type": "stream",
     "text": [
      " 1 searching in [ 1.0 100 ], FOUND:  7.6542066935\n",
      "At time  1 no need to search, ESS(1.0) =  253.065468124\n",
      "At time "
     ]
    },
    {
     "name": "stdout",
     "output_type": "stream",
     "text": [
      " 0 searching in [ 1.0 100 ], FOUND:  15.233815954\n",
      "At time  0 no need to search, ESS(1.0) =  174.433675711\n",
      "At time "
     ]
    },
    {
     "name": "stdout",
     "output_type": "stream",
     "text": [
      " 9 no need to search, ESS(1.0) =  454.10607374\n",
      "At time "
     ]
    },
    {
     "name": "stdout",
     "output_type": "stream",
     "text": [
      " 9 searching in [ 1.0 100 ], FOUND:  28.2787397485\n",
      "At time  9 searching in [ 1.0 28.2787397485 ], FOUND:  1.67214066759\n",
      "At time "
     ]
    },
    {
     "name": "stdout",
     "output_type": "stream",
     "text": [
      " 8 searching in [ 1.0 100 ], FOUND:  6.84353096771\n",
      "At time  8 no need to search, ESS(1.0) =  279.142185075\n",
      "At time "
     ]
    },
    {
     "name": "stdout",
     "output_type": "stream",
     "text": [
      " 7 searching in [ 1.0 100 ], FOUND:  17.2577587048\n",
      "At time  7 no need to search, ESS(1.0) =  171.998510201\n",
      "At time "
     ]
    },
    {
     "name": "stdout",
     "output_type": "stream",
     "text": [
      " 6 searching in [ 1.0 40.6926112107 ], FOUND:  2.34930995194\n",
      "At time  6 no need to search, ESS(1.0) =  403.718756727\n",
      "At time "
     ]
    },
    {
     "name": "stdout",
     "output_type": "stream",
     "text": [
      " 5 no need to search, ESS(1.0) =  312.55928189\n",
      "At time  6 searching in [ 1.0 100 ], FOUND:  40.6926112107\n",
      "At time "
     ]
    },
    {
     "name": "stdout",
     "output_type": "stream",
     "text": [
      " 5 searching in [ 1.0 100 ], FOUND:  54.8762775555\n",
      "At time  5 searching in [ 1.0 54.8762775555 ], FOUND:  4.19649227532\n",
      "At time "
     ]
    },
    {
     "name": "stdout",
     "output_type": "stream",
     "text": [
      " 4 searching in [ 1.0 7.01784090262 ], FOUND:  2.45267209603\n",
      "At time  4 no need to search, ESS(1.0) =  322.412522833\n",
      "At time "
     ]
    },
    {
     "name": "stdout",
     "output_type": "stream",
     "text": [
      " 4 searching in [ 1.0 26.7532509249 ], FOUND:  14.4492376803\n",
      "At time  4 searching in [ 1.0 14.4492376803 ], FOUND:  7.01784090262\n",
      "At time "
     ]
    },
    {
     "name": "stdout",
     "output_type": "stream",
     "text": [
      " 4 searching in [ 1.0 134.085463771 ], FOUND:  53.8124134515\n",
      "At time  4 searching in [ 1.0 53.8124134515 ], FOUND:  26.7532509249\n",
      "At time "
     ]
    },
    {
     "name": "stdout",
     "output_type": "stream",
     "text": [
      " 4 searching in [ 1.0 10000 ], FOUND:  435.327317542\n",
      "At time  4 searching in [ 1.0 435.327317542 ], FOUND:  134.085463771\n",
      "At time "
     ]
    },
    {
     "name": "stdout",
     "output_type": "stream",
     "text": [
      " 3 searching in [ 1.0 8.45948303464 ], FOUND:  2.40956967241\n",
      "At time  3 no need to search, ESS(1.0) =  348.472957264\n",
      "At time "
     ]
    },
    {
     "name": "stdout",
     "output_type": "stream",
     "text": [
      " 3 searching in [ 1.0 66.7341212959 ], FOUND:  21.3522082302\n",
      "At time  3 searching in [ 1.0 21.3522082302 ], FOUND:  8.45948303464\n",
      "At time "
     ]
    },
    {
     "name": "stdout",
     "output_type": "stream",
     "text": [
      " 3 searching in [ 1.0 341.301507339 ], FOUND:  140.588701999\n",
      "At time  3 searching in [ 1.0 140.588701999 ], FOUND:  66.7341212959\n",
      "At time "
     ]
    },
    {
     "name": "stdout",
     "output_type": "stream",
     "text": [
      " 2 no need to search, ESS(1.0) =  471.281251995\n",
      "At time  3 searching in [ 1.0 10000 ], FOUND:  341.301507339\n",
      "At time "
     ]
    },
    {
     "name": "stdout",
     "output_type": "stream",
     "text": [
      " 2 searching in [ 1.0 100 ], FOUND:  28.8929705423\n",
      "At time  2 searching in [ 1.0 28.8929705423 ], FOUND:  1.47945360678\n",
      "At time "
     ]
    },
    {
     "name": "stdout",
     "output_type": "stream",
     "text": [
      " 1 searching in [ 1.0 100 ], FOUND:  7.63558606482\n",
      "At time  1 no need to search, ESS(1.0) =  255.712395868\n",
      "At time "
     ]
    },
    {
     "name": "stdout",
     "output_type": "stream",
     "text": [
      " 0 searching in [ 1.0 100 ], FOUND:  14.0053329052\n",
      "At time  0 no need to search, ESS(1.0) =  184.856170341\n",
      "At time "
     ]
    },
    {
     "name": "stdout",
     "output_type": "stream",
     "text": [
      " 9 no need to search, ESS(1.0) =  267.091774178\n",
      "At time "
     ]
    },
    {
     "name": "stdout",
     "output_type": "stream",
     "text": [
      " 8 no need to search, ESS(1.0) =  239.825254399\n",
      "At time  9 searching in [ 1.0 100 ], FOUND:  6.30603701175\n",
      "At time "
     ]
    },
    {
     "name": "stdout",
     "output_type": "stream",
     "text": [
      " 7 no need to search, ESS(1.0) =  247.199036817\n",
      "At time  8 searching in [ 1.0 100 ], FOUND:  7.82093263243\n",
      "At time "
     ]
    },
    {
     "name": "stdout",
     "output_type": "stream",
     "text": [
      " 6 no need to search, ESS(1.0) =  192.524824311\n",
      "At time  7 searching in [ 1.0 100 ], FOUND:  9.32094389168\n",
      "At time "
     ]
    },
    {
     "name": "stdout",
     "output_type": "stream",
     "text": [
      " 6 searching in [ 1.0 100 ], FOUND:  16.7712151623\n",
      "At time "
     ]
    },
    {
     "name": "stdout",
     "output_type": "stream",
     "text": [
      " 5 searching in [ 1.0 22.120665543 ], FOUND:  1.32500010591\n",
      "At time  5 no need to search, ESS(1.0) =  484.054015051\n",
      "At time "
     ]
    },
    {
     "name": "stdout",
     "output_type": "stream",
     "text": [
      " 4 no need to search, ESS(1.0) =  494.711586376\n",
      "At time  5 searching in [ 1.0 100 ], FOUND:  22.120665543\n",
      "At time "
     ]
    },
    {
     "name": "stdout",
     "output_type": "stream",
     "text": [
      " 4 searching in [ 1.0 26.2049936083 ], FOUND:  6.91544488548\n",
      "At time  4 searching in [ 1.0 6.91544488548 ], FOUND:  1.15144630368\n",
      "At time "
     ]
    },
    {
     "name": "stdout",
     "output_type": "stream",
     "text": [
      " 4 searching in [ 1.0 150.017921995 ], FOUND:  72.6952518107\n",
      "At time  4 searching in [ 1.0 72.6952518107 ], FOUND:  26.2049936083\n",
      "At time "
     ]
    },
    {
     "name": "stdout",
     "output_type": "stream",
     "text": [
      " 4 searching in [ 1.0 10000 ], FOUND:  380.150395402\n",
      "At time  4 searching in [ 1.0 380.150395402 ], FOUND:  150.017921995\n",
      "At time "
     ]
    },
    {
     "name": "stdout",
     "output_type": "stream",
     "text": [
      " 3 searching in [ 1.0 6.75259275125 ], FOUND:  2.08045001987\n",
      "At time  3 no need to search, ESS(1.0) =  373.717814843\n",
      "At time "
     ]
    },
    {
     "name": "stdout",
     "output_type": "stream",
     "text": [
      " 3 searching in [ 1.0 29.9749916433 ], FOUND:  14.8421492577\n",
      "At time  3 searching in [ 1.0 14.8421492577 ], FOUND:  6.75259275125\n",
      "At time "
     ]
    },
    {
     "name": "stdout",
     "output_type": "stream",
     "text": [
      " 3 searching in [ 1.0 144.225885812 ], FOUND:  63.1446456286\n",
      "At time  3 searching in [ 1.0 63.1446456286 ], FOUND:  29.9749916433\n",
      "At time "
     ]
    },
    {
     "name": "stdout",
     "output_type": "stream",
     "text": [
      " 3 searching in [ 1.0 10000 ], FOUND:  490.508010386\n",
      "At time  3 searching in [ 1.0 490.508010386 ], FOUND:  144.225885812\n",
      "At time "
     ]
    },
    {
     "name": "stdout",
     "output_type": "stream",
     "text": [
      " 2 searching in [ 1.0 100 ], FOUND:  6.63837235621\n",
      "At time  2 no need to search, ESS(1.0) =  279.304550937\n",
      "At time "
     ]
    },
    {
     "name": "stdout",
     "output_type": "stream",
     "text": [
      " 1 searching in [ 1.0 100 ], FOUND:  8.26842039405\n",
      "At time  1 no need to search, ESS(1.0) =  211.824666358\n",
      "At time "
     ]
    },
    {
     "name": "stdout",
     "output_type": "stream",
     "text": [
      " 0 searching in [ 1.0 100 ], FOUND:  16.6452738591\n",
      "At time  0 no need to search, ESS(1.0) =  187.701389674\n",
      "At time "
     ]
    },
    {
     "name": "stdout",
     "output_type": "stream",
     "text": [
      " 9 no need to search, ESS(1.0) =  230.511743992\n",
      "At time "
     ]
    },
    {
     "name": "stdout",
     "output_type": "stream",
     "text": [
      " 8 no need to search, ESS(1.0) =  245.865913375\n",
      "At time  9 searching in [ 1.0 100 ], FOUND:  8.88844027737\n",
      "At time "
     ]
    },
    {
     "name": "stdout",
     "output_type": "stream",
     "text": [
      " 7 no need to search, ESS(1.0) =  241.011583203\n",
      "At time  8 searching in [ 1.0 100 ], FOUND:  6.84685513844\n",
      "At time "
     ]
    },
    {
     "name": "stdout",
     "output_type": "stream",
     "text": [
      " 6 no need to search, ESS(1.0) =  194.248605999\n",
      "At time  7 searching in [ 1.0 100 ], FOUND:  9.02018215127\n",
      "At time "
     ]
    },
    {
     "name": "stdout",
     "output_type": "stream",
     "text": [
      " 5 no need to search, ESS(1.0) =  484.707582648\n",
      "At time  6 searching in [ 1.0 100 ], FOUND:  13.8866541161\n",
      "At time "
     ]
    },
    {
     "name": "stdout",
     "output_type": "stream",
     "text": [
      " 5 searching in [ 1.0 100 ], FOUND:  22.5735132581\n",
      "At time  5 searching in [ 1.0 22.5735132581 ], FOUND:  1.32704276826\n",
      "At time "
     ]
    },
    {
     "name": "stdout",
     "output_type": "stream",
     "text": [
      " 4 searching in [ 1.0 4.98225755884 ], FOUND:  1.27521602852\n",
      "At time  4 no need to search, ESS(1.0) =  480.613231284\n",
      "At time "
     ]
    },
    {
     "name": "stdout",
     "output_type": "stream",
     "text": [
      " 4 searching in [ 1.0 20.114968442 ], FOUND:  10.7531354651\n",
      "At time  4 searching in [ 1.0 10.7531354651 ], FOUND:  4.98225755884\n",
      "At time "
     ]
    },
    {
     "name": "stdout",
     "output_type": "stream",
     "text": [
      " 4 searching in [ 1.0 122.121085864 ], FOUND:  42.8801474416\n",
      "At time  4 searching in [ 1.0 42.8801474416 ], FOUND:  20.114968442\n",
      "At time "
     ]
    },
    {
     "name": "stdout",
     "output_type": "stream",
     "text": [
      " 4 searching in [ 1.0 10000 ], FOUND:  350.056580756\n",
      "At time  4 searching in [ 1.0 350.056580756 ], FOUND:  122.121085864\n",
      "At time "
     ]
    },
    {
     "name": "stdout",
     "output_type": "stream",
     "text": [
      " 3 searching in [ 1.0 6.25944419098 ], FOUND:  1.74820118409\n",
      "At time  3 no need to search, ESS(1.0) =  418.322822397\n",
      "At time "
     ]
    },
    {
     "name": "stdout",
     "output_type": "stream",
     "text": [
      " 3 searching in [ 1.0 25.5513817713 ], FOUND:  13.52799511\n",
      "At time  3 searching in [ 1.0 13.52799511 ], FOUND:  6.25944419098\n",
      "At time "
     ]
    },
    {
     "name": "stdout",
     "output_type": "stream",
     "text": [
      " 3 searching in [ 1.0 92.3349616847 ], FOUND:  43.1366696506\n",
      "At time  3 searching in [ 1.0 43.1366696506 ], FOUND:  25.5513817713\n",
      "At time "
     ]
    },
    {
     "name": "stdout",
     "output_type": "stream",
     "text": [
      " 3 searching in [ 1.0 10000 ], FOUND:  296.049346386\n",
      "At time  3 searching in [ 1.0 296.049346386 ], FOUND:  92.3349616847\n",
      "At time "
     ]
    },
    {
     "name": "stdout",
     "output_type": "stream",
     "text": [
      " 2 searching in [ 1.0 31.4390443756 ], FOUND:  1.1241754625\n",
      "At time  2 no need to search, ESS(1.0) =  497.283023764\n",
      "At time "
     ]
    },
    {
     "name": "stdout",
     "output_type": "stream",
     "text": [
      " 1 no need to search, ESS(1.0) =  259.296413417\n",
      "At time  2 searching in [ 1.0 100 ], FOUND:  31.4390443756\n",
      "At time "
     ]
    },
    {
     "name": "stdout",
     "output_type": "stream",
     "text": [
      " 0 no need to search, ESS(1.0) =  498.555042895\n",
      "At time  1 searching in [ 1.0 100 ], FOUND:  8.18274122362\n",
      "At time "
     ]
    },
    {
     "name": "stdout",
     "output_type": "stream",
     "text": [
      " 0 searching in [ 1.0 100 ], FOUND:  19.0315690055\n",
      "At time  0 searching in [ 1.0 19.0315690055 ], FOUND:  1.08074422429\n",
      "At time "
     ]
    },
    {
     "name": "stdout",
     "output_type": "stream",
     "text": [
      " 9 no need to search, ESS(1.0) =  464.871094305\n",
      "At time "
     ]
    },
    {
     "name": "stdout",
     "output_type": "stream",
     "text": [
      " 9 searching in [ 1.0 100 ], FOUND:  32.8717506954\n",
      "At time  9 searching in [ 1.0 32.8717506954 ], FOUND:  1.67737938848\n",
      "At time "
     ]
    },
    {
     "name": "stdout",
     "output_type": "stream",
     "text": [
      " 8 searching in [ 1.0 100 ], FOUND:  6.05394454699\n",
      "At time  8 no need to search, ESS(1.0) =  276.31845081\n",
      "At time "
     ]
    },
    {
     "name": "stdout",
     "output_type": "stream",
     "text": [
      " 7 searching in [ 1.0 100 ], FOUND:  10.5516400945\n",
      "At time  7 no need to search, ESS(1.0) =  208.589480958\n",
      "At time "
     ]
    },
    {
     "name": "stdout",
     "output_type": "stream",
     "text": [
      " 6 searching in [ 1.0 100 ], FOUND:  15.4236722685\n",
      "At time  6 no need to search, ESS(1.0) =  173.69675482\n",
      "At time "
     ]
    },
    {
     "name": "stdout",
     "output_type": "stream",
     "text": [
      " 5 searching in [ 1.0 22.7176065652 ], FOUND:  1.42162895527\n",
      "At time  5 no need to search, ESS(1.0) =  477.6325952\n",
      "At time "
     ]
    },
    {
     "name": "stdout",
     "output_type": "stream",
     "text": [
      " 4 no need to search, ESS(1.0) =  214.25702229\n",
      "At time  5 searching in [ 1.0 100 ], FOUND:  22.7176065652\n",
      "At time "
     ]
    },
    {
     "name": "stdout",
     "output_type": "stream",
     "text": [
      " 4 searching in [ 1.0 24.8248479641 ], FOUND:  10.9371240443\n",
      "At time  4 searching in [ 1.0 10.9371240443 ], FOUND:  3.92161786097\n",
      "At time "
     ]
    },
    {
     "name": "stdout",
     "output_type": "stream",
     "text": [
      " 4 searching in [ 1.0 150.267408622 ], FOUND:  61.5966699346\n",
      "At time  4 searching in [ 1.0 61.5966699346 ], FOUND:  24.8248479641\n",
      "At time "
     ]
    },
    {
     "name": "stdout",
     "output_type": "stream",
     "text": [
      " 4 searching in [ 1.0 10000 ], FOUND:  456.749915616\n",
      "At time  4 searching in [ 1.0 456.749915616 ], FOUND:  150.267408622\n",
      "At time "
     ]
    },
    {
     "name": "stdout",
     "output_type": "stream",
     "text": [
      " 3 searching in [ 1.0 8.00369127611 ], FOUND:  2.59338020836\n",
      "At time  3 no need to search, ESS(1.0) =  335.104693457\n",
      "At time "
     ]
    },
    {
     "name": "stdout",
     "output_type": "stream",
     "text": [
      " 3 searching in [ 1.0 31.2241081272 ], FOUND:  15.7135321074\n",
      "At time  3 searching in [ 1.0 15.7135321074 ], FOUND:  8.00369127611\n",
      "At time "
     ]
    },
    {
     "name": "stdout",
     "output_type": "stream",
     "text": [
      " 3 searching in [ 1.0 147.568433981 ], FOUND:  66.4082335528\n",
      "At time  3 searching in [ 1.0 66.4082335528 ], FOUND:  31.2241081272\n",
      "At time "
     ]
    },
    {
     "name": "stdout",
     "output_type": "stream",
     "text": [
      " 3 searching in [ 1.0 10000 ], FOUND:  508.605249994\n",
      "At time  3 searching in [ 1.0 508.605249994 ], FOUND:  147.568433981\n",
      "At time "
     ]
    },
    {
     "name": "stdout",
     "output_type": "stream",
     "text": [
      " 2 searching in [ 1.0 100 ], FOUND:  6.96046767812\n",
      "At time  2 no need to search, ESS(1.0) =  272.633683677\n",
      "At time "
     ]
    },
    {
     "name": "stdout",
     "output_type": "stream",
     "text": [
      " 1 searching in [ 1.0 100 ], FOUND:  7.31566333477\n",
      "At time  1 no need to search, ESS(1.0) =  245.695515056\n",
      "At time "
     ]
    },
    {
     "name": "stdout",
     "output_type": "stream",
     "text": [
      " 0 searching in [ 1.0 100 ], FOUND:  15.6703076358\n",
      "At time  0 no need to search, ESS(1.0) =  179.744738478\n",
      "At time "
     ]
    },
    {
     "name": "stdout",
     "output_type": "stream",
     "text": [
      " 9 no need to search, ESS(1.0) =  473.460471789\n",
      "At time "
     ]
    },
    {
     "name": "stdout",
     "output_type": "stream",
     "text": [
      " 9 searching in [ 1.0 100 ], FOUND:  26.5825382898\n",
      "At time  9 searching in [ 1.0 26.5825382898 ], FOUND:  1.40345364666\n",
      "At time "
     ]
    },
    {
     "name": "stdout",
     "output_type": "stream",
     "text": [
      " 8 searching in [ 1.0 100 ], FOUND:  6.17622584326\n",
      "At time  8 no need to search, ESS(1.0) =  284.28085287\n",
      "At time "
     ]
    },
    {
     "name": "stdout",
     "output_type": "stream",
     "text": [
      " 7 searching in [ 1.0 100 ], FOUND:  10.9278632795\n",
      "At time  7 no need to search, ESS(1.0) =  216.300858382\n",
      "At time "
     ]
    },
    {
     "name": "stdout",
     "output_type": "stream",
     "text": [
      " 6 searching in [ 1.0 17.9742809785 ], FOUND:  1.11961675132\n",
      "At time  6 no need to search, ESS(1.0) =  496.81952477\n",
      "At time "
     ]
    },
    {
     "name": "stdout",
     "output_type": "stream",
     "text": [
      " 5 no need to search, ESS(1.0) =  490.536200737\n",
      "At time  6 searching in [ 1.0 100 ], FOUND:  17.9742809785\n",
      "At time "
     ]
    },
    {
     "name": "stdout",
     "output_type": "stream",
     "text": [
      " 5 searching in [ 1.0 100 ], FOUND:  24.9361646988\n",
      "At time  5 searching in [ 1.0 24.9361646988 ], FOUND:  1.27488279639\n",
      "At time "
     ]
    },
    {
     "name": "stdout",
     "output_type": "stream",
     "text": [
      " 4 searching in [ 1.0 5.22551441857 ], FOUND:  1.21984860182\n",
      "At time  4 no need to search, ESS(1.0) =  488.526550973\n",
      "At time "
     ]
    },
    {
     "name": "stdout",
     "output_type": "stream",
     "text": [
      " 4 searching in [ 1.0 23.5438934585 ], FOUND:  13.0040194996\n",
      "At time  4 searching in [ 1.0 13.0040194996 ], FOUND:  5.22551441857\n",
      "At time "
     ]
    },
    {
     "name": "stdout",
     "output_type": "stream",
     "text": [
      " 4 searching in [ 1.0 100.08635388 ], FOUND:  44.4769733516\n",
      "At time  4 searching in [ 1.0 44.4769733516 ], FOUND:  23.5438934585\n",
      "At time "
     ]
    },
    {
     "name": "stdout",
     "output_type": "stream",
     "text": [
      " 4 searching in [ 1.0 10000 ], FOUND:  298.115301075\n",
      "At time  4 searching in [ 1.0 298.115301075 ], FOUND:  100.08635388\n",
      "At time "
     ]
    },
    {
     "name": "stdout",
     "output_type": "stream",
     "text": [
      " 3 searching in [ 1.0 11.0872080226 ], FOUND:  4.50195122832\n",
      "At time  3 no need to search, ESS(1.0) =  181.994815437\n",
      "At time "
     ]
    },
    {
     "name": "stdout",
     "output_type": "stream",
     "text": [
      " 3 searching in [ 1.0 59.3063013796 ], FOUND:  23.8839824667\n",
      "At time  3 searching in [ 1.0 23.8839824667 ], FOUND:  11.0872080226\n",
      "At time "
     ]
    },
    {
     "name": "stdout",
     "output_type": "stream",
     "text": [
      " 3 searching in [ 1.0 329.07198711 ], FOUND:  127.035955774\n",
      "At time  3 searching in [ 1.0 127.035955774 ], FOUND:  59.3063013796\n",
      "At time "
     ]
    },
    {
     "name": "stdout",
     "output_type": "stream",
     "text": [
      " 2 no need to search, ESS(1.0) =  487.222195294\n",
      "At time  3 searching in [ 1.0 10000 ], FOUND:  329.07198711\n",
      "At time "
     ]
    },
    {
     "name": "stdout",
     "output_type": "stream",
     "text": [
      " 2 searching in [ 1.0 100 ], FOUND:  25.1917022427\n",
      "At time  2 searching in [ 1.0 25.1917022427 ], FOUND:  1.2899516813\n",
      "At time "
     ]
    },
    {
     "name": "stdout",
     "output_type": "stream",
     "text": [
      " 1 searching in [ 1.0 100 ], FOUND:  6.9814649678\n",
      "At time  1 no need to search, ESS(1.0) =  282.619132707\n",
      "At time "
     ]
    },
    {
     "name": "stdout",
     "output_type": "stream",
     "text": [
      " 0 searching in [ 1.0 100 ], FOUND:  13.5614122582\n",
      "At time  0 no need to search, ESS(1.0) =  192.945438856\n",
      "At time "
     ]
    },
    {
     "name": "stdout",
     "output_type": "stream",
     "text": [
      " 9 no need to search, ESS(1.0) =  436.862693976\n",
      "At time "
     ]
    },
    {
     "name": "stdout",
     "output_type": "stream",
     "text": [
      " 9 searching in [ 1.0 100 ], FOUND:  41.0123602823\n",
      "At time  9 searching in [ 1.0 41.0123602823 ], FOUND:  2.02607582911\n",
      "At time "
     ]
    },
    {
     "name": "stdout",
     "output_type": "stream",
     "text": [
      " 8 searching in [ 1.0 100 ], FOUND:  7.22310708346\n",
      "At time  8 no need to search, ESS(1.0) =  253.068456592\n",
      "At time "
     ]
    },
    {
     "name": "stdout",
     "output_type": "stream",
     "text": [
      " 7 searching in [ 1.0 100 ], FOUND:  10.3373015365\n",
      "At time  7 no need to search, ESS(1.0) =  192.40289491\n",
      "At time "
     ]
    },
    {
     "name": "stdout",
     "output_type": "stream",
     "text": [
      " 6 no need to search, ESS(1.0) =  466.086488914\n",
      "At time "
     ]
    },
    {
     "name": "stdout",
     "output_type": "stream",
     "text": [
      " 6 searching in [ 1.0 100 ], FOUND:  30.8423950763\n",
      "At time  6 searching in [ 1.0 30.8423950763 ], FOUND:  1.62559218579\n",
      "At time "
     ]
    },
    {
     "name": "stdout",
     "output_type": "stream",
     "text": [
      " 5 searching in [ 1.0 46.4535176226 ], FOUND:  3.40618531685\n",
      "At time  5 no need to search, ESS(1.0) =  353.450337014\n",
      "At time "
     ]
    },
    {
     "name": "stdout",
     "output_type": "stream",
     "text": [
      " 4 no need to search, ESS(1.0) =  357.200972429\n",
      "At time  5 searching in [ 1.0 100 ], FOUND:  46.4535176226\n",
      "At time "
     ]
    },
    {
     "name": "stdout",
     "output_type": "stream",
     "text": [
      " 4 searching in [ 1.0 13.6881848451 ], FOUND:  6.75188238148\n",
      "At time  4 searching in [ 1.0 6.75188238148 ], FOUND:  2.14509629333\n",
      "At time "
     ]
    },
    {
     "name": "stdout",
     "output_type": "stream",
     "text": [
      " 4 searching in [ 1.0 41.1444371876 ], FOUND:  23.1564560672\n",
      "At time  4 searching in [ 1.0 23.1564560672 ], FOUND:  13.6881848451\n",
      "At time "
     ]
    },
    {
     "name": "stdout",
     "output_type": "stream",
     "text": [
      " 4 searching in [ 1.0 288.904170479 ], FOUND:  89.8689440161\n",
      "At time  4 searching in [ 1.0 89.8689440161 ], FOUND:  41.1444371876\n",
      "At time "
     ]
    },
    {
     "name": "stdout",
     "output_type": "stream",
     "text": [
      " 3 no need to search, ESS(1.0) =  497.817570619\n",
      "At time  4 searching in [ 1.0 10000 ], FOUND:  288.904170479\n",
      "At time "
     ]
    },
    {
     "name": "stdout",
     "output_type": "stream",
     "text": [
      " 3 searching in [ 1.0 10.090763978 ], FOUND:  5.04356067503\n",
      "At time  3 searching in [ 1.0 5.04356067503 ], FOUND:  1.07969568664\n",
      "At time "
     ]
    },
    {
     "name": "stdout",
     "output_type": "stream",
     "text": [
      " 3 searching in [ 1.0 28.9746152024 ], FOUND:  17.272113512\n",
      "At time  3 searching in [ 1.0 17.272113512 ], FOUND:  10.090763978\n",
      "At time "
     ]
    },
    {
     "name": "stdout",
     "output_type": "stream",
     "text": [
      " 3 searching in [ 1.0 153.824308533 ], FOUND:  56.1787338654\n",
      "At time  3 searching in [ 1.0 56.1787338654 ], FOUND:  28.9746152024\n",
      "At time "
     ]
    },
    {
     "name": "stdout",
     "output_type": "stream",
     "text": [
      " 3 searching in [ 1.0 10000 ], FOUND:  606.82110311\n",
      "At time  3 searching in [ 1.0 606.82110311 ], FOUND:  153.824308533\n",
      "At time "
     ]
    },
    {
     "name": "stdout",
     "output_type": "stream",
     "text": [
      " 2 searching in [ 1.0 100 ], FOUND:  7.33848634633\n",
      "At time  2 no need to search, ESS(1.0) =  260.463960905\n",
      "At time "
     ]
    },
    {
     "name": "stdout",
     "output_type": "stream",
     "text": [
      " 1 searching in [ 1.0 100 ], FOUND:  9.41231277541\n",
      "At time  1 no need to search, ESS(1.0) =  218.269102186\n",
      "At time "
     ]
    },
    {
     "name": "stdout",
     "output_type": "stream",
     "text": [
      " 0 searching in [ 1.0 100 ], FOUND:  14.2069611104\n",
      "At time  0 no need to search, ESS(1.0) =  211.360512833\n",
      "At time "
     ]
    },
    {
     "name": "stdout",
     "output_type": "stream",
     "text": [
      " 9 searching in [ 1.0 100 ], FOUND:  7.23339615254\n",
      "At time  9 no need to search, ESS(1.0) =  248.122046658\n",
      "At time "
     ]
    },
    {
     "name": "stdout",
     "output_type": "stream",
     "text": [
      " 8 searching in [ 1.0 100 ], FOUND:  7.68841360728\n",
      "At time  8 no need to search, ESS(1.0) =  243.168503984\n",
      "At time "
     ]
    },
    {
     "name": "stdout",
     "output_type": "stream",
     "text": [
      " 7 searching in [ 1.0 100 ], FOUND:  10.1141702566\n",
      "At time  7 no need to search, ESS(1.0) =  238.085135462\n",
      "At time "
     ]
    },
    {
     "name": "stdout",
     "output_type": "stream",
     "text": [
      " 6 searching in [ 1.0 21.9731299311 ], FOUND:  1.29272152098\n",
      "At time  6 no need to search, ESS(1.0) =  486.469111058\n",
      "At time "
     ]
    },
    {
     "name": "stdout",
     "output_type": "stream",
     "text": [
      " 5 no need to search, ESS(1.0) =  429.62136622\n",
      "At time  6 searching in [ 1.0 100 ], FOUND:  21.9731299311\n",
      "At time "
     ]
    },
    {
     "name": "stdout",
     "output_type": "stream",
     "text": [
      " 5 searching in [ 1.0 100 ], FOUND:  32.540425103\n",
      "At time  5 searching in [ 1.0 32.540425103 ], FOUND:  2.04142741761\n",
      "At time "
     ]
    },
    {
     "name": "stdout",
     "output_type": "stream",
     "text": [
      " 4 searching in [ 1.0 6.60501783055 ], FOUND:  1.83232775384\n",
      "At time  4 no need to search, ESS(1.0) =  418.118267468\n",
      "At time "
     ]
    },
    {
     "name": "stdout",
     "output_type": "stream",
     "text": [
      " 4 searching in [ 1.0 27.2167312225 ], FOUND:  14.2843158608\n",
      "At time  4 searching in [ 1.0 14.2843158608 ], FOUND:  6.60501783055\n",
      "At time "
     ]
    },
    {
     "name": "stdout",
     "output_type": "stream",
     "text": [
      " 4 searching in [ 1.0 136.506170077 ], FOUND:  56.4996885388\n",
      "At time  4 searching in [ 1.0 56.4996885388 ], FOUND:  27.2167312225\n",
      "At time "
     ]
    },
    {
     "name": "stdout",
     "output_type": "stream",
     "text": [
      " 4 searching in [ 1.0 10000 ], FOUND:  411.553251746\n",
      "At time  4 searching in [ 1.0 411.553251746 ], FOUND:  136.506170077\n",
      "At time "
     ]
    },
    {
     "name": "stdout",
     "output_type": "stream",
     "text": [
      " 3 searching in [ 1.0 6.86862598466 ], FOUND:  2.25069341011\n",
      "At time  3 no need to search, ESS(1.0) =  357.757873215\n",
      "At time "
     ]
    },
    {
     "name": "stdout",
     "output_type": "stream",
     "text": [
      " 3 searching in [ 1.0 26.8067646365 ], FOUND:  14.7493583563\n",
      "At time  3 searching in [ 1.0 14.7493583563 ], FOUND:  6.86862598466\n",
      "At time "
     ]
    },
    {
     "name": "stdout",
     "output_type": "stream",
     "text": [
      " 3 searching in [ 1.0 48.0461655189 ], FOUND:  26.8067646365\n",
      "At time "
     ]
    },
    {
     "name": "stdout",
     "output_type": "stream",
     "text": [
      " 3 searching in [ 1.0 103.381661576 ], FOUND:  48.0461655189\n",
      "At time "
     ]
    },
    {
     "name": "stdout",
     "output_type": "stream",
     "text": [
      " 3 searching in [ 1.0 300.675908206 ], FOUND:  103.381661576\n",
      "At time "
     ]
    },
    {
     "name": "stdout",
     "output_type": "stream",
     "text": [
      " 3 searching in [ 1.0 10000 ], FOUND:  300.675908206\n",
      "At time "
     ]
    },
    {
     "name": "stdout",
     "output_type": "stream",
     "text": [
      " 2 searching in [ 1.0 31.4294925173 ], FOUND:  1.31906402877\n",
      "At time  2 no need to search, ESS(1.0) =  489.167445717\n",
      "At time "
     ]
    },
    {
     "name": "stdout",
     "output_type": "stream",
     "text": [
      " 2 searching in [ 1.0 100 ], FOUND:  31.4294925173\n",
      "At time "
     ]
    },
    {
     "name": "stdout",
     "output_type": "stream",
     "text": [
      " 1 searching in [ 1.0 100 ], FOUND:  8.26580253633\n",
      "At time  1 no need to search, ESS(1.0) =  255.806492798\n",
      "At time "
     ]
    },
    {
     "name": "stdout",
     "output_type": "stream",
     "text": [
      " 0 searching in [ 1.0 100 ], FOUND:  17.7369726778\n",
      "At time  0 no need to search, ESS(1.0) =  185.182518057\n",
      "At time "
     ]
    },
    {
     "name": "stdout",
     "output_type": "stream",
     "text": [
      " 9 searching in [ 1.0 39.0753416548 ], FOUND:  1.91928493685\n",
      "At time  9 no need to search, ESS(1.0) =  445.646467819\n",
      "At time "
     ]
    },
    {
     "name": "stdout",
     "output_type": "stream",
     "text": [
      " 9 searching in [ 1.0 100 ], FOUND:  39.0753416548\n",
      "At time "
     ]
    },
    {
     "name": "stdout",
     "output_type": "stream",
     "text": [
      " 8 searching in [ 1.0 100 ], FOUND:  7.61808983256\n",
      "At time  8 no need to search, ESS(1.0) =  257.659797178\n",
      "At time "
     ]
    },
    {
     "name": "stdout",
     "output_type": "stream",
     "text": [
      " 7 searching in [ 1.0 100 ], FOUND:  13.9106631898\n",
      "At time  7 no need to search, ESS(1.0) =  182.626477056\n",
      "At time "
     ]
    },
    {
     "name": "stdout",
     "output_type": "stream",
     "text": [
      " 6 searching in [ 1.0 29.0516774112 ], FOUND:  2.1855321379\n",
      "At time  6 no need to search, ESS(1.0) =  419.235155575\n",
      "At time "
     ]
    },
    {
     "name": "stdout",
     "output_type": "stream",
     "text": [
      " 5 no need to search, ESS(1.0) =  366.182349758\n",
      "At time  6 searching in [ 1.0 100 ], FOUND:  29.0516774112\n",
      "At time "
     ]
    },
    {
     "name": "stdout",
     "output_type": "stream",
     "text": [
      " 5 searching in [ 1.0 100 ], FOUND:  45.8464711692\n",
      "At time  5 searching in [ 1.0 45.8464711692 ], FOUND:  2.83320845293\n",
      "At time "
     ]
    },
    {
     "name": "stdout",
     "output_type": "stream",
     "text": [
      " 4 searching in [ 1.0 7.6076572654 ], FOUND:  2.47107196535\n",
      "At time  4 no need to search, ESS(1.0) =  352.842969475\n",
      "At time "
     ]
    },
    {
     "name": "stdout",
     "output_type": "stream",
     "text": [
      " 4 searching in [ 1.0 14.2283900473 ], FOUND:  7.6076572654\n",
      "At time "
     ]
    },
    {
     "name": "stdout",
     "output_type": "stream",
     "text": [
      "4 searching in [ 1.0 51.1647349535 ], FOUND:  24.4426571887\n",
      "At time  4 searching in [ 1.0 24.4426571887 ], FOUND:  14.2283900473\n",
      "At time "
     ]
    },
    {
     "name": "stdout",
     "output_type": "stream",
     "text": [
      " 4 searching in [ 1.0 148.716166913 ], FOUND:  51.1647349535\n",
      "At time  "
     ]
    },
    {
     "name": "stdout",
     "output_type": "stream",
     "text": [
      " 4 searching in [ 1.0 531.670434666 ], FOUND:  148.716166913\n",
      "At time "
     ]
    },
    {
     "name": "stdout",
     "output_type": "stream",
     "text": [
      " 4 searching in [ 1.0 10000 ], FOUND:  531.670434666\n",
      "At time "
     ]
    },
    {
     "name": "stdout",
     "output_type": "stream",
     "text": [
      " 3 searching in [ 1.0 7.64319984277 ], FOUND:  2.84905466448\n",
      "At time  3 no need to search, ESS(1.0) =  281.986331558\n",
      "At time "
     ]
    },
    {
     "name": "stdout",
     "output_type": "stream",
     "text": [
      " 3 searching in [ 1.0 15.3120815 ], FOUND:  7.64319984277\n",
      "At time "
     ]
    },
    {
     "name": "stdout",
     "output_type": "stream",
     "text": [
      " 3 searching in [ 1.0 26.7156885259 ], FOUND:  15.3120815\n",
      "At time "
     ]
    },
    {
     "name": "stdout",
     "output_type": "stream",
     "text": [
      " 3 searching in [ 1.0 44.9970697267 ], FOUND:  26.7156885259\n",
      "At time "
     ]
    },
    {
     "name": "stdout",
     "output_type": "stream",
     "text": [
      " 3 searching in [ 1.0 94.378475726 ], FOUND:  44.9970697267\n",
      "At time "
     ]
    },
    {
     "name": "stdout",
     "output_type": "stream",
     "text": [
      " 3 searching in [ 1.0 10000 ], FOUND:  281.993572771\n",
      "At time  3 searching in [ 1.0 281.993572771 ], FOUND:  94.378475726\n",
      "At time "
     ]
    },
    {
     "name": "stdout",
     "output_type": "stream",
     "text": [
      " 2 searching in [ 1.0 100 ], FOUND:  25.4655553458\n",
      "At time  2 no need to search, ESS(1.0) =  178.853531837\n",
      "At time "
     ]
    },
    {
     "name": "stdout",
     "output_type": "stream",
     "text": [
      " 1 searching in [ 1.0 100 ], FOUND:  6.84778966207\n",
      "At time  1 no need to search, ESS(1.0) =  266.844881713\n",
      "At time "
     ]
    },
    {
     "name": "stdout",
     "output_type": "stream",
     "text": [
      " 0 searching in [ 1.0 100 ], FOUND:  14.9362586157\n",
      "At time  0 no need to search, ESS(1.0) =  191.487644683\n",
      "At time "
     ]
    },
    {
     "name": "stdout",
     "output_type": "stream",
     "text": [
      " 9 no need to search, ESS(1.0) =  256.961160498\n",
      "At time "
     ]
    },
    {
     "name": "stdout",
     "output_type": "stream",
     "text": [
      " 8 no need to search, ESS(1.0) =  239.703761919\n",
      "At time  9 searching in [ 1.0 100 ], FOUND:  7.35099895166\n",
      "At time "
     ]
    },
    {
     "name": "stdout",
     "output_type": "stream",
     "text": [
      " 7 no need to search, ESS(1.0) =  229.973251457\n",
      "At time  8 searching in [ 1.0 100 ], FOUND:  7.45868490952\n",
      "At time "
     ]
    },
    {
     "name": "stdout",
     "output_type": "stream",
     "text": [
      " 6 no need to search, ESS(1.0) =  444.846838093\n",
      "At time  7 searching in [ 1.0 100 ], FOUND:  9.47684890673\n",
      "At time "
     ]
    },
    {
     "name": "stdout",
     "output_type": "stream",
     "text": [
      " 6 searching in [ 1.0 100 ], FOUND:  45.915874956\n",
      "At time  6 searching in [ 1.0 45.915874956 ], FOUND:  1.72935625125\n",
      "At time "
     ]
    },
    {
     "name": "stdout",
     "output_type": "stream",
     "text": [
      " 5 searching in [ 1.0 83.2743095385 ], FOUND:  5.4004578982\n",
      "At time  5 no need to search, ESS(1.0) =  277.137407404\n",
      "At time "
     ]
    },
    {
     "name": "stdout",
     "output_type": "stream",
     "text": [
      " 4 no need to search, ESS(1.0) =  267.639187258\n",
      "At time  5 searching in [ 1.0 100 ], FOUND:  83.2743095385\n",
      "At time "
     ]
    },
    {
     "name": "stdout",
     "output_type": "stream",
     "text": [
      " 4 searching in [ 1.0 20.6774818773 ], FOUND:  8.84945479564\n",
      "At time  4 searching in [ 1.0 8.84945479564 ], FOUND:  3.22633285966\n",
      "At time "
     ]
    },
    {
     "name": "stdout",
     "output_type": "stream",
     "text": [
      " 4 searching in [ 1.0 112.807481004 ], FOUND:  44.6382554795\n",
      "At time  4 searching in [ 1.0 44.6382554795 ], FOUND:  20.6774818773\n",
      "At time "
     ]
    },
    {
     "name": "stdout",
     "output_type": "stream",
     "text": [
      " 4 searching in [ 1.0 10000 ], FOUND:  301.414819314\n",
      "At time  4 searching in [ 1.0 301.414819314 ], FOUND:  112.807481004\n",
      "At time "
     ]
    },
    {
     "name": "stdout",
     "output_type": "stream",
     "text": [
      " 3 searching in [ 1.0 5.32269039033 ], FOUND:  1.2678013524\n",
      "At time  3 no need to search, ESS(1.0) =  478.492496752\n",
      "At time "
     ]
    },
    {
     "name": "stdout",
     "output_type": "stream",
     "text": [
      " 3 searching in [ 1.0 25.6022054144 ], FOUND:  12.1917015713\n",
      "At time  3 searching in [ 1.0 12.1917015713 ], FOUND:  5.32269039033\n",
      "At time "
     ]
    },
    {
     "name": "stdout",
     "output_type": "stream",
     "text": [
      " 3 searching in [ 1.0 114.362645446 ], FOUND:  52.9882937231\n",
      "At time  3 searching in [ 1.0 52.9882937231 ], FOUND:  25.6022054144\n",
      "At time "
     ]
    },
    {
     "name": "stdout",
     "output_type": "stream",
     "text": [
      " 3 searching in [ 1.0 10000 ], FOUND:  309.517556448\n",
      "At time  3 searching in [ 1.0 309.517556448 ], FOUND:  114.362645446\n",
      "At time "
     ]
    },
    {
     "name": "stdout",
     "output_type": "stream",
     "text": [
      " 2 searching in [ 1.0 36.5840192103 ], FOUND:  1.20795961525\n",
      "At time  2 no need to search, ESS(1.0) =  493.549511698\n",
      "At time "
     ]
    },
    {
     "name": "stdout",
     "output_type": "stream",
     "text": [
      " 1 no need to search, ESS(1.0) =  259.122368403\n",
      "At time  2 searching in [ 1.0 100 ], FOUND:  36.5840192103\n",
      "At time "
     ]
    },
    {
     "name": "stdout",
     "output_type": "stream",
     "text": [
      " 0 no need to search, ESS(1.0) =  482.563292518\n",
      "At time  1 searching in [ 1.0 100 ], FOUND:  6.86470191161\n",
      "At time "
     ]
    },
    {
     "name": "stdout",
     "output_type": "stream",
     "text": [
      " 0 searching in [ 1.0 100 ], FOUND:  20.5896770931\n",
      "At time  0 searching in [ 1.0 20.5896770931 ], FOUND:  1.35181215525\n",
      "At time "
     ]
    },
    {
     "name": "stdout",
     "output_type": "stream",
     "text": [
      " 9 searching in [ 1.0 100 ], FOUND:  8.14222197229\n",
      "At time  9 no need to search, ESS(1.0) =  231.393778392\n",
      "At time "
     ]
    },
    {
     "name": "stdout",
     "output_type": "stream",
     "text": [
      " 8 no need to search, ESS(1.0) =  244.87412623\n",
      "At time "
     ]
    },
    {
     "name": "stdout",
     "output_type": "stream",
     "text": [
      " 7 no need to search, ESS(1.0) =  222.941980322\n",
      "At time  8 searching in [ 1.0 100 ], FOUND:  6.96977307937\n",
      "At time "
     ]
    },
    {
     "name": "stdout",
     "output_type": "stream",
     "text": [
      " 6 no need to search, ESS(1.0) =  456.415820778\n",
      "At time  7 searching in [ 1.0 100 ], FOUND:  10.3213660007\n",
      "At time "
     ]
    },
    {
     "name": "stdout",
     "output_type": "stream",
     "text": [
      " 6 searching in [ 1.0 100 ], FOUND:  24.32071858\n",
      "At time  6 searching in [ 1.0 24.32071858 ], FOUND:  1.69825162359\n",
      "At time "
     ]
    },
    {
     "name": "stdout",
     "output_type": "stream",
     "text": [
      " 5 searching in [ 1.0 49.9270526986 ], FOUND:  2.78858542189\n",
      "At time  5 no need to search, ESS(1.0) =  385.118225857\n",
      "At time "
     ]
    },
    {
     "name": "stdout",
     "output_type": "stream",
     "text": [
      " 4 no need to search, ESS(1.0) =  338.721567013\n",
      "At time  5 searching in [ 1.0 100 ], FOUND:  49.9270526986\n",
      "At time "
     ]
    },
    {
     "name": "stdout",
     "output_type": "stream",
     "text": [
      " 4 searching in [ 1.0 13.6063694404 ], FOUND:  6.60629500371\n",
      "At time  4 searching in [ 1.0 6.60629500371 ], FOUND:  2.34463172204\n",
      "At time "
     ]
    },
    {
     "name": "stdout",
     "output_type": "stream",
     "text": [
      " 4 searching in [ 1.0 50.580525354 ], FOUND:  25.5958183634\n",
      "At time  4 searching in [ 1.0 25.5958183634 ], FOUND:  13.6063694404\n",
      "At time "
     ]
    },
    {
     "name": "stdout",
     "output_type": "stream",
     "text": [
      " 4 searching in [ 1.0 311.542522927 ], FOUND:  112.720234516\n",
      "At time  4 searching in [ 1.0 112.720234516 ], FOUND:  50.580525354\n",
      "At time "
     ]
    },
    {
     "name": "stdout",
     "output_type": "stream",
     "text": [
      " 3 no need to search, ESS(1.0) =  455.329903162\n",
      "At time  4 searching in [ 1.0 10000 ], FOUND:  311.542522927\n",
      "At time "
     ]
    },
    {
     "name": "stdout",
     "output_type": "stream",
     "text": [
      " 3 searching in [ 1.0 13.4783043371 ], FOUND:  5.84484455815\n",
      "At time  3 searching in [ 1.0 5.84484455815 ], FOUND:  1.47721802105\n",
      "At time "
     ]
    },
    {
     "name": "stdout",
     "output_type": "stream",
     "text": [
      " 3 searching in [ 1.0 50.2533207947 ], FOUND:  26.9007909992\n",
      "At time  3 searching in [ 1.0 26.9007909992 ], FOUND:  13.4783043371\n",
      "At time "
     ]
    },
    {
     "name": "stdout",
     "output_type": "stream",
     "text": [
      " 3 searching in [ 1.0 294.028710649 ], FOUND:  105.760010735\n",
      "At time  3 searching in [ 1.0 105.760010735 ], FOUND:  50.2533207947\n",
      "At time "
     ]
    },
    {
     "name": "stdout",
     "output_type": "stream",
     "text": [
      " 2 no need to search, ESS(1.0) =  183.474647481\n",
      "At time  3 searching in [ 1.0 10000 ], FOUND:  294.028710649\n",
      "At time "
     ]
    },
    {
     "name": "stdout",
     "output_type": "stream",
     "text": [
      " 1 no need to search, ESS(1.0) =  270.188391882\n",
      "At time  2 searching in [ 1.0 100 ], FOUND:  25.2208026003\n",
      "At time "
     ]
    },
    {
     "name": "stdout",
     "output_type": "stream",
     "text": [
      " 0 no need to search, ESS(1.0) =  499.914896372\n",
      "At time  1 searching in [ 1.0 100 ], FOUND:  7.25006937916\n",
      "At time "
     ]
    },
    {
     "name": "stdout",
     "output_type": "stream",
     "text": [
      " 0 searching in [ 1.0 100 ], FOUND:  16.9244509492\n",
      "At time  0 searching in [ 1.0 16.9244509492 ], FOUND:  1.01971785939\n",
      "At time "
     ]
    },
    {
     "name": "stdout",
     "output_type": "stream",
     "text": [
      " 9 searching in [ 1.0 37.4255071624 ], FOUND:  1.7052445184\n",
      "At time  9 no need to search, ESS(1.0) =  447.644566614\n",
      "At time "
     ]
    },
    {
     "name": "stdout",
     "output_type": "stream",
     "text": [
      " 8 no need to search, ESS(1.0) =  259.689761513\n",
      "At time  9 searching in [ 1.0 100 ], FOUND:  37.4255071624\n",
      "At time "
     ]
    },
    {
     "name": "stdout",
     "output_type": "stream",
     "text": [
      " 7 no need to search, ESS(1.0) =  218.773149955\n",
      "At time  8 searching in [ 1.0 100 ], FOUND:  7.65113799032\n",
      "At time "
     ]
    },
    {
     "name": "stdout",
     "output_type": "stream",
     "text": [
      " 6 no need to search, ESS(1.0) =  492.738425537\n",
      "At time  7 searching in [ 1.0 100 ], FOUND:  9.36536530578\n",
      "At time "
     ]
    },
    {
     "name": "stdout",
     "output_type": "stream",
     "text": [
      " 6 searching in [ 1.0 100 ], FOUND:  18.0939071194\n",
      "At time  6 searching in [ 1.0 18.0939071194 ], FOUND:  1.18831725018\n",
      "At time "
     ]
    },
    {
     "name": "stdout",
     "output_type": "stream",
     "text": [
      " 5 searching in [ 1.0 23.6776796253 ], FOUND:  1.51167294148\n",
      "At time  5 no need to search, ESS(1.0) =  463.186215272\n",
      "At time "
     ]
    },
    {
     "name": "stdout",
     "output_type": "stream",
     "text": [
      " 4 no need to search, ESS(1.0) =  249.611334577\n",
      "At time  5 searching in [ 1.0 100 ], FOUND:  23.6776796253\n",
      "At time "
     ]
    },
    {
     "name": "stdout",
     "output_type": "stream",
     "text": [
      " 4 searching in [ 1.0 16.2218616789 ], FOUND:  8.82566880165\n",
      "At time  4 searching in [ 1.0 8.82566880165 ], FOUND:  3.39768421454\n",
      "At time "
     ]
    },
    {
     "name": "stdout",
     "output_type": "stream",
     "text": [
      " 4 searching in [ 1.0 62.8083744389 ], FOUND:  29.9111329343\n",
      "At time  4 searching in [ 1.0 29.9111329343 ], FOUND:  16.2218616789\n",
      "At time "
     ]
    },
    {
     "name": "stdout",
     "output_type": "stream",
     "text": [
      " 4 searching in [ 1.0 496.31620053 ], FOUND:  141.769527318\n",
      "At time  4 searching in [ 1.0 141.769527318 ], FOUND:  62.8083744389\n",
      "At time "
     ]
    },
    {
     "name": "stdout",
     "output_type": "stream",
     "text": [
      " 3 no need to search, ESS(1.0) =  254.286046941\n",
      "At time  4 searching in [ 1.0 10000 ], FOUND:  496.31620053\n",
      "At time "
     ]
    },
    {
     "name": "stdout",
     "output_type": "stream",
     "text": [
      " 3 searching in [ 1.0 17.9989102645 ], FOUND:  9.25626521925\n",
      "At time  3 searching in [ 1.0 9.25626521925 ], FOUND:  3.48448539552\n",
      "At time "
     ]
    },
    {
     "name": "stdout",
     "output_type": "stream",
     "text": [
      " 3 searching in [ 1.0 63.4569973781 ], FOUND:  32.3507444443\n",
      "At time  3 searching in [ 1.0 32.3507444443 ], FOUND:  17.9989102645\n",
      "At time "
     ]
    },
    {
     "name": "stdout",
     "output_type": "stream",
     "text": [
      " 3 searching in [ 1.0 494.413497213 ], FOUND:  149.254118661\n",
      "At time  3 searching in [ 1.0 149.254118661 ], FOUND:  63.4569973781\n",
      "At time "
     ]
    },
    {
     "name": "stdout",
     "output_type": "stream",
     "text": [
      " 2 no need to search, ESS(1.0) =  288.724242222\n",
      "At time  3 searching in [ 1.0 10000 ], FOUND:  494.413497213\n",
      "At time "
     ]
    },
    {
     "name": "stdout",
     "output_type": "stream",
     "text": [
      " 1 no need to search, ESS(1.0) =  236.374092924\n",
      "At time  2 searching in [ 1.0 100 ], FOUND:  6.14417353879\n",
      "At time "
     ]
    },
    {
     "name": "stdout",
     "output_type": "stream",
     "text": [
      " 0 no need to search, ESS(1.0) =  498.154794534\n",
      "At time  1 searching in [ 1.0 100 ], FOUND:  9.07124543888\n",
      "At time "
     ]
    },
    {
     "name": "stdout",
     "output_type": "stream",
     "text": [
      " 0 searching in [ 1.0 100 ], FOUND:  18.0392056323\n",
      "At time  0 searching in [ 1.0 18.0392056323 ], FOUND:  1.09287296594\n",
      "At time "
     ]
    },
    {
     "name": "stdout",
     "output_type": "stream",
     "text": [
      " 9 searching in [ 1.0 100 ], FOUND:  7.66617077135\n",
      "At time  9 no need to search, ESS(1.0) =  257.950667592\n",
      "At time "
     ]
    },
    {
     "name": "stdout",
     "output_type": "stream",
     "text": [
      " 8 searching in [ 1.0 100 ], FOUND:  8.69269642062\n",
      "At time  8 no need to search, ESS(1.0) =  231.363903204\n",
      "At time "
     ]
    },
    {
     "name": "stdout",
     "output_type": "stream",
     "text": [
      " 7 searching in [ 1.0 100 ], FOUND:  9.45522503391\n",
      "At time  7 no need to search, ESS(1.0) =  225.722812238\n",
      "At time "
     ]
    },
    {
     "name": "stdout",
     "output_type": "stream",
     "text": [
      " 6 searching in [ 1.0 100 ], FOUND:  17.3135587551\n",
      "At time  6 no need to search, ESS(1.0) =  175.465729178\n",
      "At time "
     ]
    },
    {
     "name": "stdout",
     "output_type": "stream",
     "text": [
      " 5 searching in [ 1.0 22.7998835406 ], FOUND:  1.46965029766\n",
      "At time  5 no need to search, ESS(1.0) =  474.949730826\n",
      "At time "
     ]
    },
    {
     "name": "stdout",
     "output_type": "stream",
     "text": [
      " 4 no need to search, ESS(1.0) =  202.675179372\n",
      "At time  5 searching in [ 1.0 100 ], FOUND:  22.7998835406\n",
      "At time "
     ]
    },
    {
     "name": "stdout",
     "output_type": "stream",
     "text": [
      " 4 searching in [ 1.0 17.110609475 ], FOUND:  9.36065768099\n",
      "At time  4 searching in [ 1.0 9.36065768099 ], FOUND:  4.11558227004\n",
      "At time "
     ]
    },
    {
     "name": "stdout",
     "output_type": "stream",
     "text": [
      " 4 searching in [ 1.0 63.1143013116 ], FOUND:  32.7482166925\n",
      "At time  4 searching in [ 1.0 32.7482166925 ], FOUND:  17.110609475\n",
      "At time "
     ]
    },
    {
     "name": "stdout",
     "output_type": "stream",
     "text": [
      " 4 searching in [ 1.0 507.957893375 ], FOUND:  141.63078114\n",
      "At time  4 searching in [ 1.0 141.63078114 ], FOUND:  63.1143013116\n",
      "At time "
     ]
    },
    {
     "name": "stdout",
     "output_type": "stream",
     "text": [
      " 3 no need to search, ESS(1.0) =  274.411136557\n",
      "At time  4 searching in [ 1.0 10000 ], FOUND:  507.957893375\n",
      "At time "
     ]
    },
    {
     "name": "stdout",
     "output_type": "stream",
     "text": [
      " 3 searching in [ 1.0 22.7908934766 ], FOUND:  9.40124659604\n",
      "At time  3 searching in [ 1.0 9.40124659604 ], FOUND:  3.17686493255\n",
      "At time "
     ]
    },
    {
     "name": "stdout",
     "output_type": "stream",
     "text": [
      " 3 searching in [ 1.0 172.113950702 ], FOUND:  72.2084271502\n",
      "At time  3 searching in [ 1.0 72.2084271502 ], FOUND:  22.7908934766\n",
      "At time "
     ]
    },
    {
     "name": "stdout",
     "output_type": "stream",
     "text": [
      " 3 searching in [ 1.0 10000 ], FOUND:  475.920273977\n",
      "At time  3 searching in [ 1.0 475.920273977 ], FOUND:  172.113950702\n",
      "At time "
     ]
    },
    {
     "name": "stdout",
     "output_type": "stream",
     "text": [
      " 2 searching in [ 1.0 100 ], FOUND:  5.29865960862\n",
      "At time  2 no need to search, ESS(1.0) =  307.344180339\n",
      "At time "
     ]
    },
    {
     "name": "stdout",
     "output_type": "stream",
     "text": [
      " 1 searching in [ 1.0 100 ], FOUND:  8.28383265327\n",
      "At time  1 no need to search, ESS(1.0) =  227.765423215\n",
      "At time "
     ]
    },
    {
     "name": "stdout",
     "output_type": "stream",
     "text": [
      " 0 searching in [ 1.0 100 ], FOUND:  15.2792623771\n",
      "At time  0 no need to search, ESS(1.0) =  171.132697457\n",
      "At time "
     ]
    },
    {
     "name": "stdout",
     "output_type": "stream",
     "text": [
      " 9 searching in [ 1.0 38.2772831282 ], FOUND:  2.00530945435\n",
      "At time  9 no need to search, ESS(1.0) =  435.160907303\n",
      "At time "
     ]
    },
    {
     "name": "stdout",
     "output_type": "stream",
     "text": [
      " 8 no need to search, ESS(1.0) =  259.101486821\n",
      "At time  9 searching in [ 1.0 100 ], FOUND:  38.2772831282\n",
      "At time "
     ]
    },
    {
     "name": "stdout",
     "output_type": "stream",
     "text": [
      " 7 no need to search, ESS(1.0) =  175.93128499\n",
      "At time  8 searching in [ 1.0 100 ], FOUND:  6.35812166658\n",
      "At time "
     ]
    },
    {
     "name": "stdout",
     "output_type": "stream",
     "text": [
      " 6 no need to search, ESS(1.0) =  375.654439965\n",
      "At time  7 searching in [ 1.0 100 ], FOUND:  15.1753124191\n",
      "At time "
     ]
    },
    {
     "name": "stdout",
     "output_type": "stream",
     "text": [
      " 6 searching in [ 1.0 100 ], FOUND:  57.0846367072\n",
      "At time  6 searching in [ 1.0 57.0846367072 ], FOUND:  2.90385148142\n",
      "At time "
     ]
    },
    {
     "name": "stdout",
     "output_type": "stream",
     "text": [
      " 5 searching in [ 1.0 70.1624733374 ], FOUND:  5.35889423763\n",
      "At time  5 no need to search, ESS(1.0) =  276.993202007\n",
      "At time "
     ]
    },
    {
     "name": "stdout",
     "output_type": "stream",
     "text": [
      " 4 no need to search, ESS(1.0) =  318.644601034\n",
      "At time  5 searching in [ 1.0 100 ], FOUND:  70.1624733374\n",
      "At time "
     ]
    },
    {
     "name": "stdout",
     "output_type": "stream",
     "text": [
      " 4 searching in [ 1.0 13.8076306486 ], FOUND:  7.27512286004\n",
      "At time  4 searching in [ 1.0 7.27512286004 ], FOUND:  2.51587884158\n",
      "At time "
     ]
    },
    {
     "name": "stdout",
     "output_type": "stream",
     "text": [
      " 4 searching in [ 1.0 48.2273300694 ], FOUND:  24.7635126287\n",
      "At time  4 searching in [ 1.0 24.7635126287 ], FOUND:  13.8076306486\n",
      "At time "
     ]
    },
    {
     "name": "stdout",
     "output_type": "stream",
     "text": [
      " 4 searching in [ 1.0 304.719018195 ], FOUND:  110.972209621\n",
      "At time  4 searching in [ 1.0 110.972209621 ], FOUND:  48.2273300694\n",
      "At time "
     ]
    },
    {
     "name": "stdout",
     "output_type": "stream",
     "text": [
      " 3 no need to search, ESS(1.0) =  498.142646614\n",
      "At time  4 searching in [ 1.0 10000 ], FOUND:  304.719018195\n",
      "At time "
     ]
    },
    {
     "name": "stdout",
     "output_type": "stream",
     "text": [
      " 3 searching in [ 1.0 11.7135365867 ], FOUND:  5.11673084066\n",
      "At time  3 searching in [ 1.0 5.11673084066 ], FOUND:  1.07714142374\n",
      "At time "
     ]
    },
    {
     "name": "stdout",
     "output_type": "stream",
     "text": [
      " 3 searching in [ 1.0 53.2128455107 ], FOUND:  24.0525424671\n",
      "At time  3 searching in [ 1.0 24.0525424671 ], FOUND:  11.7135365867\n",
      "At time "
     ]
    },
    {
     "name": "stdout",
     "output_type": "stream",
     "text": [
      " 3 searching in [ 1.0 311.910789964 ], FOUND:  122.016238998\n",
      "At time  3 searching in [ 1.0 122.016238998 ], FOUND:  53.2128455107\n",
      "At time "
     ]
    },
    {
     "name": "stdout",
     "output_type": "stream",
     "text": [
      " 2 no need to search, ESS(1.0) =  492.229797608\n",
      "At time  3 searching in [ 1.0 10000 ], FOUND:  311.910789964\n",
      "At time "
     ]
    },
    {
     "name": "stdout",
     "output_type": "stream",
     "text": [
      " 2 searching in [ 1.0 100 ], FOUND:  21.8421259522\n",
      "At time  2 searching in [ 1.0 21.8421259522 ], FOUND:  1.19964770048\n",
      "At time "
     ]
    },
    {
     "name": "stdout",
     "output_type": "stream",
     "text": [
      " 1 searching in [ 1.0 100 ], FOUND:  5.58742031235\n",
      "At time  1 no need to search, ESS(1.0) =  288.906114239\n",
      "At time "
     ]
    },
    {
     "name": "stdout",
     "output_type": "stream",
     "text": [
      " 0 searching in [ 1.0 100 ], FOUND:  16.2695120464\n",
      "At time  0 no need to search, ESS(1.0) =  179.078668521\n",
      "At time "
     ]
    },
    {
     "name": "stdout",
     "output_type": "stream",
     "text": [
      " 9 no need to search, ESS(1.0) =  471.203932789\n",
      "At time "
     ]
    },
    {
     "name": "stdout",
     "output_type": "stream",
     "text": [
      " 9 searching in [ 1.0 100 ], FOUND:  35.606183551\n",
      "At time  9 searching in [ 1.0 35.606183551 ], FOUND:  1.47621617201\n",
      "At time "
     ]
    },
    {
     "name": "stdout",
     "output_type": "stream",
     "text": [
      " 8 searching in [ 1.0 100 ], FOUND:  8.20940314546\n",
      "At time  8 no need to search, ESS(1.0) =  267.530393016\n",
      "At time "
     ]
    },
    {
     "name": "stdout",
     "output_type": "stream",
     "text": [
      " 7 searching in [ 1.0 100 ], FOUND:  15.5443508503\n",
      "At time  7 no need to search, ESS(1.0) =  186.767206155\n",
      "At time "
     ]
    },
    {
     "name": "stdout",
     "output_type": "stream",
     "text": [
      " 6 searching in [ 1.0 53.612803216 ], FOUND:  3.00910291085\n",
      "At time  6 no need to search, ESS(1.0) =  374.934078041\n",
      "At time "
     ]
    },
    {
     "name": "stdout",
     "output_type": "stream",
     "text": [
      " 5 no need to search, ESS(1.0) =  271.186604682\n",
      "At time  6 searching in [ 1.0 100 ], FOUND:  53.612803216\n",
      "At time "
     ]
    },
    {
     "name": "stdout",
     "output_type": "stream",
     "text": [
      " 5 searching in [ 1.0 100 ], FOUND:  73.2544035321\n",
      "At time  5 searching in [ 1.0 73.2544035321 ], FOUND:  5.79575680317\n",
      "At time "
     ]
    },
    {
     "name": "stdout",
     "output_type": "stream",
     "text": [
      " 4 searching in [ 1.0 7.75560720433 ], FOUND:  2.70033049465\n",
      "At time  4 no need to search, ESS(1.0) =  296.456947147\n",
      "At time "
     ]
    },
    {
     "name": "stdout",
     "output_type": "stream",
     "text": [
      " 4 searching in [ 1.0 26.2678118621 ], FOUND:  15.2441013369\n",
      "At time  4 searching in [ 1.0 15.2441013369 ], FOUND:  7.75560720433\n",
      "At time "
     ]
    },
    {
     "name": "stdout",
     "output_type": "stream",
     "text": [
      " 4 searching in [ 1.0 99.9760603855 ], FOUND:  45.7316271144\n",
      "At time  4 searching in [ 1.0 45.7316271144 ], FOUND:  26.2678118621\n",
      "At time "
     ]
    },
    {
     "name": "stdout",
     "output_type": "stream",
     "text": [
      " 4 searching in [ 1.0 10000 ], FOUND:  298.75612265\n",
      "At time  4 searching in [ 1.0 298.75612265 ], FOUND:  99.9760603855\n",
      "At time "
     ]
    },
    {
     "name": "stdout",
     "output_type": "stream",
     "text": [
      " 3 searching in [ 1.0 9.52734580411 ], FOUND:  4.15461403726\n",
      "At time  3 no need to search, ESS(1.0) =  190.588047065\n",
      "At time "
     ]
    },
    {
     "name": "stdout",
     "output_type": "stream",
     "text": [
      " 3 searching in [ 1.0 32.4911853062 ], FOUND:  18.357716557\n",
      "At time  3 searching in [ 1.0 18.357716557 ], FOUND:  9.52734580411\n",
      "At time "
     ]
    },
    {
     "name": "stdout",
     "output_type": "stream",
     "text": [
      " 3 searching in [ 1.0 132.927219374 ], FOUND:  59.3966066114\n",
      "At time  3 searching in [ 1.0 59.3966066114 ], FOUND:  32.4911853062\n",
      "At time "
     ]
    },
    {
     "name": "stdout",
     "output_type": "stream",
     "text": [
      " 3 searching in [ 1.0 10000 ], FOUND:  465.754964507\n",
      "At time  3 searching in [ 1.0 465.754964507 ], FOUND:  132.927219374\n",
      "At time "
     ]
    },
    {
     "name": "stdout",
     "output_type": "stream",
     "text": [
      " 2 searching in [ 1.0 100 ], FOUND:  6.51180858325\n",
      "At time  2 no need to search, ESS(1.0) =  270.973613033\n",
      "At time "
     ]
    },
    {
     "name": "stdout",
     "output_type": "stream",
     "text": [
      " 1 searching in [ 1.0 100 ], FOUND:  8.3160865135\n",
      "At time  1 no need to search, ESS(1.0) =  240.691585511\n",
      "At time "
     ]
    },
    {
     "name": "stdout",
     "output_type": "stream",
     "text": [
      " 0 searching in [ 1.0 100 ], FOUND:  14.712314766\n",
      "At time  0 no need to search, ESS(1.0) =  174.600315041\n",
      "At time "
     ]
    },
    {
     "name": "stdout",
     "output_type": "stream",
     "text": [
      " 9 searching in [ 1.0 31.9526096571 ], FOUND:  2.06480331597\n",
      "At time  9 no need to search, ESS(1.0) =  421.743640981\n",
      "At time "
     ]
    },
    {
     "name": "stdout",
     "output_type": "stream",
     "text": [
      " 8 no need to search, ESS(1.0) =  262.752163368\n",
      "At time  9 searching in [ 1.0 100 ], FOUND:  31.9526096571\n",
      "At time "
     ]
    },
    {
     "name": "stdout",
     "output_type": "stream",
     "text": [
      " 7 no need to search, ESS(1.0) =  228.135207399\n",
      "At time  8 searching in [ 1.0 100 ], FOUND:  6.44592090668\n",
      "At time "
     ]
    },
    {
     "name": "stdout",
     "output_type": "stream",
     "text": [
      " 6 no need to search, ESS(1.0) =  182.387332139\n",
      "At time  7 searching in [ 1.0 100 ], FOUND:  10.2513463124\n",
      "At time "
     ]
    },
    {
     "name": "stdout",
     "output_type": "stream",
     "text": [
      " 5 no need to search, ESS(1.0) =  493.59438381\n",
      "At time  6 searching in [ 1.0 100 ], FOUND:  16.5910597319\n",
      "At time "
     ]
    },
    {
     "name": "stdout",
     "output_type": "stream",
     "text": [
      " 5 searching in [ 1.0 100 ], FOUND:  23.8751862649\n",
      "At time  5 searching in [ 1.0 23.8751862649 ], FOUND:  1.22705155423\n",
      "At time "
     ]
    },
    {
     "name": "stdout",
     "output_type": "stream",
     "text": [
      " 4 searching in [ 1.0 9.6702518421 ], FOUND:  3.53565321942\n",
      "At time  4 no need to search, ESS(1.0) =  243.79928069\n",
      "At time "
     ]
    },
    {
     "name": "stdout",
     "output_type": "stream",
     "text": [
      " 4 searching in [ 1.0 51.2510879997 ], FOUND:  21.3294797729\n",
      "At time  4 searching in [ 1.0 21.3294797729 ], FOUND:  9.6702518421\n",
      "At time "
     ]
    },
    {
     "name": "stdout",
     "output_type": "stream",
     "text": [
      " 4 searching in [ 1.0 337.526162604 ], FOUND:  132.067679112\n",
      "At time  4 searching in [ 1.0 132.067679112 ], FOUND:  51.2510879997\n",
      "At time "
     ]
    },
    {
     "name": "stdout",
     "output_type": "stream",
     "text": [
      " 3 no need to search, ESS(1.0) =  428.477592674\n",
      "At time  4 searching in [ 1.0 10000 ], FOUND:  337.526162604\n",
      "At time "
     ]
    },
    {
     "name": "stdout",
     "output_type": "stream",
     "text": [
      " 3 searching in [ 1.0 11.4338490309 ], FOUND:  5.92318724003\n",
      "At time  3 searching in [ 1.0 5.92318724003 ], FOUND:  1.61349174058\n",
      "At time "
     ]
    },
    {
     "name": "stdout",
     "output_type": "stream",
     "text": [
      " 3 searching in [ 1.0 43.9663962209 ], FOUND:  21.4072448426\n",
      "At time  3 searching in [ 1.0 21.4072448426 ], FOUND:  11.4338490309\n",
      "At time "
     ]
    },
    {
     "name": "stdout",
     "output_type": "stream",
     "text": [
      " 3 searching in [ 1.0 286.091557739 ], FOUND:  106.114829536\n",
      "At time  3 searching in [ 1.0 106.114829536 ], FOUND:  43.9663962209\n",
      "At time "
     ]
    },
    {
     "name": "stdout",
     "output_type": "stream",
     "text": [
      " 2 no need to search, ESS(1.0) =  498.326720207\n",
      "At time  3 searching in [ 1.0 10000 ], FOUND:  286.091557739\n",
      "At time "
     ]
    },
    {
     "name": "stdout",
     "output_type": "stream",
     "text": [
      " 2 searching in [ 1.0 100 ], FOUND:  31.0637653828\n",
      "At time  2 searching in [ 1.0 31.0637653828 ], FOUND:  1.0914154574\n",
      "At time "
     ]
    },
    {
     "name": "stdout",
     "output_type": "stream",
     "text": [
      " 1 searching in [ 1.0 100 ], FOUND:  6.97436285868\n",
      "At time  1 no need to search, ESS(1.0) =  259.36305052\n",
      "At time "
     ]
    },
    {
     "name": "stdout",
     "output_type": "stream",
     "text": [
      " 0 searching in [ 1.0 100 ], FOUND:  17.6321722513\n",
      "At time  0 no need to search, ESS(1.0) =  170.323197522\n",
      "At time "
     ]
    },
    {
     "name": "stdout",
     "output_type": "stream",
     "text": [
      " 9 searching in [ 1.0 32.2548771992 ], FOUND:  1.61361551881\n",
      "At time  9 no need to search, ESS(1.0) =  464.949877561\n",
      "At time "
     ]
    },
    {
     "name": "stdout",
     "output_type": "stream",
     "text": [
      " 8 no need to search, ESS(1.0) =  266.973893114\n",
      "At time  9 searching in [ 1.0 100 ], FOUND:  32.2548771992\n",
      "At time "
     ]
    },
    {
     "name": "stdout",
     "output_type": "stream",
     "text": [
      " 7 no need to search, ESS(1.0) =  222.388264926\n",
      "At time  8 searching in [ 1.0 100 ], FOUND:  6.59369663778\n",
      "At time "
     ]
    },
    {
     "name": "stdout",
     "output_type": "stream",
     "text": [
      " 6 no need to search, ESS(1.0) =  492.097127535\n",
      "At time  7 searching in [ 1.0 100 ], FOUND:  8.86103338749\n",
      "At time "
     ]
    },
    {
     "name": "stdout",
     "output_type": "stream",
     "text": [
      " 6 searching in [ 1.0 100 ], FOUND:  17.8357848054\n",
      "At time  6 searching in [ 1.0 17.8357848054 ], FOUND:  1.20235054812\n",
      "At time "
     ]
    },
    {
     "name": "stdout",
     "output_type": "stream",
     "text": [
      " 5 searching in [ 1.0 34.8146233084 ], FOUND:  1.84486841524\n",
      "At time  5 no need to search, ESS(1.0) =  449.996397803\n",
      "At time "
     ]
    },
    {
     "name": "stdout",
     "output_type": "stream",
     "text": [
      " 4 no need to search, ESS(1.0) =  412.671739111\n",
      "At time  5 searching in [ 1.0 100 ], FOUND:  34.8146233084\n",
      "At time "
     ]
    },
    {
     "name": "stdout",
     "output_type": "stream",
     "text": [
      " 4 searching in [ 1.0 13.065139311 ], FOUND:  6.34210560104\n",
      "At time  4 searching in [ 1.0 6.34210560104 ], FOUND:  1.88293376487\n",
      "At time "
     ]
    },
    {
     "name": "stdout",
     "output_type": "stream",
     "text": [
      " 4 searching in [ 1.0 48.7851450544 ], FOUND:  24.1723793976\n",
      "At time  4 searching in [ 1.0 24.1723793976 ], FOUND:  13.065139311\n",
      "At time "
     ]
    },
    {
     "name": "stdout",
     "output_type": "stream",
     "text": [
      " 4 searching in [ 1.0 282.513098424 ], FOUND:  109.140153337\n",
      "At time  4 searching in [ 1.0 109.140153337 ], FOUND:  48.7851450544\n",
      "At time "
     ]
    },
    {
     "name": "stdout",
     "output_type": "stream",
     "text": [
      " 3 no need to search, ESS(1.0) =  465.513531286\n",
      "At time  4 searching in [ 1.0 10000 ], FOUND:  282.513098424\n",
      "At time "
     ]
    },
    {
     "name": "stdout",
     "output_type": "stream",
     "text": [
      " 3 searching in [ 1.0 12.7430816914 ], FOUND:  5.49490591222\n",
      "At time  3 searching in [ 1.0 5.49490591222 ], FOUND:  1.42003858992\n",
      "At time "
     ]
    },
    {
     "name": "stdout",
     "output_type": "stream",
     "text": [
      " 3 searching in [ 1.0 53.4757050518 ], FOUND:  25.5892900096\n",
      "At time  3 searching in [ 1.0 25.5892900096 ], FOUND:  12.7430816914\n",
      "At time "
     ]
    },
    {
     "name": "stdout",
     "output_type": "stream",
     "text": [
      " 3 searching in [ 1.0 323.179732324 ], FOUND:  114.996164707\n",
      "At time  3 searching in [ 1.0 114.996164707 ], FOUND:  53.4757050518\n",
      "At time "
     ]
    },
    {
     "name": "stdout",
     "output_type": "stream",
     "text": [
      " 2 no need to search, ESS(1.0) =  472.918822297\n",
      "At time  3 searching in [ 1.0 10000 ], FOUND:  323.179732324\n",
      "At time "
     ]
    },
    {
     "name": "stdout",
     "output_type": "stream",
     "text": [
      " 2 searching in [ 1.0 100 ], FOUND:  29.2612952072\n",
      "At time  2 searching in [ 1.0 29.2612952072 ], FOUND:  1.4625853609\n",
      "At time "
     ]
    },
    {
     "name": "stdout",
     "output_type": "stream",
     "text": [
      " 1 searching in [ 1.0 100 ], FOUND:  7.25912813408\n",
      "At time  1 no need to search, ESS(1.0) =  266.017203467\n",
      "At time "
     ]
    },
    {
     "name": "stdout",
     "output_type": "stream",
     "text": [
      " 0 searching in [ 1.0 100 ], FOUND:  11.9310812063\n",
      "At time  0 no need to search, ESS(1.0) =  210.069957408\n",
      "At time "
     ]
    },
    {
     "name": "stdout",
     "output_type": "stream",
     "text": [
      " 9 searching in [ 1.0 34.786199598 ], FOUND:  1.5071053215\n",
      "At time  9 no need to search, ESS(1.0) =  463.696718737\n",
      "At time "
     ]
    },
    {
     "name": "stdout",
     "output_type": "stream",
     "text": [
      " 8 no need to search, ESS(1.0) =  259.358949156\n",
      "At time  9 searching in [ 1.0 100 ], FOUND:  34.786199598\n",
      "At time "
     ]
    },
    {
     "name": "stdout",
     "output_type": "stream",
     "text": [
      " 7 no need to search, ESS(1.0) =  233.035290631\n",
      "At time  8 searching in [ 1.0 100 ], FOUND:  7.55308300178\n",
      "At time "
     ]
    },
    {
     "name": "stdout",
     "output_type": "stream",
     "text": [
      " 6 no need to search, ESS(1.0) =  168.477754446\n",
      "At time  7 searching in [ 1.0 100 ], FOUND:  9.89976475316\n",
      "At time "
     ]
    },
    {
     "name": "stdout",
     "output_type": "stream",
     "text": [
      " 5 no need to search, ESS(1.0) =  486.622619048\n",
      "At time  6 searching in [ 1.0 100 ], FOUND:  15.6277786682\n",
      "At time "
     ]
    },
    {
     "name": "stdout",
     "output_type": "stream",
     "text": [
      " 5 searching in [ 1.0 100 ], FOUND:  22.8028122764\n",
      "At time  5 searching in [ 1.0 22.8028122764 ], FOUND:  1.29358435401\n",
      "At time "
     ]
    },
    {
     "name": "stdout",
     "output_type": "stream",
     "text": [
      " 4 searching in [ 1.0 10.5911098179 ], FOUND:  3.97644563798\n",
      "At time  4 no need to search, ESS(1.0) =  240.525063884\n",
      "At time "
     ]
    },
    {
     "name": "stdout",
     "output_type": "stream",
     "text": [
      " 4 searching in [ 1.0 48.6075964868 ], FOUND:  23.6028625982\n",
      "At time  4 searching in [ 1.0 23.6028625982 ], FOUND:  10.5911098179\n",
      "At time "
     ]
    },
    {
     "name": "stdout",
     "output_type": "stream",
     "text": [
      " 4 searching in [ 1.0 314.158060117 ], FOUND:  107.666019274\n",
      "At time  4 searching in [ 1.0 107.666019274 ], FOUND:  48.6075964868\n",
      "At time "
     ]
    },
    {
     "name": "stdout",
     "output_type": "stream",
     "text": [
      " 3 no need to search, ESS(1.0) =  190.401326784\n",
      "At time  4 searching in [ 1.0 10000 ], FOUND:  314.158060117\n",
      "At time "
     ]
    },
    {
     "name": "stdout",
     "output_type": "stream",
     "text": [
      " 3 searching in [ 1.0 27.7779397894 ], FOUND:  12.5973092029\n",
      "At time  3 searching in [ 1.0 12.5973092029 ], FOUND:  4.58383304487\n",
      "At time "
     ]
    },
    {
     "name": "stdout",
     "output_type": "stream",
     "text": [
      " 3 searching in [ 1.0 156.372911148 ], FOUND:  67.3731582032\n",
      "At time  3 searching in [ 1.0 67.3731582032 ], FOUND:  27.7779397894\n",
      "At time "
     ]
    },
    {
     "name": "stdout",
     "output_type": "stream",
     "text": [
      " 3 searching in [ 1.0 10000 ], FOUND:  462.210364122\n",
      "At time  3 searching in [ 1.0 462.210364122 ], FOUND:  156.372911148\n",
      "At time "
     ]
    },
    {
     "name": "stdout",
     "output_type": "stream",
     "text": [
      " 2 searching in [ 1.0 100 ], FOUND:  5.24451074009\n",
      "At time  2 no need to search, ESS(1.0) =  296.826575425\n",
      "At time "
     ]
    },
    {
     "name": "stdout",
     "output_type": "stream",
     "text": [
      " 1 searching in [ 1.0 100 ], FOUND:  9.09893900863\n",
      "At time  1 no need to search, ESS(1.0) =  213.619644327\n",
      "At time "
     ]
    },
    {
     "name": "stdout",
     "output_type": "stream",
     "text": [
      " 0 searching in [ 1.0 100 ], FOUND:  17.2115265851\n",
      "At time  0 no need to search, ESS(1.0) =  187.348773108\n",
      "At time "
     ]
    },
    {
     "name": "stdout",
     "output_type": "stream",
     "text": [
      " 9 no need to search, ESS(1.0) =  476.558929289\n",
      "At time "
     ]
    },
    {
     "name": "stdout",
     "output_type": "stream",
     "text": [
      " 9 searching in [ 1.0 100 ], FOUND:  31.6709532254\n",
      "At time  9 searching in [ 1.0 31.6709532254 ], FOUND:  1.45650776906\n",
      "At time "
     ]
    },
    {
     "name": "stdout",
     "output_type": "stream",
     "text": [
      " 8 searching in [ 1.0 100 ], FOUND:  7.20286616682\n",
      "At time  8 no need to search, ESS(1.0) =  262.635108295\n",
      "At time "
     ]
    },
    {
     "name": "stdout",
     "output_type": "stream",
     "text": [
      " 7 searching in [ 1.0 100 ], FOUND:  8.92529369761\n",
      "At time  7 no need to search, ESS(1.0) =  225.19029582\n",
      "At time "
     ]
    },
    {
     "name": "stdout",
     "output_type": "stream",
     "text": [
      " 6 searching in [ 1.0 20.1438253334 ], FOUND:  1.35723234031\n",
      "At time  6 no need to search, ESS(1.0) =  481.061339662\n",
      "At time "
     ]
    },
    {
     "name": "stdout",
     "output_type": "stream",
     "text": [
      " 5 no need to search, ESS(1.0) =  435.499240364\n",
      "At time  6 searching in [ 1.0 100 ], FOUND:  20.1438253334\n",
      "At time "
     ]
    },
    {
     "name": "stdout",
     "output_type": "stream",
     "text": [
      " 5 searching in [ 1.0 100 ], FOUND:  39.0243915618\n",
      "At time  5 searching in [ 1.0 39.0243915618 ], FOUND:  1.99386235293\n",
      "At time "
     ]
    },
    {
     "name": "stdout",
     "output_type": "stream",
     "text": [
      " 4 searching in [ 1.0 6.76722518396 ], FOUND:  1.86392628191\n",
      "At time  4 no need to search, ESS(1.0) =  402.633183467\n",
      "At time "
     ]
    },
    {
     "name": "stdout",
     "output_type": "stream",
     "text": [
      " 4 searching in [ 1.0 27.8986980736 ], FOUND:  14.4448393893\n",
      "At time  4 searching in [ 1.0 14.4448393893 ], FOUND:  6.76722518396\n",
      "At time "
     ]
    },
    {
     "name": "stdout",
     "output_type": "stream",
     "text": [
      " 4 searching in [ 1.0 143.512433251 ], FOUND:  58.8606950437\n",
      "At time  4 searching in [ 1.0 58.8606950437 ], FOUND:  27.8986980736\n",
      "At time "
     ]
    },
    {
     "name": "stdout",
     "output_type": "stream",
     "text": [
      " 4 searching in [ 1.0 10000 ], FOUND:  422.650530072\n",
      "At time  4 searching in [ 1.0 422.650530072 ], FOUND:  143.512433251\n",
      "At time "
     ]
    },
    {
     "name": "stdout",
     "output_type": "stream",
     "text": [
      " 3 searching in [ 1.0 8.85284986553 ], FOUND:  2.85203023421\n",
      "At time  3 no need to search, ESS(1.0) =  309.59604793\n",
      "At time "
     ]
    },
    {
     "name": "stdout",
     "output_type": "stream",
     "text": [
      " 3 searching in [ 1.0 28.6612973833 ], FOUND:  17.6336774808\n",
      "At time  3 searching in [ 1.0 17.6336774808 ], FOUND:  8.85284986553\n",
      "At time "
     ]
    },
    {
     "name": "stdout",
     "output_type": "stream",
     "text": [
      " 3 searching in [ 1.0 128.635178455 ], FOUND:  50.5514470321\n",
      "At time  3 searching in [ 1.0 50.5514470321 ], FOUND:  28.6612973833\n",
      "At time "
     ]
    },
    {
     "name": "stdout",
     "output_type": "stream",
     "text": [
      " 3 searching in [ 1.0 10000 ], FOUND:  459.690015455\n",
      "At time  3 searching in [ 1.0 459.690015455 ], FOUND:  128.635178455\n",
      "At time "
     ]
    },
    {
     "name": "stdout",
     "output_type": "stream",
     "text": [
      " 2 searching in [ 1.0 100 ], FOUND:  5.56855413979\n",
      "At time  2 no need to search, ESS(1.0) =  302.541570976\n",
      "At time "
     ]
    },
    {
     "name": "stdout",
     "output_type": "stream",
     "text": [
      " 1 searching in [ 1.0 100 ], FOUND:  8.08227046546\n",
      "At time  1 no need to search, ESS(1.0) =  231.473094735\n",
      "At time "
     ]
    },
    {
     "name": "stdout",
     "output_type": "stream",
     "text": [
      " 0 searching in [ 1.0 100 ], FOUND:  18.8550777623\n",
      "At time  0 no need to search, ESS(1.0) =  181.290309981\n",
      "At time "
     ]
    },
    {
     "name": "stdout",
     "output_type": "stream",
     "text": [
      " 9 searching in [ 1.0 24.4669091363 ], FOUND:  1.222180572\n",
      "At time  9 no need to search, ESS(1.0) =  489.374718976\n",
      "At time "
     ]
    },
    {
     "name": "stdout",
     "output_type": "stream",
     "text": [
      " 8 no need to search, ESS(1.0) =  282.403819988\n",
      "At time  9 searching in [ 1.0 100 ], FOUND:  24.4669091363\n",
      "At time "
     ]
    },
    {
     "name": "stdout",
     "output_type": "stream",
     "text": [
      " 7 no need to search, ESS(1.0) =  201.053514084\n",
      "At time  8 searching in [ 1.0 100 ], FOUND:  6.83838053818\n",
      "At time "
     ]
    },
    {
     "name": "stdout",
     "output_type": "stream",
     "text": [
      " 6 no need to search, ESS(1.0) =  178.288156446\n",
      "At time  7 searching in [ 1.0 100 ], FOUND:  9.95162426668\n",
      "At time "
     ]
    },
    {
     "name": "stdout",
     "output_type": "stream",
     "text": [
      " 5 no need to search, ESS(1.0) =  453.044904069\n",
      "At time  6 searching in [ 1.0 100 ], FOUND:  15.7814823197\n",
      "At time "
     ]
    },
    {
     "name": "stdout",
     "output_type": "stream",
     "text": [
      " 5 searching in [ 1.0 100 ], FOUND:  30.5564818731\n",
      "At time  5 searching in [ 1.0 30.5564818731 ], FOUND:  1.67348568718\n",
      "At time "
     ]
    },
    {
     "name": "stdout",
     "output_type": "stream",
     "text": [
      " 4 searching in [ 1.0 5.43537527576 ], FOUND:  1.48316797518\n",
      "At time  4 no need to search, ESS(1.0) =  451.858441476\n",
      "At time "
     ]
    },
    {
     "name": "stdout",
     "output_type": "stream",
     "text": [
      " 4 searching in [ 1.0 23.0255380452 ], FOUND:  12.6087954098\n",
      "At time  4 searching in [ 1.0 12.6087954098 ], FOUND:  5.43537527576\n",
      "At time "
     ]
    },
    {
     "name": "stdout",
     "output_type": "stream",
     "text": [
      " 4 searching in [ 1.0 109.567018112 ], FOUND:  44.0096441193\n",
      "At time  4 searching in [ 1.0 44.0096441193 ], FOUND:  23.0255380452\n",
      "At time "
     ]
    },
    {
     "name": "stdout",
     "output_type": "stream",
     "text": [
      " 4 searching in [ 1.0 10000 ], FOUND:  301.535010387\n",
      "At time  4 searching in [ 1.0 301.535010387 ], FOUND:  109.567018112\n",
      "At time "
     ]
    },
    {
     "name": "stdout",
     "output_type": "stream",
     "text": [
      " 3 searching in [ 1.0 5.58826495153 ], FOUND:  1.43575616951\n",
      "At time  3 no need to search, ESS(1.0) =  469.554621564\n",
      "At time "
     ]
    },
    {
     "name": "stdout",
     "output_type": "stream",
     "text": [
      " 3 searching in [ 1.0 24.3645117336 ], FOUND:  12.0253407296\n",
      "At time  3 searching in [ 1.0 12.0253407296 ], FOUND:  5.58826495153\n",
      "At time "
     ]
    },
    {
     "name": "stdout",
     "output_type": "stream",
     "text": [
      " 3 searching in [ 1.0 126.487041436 ], FOUND:  59.2986931207\n",
      "At time  3 searching in [ 1.0 59.2986931207 ], FOUND:  24.3645117336\n",
      "At time "
     ]
    },
    {
     "name": "stdout",
     "output_type": "stream",
     "text": [
      " 3 searching in [ 1.0 10000 ], FOUND:  341.021479885\n",
      "At time  3 searching in [ 1.0 341.021479885 ], FOUND:  126.487041436\n",
      "At time "
     ]
    },
    {
     "name": "stdout",
     "output_type": "stream",
     "text": [
      " 2 searching in [ 1.0 33.8399487486 ], FOUND:  1.45816219427\n",
      "At time  2 no need to search, ESS(1.0) =  474.277410717\n",
      "At time "
     ]
    },
    {
     "name": "stdout",
     "output_type": "stream",
     "text": [
      " 1 no need to search, ESS(1.0) =  255.993215097\n",
      "At time  2 searching in [ 1.0 100 ], FOUND:  33.8399487486\n",
      "At time "
     ]
    },
    {
     "name": "stdout",
     "output_type": "stream",
     "text": [
      " 0 no need to search, ESS(1.0) =  499.770004778\n",
      "At time  1 searching in [ 1.0 100 ], FOUND:  8.32979151726\n",
      "At time "
     ]
    },
    {
     "name": "stdout",
     "output_type": "stream",
     "text": [
      " 0 searching in [ 1.0 100 ], FOUND:  17.7062840636\n",
      "At time  0 searching in [ 1.0 17.7062840636 ], FOUND:  1.03201741678\n",
      "At time "
     ]
    },
    {
     "name": "stdout",
     "output_type": "stream",
     "text": [
      " 9 searching in [ 1.0 100 ], FOUND:  6.69820599524\n",
      "At time  9 no need to search, ESS(1.0) =  270.796425575\n",
      "At time "
     ]
    },
    {
     "name": "stdout",
     "output_type": "stream",
     "text": [
      " 8 searching in [ 1.0 100 ], FOUND:  7.36278128573\n",
      "At time  8 no need to search, ESS(1.0) =  245.812781782\n",
      "At time "
     ]
    },
    {
     "name": "stdout",
     "output_type": "stream",
     "text": [
      " 7 searching in [ 1.0 100 ], FOUND:  14.2186276888\n",
      "At time  7 no need to search, ESS(1.0) =  213.210864127\n",
      "At time "
     ]
    },
    {
     "name": "stdout",
     "output_type": "stream",
     "text": [
      " 6 searching in [ 1.0 47.679883104 ], FOUND:  2.53334702965\n",
      "At time  6 no need to search, ESS(1.0) =  399.312622205\n",
      "At time "
     ]
    },
    {
     "name": "stdout",
     "output_type": "stream",
     "text": [
      " 5 no need to search, ESS(1.0) =  309.131160353\n",
      "At time  6 searching in [ 1.0 100 ], FOUND:  47.679883104\n",
      "At time "
     ]
    },
    {
     "name": "stdout",
     "output_type": "stream",
     "text": [
      " 5 searching in [ 1.0 100 ], FOUND:  64.723526418\n",
      "At time  5 searching in [ 1.0 64.723526418 ], FOUND:  4.31897995019\n",
      "At time "
     ]
    },
    {
     "name": "stdout",
     "output_type": "stream",
     "text": [
      " 4 searching in [ 1.0 7.17313904486 ], FOUND:  2.59627614167\n",
      "At time  4 no need to search, ESS(1.0) =  293.605366828\n",
      "At time "
     ]
    },
    {
     "name": "stdout",
     "output_type": "stream",
     "text": [
      " 4 searching in [ 1.0 22.5937140346 ], FOUND:  13.52039568\n",
      "At time  4 searching in [ 1.0 13.52039568 ], FOUND:  7.17313904486\n",
      "At time "
     ]
    },
    {
     "name": "stdout",
     "output_type": "stream",
     "text": [
      " 4 searching in [ 1.0 89.7199072773 ], FOUND:  39.4104034623\n",
      "At time  4 searching in [ 1.0 39.4104034623 ], FOUND:  22.5937140346\n",
      "At time "
     ]
    },
    {
     "name": "stdout",
     "output_type": "stream",
     "text": [
      " 4 searching in [ 1.0 10000 ], FOUND:  303.692431572\n",
      "At time  4 searching in [ 1.0 303.692431572 ], FOUND:  89.7199072773\n",
      "At time "
     ]
    },
    {
     "name": "stdout",
     "output_type": "stream",
     "text": [
      " 3 searching in [ 1.0 5.12275128006 ], FOUND:  1.16341859688\n",
      "At time  3 no need to search, ESS(1.0) =  491.540040838\n",
      "At time "
     ]
    },
    {
     "name": "stdout",
     "output_type": "stream",
     "text": [
      " 3 searching in [ 1.0 22.9363528854 ], FOUND:  11.9000841116\n",
      "At time  3 searching in [ 1.0 11.9000841116 ], FOUND:  5.12275128006\n",
      "At time "
     ]
    },
    {
     "name": "stdout",
     "output_type": "stream",
     "text": [
      " 3 searching in [ 1.0 115.781453569 ], FOUND:  47.0213006081\n",
      "At time  3 searching in [ 1.0 47.0213006081 ], FOUND:  22.9363528854\n",
      "At time "
     ]
    },
    {
     "name": "stdout",
     "output_type": "stream",
     "text": [
      " 3 searching in [ 1.0 10000 ], FOUND:  351.036313863\n",
      "At time  3 searching in [ 1.0 351.036313863 ], FOUND:  115.781453569\n",
      "At time "
     ]
    },
    {
     "name": "stdout",
     "output_type": "stream",
     "text": [
      " 2 searching in [ 1.0 33.4408508119 ], FOUND:  1.60118178287\n",
      "At time  2 no need to search, ESS(1.0) =  459.461563123\n",
      "At time "
     ]
    },
    {
     "name": "stdout",
     "output_type": "stream",
     "text": [
      " 1 no need to search, ESS(1.0) =  253.270437727\n",
      "At time  2 searching in [ 1.0 100 ], FOUND:  33.4408508119\n",
      "At time "
     ]
    },
    {
     "name": "stdout",
     "output_type": "stream",
     "text": [
      " 0 no need to search, ESS(1.0) =  497.939520928\n",
      "At time  1 searching in [ 1.0 100 ], FOUND:  7.91375144958\n",
      "At time "
     ]
    },
    {
     "name": "stdout",
     "output_type": "stream",
     "text": [
      " 0 searching in [ 1.0 100 ], FOUND:  17.8749230351\n",
      "At time  0 searching in [ 1.0 17.8749230351 ], FOUND:  1.08816748008\n",
      "At time "
     ]
    },
    {
     "name": "stdout",
     "output_type": "stream",
     "text": [
      " 9 no need to search, ESS(1.0) =  474.030492834\n",
      "At time "
     ]
    },
    {
     "name": "stdout",
     "output_type": "stream",
     "text": [
      " 9 searching in [ 1.0 100 ], FOUND:  25.3756765368\n",
      "At time  9 searching in [ 1.0 25.3756765368 ], FOUND:  1.49961578864\n",
      "At time "
     ]
    },
    {
     "name": "stdout",
     "output_type": "stream",
     "text": [
      " 8 searching in [ 1.0 100 ], FOUND:  6.4778556269\n",
      "At time  8 no need to search, ESS(1.0) =  282.189159242\n",
      "At time "
     ]
    },
    {
     "name": "stdout",
     "output_type": "stream",
     "text": [
      " 7 searching in [ 1.0 100 ], FOUND:  10.4269246598\n",
      "At time  7 no need to search, ESS(1.0) =  212.399389866\n",
      "At time "
     ]
    },
    {
     "name": "stdout",
     "output_type": "stream",
     "text": [
      " 6 searching in [ 1.0 30.5574482529 ], FOUND:  1.98078000983\n",
      "At time  6 no need to search, ESS(1.0) =  430.503994275\n",
      "At time "
     ]
    },
    {
     "name": "stdout",
     "output_type": "stream",
     "text": [
      " 5 no need to search, ESS(1.0) =  350.042079984\n",
      "At time  6 searching in [ 1.0 100 ], FOUND:  30.5574482529\n",
      "At time "
     ]
    },
    {
     "name": "stdout",
     "output_type": "stream",
     "text": [
      " 5 searching in [ 1.0 100 ], FOUND:  53.8576887936\n",
      "At time  5 searching in [ 1.0 53.8576887936 ], FOUND:  3.47470174723\n",
      "At time "
     ]
    },
    {
     "name": "stdout",
     "output_type": "stream",
     "text": [
      " 4 searching in [ 1.0 7.03747555075 ], FOUND:  2.24694476414\n",
      "At time  4 no need to search, ESS(1.0) =  346.683665489\n",
      "At time "
     ]
    },
    {
     "name": "stdout",
     "output_type": "stream",
     "text": [
      " 4 searching in [ 1.0 29.988686439 ], FOUND:  14.6135569941\n",
      "At time  4 searching in [ 1.0 14.6135569941 ], FOUND:  7.03747555075\n",
      "At time "
     ]
    },
    {
     "name": "stdout",
     "output_type": "stream",
     "text": [
      " 4 searching in [ 1.0 158.023872246 ], FOUND:  73.6352948366\n",
      "At time  4 searching in [ 1.0 73.6352948366 ], FOUND:  29.988686439\n",
      "At time "
     ]
    },
    {
     "name": "stdout",
     "output_type": "stream",
     "text": [
      " 4 searching in [ 1.0 10000 ], FOUND:  503.740192589\n",
      "At time  4 searching in [ 1.0 503.740192589 ], FOUND:  158.023872246\n",
      "At time "
     ]
    },
    {
     "name": "stdout",
     "output_type": "stream",
     "text": [
      " 3 searching in [ 1.0 8.44337913973 ], FOUND:  3.11979233771\n",
      "At time  3 no need to search, ESS(1.0) =  260.384137139\n",
      "At time "
     ]
    },
    {
     "name": "stdout",
     "output_type": "stream",
     "text": [
      " 3 searching in [ 1.0 15.9656041582 ], FOUND:  8.44337913973\n",
      "At time "
     ]
    },
    {
     "name": "stdout",
     "output_type": "stream",
     "text": [
      " 3 searching in [ 1.0 28.0303293239 ], FOUND:  15.9656041582\n",
      "At time "
     ]
    },
    {
     "name": "stdout",
     "output_type": "stream",
     "text": [
      " 3 searching in [ 1.0 145.755737373 ], FOUND:  58.2650630872\n",
      "At time  3 searching in [ 1.0 58.2650630872 ], FOUND:  28.0303293239\n",
      "At time "
     ]
    },
    {
     "name": "stdout",
     "output_type": "stream",
     "text": [
      " 3 searching in [ 1.0 502.39053089 ], FOUND:  145.755737373\n",
      "At time "
     ]
    },
    {
     "name": "stdout",
     "output_type": "stream",
     "text": [
      " 2 no need to search, ESS(1.0) =  276.46096258\n",
      "At time  3 searching in [ 1.0 10000 ], FOUND:  502.39053089\n",
      "At time "
     ]
    },
    {
     "name": "stdout",
     "output_type": "stream",
     "text": [
      " 1 no need to search, ESS(1.0) =  241.145885752\n",
      "At time  2 searching in [ 1.0 100 ], FOUND:  6.27440231713\n",
      "At time "
     ]
    },
    {
     "name": "stdout",
     "output_type": "stream",
     "text": [
      " 0 no need to search, ESS(1.0) =  499.394756905\n",
      "At time  1 searching in [ 1.0 100 ], FOUND:  7.69337712629\n",
      "At time "
     ]
    },
    {
     "name": "stdout",
     "output_type": "stream",
     "text": [
      " 0 searching in [ 1.0 100 ], FOUND:  17.2308337414\n",
      "At time  0 searching in [ 1.0 17.2308337414 ], FOUND:  1.05263768157\n",
      "At time "
     ]
    },
    {
     "name": "stdout",
     "output_type": "stream",
     "text": [
      " 9 searching in [ 1.0 30.6160692674 ], FOUND:  1.70581641708\n",
      "At time  9 no need to search, ESS(1.0) =  455.042486198\n",
      "At time "
     ]
    },
    {
     "name": "stdout",
     "output_type": "stream",
     "text": [
      " 8 no need to search, ESS(1.0) =  285.674067934\n",
      "At time  9 searching in [ 1.0 100 ], FOUND:  30.6160692674\n",
      "At time "
     ]
    },
    {
     "name": "stdout",
     "output_type": "stream",
     "text": [
      " 7 no need to search, ESS(1.0) =  212.759843634\n",
      "At time  8 searching in [ 1.0 100 ], FOUND:  6.45372137646\n",
      "At time "
     ]
    },
    {
     "name": "stdout",
     "output_type": "stream",
     "text": [
      " 6 no need to search, ESS(1.0) =  499.749739088\n",
      "At time  7 searching in [ 1.0 100 ], FOUND:  12.1596655891\n",
      "At time "
     ]
    },
    {
     "name": "stdout",
     "output_type": "stream",
     "text": [
      " 6 searching in [ 1.0 100 ], FOUND:  17.3720307994\n",
      "At time  6 searching in [ 1.0 17.3720307994 ], FOUND:  1.03734130313\n",
      "At time "
     ]
    },
    {
     "name": "stdout",
     "output_type": "stream",
     "text": [
      " 5 searching in [ 1.0 21.8980892017 ], FOUND:  1.40202616913\n",
      "At time  5 no need to search, ESS(1.0) =  479.452380812\n",
      "At time "
     ]
    },
    {
     "name": "stdout",
     "output_type": "stream",
     "text": [
      " 4 no need to search, ESS(1.0) =  496.874941662\n",
      "At time  5 searching in [ 1.0 100 ], FOUND:  21.8980892017\n",
      "At time "
     ]
    },
    {
     "name": "stdout",
     "output_type": "stream",
     "text": [
      " 4 searching in [ 1.0 12.2866351851 ], FOUND:  4.86932925231\n",
      "At time  4 searching in [ 1.0 4.86932925231 ], FOUND:  1.09527008368\n",
      "At time "
     ]
    },
    {
     "name": "stdout",
     "output_type": "stream",
     "text": [
      " 4 searching in [ 1.0 58.2912185857 ], FOUND:  28.069505253\n",
      "At time  4 searching in [ 1.0 28.069505253 ], FOUND:  12.2866351851\n",
      "At time "
     ]
    },
    {
     "name": "stdout",
     "output_type": "stream",
     "text": [
      " 4 searching in [ 1.0 397.526003567 ], FOUND:  124.872914083\n",
      "At time  4 searching in [ 1.0 124.872914083 ], FOUND:  58.2912185857\n",
      "At time "
     ]
    },
    {
     "name": "stdout",
     "output_type": "stream",
     "text": [
      " 3 no need to search, ESS(1.0) =  341.195547189\n",
      "At time  4 searching in [ 1.0 10000 ], FOUND:  397.526003567\n",
      "At time "
     ]
    },
    {
     "name": "stdout",
     "output_type": "stream",
     "text": [
      " 3 searching in [ 1.0 15.2159213744 ], FOUND:  7.39542067259\n",
      "At time  3 searching in [ 1.0 7.39542067259 ], FOUND:  2.31422149397\n",
      "At time "
     ]
    },
    {
     "name": "stdout",
     "output_type": "stream",
     "text": [
      " 3 searching in [ 1.0 47.8256780973 ], FOUND:  26.418163627\n",
      "At time  3 searching in [ 1.0 26.418163627 ], FOUND:  15.2159213744\n",
      "At time "
     ]
    },
    {
     "name": "stdout",
     "output_type": "stream",
     "text": [
      " 3 searching in [ 1.0 293.528876671 ], FOUND:  99.1933007313\n",
      "At time  3 searching in [ 1.0 99.1933007313 ], FOUND:  47.8256780973\n",
      "At time "
     ]
    },
    {
     "name": "stdout",
     "output_type": "stream",
     "text": [
      " 2 no need to search, ESS(1.0) =  498.662845963\n",
      "At time  3 searching in [ 1.0 10000 ], FOUND:  293.528876671\n",
      "At time "
     ]
    },
    {
     "name": "stdout",
     "output_type": "stream",
     "text": [
      " 2 searching in [ 1.0 100 ], FOUND:  32.0655614044\n",
      "At time  2 searching in [ 1.0 32.0655614044 ], FOUND:  1.08462329218\n",
      "At time "
     ]
    },
    {
     "name": "stdout",
     "output_type": "stream",
     "text": [
      " 1 searching in [ 1.0 100 ], FOUND:  6.97661729205\n",
      "At time  1 no need to search, ESS(1.0) =  273.703404759\n",
      "At time "
     ]
    },
    {
     "name": "stdout",
     "output_type": "stream",
     "text": [
      " 0 searching in [ 1.0 100 ], FOUND:  14.7940972528\n",
      "At time  0 no need to search, ESS(1.0) =  184.179884857\n",
      "At time "
     ]
    },
    {
     "name": "stdout",
     "output_type": "stream",
     "text": [
      " 9 no need to search, ESS(1.0) =  455.742022336\n",
      "At time "
     ]
    },
    {
     "name": "stdout",
     "output_type": "stream",
     "text": [
      " 9 searching in [ 1.0 100 ], FOUND:  41.5267212769\n",
      "At time  9 searching in [ 1.0 41.5267212769 ], FOUND:  1.77189831643\n",
      "At time "
     ]
    },
    {
     "name": "stdout",
     "output_type": "stream",
     "text": [
      " 8 searching in [ 1.0 100 ], FOUND:  7.23763746033\n",
      "At time  8 no need to search, ESS(1.0) =  257.244402044\n",
      "At time "
     ]
    },
    {
     "name": "stdout",
     "output_type": "stream",
     "text": [
      " 7 searching in [ 1.0 100 ], FOUND:  8.87571108608\n",
      "At time  7 no need to search, ESS(1.0) =  216.066563038\n",
      "At time "
     ]
    },
    {
     "name": "stdout",
     "output_type": "stream",
     "text": [
      " 6 no need to search, ESS(1.0) =  176.096083898\n",
      "At time "
     ]
    },
    {
     "name": "stdout",
     "output_type": "stream",
     "text": [
      " 5 no need to search, ESS(1.0) =  486.411654949\n",
      "At time  6 searching in [ 1.0 100 ], FOUND:  16.0918388461\n",
      "At time "
     ]
    },
    {
     "name": "stdout",
     "output_type": "stream",
     "text": [
      " 5 searching in [ 1.0 100 ], FOUND:  22.1340714721\n",
      "At time  5 searching in [ 1.0 22.1340714721 ], FOUND:  1.30363000529\n",
      "At time "
     ]
    },
    {
     "name": "stdout",
     "output_type": "stream",
     "text": [
      " 4 searching in [ 1.0 8.99867744524 ], FOUND:  3.79112958345\n",
      "At time  4 no need to search, ESS(1.0) =  191.981878082\n",
      "At time "
     ]
    },
    {
     "name": "stdout",
     "output_type": "stream",
     "text": [
      " 4 searching in [ 1.0 29.102031369 ], FOUND:  16.1448969184\n",
      "At time  4 searching in [ 1.0 16.1448969184 ], FOUND:  8.99867744524\n",
      "At time "
     ]
    },
    {
     "name": "stdout",
     "output_type": "stream",
     "text": [
      " 4 searching in [ 1.0 132.182060624 ], FOUND:  57.9035682417\n",
      "At time  4 searching in [ 1.0 57.9035682417 ], FOUND:  29.102031369\n",
      "At time "
     ]
    },
    {
     "name": "stdout",
     "output_type": "stream",
     "text": [
      " 4 searching in [ 1.0 10000 ], FOUND:  472.835923947\n",
      "At time  4 searching in [ 1.0 472.835923947 ], FOUND:  132.182060624\n",
      "At time "
     ]
    },
    {
     "name": "stdout",
     "output_type": "stream",
     "text": [
      " 3 searching in [ 1.0 7.23556717989 ], FOUND:  2.77694165611\n",
      "At time  3 no need to search, ESS(1.0) =  293.246430355\n",
      "At time "
     ]
    },
    {
     "name": "stdout",
     "output_type": "stream",
     "text": [
      " 3 searching in [ 1.0 31.4473909026 ], FOUND:  15.1147243945\n",
      "At time  3 searching in [ 1.0 15.1147243945 ], FOUND:  7.23556717989\n",
      "At time "
     ]
    },
    {
     "name": "stdout",
     "output_type": "stream",
     "text": [
      " 3 searching in [ 1.0 163.204945708 ], FOUND:  67.0170036807\n",
      "At time  3 searching in [ 1.0 67.0170036807 ], FOUND:  31.4473909026\n",
      "At time "
     ]
    },
    {
     "name": "stdout",
     "output_type": "stream",
     "text": [
      " 3 searching in [ 1.0 10000 ], FOUND:  533.306639807\n",
      "At time  3 searching in [ 1.0 533.306639807 ], FOUND:  163.204945708\n",
      "At time "
     ]
    },
    {
     "name": "stdout",
     "output_type": "stream",
     "text": [
      " 2 searching in [ 1.0 100 ], FOUND:  6.45828641787\n",
      "At time  2 no need to search, ESS(1.0) =  273.618527931\n",
      "At time "
     ]
    },
    {
     "name": "stdout",
     "output_type": "stream",
     "text": [
      " 1 searching in [ 1.0 100 ], FOUND:  8.62482851278\n",
      "At time  1 no need to search, ESS(1.0) =  223.856418641\n",
      "At time "
     ]
    },
    {
     "name": "stdout",
     "output_type": "stream",
     "text": [
      " 0 searching in [ 1.0 100 ], FOUND:  17.5475669964\n",
      "At time  0 no need to search, ESS(1.0) =  168.712377249\n",
      "At time "
     ]
    },
    {
     "name": "stdout",
     "output_type": "stream",
     "text": [
      " 9 searching in [ 1.0 37.1697247648 ], FOUND:  1.58794067209\n",
      "At time  9 no need to search, ESS(1.0) =  463.694520101\n",
      "At time "
     ]
    },
    {
     "name": "stdout",
     "output_type": "stream",
     "text": [
      " 8 no need to search, ESS(1.0) =  250.721825578\n",
      "At time  9 searching in [ 1.0 100 ], FOUND:  37.1697247648\n",
      "At time "
     ]
    },
    {
     "name": "stdout",
     "output_type": "stream",
     "text": [
      " 7 no need to search, ESS(1.0) =  168.214346963\n",
      "At time  8 searching in [ 1.0 100 ], FOUND:  6.89573029559\n",
      "At time "
     ]
    },
    {
     "name": "stdout",
     "output_type": "stream",
     "text": [
      " 6 no need to search, ESS(1.0) =  387.904737686\n",
      "At time  7 searching in [ 1.0 100 ], FOUND:  19.1593298833\n",
      "At time "
     ]
    },
    {
     "name": "stdout",
     "output_type": "stream",
     "text": [
      " 6 searching in [ 1.0 100 ], FOUND:  51.754486493\n",
      "At time  6 searching in [ 1.0 51.754486493 ], FOUND:  2.83797167334\n",
      "At time "
     ]
    },
    {
     "name": "stdout",
     "output_type": "stream",
     "text": [
      " 5 searching in [ 1.0 94.8246752879 ], FOUND:  5.53746593059\n",
      "At time  5 no need to search, ESS(1.0) =  287.860614749\n",
      "At time "
     ]
    },
    {
     "name": "stdout",
     "output_type": "stream",
     "text": [
      " 5 searching in [ 1.0 100 ], FOUND:  94.8246752879\n",
      "At time "
     ]
    },
    {
     "name": "stdout",
     "output_type": "stream",
     "text": [
      " 4 no need to search, ESS(1.0) =  259.132438537\n",
      "At time "
     ]
    },
    {
     "name": "stdout",
     "output_type": "stream",
     "text": [
      " 4 searching in [ 1.0 20.5853449514 ], FOUND:  8.80855537954\n",
      "At time  4 searching in [ 1.0 8.80855537954 ], FOUND:  3.17785604113\n",
      "At time "
     ]
    },
    {
     "name": "stdout",
     "output_type": "stream",
     "text": [
      "1.0 52.4466663439 ], FOUND:  20.5853449514\n",
      "At time "
     ]
    },
    {
     "name": "stdout",
     "output_type": "stream",
     "text": [
      " 4 searching in [ 1.0 124.21845862 ], FOUND:  52.4466663439\n",
      "At time  4 searching in [ "
     ]
    },
    {
     "name": "stdout",
     "output_type": "stream",
     "text": [
      " 4 searching in [ 1.0 10000 ], FOUND:  331.722986995\n",
      "At time  4 searching in [ 1.0 331.722986995 ], FOUND:  124.21845862\n",
      "At time "
     ]
    },
    {
     "name": "stdout",
     "output_type": "stream",
     "text": [
      " 3 searching in [ 1.0 5.15879275962 ], FOUND:  1.09402525379\n",
      "At time  3 no need to search, ESS(1.0) =  496.636056033\n",
      "At time "
     ]
    },
    {
     "name": "stdout",
     "output_type": "stream",
     "text": [
      " 3 searching in [ 1.0 23.3112571614 ], FOUND:  11.4803593477\n",
      "At time  3 searching in [ 1.0 11.4803593477 ], FOUND:  5.15879275962\n",
      "At time "
     ]
    },
    {
     "name": "stdout",
     "output_type": "stream",
     "text": [
      " 3 searching in [ 1.0 127.649741301 ], FOUND:  55.113593739\n",
      "At time  3 searching in [ 1.0 55.113593739 ], FOUND:  23.3112571614\n",
      "At time "
     ]
    },
    {
     "name": "stdout",
     "output_type": "stream",
     "text": [
      " 3 searching in [ 1.0 10000 ], FOUND:  341.305240847\n",
      "At time  3 searching in [ 1.0 341.305240847 ], FOUND:  127.649741301\n",
      "At time "
     ]
    },
    {
     "name": "stdout",
     "output_type": "stream",
     "text": [
      " 2 searching in [ 1.0 29.1205116475 ], FOUND:  1.50339252023\n",
      "At time  2 no need to search, ESS(1.0) =  471.522529029\n",
      "At time "
     ]
    },
    {
     "name": "stdout",
     "output_type": "stream",
     "text": [
      " 1 no need to search, ESS(1.0) =  265.669962442\n",
      "At time  2 searching in [ 1.0 100 ], FOUND:  29.1205116475\n",
      "At time "
     ]
    },
    {
     "name": "stdout",
     "output_type": "stream",
     "text": [
      "\n",
      "At time  1 searching in [ 1.0 100 ], FOUND:  7.33809920606\n",
      "At time "
     ]
    },
    {
     "name": "stdout",
     "output_type": "stream",
     "text": [
      "At time  0 searching in [ 1.0 100 ], FOUND:  15.9795982077\n",
      "At time  0 no need to search, ESS(1.0) =  172.712375658"
     ]
    }
   ],
   "source": [
    "nsim = 100\n",
    "no_outlier = simpleAR1.yy[:10,:].copy()\n",
    "some_outlier = simpleAR1.yy[:10,:].copy()\n",
    "some_outlier[3,:] = 3 \n",
    "ll = np.zeros((nsim,))\n",
    "fs = np.zeros((nsim,))\n",
    "l2 = np.zeros((nsim,))\n",
    "f2 = np.zeros((nsim,))\n",
    "for i in range(nsim):\n",
    "    ll[i], fs[i] = simpleAR1.log_lik_temp_pf([0.8,1], y=outlier,npart=500)\n",
    "    l2[i] = simpleAR1.log_lik_pf([0.8,1], y=outlier,npart=500)['log_lik'].sum()\n",
    "\n",
    "truth = simpleAR1.log_lik([0.8,1],y=outlier)\n",
    "results = p.DataFrame([ll-truth, l2-truth]).T\n",
    "print results.describe()\n",
    "\n",
    "#ll.plot(kind='kde')"
   ]
  },
  {
   "cell_type": "code",
   "execution_count": 681,
   "metadata": {
    "autoscroll": "json-false",
    "collapsed": false,
    "ein.tags": [
     "worksheet-0"
    ]
   },
   "outputs": [
    {
     "data": {
      "image/png": "[encoded data removed]",
      "text/plain": [
       "<matplotlib.figure.Figure at 0xa67e872c>"
      ]
     },
     "metadata": {},
     "output_type": "display_data"
    },
    {
     "data": {
      "text/plain": [
       "<matplotlib.axes._subplots.AxesSubplot at 0xa61fec4c>"
      ]
     },
     "execution_count": 681,
     "metadata": {},
     "output_type": "execute_result"
    }
   ],
   "source": [
    "p.Series(ll).plot(kind='kde')"
   ]
  },
  {
   "cell_type": "code",
   "execution_count": 696,
   "metadata": {
    "autoscroll": "json-false",
    "collapsed": false,
    "ein.tags": [
     "worksheet-0"
    ]
   },
   "outputs": [
    {
     "name": "stdout",
     "output_type": "stream",
     "text": [
      " -0.692356404953\n"
     ]
    },
    {
     "name": "stdout",
     "output_type": "stream",
     "text": [
      "0.148431695867 -2.22044604925e-16\n",
      "[ 24.]"
     ]
    }
   ],
   "source": [
    "npart = 2000\n",
    "\n",
    "y0 = 0\n",
    "st = norm.rvs(size=npart)\n",
    "\n",
    "\n",
    "def ess(phi):\n",
    "    wt = norm(scale=np.sqrt(phi)).pdf(y0-st)\n",
    "    wt = wt / np.sum(wt)\n",
    "    return np.log((npart/2.0)/(1/(wt**2).sum()) )\n",
    "\n",
    "from scipy.optimize import fsolve, brentq\n",
    "\n",
    "z= brentq(ess, 0.1, 4)\n",
    "print z, ess(z)\n",
    "z = fsolve(ess, 24)\n",
    "print z, ess(z)\n",
    "#x = np.linspace(0.1,4,1000)\n",
    "#plt.plot(x, [ess(_) for _ in x])"
   ]
  },
  {
   "cell_type": "code",
   "execution_count": 575,
   "metadata": {
    "autoscroll": "json-false",
    "collapsed": false,
    "ein.tags": [
     "worksheet-0"
    ]
   },
   "outputs": [
    {
     "data": {
      "image/png": "[encoded data removed]",
      "text/plain": [
       "<matplotlib.figure.Figure at 0xa63a588c>"
      ]
     },
     "metadata": {},
     "output_type": "display_data"
    }
   ],
   "source": [
    "import matplotlib.pyplot as plt\n",
    "fig, ax = plt.subplots(ncols=2)\n",
    "fs.plot(kind='kde',ax=ax[1],linewidth=3)\n",
    "p.Series(f2).plot(kind='kde',ax=ax[1],linewidth=3)\n",
    "p.Series(outlier.squeeze()).plot(ax=ax[0],linewidth=3,color='black')\n",
    "ax[1].axvline(outlier[3,:],color='black',linewidth=3)\n",
    "ax[0].set_title('Data')\n",
    "ax[1].set_title(r'$E[s_3|Y_{1:3}]$')\n",
    "ax[1].legend(['Tempered PF', 'BSPF', 'Data'],loc='upper left')\n",
    "fig.set_size_inches(10,4)\n",
    "fig.tight_layout()\n",
    "fig.savefig('filtered_state.pdf')"
   ]
  },
  {
   "cell_type": "code",
   "execution_count": 384,
   "metadata": {
    "autoscroll": "json-false",
    "collapsed": false,
    "ein.tags": [
     "worksheet-0"
    ]
   },
   "outputs": [
    {
     "name": "stderr",
     "output_type": "stream",
     "text": [
      "/home/eherbst/anaconda2/lib/python2.7/site-packages/ipykernel/__main__.py:170: DeprecationWarning: an index can only have a single Ellipsis (`...`); replace all but one with slices (`:`).\n"
     ]
    },
    {
     "name": "stdout",
     "output_type": "stream",
     "text": [
      "\n",
      "[ 2.74128048]\n",
      "-33.7114048038\n",
      "count     20.000000\n",
      "mean    -156.031087\n",
      "std       41.804687\n",
      "min     -274.032295\n",
      "25%     -170.085797\n",
      "50%     -151.712705\n",
      "75%     -131.128141\n",
      "max     -100.297929\n",
      "dtype: float64\n"
     ]
    },
    {
     "name": "stdout",
     "output_type": "stream",
     "text": [
      "\n",
      "[ 2.74234665]\n",
      "[ 2.6428252]"
     ]
    },
    {
     "name": "stdout",
     "output_type": "stream",
     "text": [
      "\n",
      "[ 3.21520381]\n",
      "[ 2.61039991]"
     ]
    },
    {
     "name": "stdout",
     "output_type": "stream",
     "text": [
      "\n",
      "[ 2.85390054]\n",
      "[ 2.89348835]"
     ]
    },
    {
     "name": "stdout",
     "output_type": "stream",
     "text": [
      "\n",
      "[ 2.73303746]\n",
      "[ 2.193701]"
     ]
    },
    {
     "name": "stdout",
     "output_type": "stream",
     "text": [
      "\n",
      "[ 2.65582293]\n",
      "[ 2.88691884]"
     ]
    },
    {
     "name": "stdout",
     "output_type": "stream",
     "text": [
      "\n",
      "[ 2.8679946]\n",
      "[ 2.67083922]"
     ]
    },
    {
     "name": "stdout",
     "output_type": "stream",
     "text": [
      "\n",
      "[ 2.93753093]\n",
      "[ 2.77043225]"
     ]
    },
    {
     "name": "stdout",
     "output_type": "stream",
     "text": [
      "\n",
      "[ 3.05823309]\n",
      "[ 3.32961107]"
     ]
    },
    {
     "name": "stdout",
     "output_type": "stream",
     "text": [
      "[ 2.38621609]\n",
      "[ 2.61772772]\n",
      "[ 2.54144458]"
     ]
    }
   ],
   "source": [
    "nsim = 20\n",
    "ll = np.zeros((nsim,))\n",
    "for i in range(nsim):\n",
    "    q  = simpleAR1.log_lik_pf([0.8,1], y=outlier,npart=1000)\n",
    "    ll[i] = q['log_lik'].sum()\n",
    "    print q['filtered_states'][4]\n",
    "ll = p.Series(ll)\n",
    "print simpleAR1.log_lik([0.8,1],y=outlier)\n",
    "print ll.describe()\n"
   ]
  },
  {
   "cell_type": "code",
   "execution_count": 674,
   "metadata": {
    "autoscroll": "json-false",
    "collapsed": false,
    "ein.tags": [
     "worksheet-0"
    ]
   },
   "outputs": [
    {
     "data": {
      "text/plain": [
       "Sum(-phi**(-d - 2)*(-d*phi + 2.0*log(exp(eta[t])))*exp(eta[t])**(-2.0/phi), (t, 1, 3))/Sum(phi**(-d)*exp(eta[t])**(-2.0/phi), (t, 1, 3))**2"
      ]
     },
     "execution_count": 674,
     "metadata": {},
     "output_type": "execute_result"
    }
   ],
   "source": [
    "import sympy\n",
    "\n",
    "t = sympy.symbols('t')#, cls=sympy.Idx)\n",
    "eta = sympy.Indexed('eta',t)\n",
    "phi = sympy.symbols('phi')\n",
    "d = sympy.symbols('d')\n",
    "\n",
    "\n",
    "sympy.diff(1/sympy.Sum( (phi**(-d/2)*sympy.exp(eta)**(-1.0/phi))**2, (t,1,3)), phi).simplify()"
   ]
  }
 ],
 "metadata": {
  "kernelspec": {
   "display_name": "Python 2",
   "name": "python2"
  },
  "language_info": {
   "codemirror_mode": {
    "name": "ipython",
    "version": 2
   },
   "file_extension": ".py",
   "mimetype": "text/x-python",
   "name": "python",
   "nbconvert_exporter": "python",
   "pygments_lexer": "ipython2",
   "version": "2.7.11"
  },
     "name": "tempered particle filter.ipynb",
     "git": {"suppress_outputs": true}
 },
 "nbformat": 4,
 "nbformat_minor": 0
}
